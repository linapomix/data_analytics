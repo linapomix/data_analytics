{
 "cells": [
  {
   "cell_type": "markdown",
   "metadata": {},
   "source": [
    "# Проект исследования дохода оператора сотовой связи"
   ]
  },
  {
   "cell_type": "markdown",
   "metadata": {},
   "source": [
    "### Описание проекта"
   ]
  },
  {
   "cell_type": "markdown",
   "metadata": {},
   "source": [
    "<dl>Компания «Мегалайн» — федеральный оператора сотовой связи, предоставила  данные по небольшой выборке клиентов 2 тарифов предоставления мобильной связи. Нужно проанализировать поведение клиентов оператора и сделать вывод — какой тариф лучше.</dl>\n",
    "\n",
    "<dt>Описание тарифов</dt>\n",
    "<dl></dl>\n",
    "<dl>Тариф «Смарт»</dl>\n",
    "\n",
    "<li>Ежемесячная плата: 550 рублей</li>\n",
    "<li> Включено 500 минут разговора, 50 сообщений и 15 Гб интернет-трафика</li>\n",
    "<li>Стоимость услуг сверх тарифного пакета: 1. минута разговора: 3 рубля («Мегалайн» всегда округляет вверх значения минут и мегабайтов. Если пользователь проговорил всего 1 секунду, в тарифе засчитывается целая минута); 2. сообщение: 3 рубля; 3. 1     Гб интернет-трафика: 200 рублей.</li>\n",
    "<dl></dl>    \n",
    "<dl>Тариф «Ультра»</dl>\n",
    "\n",
    "<li> Ежемесячная плата: 1950 рублей</li>\n",
    "<li>  Включено 3000 минут разговора, 1000 сообщений и 30 Гб интернет-трафика</li>\n",
    "<li>    Стоимость услуг сверх тарифного пакета: 1. минута разговора: 1 рубль; 2. сообщение: 1 рубль; 3. 1 Гб интернет-трафика: 150 рублей.</li>\n",
    "<dl></dl>\n",
    "<dl>   Примечание:</dl>\n",
    "<dl>  Оператор всегда округляет секунды до минут, а мегабайты — до гигабайт. Каждый звонок округляется отдельно: даже если он длился всего 1 секунду, будет засчитан как 1 минута.</dl>\n",
    "<dl>   Для веб-трафика отдельные сессии не считаются. Вместо этого общая сумма за месяц округляется в бо́льшую сторону. Если абонент использует 1025 мегабайт в этом месяце, с него возьмут плату за 2 гигабайта.</dl>\n",
    "\n"
   ]
  },
  {
   "cell_type": "markdown",
   "metadata": {},
   "source": [
    "### Исследование данных"
   ]
  },
  {
   "cell_type": "code",
   "execution_count": 14,
   "metadata": {},
   "outputs": [],
   "source": [
    "import pandas as pd\n",
    "import numpy as np\n",
    "import matplotlib.pyplot as plt \n",
    "from scipy import stats as st\n",
    "import warnings\n",
    "warnings.filterwarnings('ignore')\n",
    "pd.set_option('display.float_format', '{:,.2f}'.format)"
   ]
  },
  {
   "cell_type": "code",
   "execution_count": 15,
   "metadata": {
    "scrolled": true
   },
   "outputs": [
    {
     "name": "stdout",
     "output_type": "stream",
     "text": [
      "<class 'pandas.core.frame.DataFrame'>\n",
      "RangeIndex: 202607 entries, 0 to 202606\n",
      "Data columns (total 4 columns):\n",
      " #   Column     Non-Null Count   Dtype  \n",
      "---  ------     --------------   -----  \n",
      " 0   id         202607 non-null  object \n",
      " 1   call_date  202607 non-null  object \n",
      " 2   duration   202607 non-null  float64\n",
      " 3   user_id    202607 non-null  int64  \n",
      "dtypes: float64(1), int64(1), object(2)\n",
      "memory usage: 6.2+ MB\n"
     ]
    },
    {
     "data": {
      "text/plain": [
       "None"
      ]
     },
     "metadata": {},
     "output_type": "display_data"
    },
    {
     "data": {
      "text/html": [
       "<div>\n",
       "<style scoped>\n",
       "    .dataframe tbody tr th:only-of-type {\n",
       "        vertical-align: middle;\n",
       "    }\n",
       "\n",
       "    .dataframe tbody tr th {\n",
       "        vertical-align: top;\n",
       "    }\n",
       "\n",
       "    .dataframe thead th {\n",
       "        text-align: right;\n",
       "    }\n",
       "</style>\n",
       "<table border=\"1\" class=\"dataframe\">\n",
       "  <thead>\n",
       "    <tr style=\"text-align: right;\">\n",
       "      <th></th>\n",
       "      <th>id</th>\n",
       "      <th>call_date</th>\n",
       "      <th>duration</th>\n",
       "      <th>user_id</th>\n",
       "    </tr>\n",
       "  </thead>\n",
       "  <tbody>\n",
       "    <tr>\n",
       "      <th>0</th>\n",
       "      <td>1000_0</td>\n",
       "      <td>2018-07-25</td>\n",
       "      <td>0.00</td>\n",
       "      <td>1000</td>\n",
       "    </tr>\n",
       "    <tr>\n",
       "      <th>1</th>\n",
       "      <td>1000_1</td>\n",
       "      <td>2018-08-17</td>\n",
       "      <td>0.00</td>\n",
       "      <td>1000</td>\n",
       "    </tr>\n",
       "    <tr>\n",
       "      <th>2</th>\n",
       "      <td>1000_2</td>\n",
       "      <td>2018-06-11</td>\n",
       "      <td>2.85</td>\n",
       "      <td>1000</td>\n",
       "    </tr>\n",
       "    <tr>\n",
       "      <th>3</th>\n",
       "      <td>1000_3</td>\n",
       "      <td>2018-09-21</td>\n",
       "      <td>13.80</td>\n",
       "      <td>1000</td>\n",
       "    </tr>\n",
       "    <tr>\n",
       "      <th>4</th>\n",
       "      <td>1000_4</td>\n",
       "      <td>2018-12-15</td>\n",
       "      <td>5.18</td>\n",
       "      <td>1000</td>\n",
       "    </tr>\n",
       "    <tr>\n",
       "      <th>5</th>\n",
       "      <td>1000_5</td>\n",
       "      <td>2018-11-02</td>\n",
       "      <td>0.00</td>\n",
       "      <td>1000</td>\n",
       "    </tr>\n",
       "    <tr>\n",
       "      <th>6</th>\n",
       "      <td>1000_6</td>\n",
       "      <td>2018-10-18</td>\n",
       "      <td>0.00</td>\n",
       "      <td>1000</td>\n",
       "    </tr>\n",
       "    <tr>\n",
       "      <th>7</th>\n",
       "      <td>1000_7</td>\n",
       "      <td>2018-08-22</td>\n",
       "      <td>18.31</td>\n",
       "      <td>1000</td>\n",
       "    </tr>\n",
       "    <tr>\n",
       "      <th>8</th>\n",
       "      <td>1000_8</td>\n",
       "      <td>2018-09-15</td>\n",
       "      <td>18.44</td>\n",
       "      <td>1000</td>\n",
       "    </tr>\n",
       "    <tr>\n",
       "      <th>9</th>\n",
       "      <td>1000_9</td>\n",
       "      <td>2018-08-15</td>\n",
       "      <td>0.00</td>\n",
       "      <td>1000</td>\n",
       "    </tr>\n",
       "  </tbody>\n",
       "</table>\n",
       "</div>"
      ],
      "text/plain": [
       "       id   call_date  duration  user_id\n",
       "0  1000_0  2018-07-25      0.00     1000\n",
       "1  1000_1  2018-08-17      0.00     1000\n",
       "2  1000_2  2018-06-11      2.85     1000\n",
       "3  1000_3  2018-09-21     13.80     1000\n",
       "4  1000_4  2018-12-15      5.18     1000\n",
       "5  1000_5  2018-11-02      0.00     1000\n",
       "6  1000_6  2018-10-18      0.00     1000\n",
       "7  1000_7  2018-08-22     18.31     1000\n",
       "8  1000_8  2018-09-15     18.44     1000\n",
       "9  1000_9  2018-08-15      0.00     1000"
      ]
     },
     "metadata": {},
     "output_type": "display_data"
    },
    {
     "data": {
      "text/plain": [
       "(202607, 4)"
      ]
     },
     "metadata": {},
     "output_type": "display_data"
    },
    {
     "data": {
      "text/html": [
       "<div>\n",
       "<style scoped>\n",
       "    .dataframe tbody tr th:only-of-type {\n",
       "        vertical-align: middle;\n",
       "    }\n",
       "\n",
       "    .dataframe tbody tr th {\n",
       "        vertical-align: top;\n",
       "    }\n",
       "\n",
       "    .dataframe thead th {\n",
       "        text-align: right;\n",
       "    }\n",
       "</style>\n",
       "<table border=\"1\" class=\"dataframe\">\n",
       "  <thead>\n",
       "    <tr style=\"text-align: right;\">\n",
       "      <th></th>\n",
       "      <th>duration</th>\n",
       "      <th>user_id</th>\n",
       "    </tr>\n",
       "  </thead>\n",
       "  <tbody>\n",
       "    <tr>\n",
       "      <th>count</th>\n",
       "      <td>202,607.00</td>\n",
       "      <td>202,607.00</td>\n",
       "    </tr>\n",
       "    <tr>\n",
       "      <th>mean</th>\n",
       "      <td>6.76</td>\n",
       "      <td>1,253.94</td>\n",
       "    </tr>\n",
       "    <tr>\n",
       "      <th>std</th>\n",
       "      <td>5.84</td>\n",
       "      <td>144.72</td>\n",
       "    </tr>\n",
       "    <tr>\n",
       "      <th>min</th>\n",
       "      <td>0.00</td>\n",
       "      <td>1,000.00</td>\n",
       "    </tr>\n",
       "    <tr>\n",
       "      <th>25%</th>\n",
       "      <td>1.30</td>\n",
       "      <td>1,126.00</td>\n",
       "    </tr>\n",
       "    <tr>\n",
       "      <th>50%</th>\n",
       "      <td>6.00</td>\n",
       "      <td>1,260.00</td>\n",
       "    </tr>\n",
       "    <tr>\n",
       "      <th>75%</th>\n",
       "      <td>10.70</td>\n",
       "      <td>1,379.00</td>\n",
       "    </tr>\n",
       "    <tr>\n",
       "      <th>max</th>\n",
       "      <td>38.00</td>\n",
       "      <td>1,499.00</td>\n",
       "    </tr>\n",
       "  </tbody>\n",
       "</table>\n",
       "</div>"
      ],
      "text/plain": [
       "        duration    user_id\n",
       "count 202,607.00 202,607.00\n",
       "mean        6.76   1,253.94\n",
       "std         5.84     144.72\n",
       "min         0.00   1,000.00\n",
       "25%         1.30   1,126.00\n",
       "50%         6.00   1,260.00\n",
       "75%        10.70   1,379.00\n",
       "max        38.00   1,499.00"
      ]
     },
     "metadata": {},
     "output_type": "display_data"
    },
    {
     "data": {
      "text/plain": [
       "Index(['id', 'call_date', 'duration', 'user_id'], dtype='object')"
      ]
     },
     "metadata": {},
     "output_type": "display_data"
    },
    {
     "data": {
      "text/plain": [
       "id              1499_99\n",
       "call_date    2018-12-31\n",
       "duration          38.00\n",
       "user_id            1499\n",
       "dtype: object"
      ]
     },
     "metadata": {},
     "output_type": "display_data"
    },
    {
     "data": {
      "text/plain": [
       "id               1000_0\n",
       "call_date    2018-01-01\n",
       "duration           0.00\n",
       "user_id            1000\n",
       "dtype: object"
      ]
     },
     "metadata": {},
     "output_type": "display_data"
    }
   ],
   "source": [
    "d_c=pd.read_csv('calls.csv')\n",
    "\n",
    "#функция для отображения сведений о датафрейме.\n",
    "def counts(df):\n",
    "    display(df.info())\n",
    "    display(df.head(10))\n",
    "    display(df.shape)\n",
    "    display(df.describe())\n",
    "    display(df.columns)\n",
    "    display(df.max())\n",
    "    display(df.min())\n",
    "\n",
    "counts(d_c)"
   ]
  },
  {
   "cell_type": "code",
   "execution_count": 16,
   "metadata": {},
   "outputs": [
    {
     "name": "stdout",
     "output_type": "stream",
     "text": [
      "1000_0      1\n",
      "1000_23     1\n",
      "1000_2      1\n",
      "1000_3      1\n",
      "1000_4      1\n",
      "           ..\n",
      "1499_213    1\n",
      "1499_214    1\n",
      "1499_215    1\n",
      "1499_217    1\n",
      "1499_219    1\n",
      "Name: id, Length: 202607, dtype: int64\n",
      "2018-01-01       5\n",
      "2018-01-03       7\n",
      "2018-01-02       9\n",
      "2018-01-07      18\n",
      "2018-01-05      20\n",
      "              ... \n",
      "2018-12-26    1149\n",
      "2018-12-22    1158\n",
      "2018-12-30    1192\n",
      "2018-12-29    1202\n",
      "2018-12-31    1435\n",
      "Name: call_date, Length: 365, dtype: int64\n",
      "26.90        1\n",
      "26.05        1\n",
      "26.77        1\n",
      "25.85        1\n",
      "25.76        1\n",
      "         ...  \n",
      "6.38       141\n",
      "6.15       141\n",
      "5.50       142\n",
      "4.49       142\n",
      "0.00     39613\n",
      "Name: duration, Length: 2871, dtype: int64\n",
      "1257      14\n",
      "1016      20\n",
      "1373      24\n",
      "1442      28\n",
      "1397      33\n",
      "        ... \n",
      "1196    1240\n",
      "1453    1440\n",
      "1375    1560\n",
      "1168    1692\n",
      "1377    1760\n",
      "Name: user_id, Length: 492, dtype: int64\n"
     ]
    }
   ],
   "source": [
    "#просмотр уникальных значений по частоте встречаемости.\n",
    "for value in d_c:\n",
    "    print(d_c[value].value_counts().sort_values())"
   ]
  },
  {
   "cell_type": "code",
   "execution_count": 17,
   "metadata": {},
   "outputs": [
    {
     "name": "stdout",
     "output_type": "stream",
     "text": [
      "<class 'pandas.core.frame.DataFrame'>\n",
      "RangeIndex: 149396 entries, 0 to 149395\n",
      "Data columns (total 5 columns):\n",
      " #   Column        Non-Null Count   Dtype  \n",
      "---  ------        --------------   -----  \n",
      " 0   Unnamed: 0    149396 non-null  int64  \n",
      " 1   id            149396 non-null  object \n",
      " 2   mb_used       149396 non-null  float64\n",
      " 3   session_date  149396 non-null  object \n",
      " 4   user_id       149396 non-null  int64  \n",
      "dtypes: float64(1), int64(2), object(2)\n",
      "memory usage: 5.7+ MB\n"
     ]
    },
    {
     "data": {
      "text/plain": [
       "None"
      ]
     },
     "metadata": {},
     "output_type": "display_data"
    },
    {
     "data": {
      "text/html": [
       "<div>\n",
       "<style scoped>\n",
       "    .dataframe tbody tr th:only-of-type {\n",
       "        vertical-align: middle;\n",
       "    }\n",
       "\n",
       "    .dataframe tbody tr th {\n",
       "        vertical-align: top;\n",
       "    }\n",
       "\n",
       "    .dataframe thead th {\n",
       "        text-align: right;\n",
       "    }\n",
       "</style>\n",
       "<table border=\"1\" class=\"dataframe\">\n",
       "  <thead>\n",
       "    <tr style=\"text-align: right;\">\n",
       "      <th></th>\n",
       "      <th>Unnamed: 0</th>\n",
       "      <th>id</th>\n",
       "      <th>mb_used</th>\n",
       "      <th>session_date</th>\n",
       "      <th>user_id</th>\n",
       "    </tr>\n",
       "  </thead>\n",
       "  <tbody>\n",
       "    <tr>\n",
       "      <th>0</th>\n",
       "      <td>0</td>\n",
       "      <td>1000_0</td>\n",
       "      <td>112.95</td>\n",
       "      <td>2018-11-25</td>\n",
       "      <td>1000</td>\n",
       "    </tr>\n",
       "    <tr>\n",
       "      <th>1</th>\n",
       "      <td>1</td>\n",
       "      <td>1000_1</td>\n",
       "      <td>1,052.81</td>\n",
       "      <td>2018-09-07</td>\n",
       "      <td>1000</td>\n",
       "    </tr>\n",
       "    <tr>\n",
       "      <th>2</th>\n",
       "      <td>2</td>\n",
       "      <td>1000_2</td>\n",
       "      <td>1,197.26</td>\n",
       "      <td>2018-06-25</td>\n",
       "      <td>1000</td>\n",
       "    </tr>\n",
       "    <tr>\n",
       "      <th>3</th>\n",
       "      <td>3</td>\n",
       "      <td>1000_3</td>\n",
       "      <td>550.27</td>\n",
       "      <td>2018-08-22</td>\n",
       "      <td>1000</td>\n",
       "    </tr>\n",
       "    <tr>\n",
       "      <th>4</th>\n",
       "      <td>4</td>\n",
       "      <td>1000_4</td>\n",
       "      <td>302.56</td>\n",
       "      <td>2018-09-24</td>\n",
       "      <td>1000</td>\n",
       "    </tr>\n",
       "    <tr>\n",
       "      <th>5</th>\n",
       "      <td>5</td>\n",
       "      <td>1000_5</td>\n",
       "      <td>399.97</td>\n",
       "      <td>2018-10-02</td>\n",
       "      <td>1000</td>\n",
       "    </tr>\n",
       "    <tr>\n",
       "      <th>6</th>\n",
       "      <td>6</td>\n",
       "      <td>1000_6</td>\n",
       "      <td>540.08</td>\n",
       "      <td>2018-09-07</td>\n",
       "      <td>1000</td>\n",
       "    </tr>\n",
       "    <tr>\n",
       "      <th>7</th>\n",
       "      <td>7</td>\n",
       "      <td>1000_7</td>\n",
       "      <td>415.70</td>\n",
       "      <td>2018-07-11</td>\n",
       "      <td>1000</td>\n",
       "    </tr>\n",
       "    <tr>\n",
       "      <th>8</th>\n",
       "      <td>8</td>\n",
       "      <td>1000_8</td>\n",
       "      <td>505.40</td>\n",
       "      <td>2018-10-08</td>\n",
       "      <td>1000</td>\n",
       "    </tr>\n",
       "    <tr>\n",
       "      <th>9</th>\n",
       "      <td>9</td>\n",
       "      <td>1000_9</td>\n",
       "      <td>345.54</td>\n",
       "      <td>2018-09-03</td>\n",
       "      <td>1000</td>\n",
       "    </tr>\n",
       "  </tbody>\n",
       "</table>\n",
       "</div>"
      ],
      "text/plain": [
       "   Unnamed: 0      id  mb_used session_date  user_id\n",
       "0           0  1000_0   112.95   2018-11-25     1000\n",
       "1           1  1000_1 1,052.81   2018-09-07     1000\n",
       "2           2  1000_2 1,197.26   2018-06-25     1000\n",
       "3           3  1000_3   550.27   2018-08-22     1000\n",
       "4           4  1000_4   302.56   2018-09-24     1000\n",
       "5           5  1000_5   399.97   2018-10-02     1000\n",
       "6           6  1000_6   540.08   2018-09-07     1000\n",
       "7           7  1000_7   415.70   2018-07-11     1000\n",
       "8           8  1000_8   505.40   2018-10-08     1000\n",
       "9           9  1000_9   345.54   2018-09-03     1000"
      ]
     },
     "metadata": {},
     "output_type": "display_data"
    },
    {
     "data": {
      "text/plain": [
       "(149396, 5)"
      ]
     },
     "metadata": {},
     "output_type": "display_data"
    },
    {
     "data": {
      "text/html": [
       "<div>\n",
       "<style scoped>\n",
       "    .dataframe tbody tr th:only-of-type {\n",
       "        vertical-align: middle;\n",
       "    }\n",
       "\n",
       "    .dataframe tbody tr th {\n",
       "        vertical-align: top;\n",
       "    }\n",
       "\n",
       "    .dataframe thead th {\n",
       "        text-align: right;\n",
       "    }\n",
       "</style>\n",
       "<table border=\"1\" class=\"dataframe\">\n",
       "  <thead>\n",
       "    <tr style=\"text-align: right;\">\n",
       "      <th></th>\n",
       "      <th>Unnamed: 0</th>\n",
       "      <th>mb_used</th>\n",
       "      <th>user_id</th>\n",
       "    </tr>\n",
       "  </thead>\n",
       "  <tbody>\n",
       "    <tr>\n",
       "      <th>count</th>\n",
       "      <td>149,396.00</td>\n",
       "      <td>149,396.00</td>\n",
       "      <td>149,396.00</td>\n",
       "    </tr>\n",
       "    <tr>\n",
       "      <th>mean</th>\n",
       "      <td>74,697.50</td>\n",
       "      <td>370.19</td>\n",
       "      <td>1,252.10</td>\n",
       "    </tr>\n",
       "    <tr>\n",
       "      <th>std</th>\n",
       "      <td>43,127.05</td>\n",
       "      <td>278.30</td>\n",
       "      <td>144.05</td>\n",
       "    </tr>\n",
       "    <tr>\n",
       "      <th>min</th>\n",
       "      <td>0.00</td>\n",
       "      <td>0.00</td>\n",
       "      <td>1,000.00</td>\n",
       "    </tr>\n",
       "    <tr>\n",
       "      <th>25%</th>\n",
       "      <td>37,348.75</td>\n",
       "      <td>138.19</td>\n",
       "      <td>1,130.00</td>\n",
       "    </tr>\n",
       "    <tr>\n",
       "      <th>50%</th>\n",
       "      <td>74,697.50</td>\n",
       "      <td>348.01</td>\n",
       "      <td>1,251.00</td>\n",
       "    </tr>\n",
       "    <tr>\n",
       "      <th>75%</th>\n",
       "      <td>112,046.25</td>\n",
       "      <td>559.55</td>\n",
       "      <td>1,380.00</td>\n",
       "    </tr>\n",
       "    <tr>\n",
       "      <th>max</th>\n",
       "      <td>149,395.00</td>\n",
       "      <td>1,724.83</td>\n",
       "      <td>1,499.00</td>\n",
       "    </tr>\n",
       "  </tbody>\n",
       "</table>\n",
       "</div>"
      ],
      "text/plain": [
       "       Unnamed: 0    mb_used    user_id\n",
       "count  149,396.00 149,396.00 149,396.00\n",
       "mean    74,697.50     370.19   1,252.10\n",
       "std     43,127.05     278.30     144.05\n",
       "min          0.00       0.00   1,000.00\n",
       "25%     37,348.75     138.19   1,130.00\n",
       "50%     74,697.50     348.01   1,251.00\n",
       "75%    112,046.25     559.55   1,380.00\n",
       "max    149,395.00   1,724.83   1,499.00"
      ]
     },
     "metadata": {},
     "output_type": "display_data"
    },
    {
     "data": {
      "text/plain": [
       "Index(['Unnamed: 0', 'id', 'mb_used', 'session_date', 'user_id'], dtype='object')"
      ]
     },
     "metadata": {},
     "output_type": "display_data"
    },
    {
     "data": {
      "text/plain": [
       "Unnamed: 0          149395\n",
       "id                 1499_99\n",
       "mb_used           1,724.83\n",
       "session_date    2018-12-31\n",
       "user_id               1499\n",
       "dtype: object"
      ]
     },
     "metadata": {},
     "output_type": "display_data"
    },
    {
     "data": {
      "text/plain": [
       "Unnamed: 0               0\n",
       "id                  1000_0\n",
       "mb_used               0.00\n",
       "session_date    2018-01-01\n",
       "user_id               1000\n",
       "dtype: object"
      ]
     },
     "metadata": {},
     "output_type": "display_data"
    }
   ],
   "source": [
    "d_i=pd.read_csv('internet.csv')\n",
    "\n",
    "counts(d_i)\n"
   ]
  },
  {
   "cell_type": "code",
   "execution_count": 18,
   "metadata": {},
   "outputs": [
    {
     "name": "stdout",
     "output_type": "stream",
     "text": [
      "0         1\n",
      "17        1\n",
      "8         1\n",
      "2         1\n",
      "3         1\n",
      "         ..\n",
      "149379    1\n",
      "149389    1\n",
      "149390    1\n",
      "149374    1\n",
      "149395    1\n",
      "Name: Unnamed: 0, Length: 149396, dtype: int64\n",
      "1000_0      1\n",
      "1000_17     1\n",
      "1000_8      1\n",
      "1000_2      1\n",
      "1000_3      1\n",
      "           ..\n",
      "1499_140    1\n",
      "1499_150    1\n",
      "1499_151    1\n",
      "1499_135    1\n",
      "1499_156    1\n",
      "Name: id, Length: 149396, dtype: int64\n",
      "23.72         1\n",
      "798.27        1\n",
      "588.84        1\n",
      "207.27        1\n",
      "870.53        1\n",
      "          ...  \n",
      "513.25        8\n",
      "197.56        9\n",
      "447.30        9\n",
      "335.91        9\n",
      "0.00      19598\n",
      "Name: mb_used, Length: 70003, dtype: int64\n",
      "2018-01-01       3\n",
      "2018-01-02       3\n",
      "2018-01-03       6\n",
      "2018-01-04       9\n",
      "2018-01-05      14\n",
      "              ... \n",
      "2018-12-22     834\n",
      "2018-12-26     844\n",
      "2018-12-25     859\n",
      "2018-12-30     903\n",
      "2018-12-31    1057\n",
      "Name: session_date, Length: 365, dtype: int64\n",
      "1399      8\n",
      "1192     22\n",
      "1343     26\n",
      "1467     27\n",
      "1151     35\n",
      "       ... \n",
      "1251    759\n",
      "1240    764\n",
      "1204    789\n",
      "1227    812\n",
      "1496    834\n",
      "Name: user_id, Length: 497, dtype: int64\n"
     ]
    }
   ],
   "source": [
    "#просмотр уникальных значений по частоте встречаемости.\n",
    "for value in d_i:\n",
    "    print(d_i[value].value_counts().sort_values())"
   ]
  },
  {
   "cell_type": "code",
   "execution_count": 19,
   "metadata": {},
   "outputs": [
    {
     "name": "stdout",
     "output_type": "stream",
     "text": [
      "<class 'pandas.core.frame.DataFrame'>\n",
      "RangeIndex: 123036 entries, 0 to 123035\n",
      "Data columns (total 3 columns):\n",
      " #   Column        Non-Null Count   Dtype \n",
      "---  ------        --------------   ----- \n",
      " 0   id            123036 non-null  object\n",
      " 1   message_date  123036 non-null  object\n",
      " 2   user_id       123036 non-null  int64 \n",
      "dtypes: int64(1), object(2)\n",
      "memory usage: 2.8+ MB\n"
     ]
    },
    {
     "data": {
      "text/plain": [
       "None"
      ]
     },
     "metadata": {},
     "output_type": "display_data"
    },
    {
     "data": {
      "text/html": [
       "<div>\n",
       "<style scoped>\n",
       "    .dataframe tbody tr th:only-of-type {\n",
       "        vertical-align: middle;\n",
       "    }\n",
       "\n",
       "    .dataframe tbody tr th {\n",
       "        vertical-align: top;\n",
       "    }\n",
       "\n",
       "    .dataframe thead th {\n",
       "        text-align: right;\n",
       "    }\n",
       "</style>\n",
       "<table border=\"1\" class=\"dataframe\">\n",
       "  <thead>\n",
       "    <tr style=\"text-align: right;\">\n",
       "      <th></th>\n",
       "      <th>id</th>\n",
       "      <th>message_date</th>\n",
       "      <th>user_id</th>\n",
       "    </tr>\n",
       "  </thead>\n",
       "  <tbody>\n",
       "    <tr>\n",
       "      <th>0</th>\n",
       "      <td>1000_0</td>\n",
       "      <td>2018-06-27</td>\n",
       "      <td>1000</td>\n",
       "    </tr>\n",
       "    <tr>\n",
       "      <th>1</th>\n",
       "      <td>1000_1</td>\n",
       "      <td>2018-10-08</td>\n",
       "      <td>1000</td>\n",
       "    </tr>\n",
       "    <tr>\n",
       "      <th>2</th>\n",
       "      <td>1000_2</td>\n",
       "      <td>2018-08-04</td>\n",
       "      <td>1000</td>\n",
       "    </tr>\n",
       "    <tr>\n",
       "      <th>3</th>\n",
       "      <td>1000_3</td>\n",
       "      <td>2018-06-16</td>\n",
       "      <td>1000</td>\n",
       "    </tr>\n",
       "    <tr>\n",
       "      <th>4</th>\n",
       "      <td>1000_4</td>\n",
       "      <td>2018-12-05</td>\n",
       "      <td>1000</td>\n",
       "    </tr>\n",
       "    <tr>\n",
       "      <th>5</th>\n",
       "      <td>1000_5</td>\n",
       "      <td>2018-06-20</td>\n",
       "      <td>1000</td>\n",
       "    </tr>\n",
       "    <tr>\n",
       "      <th>6</th>\n",
       "      <td>1000_6</td>\n",
       "      <td>2018-11-19</td>\n",
       "      <td>1000</td>\n",
       "    </tr>\n",
       "    <tr>\n",
       "      <th>7</th>\n",
       "      <td>1000_7</td>\n",
       "      <td>2018-10-29</td>\n",
       "      <td>1000</td>\n",
       "    </tr>\n",
       "    <tr>\n",
       "      <th>8</th>\n",
       "      <td>1000_8</td>\n",
       "      <td>2018-06-25</td>\n",
       "      <td>1000</td>\n",
       "    </tr>\n",
       "    <tr>\n",
       "      <th>9</th>\n",
       "      <td>1000_9</td>\n",
       "      <td>2018-12-18</td>\n",
       "      <td>1000</td>\n",
       "    </tr>\n",
       "  </tbody>\n",
       "</table>\n",
       "</div>"
      ],
      "text/plain": [
       "       id message_date  user_id\n",
       "0  1000_0   2018-06-27     1000\n",
       "1  1000_1   2018-10-08     1000\n",
       "2  1000_2   2018-08-04     1000\n",
       "3  1000_3   2018-06-16     1000\n",
       "4  1000_4   2018-12-05     1000\n",
       "5  1000_5   2018-06-20     1000\n",
       "6  1000_6   2018-11-19     1000\n",
       "7  1000_7   2018-10-29     1000\n",
       "8  1000_8   2018-06-25     1000\n",
       "9  1000_9   2018-12-18     1000"
      ]
     },
     "metadata": {},
     "output_type": "display_data"
    },
    {
     "data": {
      "text/plain": [
       "(123036, 3)"
      ]
     },
     "metadata": {},
     "output_type": "display_data"
    },
    {
     "data": {
      "text/html": [
       "<div>\n",
       "<style scoped>\n",
       "    .dataframe tbody tr th:only-of-type {\n",
       "        vertical-align: middle;\n",
       "    }\n",
       "\n",
       "    .dataframe tbody tr th {\n",
       "        vertical-align: top;\n",
       "    }\n",
       "\n",
       "    .dataframe thead th {\n",
       "        text-align: right;\n",
       "    }\n",
       "</style>\n",
       "<table border=\"1\" class=\"dataframe\">\n",
       "  <thead>\n",
       "    <tr style=\"text-align: right;\">\n",
       "      <th></th>\n",
       "      <th>user_id</th>\n",
       "    </tr>\n",
       "  </thead>\n",
       "  <tbody>\n",
       "    <tr>\n",
       "      <th>count</th>\n",
       "      <td>123,036.00</td>\n",
       "    </tr>\n",
       "    <tr>\n",
       "      <th>mean</th>\n",
       "      <td>1,256.99</td>\n",
       "    </tr>\n",
       "    <tr>\n",
       "      <th>std</th>\n",
       "      <td>143.52</td>\n",
       "    </tr>\n",
       "    <tr>\n",
       "      <th>min</th>\n",
       "      <td>1,000.00</td>\n",
       "    </tr>\n",
       "    <tr>\n",
       "      <th>25%</th>\n",
       "      <td>1,134.00</td>\n",
       "    </tr>\n",
       "    <tr>\n",
       "      <th>50%</th>\n",
       "      <td>1,271.00</td>\n",
       "    </tr>\n",
       "    <tr>\n",
       "      <th>75%</th>\n",
       "      <td>1,381.00</td>\n",
       "    </tr>\n",
       "    <tr>\n",
       "      <th>max</th>\n",
       "      <td>1,499.00</td>\n",
       "    </tr>\n",
       "  </tbody>\n",
       "</table>\n",
       "</div>"
      ],
      "text/plain": [
       "         user_id\n",
       "count 123,036.00\n",
       "mean    1,256.99\n",
       "std       143.52\n",
       "min     1,000.00\n",
       "25%     1,134.00\n",
       "50%     1,271.00\n",
       "75%     1,381.00\n",
       "max     1,499.00"
      ]
     },
     "metadata": {},
     "output_type": "display_data"
    },
    {
     "data": {
      "text/plain": [
       "Index(['id', 'message_date', 'user_id'], dtype='object')"
      ]
     },
     "metadata": {},
     "output_type": "display_data"
    },
    {
     "data": {
      "text/plain": [
       "id                 1499_99\n",
       "message_date    2018-12-31\n",
       "user_id               1499\n",
       "dtype: object"
      ]
     },
     "metadata": {},
     "output_type": "display_data"
    },
    {
     "data": {
      "text/plain": [
       "id                  1000_0\n",
       "message_date    2018-01-02\n",
       "user_id               1000\n",
       "dtype: object"
      ]
     },
     "metadata": {},
     "output_type": "display_data"
    }
   ],
   "source": [
    "d_m=pd.read_csv('messages.csv')\n",
    "\n",
    "counts(d_m)"
   ]
  },
  {
   "cell_type": "code",
   "execution_count": 20,
   "metadata": {},
   "outputs": [
    {
     "data": {
      "text/plain": [
       "id                 1499_99\n",
       "message_date    2018-12-31\n",
       "user_id               1499\n",
       "dtype: object"
      ]
     },
     "metadata": {},
     "output_type": "display_data"
    },
    {
     "data": {
      "text/plain": [
       "id                  1000_0\n",
       "message_date    2018-01-02\n",
       "user_id               1000\n",
       "dtype: object"
      ]
     },
     "execution_count": 20,
     "metadata": {},
     "output_type": "execute_result"
    }
   ],
   "source": [
    "display(d_m.max())\n",
    "d_m.min()  "
   ]
  },
  {
   "cell_type": "code",
   "execution_count": 21,
   "metadata": {},
   "outputs": [
    {
     "name": "stdout",
     "output_type": "stream",
     "text": [
      "<class 'pandas.core.frame.DataFrame'>\n",
      "RangeIndex: 2 entries, 0 to 1\n",
      "Data columns (total 8 columns):\n",
      " #   Column                 Non-Null Count  Dtype \n",
      "---  ------                 --------------  ----- \n",
      " 0   messages_included      2 non-null      int64 \n",
      " 1   mb_per_month_included  2 non-null      int64 \n",
      " 2   minutes_included       2 non-null      int64 \n",
      " 3   rub_monthly_fee        2 non-null      int64 \n",
      " 4   rub_per_gb             2 non-null      int64 \n",
      " 5   rub_per_message        2 non-null      int64 \n",
      " 6   rub_per_minute         2 non-null      int64 \n",
      " 7   tariff_name            2 non-null      object\n",
      "dtypes: int64(7), object(1)\n",
      "memory usage: 256.0+ bytes\n"
     ]
    },
    {
     "data": {
      "text/plain": [
       "None"
      ]
     },
     "metadata": {},
     "output_type": "display_data"
    },
    {
     "data": {
      "text/html": [
       "<div>\n",
       "<style scoped>\n",
       "    .dataframe tbody tr th:only-of-type {\n",
       "        vertical-align: middle;\n",
       "    }\n",
       "\n",
       "    .dataframe tbody tr th {\n",
       "        vertical-align: top;\n",
       "    }\n",
       "\n",
       "    .dataframe thead th {\n",
       "        text-align: right;\n",
       "    }\n",
       "</style>\n",
       "<table border=\"1\" class=\"dataframe\">\n",
       "  <thead>\n",
       "    <tr style=\"text-align: right;\">\n",
       "      <th></th>\n",
       "      <th>messages_included</th>\n",
       "      <th>mb_per_month_included</th>\n",
       "      <th>minutes_included</th>\n",
       "      <th>rub_monthly_fee</th>\n",
       "      <th>rub_per_gb</th>\n",
       "      <th>rub_per_message</th>\n",
       "      <th>rub_per_minute</th>\n",
       "      <th>tariff_name</th>\n",
       "    </tr>\n",
       "  </thead>\n",
       "  <tbody>\n",
       "    <tr>\n",
       "      <th>0</th>\n",
       "      <td>50</td>\n",
       "      <td>15360</td>\n",
       "      <td>500</td>\n",
       "      <td>550</td>\n",
       "      <td>200</td>\n",
       "      <td>3</td>\n",
       "      <td>3</td>\n",
       "      <td>smart</td>\n",
       "    </tr>\n",
       "    <tr>\n",
       "      <th>1</th>\n",
       "      <td>1000</td>\n",
       "      <td>30720</td>\n",
       "      <td>3000</td>\n",
       "      <td>1950</td>\n",
       "      <td>150</td>\n",
       "      <td>1</td>\n",
       "      <td>1</td>\n",
       "      <td>ultra</td>\n",
       "    </tr>\n",
       "  </tbody>\n",
       "</table>\n",
       "</div>"
      ],
      "text/plain": [
       "   messages_included  mb_per_month_included  minutes_included  \\\n",
       "0                 50                  15360               500   \n",
       "1               1000                  30720              3000   \n",
       "\n",
       "   rub_monthly_fee  rub_per_gb  rub_per_message  rub_per_minute tariff_name  \n",
       "0              550         200                3               3       smart  \n",
       "1             1950         150                1               1       ultra  "
      ]
     },
     "metadata": {},
     "output_type": "display_data"
    },
    {
     "data": {
      "text/plain": [
       "(2, 8)"
      ]
     },
     "metadata": {},
     "output_type": "display_data"
    },
    {
     "data": {
      "text/html": [
       "<div>\n",
       "<style scoped>\n",
       "    .dataframe tbody tr th:only-of-type {\n",
       "        vertical-align: middle;\n",
       "    }\n",
       "\n",
       "    .dataframe tbody tr th {\n",
       "        vertical-align: top;\n",
       "    }\n",
       "\n",
       "    .dataframe thead th {\n",
       "        text-align: right;\n",
       "    }\n",
       "</style>\n",
       "<table border=\"1\" class=\"dataframe\">\n",
       "  <thead>\n",
       "    <tr style=\"text-align: right;\">\n",
       "      <th></th>\n",
       "      <th>messages_included</th>\n",
       "      <th>mb_per_month_included</th>\n",
       "      <th>minutes_included</th>\n",
       "      <th>rub_monthly_fee</th>\n",
       "      <th>rub_per_gb</th>\n",
       "      <th>rub_per_message</th>\n",
       "      <th>rub_per_minute</th>\n",
       "    </tr>\n",
       "  </thead>\n",
       "  <tbody>\n",
       "    <tr>\n",
       "      <th>count</th>\n",
       "      <td>2.00</td>\n",
       "      <td>2.00</td>\n",
       "      <td>2.00</td>\n",
       "      <td>2.00</td>\n",
       "      <td>2.00</td>\n",
       "      <td>2.00</td>\n",
       "      <td>2.00</td>\n",
       "    </tr>\n",
       "    <tr>\n",
       "      <th>mean</th>\n",
       "      <td>525.00</td>\n",
       "      <td>23,040.00</td>\n",
       "      <td>1,750.00</td>\n",
       "      <td>1,250.00</td>\n",
       "      <td>175.00</td>\n",
       "      <td>2.00</td>\n",
       "      <td>2.00</td>\n",
       "    </tr>\n",
       "    <tr>\n",
       "      <th>std</th>\n",
       "      <td>671.75</td>\n",
       "      <td>10,861.16</td>\n",
       "      <td>1,767.77</td>\n",
       "      <td>989.95</td>\n",
       "      <td>35.36</td>\n",
       "      <td>1.41</td>\n",
       "      <td>1.41</td>\n",
       "    </tr>\n",
       "    <tr>\n",
       "      <th>min</th>\n",
       "      <td>50.00</td>\n",
       "      <td>15,360.00</td>\n",
       "      <td>500.00</td>\n",
       "      <td>550.00</td>\n",
       "      <td>150.00</td>\n",
       "      <td>1.00</td>\n",
       "      <td>1.00</td>\n",
       "    </tr>\n",
       "    <tr>\n",
       "      <th>25%</th>\n",
       "      <td>287.50</td>\n",
       "      <td>19,200.00</td>\n",
       "      <td>1,125.00</td>\n",
       "      <td>900.00</td>\n",
       "      <td>162.50</td>\n",
       "      <td>1.50</td>\n",
       "      <td>1.50</td>\n",
       "    </tr>\n",
       "    <tr>\n",
       "      <th>50%</th>\n",
       "      <td>525.00</td>\n",
       "      <td>23,040.00</td>\n",
       "      <td>1,750.00</td>\n",
       "      <td>1,250.00</td>\n",
       "      <td>175.00</td>\n",
       "      <td>2.00</td>\n",
       "      <td>2.00</td>\n",
       "    </tr>\n",
       "    <tr>\n",
       "      <th>75%</th>\n",
       "      <td>762.50</td>\n",
       "      <td>26,880.00</td>\n",
       "      <td>2,375.00</td>\n",
       "      <td>1,600.00</td>\n",
       "      <td>187.50</td>\n",
       "      <td>2.50</td>\n",
       "      <td>2.50</td>\n",
       "    </tr>\n",
       "    <tr>\n",
       "      <th>max</th>\n",
       "      <td>1,000.00</td>\n",
       "      <td>30,720.00</td>\n",
       "      <td>3,000.00</td>\n",
       "      <td>1,950.00</td>\n",
       "      <td>200.00</td>\n",
       "      <td>3.00</td>\n",
       "      <td>3.00</td>\n",
       "    </tr>\n",
       "  </tbody>\n",
       "</table>\n",
       "</div>"
      ],
      "text/plain": [
       "       messages_included  mb_per_month_included  minutes_included  \\\n",
       "count               2.00                   2.00              2.00   \n",
       "mean              525.00              23,040.00          1,750.00   \n",
       "std               671.75              10,861.16          1,767.77   \n",
       "min                50.00              15,360.00            500.00   \n",
       "25%               287.50              19,200.00          1,125.00   \n",
       "50%               525.00              23,040.00          1,750.00   \n",
       "75%               762.50              26,880.00          2,375.00   \n",
       "max             1,000.00              30,720.00          3,000.00   \n",
       "\n",
       "       rub_monthly_fee  rub_per_gb  rub_per_message  rub_per_minute  \n",
       "count             2.00        2.00             2.00            2.00  \n",
       "mean          1,250.00      175.00             2.00            2.00  \n",
       "std             989.95       35.36             1.41            1.41  \n",
       "min             550.00      150.00             1.00            1.00  \n",
       "25%             900.00      162.50             1.50            1.50  \n",
       "50%           1,250.00      175.00             2.00            2.00  \n",
       "75%           1,600.00      187.50             2.50            2.50  \n",
       "max           1,950.00      200.00             3.00            3.00  "
      ]
     },
     "metadata": {},
     "output_type": "display_data"
    },
    {
     "data": {
      "text/plain": [
       "Index(['messages_included', 'mb_per_month_included', 'minutes_included',\n",
       "       'rub_monthly_fee', 'rub_per_gb', 'rub_per_message', 'rub_per_minute',\n",
       "       'tariff_name'],\n",
       "      dtype='object')"
      ]
     },
     "metadata": {},
     "output_type": "display_data"
    },
    {
     "data": {
      "text/plain": [
       "messages_included         1000\n",
       "mb_per_month_included    30720\n",
       "minutes_included          3000\n",
       "rub_monthly_fee           1950\n",
       "rub_per_gb                 200\n",
       "rub_per_message              3\n",
       "rub_per_minute               3\n",
       "tariff_name              ultra\n",
       "dtype: object"
      ]
     },
     "metadata": {},
     "output_type": "display_data"
    },
    {
     "data": {
      "text/plain": [
       "messages_included           50\n",
       "mb_per_month_included    15360\n",
       "minutes_included           500\n",
       "rub_monthly_fee            550\n",
       "rub_per_gb                 150\n",
       "rub_per_message              1\n",
       "rub_per_minute               1\n",
       "tariff_name              smart\n",
       "dtype: object"
      ]
     },
     "metadata": {},
     "output_type": "display_data"
    }
   ],
   "source": [
    "d_t=pd.read_csv('tariffs.csv')\n",
    "\n",
    "counts(d_t)"
   ]
  },
  {
   "cell_type": "code",
   "execution_count": 22,
   "metadata": {
    "scrolled": true
   },
   "outputs": [
    {
     "name": "stdout",
     "output_type": "stream",
     "text": [
      "<class 'pandas.core.frame.DataFrame'>\n",
      "RangeIndex: 500 entries, 0 to 499\n",
      "Data columns (total 8 columns):\n",
      " #   Column      Non-Null Count  Dtype \n",
      "---  ------      --------------  ----- \n",
      " 0   user_id     500 non-null    int64 \n",
      " 1   age         500 non-null    int64 \n",
      " 2   churn_date  38 non-null     object\n",
      " 3   city        500 non-null    object\n",
      " 4   first_name  500 non-null    object\n",
      " 5   last_name   500 non-null    object\n",
      " 6   reg_date    500 non-null    object\n",
      " 7   tariff      500 non-null    object\n",
      "dtypes: int64(2), object(6)\n",
      "memory usage: 31.4+ KB\n"
     ]
    },
    {
     "data": {
      "text/plain": [
       "None"
      ]
     },
     "metadata": {},
     "output_type": "display_data"
    },
    {
     "data": {
      "text/html": [
       "<div>\n",
       "<style scoped>\n",
       "    .dataframe tbody tr th:only-of-type {\n",
       "        vertical-align: middle;\n",
       "    }\n",
       "\n",
       "    .dataframe tbody tr th {\n",
       "        vertical-align: top;\n",
       "    }\n",
       "\n",
       "    .dataframe thead th {\n",
       "        text-align: right;\n",
       "    }\n",
       "</style>\n",
       "<table border=\"1\" class=\"dataframe\">\n",
       "  <thead>\n",
       "    <tr style=\"text-align: right;\">\n",
       "      <th></th>\n",
       "      <th>user_id</th>\n",
       "      <th>age</th>\n",
       "      <th>churn_date</th>\n",
       "      <th>city</th>\n",
       "      <th>first_name</th>\n",
       "      <th>last_name</th>\n",
       "      <th>reg_date</th>\n",
       "      <th>tariff</th>\n",
       "    </tr>\n",
       "  </thead>\n",
       "  <tbody>\n",
       "    <tr>\n",
       "      <th>0</th>\n",
       "      <td>1000</td>\n",
       "      <td>52</td>\n",
       "      <td>NaN</td>\n",
       "      <td>Краснодар</td>\n",
       "      <td>Рафаил</td>\n",
       "      <td>Верещагин</td>\n",
       "      <td>2018-05-25</td>\n",
       "      <td>ultra</td>\n",
       "    </tr>\n",
       "    <tr>\n",
       "      <th>1</th>\n",
       "      <td>1001</td>\n",
       "      <td>41</td>\n",
       "      <td>NaN</td>\n",
       "      <td>Москва</td>\n",
       "      <td>Иван</td>\n",
       "      <td>Ежов</td>\n",
       "      <td>2018-11-01</td>\n",
       "      <td>smart</td>\n",
       "    </tr>\n",
       "    <tr>\n",
       "      <th>2</th>\n",
       "      <td>1002</td>\n",
       "      <td>59</td>\n",
       "      <td>NaN</td>\n",
       "      <td>Стерлитамак</td>\n",
       "      <td>Евгений</td>\n",
       "      <td>Абрамович</td>\n",
       "      <td>2018-06-17</td>\n",
       "      <td>smart</td>\n",
       "    </tr>\n",
       "    <tr>\n",
       "      <th>3</th>\n",
       "      <td>1003</td>\n",
       "      <td>23</td>\n",
       "      <td>NaN</td>\n",
       "      <td>Москва</td>\n",
       "      <td>Белла</td>\n",
       "      <td>Белякова</td>\n",
       "      <td>2018-08-17</td>\n",
       "      <td>ultra</td>\n",
       "    </tr>\n",
       "    <tr>\n",
       "      <th>4</th>\n",
       "      <td>1004</td>\n",
       "      <td>68</td>\n",
       "      <td>NaN</td>\n",
       "      <td>Новокузнецк</td>\n",
       "      <td>Татьяна</td>\n",
       "      <td>Авдеенко</td>\n",
       "      <td>2018-05-14</td>\n",
       "      <td>ultra</td>\n",
       "    </tr>\n",
       "    <tr>\n",
       "      <th>5</th>\n",
       "      <td>1005</td>\n",
       "      <td>67</td>\n",
       "      <td>NaN</td>\n",
       "      <td>Набережные Челны</td>\n",
       "      <td>Афанасий</td>\n",
       "      <td>Горлов</td>\n",
       "      <td>2018-01-25</td>\n",
       "      <td>smart</td>\n",
       "    </tr>\n",
       "    <tr>\n",
       "      <th>6</th>\n",
       "      <td>1006</td>\n",
       "      <td>21</td>\n",
       "      <td>NaN</td>\n",
       "      <td>Ульяновск</td>\n",
       "      <td>Леонид</td>\n",
       "      <td>Ермолаев</td>\n",
       "      <td>2018-02-26</td>\n",
       "      <td>smart</td>\n",
       "    </tr>\n",
       "    <tr>\n",
       "      <th>7</th>\n",
       "      <td>1007</td>\n",
       "      <td>65</td>\n",
       "      <td>NaN</td>\n",
       "      <td>Москва</td>\n",
       "      <td>Юна</td>\n",
       "      <td>Березина</td>\n",
       "      <td>2018-04-19</td>\n",
       "      <td>smart</td>\n",
       "    </tr>\n",
       "    <tr>\n",
       "      <th>8</th>\n",
       "      <td>1008</td>\n",
       "      <td>63</td>\n",
       "      <td>NaN</td>\n",
       "      <td>Челябинск</td>\n",
       "      <td>Рустэм</td>\n",
       "      <td>Пономарёв</td>\n",
       "      <td>2018-12-19</td>\n",
       "      <td>smart</td>\n",
       "    </tr>\n",
       "    <tr>\n",
       "      <th>9</th>\n",
       "      <td>1009</td>\n",
       "      <td>24</td>\n",
       "      <td>NaN</td>\n",
       "      <td>Пермь</td>\n",
       "      <td>Василиса</td>\n",
       "      <td>Блинова</td>\n",
       "      <td>2018-03-22</td>\n",
       "      <td>smart</td>\n",
       "    </tr>\n",
       "  </tbody>\n",
       "</table>\n",
       "</div>"
      ],
      "text/plain": [
       "   user_id  age churn_date              city first_name  last_name  \\\n",
       "0     1000   52        NaN         Краснодар     Рафаил  Верещагин   \n",
       "1     1001   41        NaN            Москва       Иван       Ежов   \n",
       "2     1002   59        NaN       Стерлитамак    Евгений  Абрамович   \n",
       "3     1003   23        NaN            Москва      Белла   Белякова   \n",
       "4     1004   68        NaN       Новокузнецк    Татьяна   Авдеенко   \n",
       "5     1005   67        NaN  Набережные Челны   Афанасий     Горлов   \n",
       "6     1006   21        NaN         Ульяновск     Леонид   Ермолаев   \n",
       "7     1007   65        NaN            Москва        Юна   Березина   \n",
       "8     1008   63        NaN         Челябинск     Рустэм  Пономарёв   \n",
       "9     1009   24        NaN             Пермь   Василиса    Блинова   \n",
       "\n",
       "     reg_date tariff  \n",
       "0  2018-05-25  ultra  \n",
       "1  2018-11-01  smart  \n",
       "2  2018-06-17  smart  \n",
       "3  2018-08-17  ultra  \n",
       "4  2018-05-14  ultra  \n",
       "5  2018-01-25  smart  \n",
       "6  2018-02-26  smart  \n",
       "7  2018-04-19  smart  \n",
       "8  2018-12-19  smart  \n",
       "9  2018-03-22  smart  "
      ]
     },
     "metadata": {},
     "output_type": "display_data"
    },
    {
     "data": {
      "text/plain": [
       "(500, 8)"
      ]
     },
     "metadata": {},
     "output_type": "display_data"
    },
    {
     "data": {
      "text/html": [
       "<div>\n",
       "<style scoped>\n",
       "    .dataframe tbody tr th:only-of-type {\n",
       "        vertical-align: middle;\n",
       "    }\n",
       "\n",
       "    .dataframe tbody tr th {\n",
       "        vertical-align: top;\n",
       "    }\n",
       "\n",
       "    .dataframe thead th {\n",
       "        text-align: right;\n",
       "    }\n",
       "</style>\n",
       "<table border=\"1\" class=\"dataframe\">\n",
       "  <thead>\n",
       "    <tr style=\"text-align: right;\">\n",
       "      <th></th>\n",
       "      <th>user_id</th>\n",
       "      <th>age</th>\n",
       "    </tr>\n",
       "  </thead>\n",
       "  <tbody>\n",
       "    <tr>\n",
       "      <th>count</th>\n",
       "      <td>500.00</td>\n",
       "      <td>500.00</td>\n",
       "    </tr>\n",
       "    <tr>\n",
       "      <th>mean</th>\n",
       "      <td>1,249.50</td>\n",
       "      <td>46.59</td>\n",
       "    </tr>\n",
       "    <tr>\n",
       "      <th>std</th>\n",
       "      <td>144.48</td>\n",
       "      <td>16.67</td>\n",
       "    </tr>\n",
       "    <tr>\n",
       "      <th>min</th>\n",
       "      <td>1,000.00</td>\n",
       "      <td>18.00</td>\n",
       "    </tr>\n",
       "    <tr>\n",
       "      <th>25%</th>\n",
       "      <td>1,124.75</td>\n",
       "      <td>32.00</td>\n",
       "    </tr>\n",
       "    <tr>\n",
       "      <th>50%</th>\n",
       "      <td>1,249.50</td>\n",
       "      <td>46.00</td>\n",
       "    </tr>\n",
       "    <tr>\n",
       "      <th>75%</th>\n",
       "      <td>1,374.25</td>\n",
       "      <td>62.00</td>\n",
       "    </tr>\n",
       "    <tr>\n",
       "      <th>max</th>\n",
       "      <td>1,499.00</td>\n",
       "      <td>75.00</td>\n",
       "    </tr>\n",
       "  </tbody>\n",
       "</table>\n",
       "</div>"
      ],
      "text/plain": [
       "       user_id    age\n",
       "count   500.00 500.00\n",
       "mean  1,249.50  46.59\n",
       "std     144.48  16.67\n",
       "min   1,000.00  18.00\n",
       "25%   1,124.75  32.00\n",
       "50%   1,249.50  46.00\n",
       "75%   1,374.25  62.00\n",
       "max   1,499.00  75.00"
      ]
     },
     "metadata": {},
     "output_type": "display_data"
    },
    {
     "data": {
      "text/plain": [
       "Index(['user_id', 'age', 'churn_date', 'city', 'first_name', 'last_name',\n",
       "       'reg_date', 'tariff'],\n",
       "      dtype='object')"
      ]
     },
     "metadata": {},
     "output_type": "display_data"
    },
    {
     "data": {
      "text/plain": [
       "user_id             1499\n",
       "age                   75\n",
       "city           Ярославль\n",
       "first_name           Яна\n",
       "last_name          Яшина\n",
       "reg_date      2018-12-31\n",
       "tariff             ultra\n",
       "dtype: object"
      ]
     },
     "metadata": {},
     "output_type": "display_data"
    },
    {
     "data": {
      "text/plain": [
       "user_id              1000\n",
       "age                    18\n",
       "city          Архангельск\n",
       "first_name      Авксентий\n",
       "last_name          Ёлчина\n",
       "reg_date       2018-01-01\n",
       "tariff              smart\n",
       "dtype: object"
      ]
     },
     "metadata": {},
     "output_type": "display_data"
    }
   ],
   "source": [
    "d_u = pd.read_csv('users.csv')\n",
    "\n",
    "counts(d_u)"
   ]
  },
  {
   "cell_type": "code",
   "execution_count": 23,
   "metadata": {},
   "outputs": [
    {
     "name": "stdout",
     "output_type": "stream",
     "text": [
      "1000    1\n",
      "1003    1\n",
      "1004    1\n",
      "1005    1\n",
      "1006    1\n",
      "       ..\n",
      "1471    1\n",
      "1470    1\n",
      "1469    1\n",
      "1488    1\n",
      "1499    1\n",
      "Name: user_id, Length: 500, dtype: int64\n",
      "61     3\n",
      "57     4\n",
      "49     4\n",
      "38     5\n",
      "33     5\n",
      "34     5\n",
      "22     5\n",
      "72     5\n",
      "59     6\n",
      "54     6\n",
      "75     6\n",
      "18     6\n",
      "74     7\n",
      "25     7\n",
      "46     7\n",
      "35     7\n",
      "67     7\n",
      "43     7\n",
      "31     7\n",
      "32     7\n",
      "55     8\n",
      "62     8\n",
      "69     8\n",
      "44     8\n",
      "60     8\n",
      "30     9\n",
      "56     9\n",
      "20     9\n",
      "51     9\n",
      "28     9\n",
      "68     9\n",
      "24     9\n",
      "48     9\n",
      "19     9\n",
      "65     9\n",
      "50     9\n",
      "23     9\n",
      "66     9\n",
      "27     9\n",
      "45    10\n",
      "41    10\n",
      "70    10\n",
      "58    10\n",
      "36    10\n",
      "52    10\n",
      "47    11\n",
      "26    11\n",
      "39    11\n",
      "29    11\n",
      "37    11\n",
      "40    12\n",
      "21    12\n",
      "73    12\n",
      "71    13\n",
      "64    13\n",
      "63    13\n",
      "42    14\n",
      "53    14\n",
      "Name: age, dtype: int64\n",
      "2018-12-24    1\n",
      "2018-12-11    1\n",
      "2018-12-26    1\n",
      "2018-08-31    1\n",
      "2018-12-23    1\n",
      "2018-11-07    1\n",
      "2018-12-16    1\n",
      "2018-12-20    1\n",
      "2018-11-30    1\n",
      "2018-12-18    1\n",
      "2018-09-02    1\n",
      "2018-10-04    1\n",
      "2018-08-17    1\n",
      "2018-11-22    1\n",
      "2018-09-26    1\n",
      "2018-11-21    1\n",
      "2018-10-25    1\n",
      "2018-12-25    1\n",
      "2018-11-13    1\n",
      "2018-09-27    1\n",
      "2018-10-05    1\n",
      "2018-10-27    1\n",
      "2018-11-16    1\n",
      "2018-11-27    1\n",
      "2018-11-26    1\n",
      "2018-10-28    1\n",
      "2018-12-30    1\n",
      "2018-12-14    1\n",
      "2018-12-21    2\n",
      "2018-12-09    2\n",
      "2018-10-14    2\n",
      "2018-10-03    2\n",
      "2018-12-03    2\n",
      "Name: churn_date, dtype: int64\n",
      "Подольск            1\n",
      "Архангельск         1\n",
      "Химки               1\n",
      "Нижневартовск       1\n",
      "Иваново             1\n",
      "                   ..\n",
      "Казань             14\n",
      "Омск               14\n",
      "Новосибирск        16\n",
      "Санкт-Петербург    39\n",
      "Москва             99\n",
      "Name: city, Length: 76, dtype: int64\n",
      "Трифон       1\n",
      "Ангелина     1\n",
      "Ростислав    1\n",
      "Леонтий      1\n",
      "Нателла      1\n",
      "            ..\n",
      "Клавдия      4\n",
      "Габриель     4\n",
      "Пётр         5\n",
      "Леонид       5\n",
      "Радим        6\n",
      "Name: first_name, Length: 246, dtype: int64\n",
      "Абрашина      1\n",
      "Мельникова    1\n",
      "Антипов       1\n",
      "Бородин       1\n",
      "Арсенкова     1\n",
      "             ..\n",
      "Соловьев      3\n",
      "Булгаков      3\n",
      "Аркадьев      3\n",
      "Березина      3\n",
      "Андреенко     5\n",
      "Name: last_name, Length: 419, dtype: int64\n",
      "2018-04-25    1\n",
      "2018-08-09    1\n",
      "2018-05-14    1\n",
      "2018-04-06    1\n",
      "2018-02-11    1\n",
      "             ..\n",
      "2018-01-04    5\n",
      "2018-04-03    5\n",
      "2018-10-05    5\n",
      "2018-11-16    5\n",
      "2018-05-28    8\n",
      "Name: reg_date, Length: 270, dtype: int64\n",
      "ultra    149\n",
      "smart    351\n",
      "Name: tariff, dtype: int64\n"
     ]
    },
    {
     "data": {
      "text/plain": [
       "array(['Краснодар', 'Москва', 'Стерлитамак', 'Новокузнецк',\n",
       "       'Набережные Челны', 'Ульяновск', 'Челябинск', 'Пермь', 'Тюмень',\n",
       "       'Самара', 'Санкт-Петербург', 'Иваново', 'Чебоксары', 'Омск', 'Уфа',\n",
       "       'Томск', 'Чита', 'Мурманск', 'Петрозаводск', 'Тверь',\n",
       "       'Екатеринбург', 'Махачкала', 'Вологда', 'Череповец', 'Ярославль',\n",
       "       'Сочи', 'Хабаровск', 'Ставрополь', 'Рязань', 'Улан-Удэ', 'Тула',\n",
       "       'Саратов', 'Ростов-на-Дону', 'Казань', 'Иркутск', 'Курск',\n",
       "       'Калуга', 'Якутск', 'Астрахань', 'Химки', 'Владикавказ',\n",
       "       'Волгоград', 'Саранск', 'Ижевск', 'Новосибирск', 'Брянск',\n",
       "       'Тольятти', 'Нижний Тагил', 'Орёл', 'Белгород', 'Воронеж',\n",
       "       'Волжский', 'Курган', 'Барнаул', 'Красноярск', 'Архангельск',\n",
       "       'Липецк', 'Кемерово', 'Киров', 'Сургут', 'Пенза', 'Магнитогорск',\n",
       "       'Нижний Новгород', 'Кострома', 'Владивосток', 'Тамбов', 'Балашиха',\n",
       "       'Севастополь', 'Калининград', 'Оренбург', 'Смоленск',\n",
       "       'Нижневартовск', 'Владимир', 'Новороссийск', 'Грозный', 'Подольск'],\n",
       "      dtype=object)"
      ]
     },
     "metadata": {},
     "output_type": "display_data"
    }
   ],
   "source": [
    "#просмотр уникальных значений по частоте встречаемости.\n",
    "for value in d_u:\n",
    "    print(d_u[value].value_counts().sort_values())\n",
    "#проверка на наличие неявных дубликатов. Данные чистые, можно будет в дальнейшем сделать тест по данному столбцу.\n",
    "display(d_u['city'].unique())"
   ]
  },
  {
   "cell_type": "markdown",
   "metadata": {},
   "source": [
    "<dl>На первый взгляд исследумые данные чистые от случайных ошибок или опечаток. Даты в пределах достоверности, потраченные минуты разговора и использованные услуги также кажутся достоверными. Возраст пользователей также соответствует ожиданию: начинается с 18 лет, хотя операторы и могут продавать сим-карты несовершеннолетним, но делает это с опеределнными оговорками и чаще все-таки они регистрируются на их родителей.</dl>\n",
    "<dl>Единственное, что упущено, так это формат даты, изменение которого на корректный упростит нам дальнейшую обработку данных. </dl>\n",
    "   <dl>Пустые значения в \"churn_date\" логично объясняются тем, что абонент продолжает пользоваться тарифом, да и для наших целей заполненность данного куска таблицы не первостепенно.</dl>\n",
    "<dl>Много \"0\" значений, которые появились в следствии неиспользованных услуг, когда пользователь просто не применял все привелегии своего тарифа или не успел это сделать на дату отчета. Часто бывает, что, к примеру, пожилые люди не пользуются включенным в тариф интеренетом. СМС же давно уступили свое место мессенджерам у младшего поколения и также остается зачастую неиспользованными. Отдельно стоит выделить категорию не принятых звонков, которые оператор фиксирует и отмечает 0. </dl>\n",
    "<dl>Учитывае все эти моменты вопрос большого количества 0 в данных можно с легкой душой отпустить.</dl>"
   ]
  },
  {
   "cell_type": "markdown",
   "metadata": {},
   "source": [
    "### Замена типа данных. Создание ключевого столбца.\n"
   ]
  },
  {
   "cell_type": "code",
   "execution_count": 24,
   "metadata": {
    "scrolled": true
   },
   "outputs": [],
   "source": [
    "#собственная функция для замены типа данных на временный.\n",
    "def date_time(series):\n",
    "    return pd.to_datetime(series, format='%Y-%m-%d')\n",
    "    \n",
    "#заменяем типы данных в столбцах, применяя функицю.\n",
    "d_c['call_date'] = d_c['call_date'].apply(date_time)\n",
    "d_u['reg_date'] = d_u['reg_date'].apply(date_time)\n",
    "d_m['message_date'] = d_m['message_date'].apply(date_time)\n",
    "d_u['churn_date'] = d_u['churn_date'].apply(date_time)\n",
    "d_i['session_date'] = d_i['session_date'].apply(date_time)\n",
    "\n",
    "#создаем новый столбец с месяцем в каждом дф.\n",
    "d_c['month'] = pd.DatetimeIndex(d_c['call_date']).month \n",
    "\n",
    "d_i['month'] = pd.DatetimeIndex(d_i['session_date']).month \n",
    "\n",
    "d_u['month'] = pd.DatetimeIndex(d_u['reg_date']).month \n",
    "\n",
    "d_m['month'] = pd.DatetimeIndex(d_m['message_date']).month \n",
    "\n",
    "d_u['end_month'] = pd.DatetimeIndex(d_u['churn_date']).month \n",
    "\n",
    "\n",
    "#проверка\n",
    "#d_u.info()\n",
    "    \n",
    "#d_c.info()\n",
    "\n",
    "#d_i.info()\n",
    "\n",
    "#d_m.info()"
   ]
  },
  {
   "cell_type": "markdown",
   "metadata": {},
   "source": [
    "<dl>Приведение типа данных к временному в пандасе позволило нам создать общий, а точнее ключевой столбец с месяцем для всех исходных таблиц для нашего исследования. Вторым ключевым столбцом является ID пользователя, который также мелькает в каждой таблице. </dl>\n",
    "    \n",
    "    "
   ]
  },
  {
   "cell_type": "markdown",
   "metadata": {},
   "source": [
    "### Агрегирование таблиц"
   ]
  },
  {
   "cell_type": "code",
   "execution_count": 25,
   "metadata": {},
   "outputs": [
    {
     "data": {
      "text/html": [
       "<div>\n",
       "<style scoped>\n",
       "    .dataframe tbody tr th:only-of-type {\n",
       "        vertical-align: middle;\n",
       "    }\n",
       "\n",
       "    .dataframe tbody tr th {\n",
       "        vertical-align: top;\n",
       "    }\n",
       "\n",
       "    .dataframe thead th {\n",
       "        text-align: right;\n",
       "    }\n",
       "</style>\n",
       "<table border=\"1\" class=\"dataframe\">\n",
       "  <thead>\n",
       "    <tr style=\"text-align: right;\">\n",
       "      <th></th>\n",
       "      <th></th>\n",
       "      <th>calls_duration</th>\n",
       "      <th>calls_count</th>\n",
       "    </tr>\n",
       "    <tr>\n",
       "      <th>user_id</th>\n",
       "      <th>month</th>\n",
       "      <th></th>\n",
       "      <th></th>\n",
       "    </tr>\n",
       "  </thead>\n",
       "  <tbody>\n",
       "    <tr>\n",
       "      <th rowspan=\"5\" valign=\"top\">1000</th>\n",
       "      <th>5</th>\n",
       "      <td>159.00</td>\n",
       "      <td>22</td>\n",
       "    </tr>\n",
       "    <tr>\n",
       "      <th>6</th>\n",
       "      <td>172.00</td>\n",
       "      <td>43</td>\n",
       "    </tr>\n",
       "    <tr>\n",
       "      <th>7</th>\n",
       "      <td>340.00</td>\n",
       "      <td>47</td>\n",
       "    </tr>\n",
       "    <tr>\n",
       "      <th>8</th>\n",
       "      <td>408.00</td>\n",
       "      <td>52</td>\n",
       "    </tr>\n",
       "    <tr>\n",
       "      <th>9</th>\n",
       "      <td>466.00</td>\n",
       "      <td>58</td>\n",
       "    </tr>\n",
       "    <tr>\n",
       "      <th>...</th>\n",
       "      <th>...</th>\n",
       "      <td>...</td>\n",
       "      <td>...</td>\n",
       "    </tr>\n",
       "    <tr>\n",
       "      <th>1498</th>\n",
       "      <th>10</th>\n",
       "      <td>247.00</td>\n",
       "      <td>41</td>\n",
       "    </tr>\n",
       "    <tr>\n",
       "      <th rowspan=\"4\" valign=\"top\">1499</th>\n",
       "      <th>9</th>\n",
       "      <td>70.00</td>\n",
       "      <td>9</td>\n",
       "    </tr>\n",
       "    <tr>\n",
       "      <th>10</th>\n",
       "      <td>449.00</td>\n",
       "      <td>68</td>\n",
       "    </tr>\n",
       "    <tr>\n",
       "      <th>11</th>\n",
       "      <td>612.00</td>\n",
       "      <td>74</td>\n",
       "    </tr>\n",
       "    <tr>\n",
       "      <th>12</th>\n",
       "      <td>492.00</td>\n",
       "      <td>69</td>\n",
       "    </tr>\n",
       "  </tbody>\n",
       "</table>\n",
       "<p>3174 rows × 2 columns</p>\n",
       "</div>"
      ],
      "text/plain": [
       "               calls_duration  calls_count\n",
       "user_id month                             \n",
       "1000    5              159.00           22\n",
       "        6              172.00           43\n",
       "        7              340.00           47\n",
       "        8              408.00           52\n",
       "        9              466.00           58\n",
       "...                       ...          ...\n",
       "1498    10             247.00           41\n",
       "1499    9               70.00            9\n",
       "        10             449.00           68\n",
       "        11             612.00           74\n",
       "        12             492.00           69\n",
       "\n",
       "[3174 rows x 2 columns]"
      ]
     },
     "metadata": {},
     "output_type": "display_data"
    },
    {
     "data": {
      "text/html": [
       "<div>\n",
       "<style scoped>\n",
       "    .dataframe tbody tr th:only-of-type {\n",
       "        vertical-align: middle;\n",
       "    }\n",
       "\n",
       "    .dataframe tbody tr th {\n",
       "        vertical-align: top;\n",
       "    }\n",
       "\n",
       "    .dataframe thead th {\n",
       "        text-align: right;\n",
       "    }\n",
       "</style>\n",
       "<table border=\"1\" class=\"dataframe\">\n",
       "  <thead>\n",
       "    <tr style=\"text-align: right;\">\n",
       "      <th></th>\n",
       "      <th></th>\n",
       "      <th>message_sum</th>\n",
       "    </tr>\n",
       "    <tr>\n",
       "      <th>user_id</th>\n",
       "      <th>month</th>\n",
       "      <th></th>\n",
       "    </tr>\n",
       "  </thead>\n",
       "  <tbody>\n",
       "    <tr>\n",
       "      <th rowspan=\"5\" valign=\"top\">1000</th>\n",
       "      <th>5</th>\n",
       "      <td>22</td>\n",
       "    </tr>\n",
       "    <tr>\n",
       "      <th>6</th>\n",
       "      <td>60</td>\n",
       "    </tr>\n",
       "    <tr>\n",
       "      <th>7</th>\n",
       "      <td>75</td>\n",
       "    </tr>\n",
       "    <tr>\n",
       "      <th>8</th>\n",
       "      <td>81</td>\n",
       "    </tr>\n",
       "    <tr>\n",
       "      <th>9</th>\n",
       "      <td>57</td>\n",
       "    </tr>\n",
       "    <tr>\n",
       "      <th>...</th>\n",
       "      <th>...</th>\n",
       "      <td>...</td>\n",
       "    </tr>\n",
       "    <tr>\n",
       "      <th>1498</th>\n",
       "      <th>10</th>\n",
       "      <td>42</td>\n",
       "    </tr>\n",
       "    <tr>\n",
       "      <th rowspan=\"4\" valign=\"top\">1499</th>\n",
       "      <th>9</th>\n",
       "      <td>11</td>\n",
       "    </tr>\n",
       "    <tr>\n",
       "      <th>10</th>\n",
       "      <td>48</td>\n",
       "    </tr>\n",
       "    <tr>\n",
       "      <th>11</th>\n",
       "      <td>59</td>\n",
       "    </tr>\n",
       "    <tr>\n",
       "      <th>12</th>\n",
       "      <td>66</td>\n",
       "    </tr>\n",
       "  </tbody>\n",
       "</table>\n",
       "<p>2717 rows × 1 columns</p>\n",
       "</div>"
      ],
      "text/plain": [
       "               message_sum\n",
       "user_id month             \n",
       "1000    5               22\n",
       "        6               60\n",
       "        7               75\n",
       "        8               81\n",
       "        9               57\n",
       "...                    ...\n",
       "1498    10              42\n",
       "1499    9               11\n",
       "        10              48\n",
       "        11              59\n",
       "        12              66\n",
       "\n",
       "[2717 rows x 1 columns]"
      ]
     },
     "metadata": {},
     "output_type": "display_data"
    },
    {
     "data": {
      "text/html": [
       "<div>\n",
       "<style scoped>\n",
       "    .dataframe tbody tr th:only-of-type {\n",
       "        vertical-align: middle;\n",
       "    }\n",
       "\n",
       "    .dataframe tbody tr th {\n",
       "        vertical-align: top;\n",
       "    }\n",
       "\n",
       "    .dataframe thead th {\n",
       "        text-align: right;\n",
       "    }\n",
       "</style>\n",
       "<table border=\"1\" class=\"dataframe\">\n",
       "  <thead>\n",
       "    <tr style=\"text-align: right;\">\n",
       "      <th></th>\n",
       "      <th></th>\n",
       "      <th>mb_sum</th>\n",
       "      <th>gb_sum</th>\n",
       "    </tr>\n",
       "    <tr>\n",
       "      <th>user_id</th>\n",
       "      <th>month</th>\n",
       "      <th></th>\n",
       "      <th></th>\n",
       "    </tr>\n",
       "  </thead>\n",
       "  <tbody>\n",
       "    <tr>\n",
       "      <th rowspan=\"5\" valign=\"top\">1000</th>\n",
       "      <th>5</th>\n",
       "      <td>2,253.49</td>\n",
       "      <td>3.00</td>\n",
       "    </tr>\n",
       "    <tr>\n",
       "      <th>6</th>\n",
       "      <td>23,233.77</td>\n",
       "      <td>23.00</td>\n",
       "    </tr>\n",
       "    <tr>\n",
       "      <th>7</th>\n",
       "      <td>14,003.64</td>\n",
       "      <td>14.00</td>\n",
       "    </tr>\n",
       "    <tr>\n",
       "      <th>8</th>\n",
       "      <td>14,055.93</td>\n",
       "      <td>14.00</td>\n",
       "    </tr>\n",
       "    <tr>\n",
       "      <th>9</th>\n",
       "      <td>14,568.91</td>\n",
       "      <td>15.00</td>\n",
       "    </tr>\n",
       "    <tr>\n",
       "      <th>...</th>\n",
       "      <th>...</th>\n",
       "      <td>...</td>\n",
       "      <td>...</td>\n",
       "    </tr>\n",
       "    <tr>\n",
       "      <th>1498</th>\n",
       "      <th>10</th>\n",
       "      <td>20,579.36</td>\n",
       "      <td>21.00</td>\n",
       "    </tr>\n",
       "    <tr>\n",
       "      <th rowspan=\"4\" valign=\"top\">1499</th>\n",
       "      <th>9</th>\n",
       "      <td>1,845.75</td>\n",
       "      <td>2.00</td>\n",
       "    </tr>\n",
       "    <tr>\n",
       "      <th>10</th>\n",
       "      <td>17,788.51</td>\n",
       "      <td>18.00</td>\n",
       "    </tr>\n",
       "    <tr>\n",
       "      <th>11</th>\n",
       "      <td>17,963.31</td>\n",
       "      <td>18.00</td>\n",
       "    </tr>\n",
       "    <tr>\n",
       "      <th>12</th>\n",
       "      <td>13,055.58</td>\n",
       "      <td>13.00</td>\n",
       "    </tr>\n",
       "  </tbody>\n",
       "</table>\n",
       "<p>3203 rows × 2 columns</p>\n",
       "</div>"
      ],
      "text/plain": [
       "                 mb_sum  gb_sum\n",
       "user_id month                  \n",
       "1000    5      2,253.49    3.00\n",
       "        6     23,233.77   23.00\n",
       "        7     14,003.64   14.00\n",
       "        8     14,055.93   14.00\n",
       "        9     14,568.91   15.00\n",
       "...                 ...     ...\n",
       "1498    10    20,579.36   21.00\n",
       "1499    9      1,845.75    2.00\n",
       "        10    17,788.51   18.00\n",
       "        11    17,963.31   18.00\n",
       "        12    13,055.58   13.00\n",
       "\n",
       "[3203 rows x 2 columns]"
      ]
     },
     "metadata": {},
     "output_type": "display_data"
    },
    {
     "data": {
      "text/html": [
       "<div>\n",
       "<style scoped>\n",
       "    .dataframe tbody tr th:only-of-type {\n",
       "        vertical-align: middle;\n",
       "    }\n",
       "\n",
       "    .dataframe tbody tr th {\n",
       "        vertical-align: top;\n",
       "    }\n",
       "\n",
       "    .dataframe thead th {\n",
       "        text-align: right;\n",
       "    }\n",
       "</style>\n",
       "<table border=\"1\" class=\"dataframe\">\n",
       "  <thead>\n",
       "    <tr style=\"text-align: right;\">\n",
       "      <th></th>\n",
       "      <th>messages_included</th>\n",
       "      <th>mb_per_month_included</th>\n",
       "      <th>minutes_included</th>\n",
       "      <th>rub_monthly_fee</th>\n",
       "      <th>rub_per_gb</th>\n",
       "      <th>rub_per_message</th>\n",
       "      <th>rub_per_minute</th>\n",
       "      <th>tariff</th>\n",
       "    </tr>\n",
       "  </thead>\n",
       "  <tbody>\n",
       "    <tr>\n",
       "      <th>0</th>\n",
       "      <td>50</td>\n",
       "      <td>15360</td>\n",
       "      <td>500</td>\n",
       "      <td>550</td>\n",
       "      <td>200</td>\n",
       "      <td>3</td>\n",
       "      <td>3</td>\n",
       "      <td>smart</td>\n",
       "    </tr>\n",
       "    <tr>\n",
       "      <th>1</th>\n",
       "      <td>1000</td>\n",
       "      <td>30720</td>\n",
       "      <td>3000</td>\n",
       "      <td>1950</td>\n",
       "      <td>150</td>\n",
       "      <td>1</td>\n",
       "      <td>1</td>\n",
       "      <td>ultra</td>\n",
       "    </tr>\n",
       "  </tbody>\n",
       "</table>\n",
       "</div>"
      ],
      "text/plain": [
       "   messages_included  mb_per_month_included  minutes_included  \\\n",
       "0                 50                  15360               500   \n",
       "1               1000                  30720              3000   \n",
       "\n",
       "   rub_monthly_fee  rub_per_gb  rub_per_message  rub_per_minute tariff  \n",
       "0              550         200                3               3  smart  \n",
       "1             1950         150                1               1  ultra  "
      ]
     },
     "metadata": {},
     "output_type": "display_data"
    },
    {
     "data": {
      "text/html": [
       "<div>\n",
       "<style scoped>\n",
       "    .dataframe tbody tr th:only-of-type {\n",
       "        vertical-align: middle;\n",
       "    }\n",
       "\n",
       "    .dataframe tbody tr th {\n",
       "        vertical-align: top;\n",
       "    }\n",
       "\n",
       "    .dataframe thead th {\n",
       "        text-align: right;\n",
       "    }\n",
       "</style>\n",
       "<table border=\"1\" class=\"dataframe\">\n",
       "  <thead>\n",
       "    <tr style=\"text-align: right;\">\n",
       "      <th></th>\n",
       "      <th>user_id</th>\n",
       "      <th>calls_duration</th>\n",
       "      <th>calls_count</th>\n",
       "      <th>message_sum</th>\n",
       "      <th>mb_sum</th>\n",
       "      <th>gb_sum</th>\n",
       "      <th>age</th>\n",
       "      <th>churn_date</th>\n",
       "      <th>city</th>\n",
       "      <th>first_name</th>\n",
       "      <th>...</th>\n",
       "      <th>tariff</th>\n",
       "      <th>month</th>\n",
       "      <th>end_month</th>\n",
       "      <th>messages_included</th>\n",
       "      <th>mb_per_month_included</th>\n",
       "      <th>minutes_included</th>\n",
       "      <th>rub_monthly_fee</th>\n",
       "      <th>rub_per_gb</th>\n",
       "      <th>rub_per_message</th>\n",
       "      <th>rub_per_minute</th>\n",
       "    </tr>\n",
       "  </thead>\n",
       "  <tbody>\n",
       "    <tr>\n",
       "      <th>0</th>\n",
       "      <td>1000</td>\n",
       "      <td>159.00</td>\n",
       "      <td>22.00</td>\n",
       "      <td>22.00</td>\n",
       "      <td>2,253.49</td>\n",
       "      <td>3.00</td>\n",
       "      <td>52</td>\n",
       "      <td>NaT</td>\n",
       "      <td>Краснодар</td>\n",
       "      <td>Рафаил</td>\n",
       "      <td>...</td>\n",
       "      <td>ultra</td>\n",
       "      <td>5</td>\n",
       "      <td>NaN</td>\n",
       "      <td>1000</td>\n",
       "      <td>30720</td>\n",
       "      <td>3000</td>\n",
       "      <td>1950</td>\n",
       "      <td>150</td>\n",
       "      <td>1</td>\n",
       "      <td>1</td>\n",
       "    </tr>\n",
       "    <tr>\n",
       "      <th>1</th>\n",
       "      <td>1000</td>\n",
       "      <td>172.00</td>\n",
       "      <td>43.00</td>\n",
       "      <td>60.00</td>\n",
       "      <td>23,233.77</td>\n",
       "      <td>23.00</td>\n",
       "      <td>52</td>\n",
       "      <td>NaT</td>\n",
       "      <td>Краснодар</td>\n",
       "      <td>Рафаил</td>\n",
       "      <td>...</td>\n",
       "      <td>ultra</td>\n",
       "      <td>5</td>\n",
       "      <td>NaN</td>\n",
       "      <td>1000</td>\n",
       "      <td>30720</td>\n",
       "      <td>3000</td>\n",
       "      <td>1950</td>\n",
       "      <td>150</td>\n",
       "      <td>1</td>\n",
       "      <td>1</td>\n",
       "    </tr>\n",
       "    <tr>\n",
       "      <th>2</th>\n",
       "      <td>1000</td>\n",
       "      <td>340.00</td>\n",
       "      <td>47.00</td>\n",
       "      <td>75.00</td>\n",
       "      <td>14,003.64</td>\n",
       "      <td>14.00</td>\n",
       "      <td>52</td>\n",
       "      <td>NaT</td>\n",
       "      <td>Краснодар</td>\n",
       "      <td>Рафаил</td>\n",
       "      <td>...</td>\n",
       "      <td>ultra</td>\n",
       "      <td>5</td>\n",
       "      <td>NaN</td>\n",
       "      <td>1000</td>\n",
       "      <td>30720</td>\n",
       "      <td>3000</td>\n",
       "      <td>1950</td>\n",
       "      <td>150</td>\n",
       "      <td>1</td>\n",
       "      <td>1</td>\n",
       "    </tr>\n",
       "    <tr>\n",
       "      <th>3</th>\n",
       "      <td>1000</td>\n",
       "      <td>408.00</td>\n",
       "      <td>52.00</td>\n",
       "      <td>81.00</td>\n",
       "      <td>14,055.93</td>\n",
       "      <td>14.00</td>\n",
       "      <td>52</td>\n",
       "      <td>NaT</td>\n",
       "      <td>Краснодар</td>\n",
       "      <td>Рафаил</td>\n",
       "      <td>...</td>\n",
       "      <td>ultra</td>\n",
       "      <td>5</td>\n",
       "      <td>NaN</td>\n",
       "      <td>1000</td>\n",
       "      <td>30720</td>\n",
       "      <td>3000</td>\n",
       "      <td>1950</td>\n",
       "      <td>150</td>\n",
       "      <td>1</td>\n",
       "      <td>1</td>\n",
       "    </tr>\n",
       "    <tr>\n",
       "      <th>4</th>\n",
       "      <td>1000</td>\n",
       "      <td>466.00</td>\n",
       "      <td>58.00</td>\n",
       "      <td>57.00</td>\n",
       "      <td>14,568.91</td>\n",
       "      <td>15.00</td>\n",
       "      <td>52</td>\n",
       "      <td>NaT</td>\n",
       "      <td>Краснодар</td>\n",
       "      <td>Рафаил</td>\n",
       "      <td>...</td>\n",
       "      <td>ultra</td>\n",
       "      <td>5</td>\n",
       "      <td>NaN</td>\n",
       "      <td>1000</td>\n",
       "      <td>30720</td>\n",
       "      <td>3000</td>\n",
       "      <td>1950</td>\n",
       "      <td>150</td>\n",
       "      <td>1</td>\n",
       "      <td>1</td>\n",
       "    </tr>\n",
       "    <tr>\n",
       "      <th>...</th>\n",
       "      <td>...</td>\n",
       "      <td>...</td>\n",
       "      <td>...</td>\n",
       "      <td>...</td>\n",
       "      <td>...</td>\n",
       "      <td>...</td>\n",
       "      <td>...</td>\n",
       "      <td>...</td>\n",
       "      <td>...</td>\n",
       "      <td>...</td>\n",
       "      <td>...</td>\n",
       "      <td>...</td>\n",
       "      <td>...</td>\n",
       "      <td>...</td>\n",
       "      <td>...</td>\n",
       "      <td>...</td>\n",
       "      <td>...</td>\n",
       "      <td>...</td>\n",
       "      <td>...</td>\n",
       "      <td>...</td>\n",
       "      <td>...</td>\n",
       "    </tr>\n",
       "    <tr>\n",
       "      <th>3211</th>\n",
       "      <td>1489</td>\n",
       "      <td>0.00</td>\n",
       "      <td>0.00</td>\n",
       "      <td>32.00</td>\n",
       "      <td>17,206.30</td>\n",
       "      <td>17.00</td>\n",
       "      <td>35</td>\n",
       "      <td>NaT</td>\n",
       "      <td>Санкт-Петербург</td>\n",
       "      <td>Павел</td>\n",
       "      <td>...</td>\n",
       "      <td>smart</td>\n",
       "      <td>8</td>\n",
       "      <td>NaN</td>\n",
       "      <td>50</td>\n",
       "      <td>15360</td>\n",
       "      <td>500</td>\n",
       "      <td>550</td>\n",
       "      <td>200</td>\n",
       "      <td>3</td>\n",
       "      <td>3</td>\n",
       "    </tr>\n",
       "    <tr>\n",
       "      <th>3212</th>\n",
       "      <td>1489</td>\n",
       "      <td>0.00</td>\n",
       "      <td>0.00</td>\n",
       "      <td>21.00</td>\n",
       "      <td>19,559.44</td>\n",
       "      <td>20.00</td>\n",
       "      <td>35</td>\n",
       "      <td>NaT</td>\n",
       "      <td>Санкт-Петербург</td>\n",
       "      <td>Павел</td>\n",
       "      <td>...</td>\n",
       "      <td>smart</td>\n",
       "      <td>8</td>\n",
       "      <td>NaN</td>\n",
       "      <td>50</td>\n",
       "      <td>15360</td>\n",
       "      <td>500</td>\n",
       "      <td>550</td>\n",
       "      <td>200</td>\n",
       "      <td>3</td>\n",
       "      <td>3</td>\n",
       "    </tr>\n",
       "    <tr>\n",
       "      <th>3213</th>\n",
       "      <td>1489</td>\n",
       "      <td>0.00</td>\n",
       "      <td>0.00</td>\n",
       "      <td>20.00</td>\n",
       "      <td>17,491.56</td>\n",
       "      <td>18.00</td>\n",
       "      <td>35</td>\n",
       "      <td>NaT</td>\n",
       "      <td>Санкт-Петербург</td>\n",
       "      <td>Павел</td>\n",
       "      <td>...</td>\n",
       "      <td>smart</td>\n",
       "      <td>8</td>\n",
       "      <td>NaN</td>\n",
       "      <td>50</td>\n",
       "      <td>15360</td>\n",
       "      <td>500</td>\n",
       "      <td>550</td>\n",
       "      <td>200</td>\n",
       "      <td>3</td>\n",
       "      <td>3</td>\n",
       "    </tr>\n",
       "    <tr>\n",
       "      <th>3214</th>\n",
       "      <td>1489</td>\n",
       "      <td>0.00</td>\n",
       "      <td>0.00</td>\n",
       "      <td>35.00</td>\n",
       "      <td>17,322.51</td>\n",
       "      <td>17.00</td>\n",
       "      <td>35</td>\n",
       "      <td>NaT</td>\n",
       "      <td>Санкт-Петербург</td>\n",
       "      <td>Павел</td>\n",
       "      <td>...</td>\n",
       "      <td>smart</td>\n",
       "      <td>8</td>\n",
       "      <td>NaN</td>\n",
       "      <td>50</td>\n",
       "      <td>15360</td>\n",
       "      <td>500</td>\n",
       "      <td>550</td>\n",
       "      <td>200</td>\n",
       "      <td>3</td>\n",
       "      <td>3</td>\n",
       "    </tr>\n",
       "    <tr>\n",
       "      <th>3215</th>\n",
       "      <td>1371</td>\n",
       "      <td>NaN</td>\n",
       "      <td>NaN</td>\n",
       "      <td>NaN</td>\n",
       "      <td>NaN</td>\n",
       "      <td>NaN</td>\n",
       "      <td>50</td>\n",
       "      <td>2018-12-30</td>\n",
       "      <td>Омск</td>\n",
       "      <td>Ириней</td>\n",
       "      <td>...</td>\n",
       "      <td>smart</td>\n",
       "      <td>12</td>\n",
       "      <td>12.00</td>\n",
       "      <td>50</td>\n",
       "      <td>15360</td>\n",
       "      <td>500</td>\n",
       "      <td>550</td>\n",
       "      <td>200</td>\n",
       "      <td>3</td>\n",
       "      <td>3</td>\n",
       "    </tr>\n",
       "  </tbody>\n",
       "</table>\n",
       "<p>3216 rows × 22 columns</p>\n",
       "</div>"
      ],
      "text/plain": [
       "      user_id  calls_duration  calls_count  message_sum    mb_sum  gb_sum  \\\n",
       "0        1000          159.00        22.00        22.00  2,253.49    3.00   \n",
       "1        1000          172.00        43.00        60.00 23,233.77   23.00   \n",
       "2        1000          340.00        47.00        75.00 14,003.64   14.00   \n",
       "3        1000          408.00        52.00        81.00 14,055.93   14.00   \n",
       "4        1000          466.00        58.00        57.00 14,568.91   15.00   \n",
       "...       ...             ...          ...          ...       ...     ...   \n",
       "3211     1489            0.00         0.00        32.00 17,206.30   17.00   \n",
       "3212     1489            0.00         0.00        21.00 19,559.44   20.00   \n",
       "3213     1489            0.00         0.00        20.00 17,491.56   18.00   \n",
       "3214     1489            0.00         0.00        35.00 17,322.51   17.00   \n",
       "3215     1371             NaN          NaN          NaN       NaN     NaN   \n",
       "\n",
       "      age churn_date             city first_name  ... tariff month end_month  \\\n",
       "0      52        NaT        Краснодар     Рафаил  ...  ultra     5       NaN   \n",
       "1      52        NaT        Краснодар     Рафаил  ...  ultra     5       NaN   \n",
       "2      52        NaT        Краснодар     Рафаил  ...  ultra     5       NaN   \n",
       "3      52        NaT        Краснодар     Рафаил  ...  ultra     5       NaN   \n",
       "4      52        NaT        Краснодар     Рафаил  ...  ultra     5       NaN   \n",
       "...   ...        ...              ...        ...  ...    ...   ...       ...   \n",
       "3211   35        NaT  Санкт-Петербург      Павел  ...  smart     8       NaN   \n",
       "3212   35        NaT  Санкт-Петербург      Павел  ...  smart     8       NaN   \n",
       "3213   35        NaT  Санкт-Петербург      Павел  ...  smart     8       NaN   \n",
       "3214   35        NaT  Санкт-Петербург      Павел  ...  smart     8       NaN   \n",
       "3215   50 2018-12-30             Омск     Ириней  ...  smart    12     12.00   \n",
       "\n",
       "      messages_included  mb_per_month_included  minutes_included  \\\n",
       "0                  1000                  30720              3000   \n",
       "1                  1000                  30720              3000   \n",
       "2                  1000                  30720              3000   \n",
       "3                  1000                  30720              3000   \n",
       "4                  1000                  30720              3000   \n",
       "...                 ...                    ...               ...   \n",
       "3211                 50                  15360               500   \n",
       "3212                 50                  15360               500   \n",
       "3213                 50                  15360               500   \n",
       "3214                 50                  15360               500   \n",
       "3215                 50                  15360               500   \n",
       "\n",
       "      rub_monthly_fee  rub_per_gb  rub_per_message  rub_per_minute  \n",
       "0                1950         150                1               1  \n",
       "1                1950         150                1               1  \n",
       "2                1950         150                1               1  \n",
       "3                1950         150                1               1  \n",
       "4                1950         150                1               1  \n",
       "...               ...         ...              ...             ...  \n",
       "3211              550         200                3               3  \n",
       "3212              550         200                3               3  \n",
       "3213              550         200                3               3  \n",
       "3214              550         200                3               3  \n",
       "3215              550         200                3               3  \n",
       "\n",
       "[3216 rows x 22 columns]"
      ]
     },
     "metadata": {},
     "output_type": "display_data"
    },
    {
     "data": {
      "text/plain": [
       "0"
      ]
     },
     "metadata": {},
     "output_type": "display_data"
    },
    {
     "data": {
      "text/html": [
       "<div>\n",
       "<style scoped>\n",
       "    .dataframe tbody tr th:only-of-type {\n",
       "        vertical-align: middle;\n",
       "    }\n",
       "\n",
       "    .dataframe tbody tr th {\n",
       "        vertical-align: top;\n",
       "    }\n",
       "\n",
       "    .dataframe thead th {\n",
       "        text-align: right;\n",
       "    }\n",
       "</style>\n",
       "<table border=\"1\" class=\"dataframe\">\n",
       "  <thead>\n",
       "    <tr style=\"text-align: right;\">\n",
       "      <th></th>\n",
       "      <th>user_id</th>\n",
       "      <th>calls_duration</th>\n",
       "      <th>calls_count</th>\n",
       "      <th>message_sum</th>\n",
       "      <th>mb_sum</th>\n",
       "      <th>gb_sum</th>\n",
       "      <th>age</th>\n",
       "      <th>churn_date</th>\n",
       "      <th>city</th>\n",
       "      <th>first_name</th>\n",
       "      <th>...</th>\n",
       "      <th>month</th>\n",
       "      <th>end_month</th>\n",
       "      <th>messages_included</th>\n",
       "      <th>mb_per_month_included</th>\n",
       "      <th>minutes_included</th>\n",
       "      <th>rub_monthly_fee</th>\n",
       "      <th>rub_per_gb</th>\n",
       "      <th>rub_per_message</th>\n",
       "      <th>rub_per_minute</th>\n",
       "      <th>profit</th>\n",
       "    </tr>\n",
       "  </thead>\n",
       "  <tbody>\n",
       "    <tr>\n",
       "      <th>985</th>\n",
       "      <td>1128</td>\n",
       "      <td>NaN</td>\n",
       "      <td>NaN</td>\n",
       "      <td>NaN</td>\n",
       "      <td>NaN</td>\n",
       "      <td>NaN</td>\n",
       "      <td>51</td>\n",
       "      <td>2018-12-23</td>\n",
       "      <td>Волжский</td>\n",
       "      <td>Ксения</td>\n",
       "      <td>...</td>\n",
       "      <td>12</td>\n",
       "      <td>12.00</td>\n",
       "      <td>1000</td>\n",
       "      <td>30720</td>\n",
       "      <td>3000</td>\n",
       "      <td>1950</td>\n",
       "      <td>150</td>\n",
       "      <td>1</td>\n",
       "      <td>1</td>\n",
       "      <td>NaN</td>\n",
       "    </tr>\n",
       "    <tr>\n",
       "      <th>3215</th>\n",
       "      <td>1371</td>\n",
       "      <td>NaN</td>\n",
       "      <td>NaN</td>\n",
       "      <td>NaN</td>\n",
       "      <td>NaN</td>\n",
       "      <td>NaN</td>\n",
       "      <td>50</td>\n",
       "      <td>2018-12-30</td>\n",
       "      <td>Омск</td>\n",
       "      <td>Ириней</td>\n",
       "      <td>...</td>\n",
       "      <td>12</td>\n",
       "      <td>12.00</td>\n",
       "      <td>50</td>\n",
       "      <td>15360</td>\n",
       "      <td>500</td>\n",
       "      <td>550</td>\n",
       "      <td>200</td>\n",
       "      <td>3</td>\n",
       "      <td>3</td>\n",
       "      <td>NaN</td>\n",
       "    </tr>\n",
       "  </tbody>\n",
       "</table>\n",
       "<p>2 rows × 23 columns</p>\n",
       "</div>"
      ],
      "text/plain": [
       "      user_id  calls_duration  calls_count  message_sum  mb_sum  gb_sum  age  \\\n",
       "985      1128             NaN          NaN          NaN     NaN     NaN   51   \n",
       "3215     1371             NaN          NaN          NaN     NaN     NaN   50   \n",
       "\n",
       "     churn_date      city first_name  ... month end_month messages_included  \\\n",
       "985  2018-12-23  Волжский     Ксения  ...    12     12.00              1000   \n",
       "3215 2018-12-30      Омск     Ириней  ...    12     12.00                50   \n",
       "\n",
       "      mb_per_month_included  minutes_included  rub_monthly_fee  rub_per_gb  \\\n",
       "985                   30720              3000             1950         150   \n",
       "3215                  15360               500              550         200   \n",
       "\n",
       "      rub_per_message  rub_per_minute  profit  \n",
       "985                 1               1     NaN  \n",
       "3215                3               3     NaN  \n",
       "\n",
       "[2 rows x 23 columns]"
      ]
     },
     "metadata": {},
     "output_type": "display_data"
    },
    {
     "data": {
      "text/html": [
       "<div>\n",
       "<style scoped>\n",
       "    .dataframe tbody tr th:only-of-type {\n",
       "        vertical-align: middle;\n",
       "    }\n",
       "\n",
       "    .dataframe tbody tr th {\n",
       "        vertical-align: top;\n",
       "    }\n",
       "\n",
       "    .dataframe thead th {\n",
       "        text-align: right;\n",
       "    }\n",
       "</style>\n",
       "<table border=\"1\" class=\"dataframe\">\n",
       "  <thead>\n",
       "    <tr style=\"text-align: right;\">\n",
       "      <th></th>\n",
       "      <th>user_id</th>\n",
       "      <th>calls_duration</th>\n",
       "      <th>calls_count</th>\n",
       "      <th>message_sum</th>\n",
       "      <th>mb_sum</th>\n",
       "      <th>gb_sum</th>\n",
       "      <th>age</th>\n",
       "      <th>churn_date</th>\n",
       "      <th>city</th>\n",
       "      <th>first_name</th>\n",
       "      <th>...</th>\n",
       "      <th>month</th>\n",
       "      <th>end_month</th>\n",
       "      <th>messages_included</th>\n",
       "      <th>mb_per_month_included</th>\n",
       "      <th>minutes_included</th>\n",
       "      <th>rub_monthly_fee</th>\n",
       "      <th>rub_per_gb</th>\n",
       "      <th>rub_per_message</th>\n",
       "      <th>rub_per_minute</th>\n",
       "      <th>profit</th>\n",
       "    </tr>\n",
       "  </thead>\n",
       "  <tbody>\n",
       "  </tbody>\n",
       "</table>\n",
       "<p>0 rows × 23 columns</p>\n",
       "</div>"
      ],
      "text/plain": [
       "Empty DataFrame\n",
       "Columns: [user_id, calls_duration, calls_count, message_sum, mb_sum, gb_sum, age, churn_date, city, first_name, last_name, reg_date, tariff, month, end_month, messages_included, mb_per_month_included, minutes_included, rub_monthly_fee, rub_per_gb, rub_per_message, rub_per_minute, profit]\n",
       "Index: []\n",
       "\n",
       "[0 rows x 23 columns]"
      ]
     },
     "metadata": {},
     "output_type": "display_data"
    },
    {
     "data": {
      "text/html": [
       "<div>\n",
       "<style scoped>\n",
       "    .dataframe tbody tr th:only-of-type {\n",
       "        vertical-align: middle;\n",
       "    }\n",
       "\n",
       "    .dataframe tbody tr th {\n",
       "        vertical-align: top;\n",
       "    }\n",
       "\n",
       "    .dataframe thead th {\n",
       "        text-align: right;\n",
       "    }\n",
       "</style>\n",
       "<table border=\"1\" class=\"dataframe\">\n",
       "  <thead>\n",
       "    <tr style=\"text-align: right;\">\n",
       "      <th></th>\n",
       "      <th>user_id</th>\n",
       "      <th>calls_duration</th>\n",
       "      <th>calls_count</th>\n",
       "      <th>message_sum</th>\n",
       "      <th>mb_sum</th>\n",
       "      <th>gb_sum</th>\n",
       "      <th>age</th>\n",
       "      <th>churn_date</th>\n",
       "      <th>city</th>\n",
       "      <th>first_name</th>\n",
       "      <th>...</th>\n",
       "      <th>month</th>\n",
       "      <th>end_month</th>\n",
       "      <th>messages_included</th>\n",
       "      <th>mb_per_month_included</th>\n",
       "      <th>minutes_included</th>\n",
       "      <th>rub_monthly_fee</th>\n",
       "      <th>rub_per_gb</th>\n",
       "      <th>rub_per_message</th>\n",
       "      <th>rub_per_minute</th>\n",
       "      <th>profit</th>\n",
       "    </tr>\n",
       "  </thead>\n",
       "  <tbody>\n",
       "  </tbody>\n",
       "</table>\n",
       "<p>0 rows × 23 columns</p>\n",
       "</div>"
      ],
      "text/plain": [
       "Empty DataFrame\n",
       "Columns: [user_id, calls_duration, calls_count, message_sum, mb_sum, gb_sum, age, churn_date, city, first_name, last_name, reg_date, tariff, month, end_month, messages_included, mb_per_month_included, minutes_included, rub_monthly_fee, rub_per_gb, rub_per_message, rub_per_minute, profit]\n",
       "Index: []\n",
       "\n",
       "[0 rows x 23 columns]"
      ]
     },
     "metadata": {},
     "output_type": "display_data"
    }
   ],
   "source": [
    "#округление звонков, каждого до минуты. \n",
    "d_c['duration'] = d_c['duration'].apply(np.ceil)\n",
    "\n",
    "#создание сводных таблиц.\n",
    "d_c_grouped = d_c.groupby(['user_id','month']).agg({'duration':'sum'}).rename(columns={'duration':'calls_duration'})\n",
    "d_c_grouped['calls_count'] = d_c.groupby(['user_id','month']).agg({'duration':'count'})\n",
    "d_m_grouped = d_m.groupby(['user_id','month']).agg({'message_date':'count'}).rename(columns={'message_date':'message_sum'})\n",
    "d_i_grouped = d_i.groupby(['user_id','month']).agg({'mb_used':'sum'}).rename(columns={'mb_used':'mb_sum'})\n",
    "\n",
    "#переименовываем столбец в тарифах для склейки.\n",
    "d_t = d_t.rename(columns = {'tariff_name':'tariff'})\n",
    "\n",
    "#округление суммы израсходованного интернет-трафика. Перевод трафика в гиги.\n",
    "d_i_grouped['gb_sum'] = np.ceil(d_i_grouped['mb_sum']/1024)\n",
    "\n",
    "display(d_c_grouped)\n",
    "display(d_m_grouped)\n",
    "display(d_i_grouped)\n",
    "\n",
    "#сведение общей таблицы.\n",
    "report = d_c_grouped.merge(d_m_grouped, on = ['user_id', 'month'], how = 'outer')\n",
    "report = report.merge(d_i_grouped, on = ['user_id', 'month'], how = 'outer').fillna(0)\n",
    "report  = report.merge(d_u, on = ['user_id'], how = 'outer')\n",
    "report  = report.merge(d_t, on = ['tariff'], how = 'outer')\n",
    "\n",
    "display(d_t)\n",
    "display(report)\n",
    "\n",
    "#проверка\n",
    "#display(report.info())\n",
    "#display(report.isna())\n",
    "\n",
    "#выделение превышения лимита трафика \n",
    "def overdraft(row):\n",
    "    over_minutes = (row['calls_duration'] - row['minutes_included']) *  row['rub_per_minute']\n",
    "    over_messages = (row['message_sum'] - row['messages_included']) *  row['rub_per_message']\n",
    "    over_traffic = (row['gb_sum'] - (row['mb_per_month_included']/1024)) *  row['rub_per_gb']\n",
    "    if over_minutes < 0: \n",
    "        over_minutes = 0\n",
    "    if over_messages < 0: \n",
    "        over_messages = 0\n",
    "    if over_traffic < 0: \n",
    "        over_traffic = 0    \n",
    "    return over_minutes +over_messages+over_traffic\n",
    "    \n",
    "#добавление в таблицу выручки по клиенту.    \n",
    "report['profit'] = report.apply(overdraft, axis = 1)\n",
    "\n",
    "#проверка\n",
    "#display(report)\n",
    "#display(report['profit'].max()) \n",
    "\n",
    "#проверка количества явных дубликатов\n",
    "display(report.duplicated().sum()) \n",
    "#проверили на явные дубликаты, их не обнаружилось, поэтому лишние действия по чистке закомментила.\n",
    "#report = report.drop_duplicates().reset_index(drop=True) # чистка от явных дубликатов\n",
    "\n",
    "#проверяем нет ли пустых пользователей в сводной таблице.\n",
    "display(report.loc[report['calls_duration'].isna()\t& report['message_sum'].isna() & report['mb_sum'].isna()])\n",
    "#удалим строки пустых пользовтаелей, которые не пользовались услугами.\n",
    "report = report.dropna(subset=['calls_duration','message_sum','mb_sum'])\n",
    "#проверка, что удалены.\n",
    "#display(report.loc[report['calls_duration'].isna()\t& report['message_sum'].isna() & report['mb_sum'].isna()])\n",
    "\n",
    "#проверка отсутствия пустых значений в столбце тарифов.\n",
    "display(report[report['tariff'] ==0])\n",
    "display(report[report['tariff'].isna()])\n",
    "#в столбце звонков по времени, дохода.\n",
    "#display(report[report['calls_duration'].isna()])\n",
    "#display(report[report['profit'].isna()])\n",
    "\n",
    "# проверка в столбце дохода на адекватные значения.\n",
    "#display(report['profit'].unique())\n"
   ]
  },
  {
   "cell_type": "markdown",
   "metadata": {},
   "source": [
    "<dl>В новой сведенной нами таблице нашлись пользователи, которые не успели или не захотели попользоваться улсугами оператора. Для ислледования их данные нам точно не пригодятся, поэтому моим коллективным решением они были удалены из исследования.</dl>\n",
    "<dl>Опять же отдельно хочется отметить хорошую предобработку данных, либо грамотно собранный материал: полных дубликатов обнаружено не было. Также в столбцах нет скрытых дубликатов: названия городов, имена – написаны в едином формате без повторов. По этой причине мы можем позволить себе не подвергать данные лемматизации и приведению к нижнему регистру, а оставить их в первоначальном виде, облегчая свою задачу. </dl>"
   ]
  },
  {
   "cell_type": "markdown",
   "metadata": {},
   "source": [
    "### Гистограммы"
   ]
  },
  {
   "cell_type": "code",
   "execution_count": 26,
   "metadata": {},
   "outputs": [
    {
     "data": {
      "image/png": "[encoded data removed]",
      "text/plain": [
       "<Figure size 720x360 with 1 Axes>"
      ]
     },
     "metadata": {
      "needs_background": "light"
     },
     "output_type": "display_data"
    },
    {
     "data": {
      "image/png": "[encoded data removed]",
      "text/plain": [
       "<Figure size 720x360 with 1 Axes>"
      ]
     },
     "metadata": {
      "needs_background": "light"
     },
     "output_type": "display_data"
    },
    {
     "data": {
      "image/png": "[encoded data removed]",
      "text/plain": [
       "<Figure size 720x360 with 1 Axes>"
      ]
     },
     "metadata": {
      "needs_background": "light"
     },
     "output_type": "display_data"
    }
   ],
   "source": [
    "# Построим гистограммы по столбцам duration, messages и gb_used в сгруппированном фрейме:\n",
    "\n",
    "report.loc[report['tariff']=='ultra','calls_duration'].plot(kind = 'hist', bins = 80, range=(1,1500), figsize =(10,5), grid=True, label='Ultra')\n",
    "report.loc[report['tariff']=='smart','calls_duration'].plot(kind = 'hist', bins = 80, range=(1,1500), figsize =(10,5), grid=True, alpha=0.3,label='Smart')\n",
    "plt.axvline(x=500, color ='red',linestyle = ':') #граница тарифа Смарт\n",
    "plt.legend(loc='lower left')\n",
    "plt.suptitle('Гистограмма длины звонков')\n",
    "plt.title('по месяцам')\n",
    "plt.xlabel('Длительность звонков, совершённых пользователем в месяц'), plt.ylabel('Количество пользователей')\n",
    "plt.show()\n",
    "\n",
    "report.loc[report['tariff']=='ultra','message_sum'].plot(kind = 'hist', bins = 80,range=(0,150), figsize =(10,5), grid=True, legend = True, label='Ultra')\n",
    "report.loc[report['tariff']=='smart','message_sum'].plot(kind = 'hist', bins = 80, range=(0,150), figsize =(10,5), grid=True, alpha=0.3, legend = True, label='Smart')\n",
    "plt.axvline(x=50, color ='red',linestyle = ':') #граница тарифа Смарт\n",
    "plt.suptitle('Гистограмма количества сообщений')\n",
    "plt.title('по месяцам')\n",
    "plt.xlabel('Количество сообщений, отправленных пользователем в месяц '), plt.ylabel('Количество пользователей')\n",
    "plt.show()\n",
    "\n",
    "report.loc[report['tariff']=='ultra','gb_sum'].plot(kind = 'hist', bins = 80, figsize =(10,5), grid=True, label='Ultra')\n",
    "report.loc[report['tariff']=='smart','gb_sum'].plot(kind = 'hist', bins = 80, figsize =(10,5), grid=True, alpha=0.3, label='Smart')\n",
    "plt.axvline(x=15, color ='red',linestyle = ':') #граница тарифа Смарт\n",
    "plt.legend(loc='lower right')\n",
    "plt.suptitle('Гистограмма количества потраченного')\n",
    "plt.title('трафика по месяцам')\n",
    "plt.xlabel('Количество использованного трафика в месяц'), plt.ylabel('Количество пользователей')\n",
    "plt.show()\n"
   ]
  },
  {
   "cell_type": "markdown",
   "metadata": {},
   "source": [
    "<dl>По сведенным гистограммам видно, что поведение пользователей 2 тарифов различаются, так что с полной уверенностью можно сказать, что это две разные группы клиентов с разными потребностями, социальными и имущественными статусами.</dl>\n",
    "<dl>Выборку графика по звонкам мы изначально ограничали снизу 1, так как на 0 находятся выбросы, в основном вызванные системой заполнения отчетности оператора, которые исказили бы нам графики.\n",
    "<dl>В отличие от длительности звонков, 0 в графике сообщений напрямую свидетельствуют о том, что СМС не самая популярная опция в обоих тарифах.</dl>\n",
    "<dl>В основном мы видем близкое к нормальному распределение с легкой положительной асимметрией, смещенной вправо. Нормальное распеределение будет нам говорить, что медиана и среднее значения равны между собой. Отклонение гистрограммы вправо свидетельствует же о большом количестве крупных значений, сдвигающих среднее выше медианы. Таковым показателем является количество сообщений для обоих тарифов.</dl>\n",
    "<dl>Хотя пользователей тарифа \"Смарт\" и больше, их распределение менее растянутое по графику, чем у \"Ультра\". Наверняка данное явление связано с ограничениями для тарифа, пользователи предпочитают влезать в рамки лимита и не переплачивать за дополнительные услуги. Стоит отметить, что хуже всего у них получается укладываться в рамки интернета. Будь я таким абонентом через некоторое время расширила бы себе пакет по интернету, оператору было бы не лишним предложить им подобную услугу на основании исследования.</dl>"
   ]
  },
  {
   "cell_type": "markdown",
   "metadata": {},
   "source": [
    "### Характеристики тарифов"
   ]
  },
  {
   "cell_type": "code",
   "execution_count": 27,
   "metadata": {},
   "outputs": [
    {
     "data": {
      "text/html": [
       "<div>\n",
       "<style scoped>\n",
       "    .dataframe tbody tr th:only-of-type {\n",
       "        vertical-align: middle;\n",
       "    }\n",
       "\n",
       "    .dataframe tbody tr th {\n",
       "        vertical-align: top;\n",
       "    }\n",
       "\n",
       "    .dataframe thead th {\n",
       "        text-align: right;\n",
       "    }\n",
       "</style>\n",
       "<table border=\"1\" class=\"dataframe\">\n",
       "  <thead>\n",
       "    <tr style=\"text-align: right;\">\n",
       "      <th></th>\n",
       "      <th>calls_duration_mean</th>\n",
       "      <th>message_mean</th>\n",
       "      <th>traffic_mean</th>\n",
       "    </tr>\n",
       "    <tr>\n",
       "      <th>tariff</th>\n",
       "      <th></th>\n",
       "      <th></th>\n",
       "      <th></th>\n",
       "    </tr>\n",
       "  </thead>\n",
       "  <tbody>\n",
       "    <tr>\n",
       "      <th>smart</th>\n",
       "      <td>418.00</td>\n",
       "      <td>33.00</td>\n",
       "      <td>16.00</td>\n",
       "    </tr>\n",
       "    <tr>\n",
       "      <th>ultra</th>\n",
       "      <td>527.00</td>\n",
       "      <td>49.00</td>\n",
       "      <td>19.00</td>\n",
       "    </tr>\n",
       "  </tbody>\n",
       "</table>\n",
       "</div>"
      ],
      "text/plain": [
       "        calls_duration_mean  message_mean  traffic_mean\n",
       "tariff                                                 \n",
       "smart                418.00         33.00         16.00\n",
       "ultra                527.00         49.00         19.00"
      ]
     },
     "metadata": {},
     "output_type": "display_data"
    }
   ],
   "source": [
    "tariffs_mean = round(report.groupby(['tariff']).agg({'calls_duration':'mean'}).rename(columns={'calls_duration':'calls_duration_mean'}))\n",
    "tariffs_mean['message_mean'] = round(report.groupby(['tariff']).agg({'message_sum':'mean'}))\n",
    "tariffs_mean['traffic_mean'] = round(report.groupby(['tariff']).agg({'gb_sum':'mean'}))\n",
    "display(tariffs_mean)\n"
   ]
  },
  {
   "cell_type": "code",
   "execution_count": 28,
   "metadata": {},
   "outputs": [
    {
     "data": {
      "text/html": [
       "<div>\n",
       "<style scoped>\n",
       "    .dataframe tbody tr th:only-of-type {\n",
       "        vertical-align: middle;\n",
       "    }\n",
       "\n",
       "    .dataframe tbody tr th {\n",
       "        vertical-align: top;\n",
       "    }\n",
       "\n",
       "    .dataframe thead th {\n",
       "        text-align: right;\n",
       "    }\n",
       "</style>\n",
       "<table border=\"1\" class=\"dataframe\">\n",
       "  <thead>\n",
       "    <tr style=\"text-align: right;\">\n",
       "      <th></th>\n",
       "      <th>calls_duration_var</th>\n",
       "      <th>message_var</th>\n",
       "      <th>traffic_var</th>\n",
       "    </tr>\n",
       "    <tr>\n",
       "      <th>tariff</th>\n",
       "      <th></th>\n",
       "      <th></th>\n",
       "      <th></th>\n",
       "    </tr>\n",
       "  </thead>\n",
       "  <tbody>\n",
       "    <tr>\n",
       "      <th>smart</th>\n",
       "      <td>36,219.00</td>\n",
       "      <td>797.00</td>\n",
       "      <td>33.00</td>\n",
       "    </tr>\n",
       "    <tr>\n",
       "      <th>ultra</th>\n",
       "      <td>100,874.00</td>\n",
       "      <td>2,285.00</td>\n",
       "      <td>97.00</td>\n",
       "    </tr>\n",
       "  </tbody>\n",
       "</table>\n",
       "</div>"
      ],
      "text/plain": [
       "        calls_duration_var  message_var  traffic_var\n",
       "tariff                                              \n",
       "smart            36,219.00       797.00        33.00\n",
       "ultra           100,874.00     2,285.00        97.00"
      ]
     },
     "metadata": {},
     "output_type": "display_data"
    }
   ],
   "source": [
    "tariffs_var = round(report.groupby(['tariff']).agg({'calls_duration':'var'}).rename(columns={'calls_duration':'calls_duration_var'}))\n",
    "tariffs_var['message_var'] = round(report.groupby(['tariff']).agg({'message_sum':'var'}))\n",
    "tariffs_var['traffic_var'] = round(report.groupby(['tariff']).agg({'gb_sum':'var'}))\n",
    "display(tariffs_var)"
   ]
  },
  {
   "cell_type": "code",
   "execution_count": 29,
   "metadata": {},
   "outputs": [
    {
     "data": {
      "text/html": [
       "<div>\n",
       "<style scoped>\n",
       "    .dataframe tbody tr th:only-of-type {\n",
       "        vertical-align: middle;\n",
       "    }\n",
       "\n",
       "    .dataframe tbody tr th {\n",
       "        vertical-align: top;\n",
       "    }\n",
       "\n",
       "    .dataframe thead th {\n",
       "        text-align: right;\n",
       "    }\n",
       "</style>\n",
       "<table border=\"1\" class=\"dataframe\">\n",
       "  <thead>\n",
       "    <tr style=\"text-align: right;\">\n",
       "      <th></th>\n",
       "      <th>calls_duration_std</th>\n",
       "      <th>message_std</th>\n",
       "      <th>traffic_std</th>\n",
       "    </tr>\n",
       "    <tr>\n",
       "      <th>tariff</th>\n",
       "      <th></th>\n",
       "      <th></th>\n",
       "      <th></th>\n",
       "    </tr>\n",
       "  </thead>\n",
       "  <tbody>\n",
       "    <tr>\n",
       "      <th>smart</th>\n",
       "      <td>190.00</td>\n",
       "      <td>28.00</td>\n",
       "      <td>6.00</td>\n",
       "    </tr>\n",
       "    <tr>\n",
       "      <th>ultra</th>\n",
       "      <td>318.00</td>\n",
       "      <td>48.00</td>\n",
       "      <td>10.00</td>\n",
       "    </tr>\n",
       "  </tbody>\n",
       "</table>\n",
       "</div>"
      ],
      "text/plain": [
       "        calls_duration_std  message_std  traffic_std\n",
       "tariff                                              \n",
       "smart               190.00        28.00         6.00\n",
       "ultra               318.00        48.00        10.00"
      ]
     },
     "metadata": {},
     "output_type": "display_data"
    }
   ],
   "source": [
    "tariffs_std = round(report.groupby(['tariff']).agg({'calls_duration':'std'}).rename(columns={'calls_duration':'calls_duration_std'}))\n",
    "tariffs_std['message_std'] = round(report.groupby(['tariff']).agg({'message_sum':'std'}))\n",
    "tariffs_std['traffic_std'] = round(report.groupby(['tariff']).agg({'gb_sum':'std'}))\n",
    "display(tariffs_std)"
   ]
  },
  {
   "cell_type": "code",
   "execution_count": 30,
   "metadata": {},
   "outputs": [
    {
     "data": {
      "image/png": "[encoded data removed]",
      "text/plain": [
       "<Figure size 720x360 with 1 Axes>"
      ]
     },
     "metadata": {
      "needs_background": "light"
     },
     "output_type": "display_data"
    },
    {
     "name": "stdout",
     "output_type": "stream",
     "text": [
      "<class 'pandas.core.frame.DataFrame'>\n",
      "Int64Index: 3214 entries, 0 to 3214\n",
      "Data columns (total 23 columns):\n",
      " #   Column                 Non-Null Count  Dtype         \n",
      "---  ------                 --------------  -----         \n",
      " 0   user_id                3214 non-null   int64         \n",
      " 1   calls_duration         3214 non-null   float64       \n",
      " 2   calls_count            3214 non-null   float64       \n",
      " 3   message_sum            3214 non-null   float64       \n",
      " 4   mb_sum                 3214 non-null   float64       \n",
      " 5   gb_sum                 3214 non-null   float64       \n",
      " 6   age                    3214 non-null   int64         \n",
      " 7   churn_date             187 non-null    datetime64[ns]\n",
      " 8   city                   3214 non-null   object        \n",
      " 9   first_name             3214 non-null   object        \n",
      " 10  last_name              3214 non-null   object        \n",
      " 11  reg_date               3214 non-null   datetime64[ns]\n",
      " 12  tariff                 3214 non-null   object        \n",
      " 13  month                  3214 non-null   int64         \n",
      " 14  end_month              187 non-null    float64       \n",
      " 15  messages_included      3214 non-null   int64         \n",
      " 16  mb_per_month_included  3214 non-null   int64         \n",
      " 17  minutes_included       3214 non-null   int64         \n",
      " 18  rub_monthly_fee        3214 non-null   int64         \n",
      " 19  rub_per_gb             3214 non-null   int64         \n",
      " 20  rub_per_message        3214 non-null   int64         \n",
      " 21  rub_per_minute         3214 non-null   int64         \n",
      " 22  profit                 3214 non-null   float64       \n",
      "dtypes: datetime64[ns](2), float64(7), int64(10), object(4)\n",
      "memory usage: 602.6+ KB\n"
     ]
    },
    {
     "data": {
      "image/png": "[encoded data removed]",
      "text/plain": [
       "<Figure size 432x288 with 1 Axes>"
      ]
     },
     "metadata": {
      "needs_background": "light"
     },
     "output_type": "display_data"
    },
    {
     "data": {
      "image/png": "[encoded data removed]",
      "text/plain": [
       "<Figure size 432x288 with 1 Axes>"
      ]
     },
     "metadata": {
      "needs_background": "light"
     },
     "output_type": "display_data"
    }
   ],
   "source": [
    "#построим диаграмму размаха для оценки выбросов.\n",
    "report.boxplot(column = 'profit', figsize =(10,5))\n",
    "plt.title('Диаграмма размаха'), plt.suptitle(' '), plt.ylabel('Размер выручки')\n",
    "plt.show()\n",
    "\n",
    "#уберём выбивающиеся значения из выручки:\n",
    "report.info()\n",
    "q1 = report['profit'].quantile(0.25)\n",
    "q3 = report['profit'].quantile(0.75)\n",
    "q_max = report['profit'].quantile(0.99)\n",
    "iqr = q3 - q1\n",
    "iqr_low = q1 - 1.5 * iqr \n",
    "iqr_high = q3 + 1.5 * iqr\n",
    "\n",
    "#обрежем выбросы диаграммы размаха по более мягкому значению, чем дает среднеквадратичный интервал.\n",
    "report =  report[report['profit'] <= q_max]\n",
    "#report.info() #проверка\n",
    "\n",
    "# добавления столбца, делящего населенные пункты на Москву и не Москву.\n",
    "def region(column):\n",
    "    for i in column:\n",
    "        if 'Москва' in column:\n",
    "            return 'Москва'\n",
    "        else:\n",
    "            return 'Не Москва'\n",
    "        \n",
    "report['is_Moscow'] =  report['city'].apply(region)\n",
    "\n",
    "#report.info() #проверка\n",
    "\n",
    "# оценка размаха выручки по тарифам\n",
    "report.boxplot(column = 'profit',by='tariff',grid=True)\n",
    "plt.title('Диаграмма размаха'),plt.suptitle(' '), plt.ylabel('Выручка'), plt.xlabel('Тариф')\n",
    "plt.show()\n",
    "\n",
    "# оценка размаха выручки по городам.\n",
    "report.boxplot(column = 'profit',by='is_Moscow',grid=True)\n",
    "plt.title('Диаграмма размаха'), plt.suptitle(' '), plt.ylabel('Выручка'), plt.xlabel('Регион')\n",
    "plt.show()\n",
    "\n",
    "\n"
   ]
  },
  {
   "cell_type": "markdown",
   "metadata": {},
   "source": [
    "<dl>Диаграммы размаха по тарифам точно говорят нам одну вещь: тариф Ультра достаточно широкий, что его пользователям не приходится вылезать за рамки абонентской платы, так часто, как это делают владельцы сим-карт Смарта.</dl>\n",
    "   <dl> Пользователи за пределеами столицы также приносят больше денег оператору, чем москвичи.</dl>\n",
    " <dl>   Средние значения, СКО и дисперсии Смарта также во всем уступают Ультре, так как условия использования у данного тарифа жестче из-за его сниженной цены.</dl>"
   ]
  },
  {
   "cell_type": "markdown",
   "metadata": {},
   "source": [
    "### Проверка гипотез"
   ]
  },
  {
   "cell_type": "markdown",
   "metadata": {},
   "source": [
    "После того как мы почистили нашу совокупность данных, переходим к проверке гипотез:"
   ]
  },
  {
   "cell_type": "code",
   "execution_count": 31,
   "metadata": {},
   "outputs": [
    {
     "name": "stdout",
     "output_type": "stream",
     "text": [
      "p-значение:  5.89041855060624e-112\n",
      "Отвергаем нулевую гипотезу. Cредняя выручка по тарифам не равна.\n",
      "Средняя выручка по тарифу Ультра:  120 рублей\n",
      "Средняя выручка по тарифу Смарт:  696 рублей\n",
      "p-значение:  0.05360583954468514\n",
      "Не получилось отвергнуть нулевую гипотезу. Средняя выручка по городам близка.\n",
      "Средняя выручка по Москве:  469 рублей\n",
      "Средняя выручка по регионам:  529 рублей\n"
     ]
    }
   ],
   "source": [
    "#\"гипотеза: средняя выручка пользователей тарифов «Ультра» и «Смарт» различаются\" трансформируется в две статистические гипотезы:\n",
    "#H0: средняя выручка по тарифам равна\n",
    "#H1: средняя выручка по тарифам не равна\n",
    "#По результатам стат-теста одна из этих гипотез подтвердится.\n",
    "\n",
    "alpha = .05 # критический уровень статистической значимости\n",
    "# если p-value окажется меньше него - отвергнем гипотезу\n",
    "\n",
    "sample_1 = report.loc[report['tariff']=='ultra','profit']\n",
    "sample_2 = report.loc[report['tariff']=='smart','profit']\n",
    "\n",
    "results = st.ttest_ind(\n",
    "    sample_1, \n",
    "    sample_2)\n",
    "\n",
    "print('p-значение: ', results.pvalue)\n",
    "\n",
    "if results.pvalue < alpha:\n",
    "    print(\"Отвергаем нулевую гипотезу. Cредняя выручка по тарифам не равна.\")\n",
    "else:\n",
    "    print(\"Не получилось отвергнуть нулевую гипотезу. Средняя выручка по тарифам равна.\")\n",
    "    \n",
    "#среднняя выручка по тарифам       \n",
    "print('Средняя выручка по тарифу Ультра: ', round(report.loc[report['tariff']=='ultra','profit'].mean()), 'рублей')\n",
    "print('Средняя выручка по тарифу Смарт: ', round(report.loc[report['tariff']=='smart','profit'].mean()), 'рублей')\n",
    "\n",
    "#\"гипотеза: средняя выручка пользователи из Москвы отличается от выручки пользователей из других регионов\" переводится в следующие статистические гипотезы:\n",
    "#H0: средняя выручка по городам равна\n",
    "#H1: средняя выручка по городам не равна\n",
    "\n",
    "value_1 = report.loc[report['city']=='Москва','profit']\n",
    "value_2 =  report.loc[report['city']!='Москва','profit']\n",
    "\n",
    "results_2 = st.ttest_ind(\n",
    "    value_1, \n",
    "    value_2)\n",
    "\n",
    "print('p-значение: ', results_2.pvalue)\n",
    "\n",
    "if results_2.pvalue < alpha:\n",
    "    print(\"Отвергаем нулевую гипотезу. Cредняя выручка по городам не равна.\")\n",
    "else:\n",
    "    print(\"Не получилось отвергнуть нулевую гипотезу. Средняя выручка по городам близка.\")\n",
    "    \n",
    "#среднняя выручка по городам    \n",
    "print('Средняя выручка по Москве: ',  round(report.loc[report['city']=='Москва','profit'].mean()), 'рублей')\n",
    "print('Средняя выручка по регионам: ',  round(report.loc[report['city']!='Москва','profit'].mean()), 'рублей')\n",
    "\n"
   ]
  },
  {
   "cell_type": "markdown",
   "metadata": {},
   "source": [
    "<dl>Мы сформулировали для каждого т-теста по 2 гипотезы.</dl>\n",
    "<dl> Для первого теста по тарифам они звучат как:</dl>\n",
    "<dl><li> H0: средняя выручка по тарифам равна</li>\n",
    "  <li> H1: средняя выручка по тарифам не равна</li></dl>\n",
    " <dl>   Для второго же:\n",
    "<li>    H0: средняя выручка по городам равна</li>\n",
    " <li>   H1: средняя выручка по городам не равна</li></dl>\n",
    " <dl>   alpha показатель был выбран одинаковым: 5 %, который принят считаться низшим уровнем для определения статистической значимости.</dl>\n",
    "    Тест подтвердил наши наблюдения по ящику с усами тарифов, но, к удивлению, опроверг их по регионам. </dl>"
   ]
  },
  {
   "cell_type": "markdown",
   "metadata": {},
   "source": [
    "### Общий вывод"
   ]
  },
  {
   "cell_type": "markdown",
   "metadata": {},
   "source": [
    "<dl>Разделив исследовательские гипотезы на статистические мы получили 4 выборки для проверки.</dl>\n",
    "<dl>Стат-тест показал нам, что наблюдаемые в исследование значения и зависимости  по тарифам далеко не случайны:\n",
    "<li>Первая пара выборок поставила под сомнение равенство средних выручек по тарифам.</li>\n",
    "<li>Вторая же подтвердила выроятность совпадения средних выручек по городам, хотя отдельно взятыми вне теста средние выручки и не совпали.</li></dl>\n",
    "<dl>Для Мегалайна судя по средним выручкам наиболее выгодный тариф Смарт. Однако, необходимо учитывать, что стоимость услуг по данному тарифу для пользователя сильно ниже Ультры, а число пользователей, использующих его на максимум выше. Поэтому чтобы составить полную картину прибыльности тарифов нужно больше информации о себестоимости  услуг, что известно только самому оператору.   </dl>\n",
    "<dl> С легким опережением выручка регионов также превосходит показатель Москвы, хотя и значения не такие выразительные, как по тарифу. </dl>\n",
    "<dl>Выражаю свою надежду, что проведенное нами ислледование поможет менеджерам компании эффективно спланировать бюджет будущих рекламных компаний.</dl>\n"
   ]
  }
 ],
 "metadata": {
  "ExecuteTimeLog": [
   {
    "duration": 3,
    "start_time": "2022-01-28T07:11:40.736Z"
   },
   {
    "duration": 1034,
    "start_time": "2022-01-28T07:18:08.598Z"
   },
   {
    "duration": 2674,
    "start_time": "2022-01-28T07:18:13.624Z"
   },
   {
    "duration": 354,
    "start_time": "2022-01-28T07:18:26.623Z"
   },
   {
    "duration": 2290,
    "start_time": "2022-01-28T07:18:41.856Z"
   },
   {
    "duration": 2541,
    "start_time": "2022-01-28T07:19:01.087Z"
   },
   {
    "duration": 2487,
    "start_time": "2022-01-28T07:21:34.108Z"
   },
   {
    "duration": 329,
    "start_time": "2022-01-28T07:21:44.580Z"
   },
   {
    "duration": 2480,
    "start_time": "2022-01-28T07:21:50.148Z"
   },
   {
    "duration": 506,
    "start_time": "2022-01-28T07:21:56.837Z"
   },
   {
    "duration": 2796,
    "start_time": "2022-01-28T07:22:02.084Z"
   },
   {
    "duration": 2641,
    "start_time": "2022-01-28T07:22:09.909Z"
   },
   {
    "duration": 338,
    "start_time": "2022-01-28T07:22:19.110Z"
   },
   {
    "duration": 340,
    "start_time": "2022-01-28T07:22:39.637Z"
   },
   {
    "duration": 430,
    "start_time": "2022-01-28T07:22:53.812Z"
   },
   {
    "duration": 369,
    "start_time": "2022-01-28T07:23:05.223Z"
   },
   {
    "duration": 329,
    "start_time": "2022-01-28T07:23:45.244Z"
   },
   {
    "duration": 335,
    "start_time": "2022-01-28T07:23:55.563Z"
   },
   {
    "duration": 337,
    "start_time": "2022-01-28T07:24:00.627Z"
   },
   {
    "duration": 351,
    "start_time": "2022-01-28T07:24:05.724Z"
   },
   {
    "duration": 347,
    "start_time": "2022-01-28T07:24:12.156Z"
   },
   {
    "duration": 381,
    "start_time": "2022-01-28T07:24:32.683Z"
   },
   {
    "duration": 397,
    "start_time": "2022-01-28T07:25:37.148Z"
   },
   {
    "duration": 336,
    "start_time": "2022-01-28T07:25:44.339Z"
   },
   {
    "duration": 174,
    "start_time": "2022-01-28T07:25:51.266Z"
   },
   {
    "duration": 51,
    "start_time": "2022-01-28T07:25:56.347Z"
   },
   {
    "duration": 71,
    "start_time": "2022-01-28T07:26:02.330Z"
   },
   {
    "duration": 23,
    "start_time": "2022-01-28T07:26:09.041Z"
   },
   {
    "duration": 3,
    "start_time": "2022-01-28T07:26:21.827Z"
   },
   {
    "duration": 371,
    "start_time": "2022-01-28T07:26:21.832Z"
   },
   {
    "duration": 213,
    "start_time": "2022-01-28T07:26:22.205Z"
   },
   {
    "duration": 332,
    "start_time": "2022-01-28T07:26:22.419Z"
   },
   {
    "duration": 135,
    "start_time": "2022-01-28T07:26:22.752Z"
   },
   {
    "duration": 184,
    "start_time": "2022-01-28T07:26:22.888Z"
   },
   {
    "duration": 79,
    "start_time": "2022-01-28T07:26:23.073Z"
   },
   {
    "duration": 49,
    "start_time": "2022-01-28T07:26:23.154Z"
   },
   {
    "duration": 66,
    "start_time": "2022-01-28T07:26:23.205Z"
   },
   {
    "duration": 20,
    "start_time": "2022-01-28T07:26:23.272Z"
   },
   {
    "duration": 40669,
    "start_time": "2022-01-28T07:26:23.293Z"
   },
   {
    "duration": 4,
    "start_time": "2022-01-28T07:27:03.964Z"
   },
   {
    "duration": 378,
    "start_time": "2022-01-28T07:27:03.969Z"
   },
   {
    "duration": 931,
    "start_time": "2022-01-28T07:27:04.348Z"
   },
   {
    "duration": 16,
    "start_time": "2022-01-28T07:27:05.280Z"
   },
   {
    "duration": 32,
    "start_time": "2022-01-28T07:27:05.297Z"
   },
   {
    "duration": 16,
    "start_time": "2022-01-28T07:27:05.331Z"
   },
   {
    "duration": 572,
    "start_time": "2022-01-28T07:27:05.349Z"
   },
   {
    "duration": -74,
    "start_time": "2022-01-28T07:27:05.996Z"
   },
   {
    "duration": -98,
    "start_time": "2022-01-28T07:27:06.021Z"
   },
   {
    "duration": 458,
    "start_time": "2022-01-28T07:27:19.192Z"
   },
   {
    "duration": 2,
    "start_time": "2022-01-28T07:27:53.496Z"
   },
   {
    "duration": 378,
    "start_time": "2022-01-28T07:27:53.994Z"
   },
   {
    "duration": 213,
    "start_time": "2022-01-28T07:27:54.374Z"
   },
   {
    "duration": 349,
    "start_time": "2022-01-28T07:27:54.589Z"
   },
   {
    "duration": 144,
    "start_time": "2022-01-28T07:27:54.940Z"
   },
   {
    "duration": 196,
    "start_time": "2022-01-28T07:27:55.086Z"
   },
   {
    "duration": 88,
    "start_time": "2022-01-28T07:27:55.284Z"
   },
   {
    "duration": 64,
    "start_time": "2022-01-28T07:27:55.374Z"
   },
   {
    "duration": 72,
    "start_time": "2022-01-28T07:27:55.441Z"
   },
   {
    "duration": 25,
    "start_time": "2022-01-28T07:27:55.515Z"
   },
   {
    "duration": 37999,
    "start_time": "2022-01-28T07:27:55.541Z"
   },
   {
    "duration": 4,
    "start_time": "2022-01-28T07:28:33.542Z"
   },
   {
    "duration": 361,
    "start_time": "2022-01-28T07:28:33.548Z"
   },
   {
    "duration": 1112,
    "start_time": "2022-01-28T07:28:33.911Z"
   },
   {
    "duration": 19,
    "start_time": "2022-01-28T07:28:35.027Z"
   },
   {
    "duration": 15,
    "start_time": "2022-01-28T07:28:35.048Z"
   },
   {
    "duration": 15,
    "start_time": "2022-01-28T07:28:35.065Z"
   },
   {
    "duration": 526,
    "start_time": "2022-01-28T07:28:35.082Z"
   },
   {
    "duration": 30,
    "start_time": "2022-01-28T07:28:35.610Z"
   },
   {
    "duration": 1137,
    "start_time": "2022-01-28T07:29:20.090Z"
   },
   {
    "duration": 124,
    "start_time": "2022-01-28T07:30:28.774Z"
   },
   {
    "duration": 1262,
    "start_time": "2022-01-28T07:32:03.252Z"
   },
   {
    "duration": 1140,
    "start_time": "2022-01-28T07:32:12.613Z"
   },
   {
    "duration": 1056,
    "start_time": "2022-01-28T07:34:29.484Z"
   },
   {
    "duration": 1301,
    "start_time": "2022-01-28T07:35:06.203Z"
   },
   {
    "duration": 1221,
    "start_time": "2022-01-28T07:35:53.345Z"
   },
   {
    "duration": 1356,
    "start_time": "2022-01-28T07:36:07.673Z"
   },
   {
    "duration": 1238,
    "start_time": "2022-01-28T07:36:15.985Z"
   },
   {
    "duration": 1387,
    "start_time": "2022-01-28T07:36:29.129Z"
   },
   {
    "duration": 1338,
    "start_time": "2022-01-28T07:41:08.637Z"
   },
   {
    "duration": 1210,
    "start_time": "2022-01-28T07:41:25.150Z"
   },
   {
    "duration": 1370,
    "start_time": "2022-01-28T07:45:47.865Z"
   },
   {
    "duration": 126,
    "start_time": "2022-01-28T08:02:04.753Z"
   },
   {
    "duration": 436,
    "start_time": "2022-01-28T08:02:22.513Z"
   },
   {
    "duration": 458,
    "start_time": "2022-01-28T08:04:33.798Z"
   },
   {
    "duration": 534,
    "start_time": "2022-01-28T08:05:37.871Z"
   },
   {
    "duration": 601,
    "start_time": "2022-01-28T08:06:47.668Z"
   },
   {
    "duration": 617,
    "start_time": "2022-01-28T08:07:59.123Z"
   },
   {
    "duration": 511,
    "start_time": "2022-01-28T08:08:15.859Z"
   },
   {
    "duration": 488,
    "start_time": "2022-01-28T08:08:48.053Z"
   },
   {
    "duration": 404,
    "start_time": "2022-01-28T08:09:05.386Z"
   },
   {
    "duration": 536,
    "start_time": "2022-01-28T08:10:13.273Z"
   },
   {
    "duration": 416,
    "start_time": "2022-01-28T08:10:47.113Z"
   },
   {
    "duration": 15,
    "start_time": "2022-01-28T08:13:32.263Z"
   },
   {
    "duration": 16,
    "start_time": "2022-01-28T08:13:37.727Z"
   },
   {
    "duration": 17,
    "start_time": "2022-01-28T08:14:19.900Z"
   },
   {
    "duration": 693,
    "start_time": "2022-01-28T08:21:02.279Z"
   },
   {
    "duration": 23,
    "start_time": "2022-01-28T08:21:03.813Z"
   },
   {
    "duration": 586,
    "start_time": "2022-01-28T08:21:19.223Z"
   },
   {
    "duration": 17,
    "start_time": "2022-01-28T08:21:20.292Z"
   },
   {
    "duration": 457,
    "start_time": "2022-01-28T08:21:33.383Z"
   },
   {
    "duration": 17,
    "start_time": "2022-01-28T08:21:35.317Z"
   },
   {
    "duration": 554,
    "start_time": "2022-01-28T08:22:39.717Z"
   },
   {
    "duration": 18,
    "start_time": "2022-01-28T08:22:40.441Z"
   },
   {
    "duration": 452,
    "start_time": "2022-01-28T08:22:49.294Z"
   },
   {
    "duration": 17,
    "start_time": "2022-01-28T08:22:54.683Z"
   },
   {
    "duration": 455,
    "start_time": "2022-01-28T08:23:06.012Z"
   },
   {
    "duration": 17,
    "start_time": "2022-01-28T08:23:07.172Z"
   },
   {
    "duration": 458,
    "start_time": "2022-01-28T08:23:18.332Z"
   },
   {
    "duration": 354,
    "start_time": "2022-01-28T12:21:09.384Z"
   },
   {
    "duration": 363,
    "start_time": "2022-01-28T18:47:02.625Z"
   },
   {
    "duration": 255,
    "start_time": "2022-01-28T19:03:43.945Z"
   },
   {
    "duration": 1212,
    "start_time": "2022-01-28T19:06:37.058Z"
   },
   {
    "duration": 404,
    "start_time": "2022-01-28T19:06:38.272Z"
   },
   {
    "duration": 228,
    "start_time": "2022-01-28T19:06:38.678Z"
   },
   {
    "duration": 354,
    "start_time": "2022-01-28T19:06:38.909Z"
   },
   {
    "duration": 148,
    "start_time": "2022-01-28T19:06:39.264Z"
   },
   {
    "duration": 204,
    "start_time": "2022-01-28T19:06:39.413Z"
   },
   {
    "duration": 90,
    "start_time": "2022-01-28T19:06:39.619Z"
   },
   {
    "duration": 58,
    "start_time": "2022-01-28T19:06:39.711Z"
   },
   {
    "duration": 64,
    "start_time": "2022-01-28T19:06:39.770Z"
   },
   {
    "duration": 31,
    "start_time": "2022-01-28T19:06:39.836Z"
   },
   {
    "duration": 41240,
    "start_time": "2022-01-28T19:06:39.869Z"
   },
   {
    "duration": 405,
    "start_time": "2022-01-28T19:07:21.111Z"
   },
   {
    "duration": 1512,
    "start_time": "2022-01-28T19:07:21.518Z"
   },
   {
    "duration": 1400,
    "start_time": "2022-01-28T19:07:49.553Z"
   },
   {
    "duration": 95,
    "start_time": "2022-01-28T19:08:48.608Z"
   },
   {
    "duration": 1508,
    "start_time": "2022-01-28T19:08:53.393Z"
   },
   {
    "duration": 1571,
    "start_time": "2022-01-28T19:09:58.793Z"
   },
   {
    "duration": 1538,
    "start_time": "2022-01-28T19:11:07.194Z"
   },
   {
    "duration": 1527,
    "start_time": "2022-01-28T19:11:16.041Z"
   },
   {
    "duration": 1465,
    "start_time": "2022-01-28T19:11:23.355Z"
   },
   {
    "duration": 1507,
    "start_time": "2022-01-28T19:12:12.063Z"
   },
   {
    "duration": 1564,
    "start_time": "2022-01-28T19:12:53.863Z"
   },
   {
    "duration": 1448,
    "start_time": "2022-01-28T19:25:13.947Z"
   },
   {
    "duration": 1559,
    "start_time": "2022-01-28T19:25:32.746Z"
   },
   {
    "duration": 1544,
    "start_time": "2022-01-28T19:38:12.503Z"
   },
   {
    "duration": 1585,
    "start_time": "2022-01-28T19:38:27.151Z"
   },
   {
    "duration": 1486,
    "start_time": "2022-01-28T19:42:26.883Z"
   },
   {
    "duration": 1589,
    "start_time": "2022-01-28T19:43:22.512Z"
   },
   {
    "duration": 1557,
    "start_time": "2022-01-28T19:43:38.270Z"
   },
   {
    "duration": 1982,
    "start_time": "2022-01-28T20:02:16.695Z"
   },
   {
    "duration": 1731,
    "start_time": "2022-01-28T20:02:44.876Z"
   },
   {
    "duration": 2075,
    "start_time": "2022-01-28T20:04:27.954Z"
   },
   {
    "duration": 2333,
    "start_time": "2022-01-28T20:32:45.958Z"
   },
   {
    "duration": 425,
    "start_time": "2022-01-28T20:32:59.396Z"
   },
   {
    "duration": 3,
    "start_time": "2022-01-28T20:37:16.453Z"
   },
   {
    "duration": 430,
    "start_time": "2022-01-28T20:37:16.647Z"
   },
   {
    "duration": 235,
    "start_time": "2022-01-28T20:37:17.079Z"
   },
   {
    "duration": 358,
    "start_time": "2022-01-28T20:37:17.316Z"
   },
   {
    "duration": 154,
    "start_time": "2022-01-28T20:37:17.676Z"
   },
   {
    "duration": 199,
    "start_time": "2022-01-28T20:37:17.832Z"
   },
   {
    "duration": 89,
    "start_time": "2022-01-28T20:37:18.033Z"
   },
   {
    "duration": 62,
    "start_time": "2022-01-28T20:37:18.124Z"
   },
   {
    "duration": 73,
    "start_time": "2022-01-28T20:37:18.188Z"
   },
   {
    "duration": 22,
    "start_time": "2022-01-28T20:37:18.263Z"
   },
   {
    "duration": 41757,
    "start_time": "2022-01-28T20:37:18.287Z"
   },
   {
    "duration": 438,
    "start_time": "2022-01-28T20:38:00.046Z"
   },
   {
    "duration": 2090,
    "start_time": "2022-01-28T20:38:00.487Z"
   },
   {
    "duration": 16,
    "start_time": "2022-01-28T20:38:02.579Z"
   },
   {
    "duration": 22,
    "start_time": "2022-01-28T20:38:02.597Z"
   },
   {
    "duration": 16,
    "start_time": "2022-01-28T20:38:02.621Z"
   },
   {
    "duration": 517,
    "start_time": "2022-01-28T20:38:02.639Z"
   },
   {
    "duration": 17,
    "start_time": "2022-01-28T20:38:03.159Z"
   },
   {
    "duration": 4,
    "start_time": "2022-01-28T20:40:28.871Z"
   },
   {
    "duration": 394,
    "start_time": "2022-01-28T20:40:29.382Z"
   },
   {
    "duration": 247,
    "start_time": "2022-01-28T20:40:29.778Z"
   },
   {
    "duration": 378,
    "start_time": "2022-01-28T20:40:30.028Z"
   },
   {
    "duration": 181,
    "start_time": "2022-01-28T20:40:30.408Z"
   },
   {
    "duration": 209,
    "start_time": "2022-01-28T20:40:30.591Z"
   },
   {
    "duration": 96,
    "start_time": "2022-01-28T20:40:30.802Z"
   },
   {
    "duration": 64,
    "start_time": "2022-01-28T20:40:30.899Z"
   },
   {
    "duration": 65,
    "start_time": "2022-01-28T20:40:30.966Z"
   },
   {
    "duration": 35,
    "start_time": "2022-01-28T20:40:31.033Z"
   },
   {
    "duration": 41654,
    "start_time": "2022-01-28T20:40:31.070Z"
   },
   {
    "duration": 398,
    "start_time": "2022-01-28T20:41:12.726Z"
   },
   {
    "duration": 1915,
    "start_time": "2022-01-28T20:41:13.126Z"
   },
   {
    "duration": 26,
    "start_time": "2022-01-28T20:41:15.044Z"
   },
   {
    "duration": 50,
    "start_time": "2022-01-28T20:41:15.072Z"
   },
   {
    "duration": 54,
    "start_time": "2022-01-28T20:41:15.124Z"
   },
   {
    "duration": 546,
    "start_time": "2022-01-28T20:41:15.180Z"
   },
   {
    "duration": 19,
    "start_time": "2022-01-28T20:41:15.728Z"
   },
   {
    "duration": 490,
    "start_time": "2022-01-28T20:42:26.772Z"
   },
   {
    "duration": 562,
    "start_time": "2022-01-28T20:42:51.011Z"
   },
   {
    "duration": 18,
    "start_time": "2022-01-28T20:42:59.666Z"
   },
   {
    "duration": 1079,
    "start_time": "2022-01-28T20:43:17.160Z"
   },
   {
    "duration": 420,
    "start_time": "2022-01-28T20:43:18.242Z"
   },
   {
    "duration": 234,
    "start_time": "2022-01-28T20:43:18.664Z"
   },
   {
    "duration": 375,
    "start_time": "2022-01-28T20:43:18.900Z"
   },
   {
    "duration": 155,
    "start_time": "2022-01-28T20:43:19.276Z"
   },
   {
    "duration": 242,
    "start_time": "2022-01-28T20:43:19.433Z"
   },
   {
    "duration": 88,
    "start_time": "2022-01-28T20:43:19.677Z"
   },
   {
    "duration": 54,
    "start_time": "2022-01-28T20:43:19.767Z"
   },
   {
    "duration": 72,
    "start_time": "2022-01-28T20:43:19.823Z"
   },
   {
    "duration": 21,
    "start_time": "2022-01-28T20:43:19.896Z"
   },
   {
    "duration": 33,
    "start_time": "2022-01-28T20:44:03.589Z"
   },
   {
    "duration": 430,
    "start_time": "2022-01-28T20:44:03.624Z"
   },
   {
    "duration": 230,
    "start_time": "2022-01-28T20:44:04.056Z"
   },
   {
    "duration": 362,
    "start_time": "2022-01-28T20:44:04.288Z"
   },
   {
    "duration": 135,
    "start_time": "2022-01-28T20:44:04.652Z"
   },
   {
    "duration": 201,
    "start_time": "2022-01-28T20:44:04.789Z"
   },
   {
    "duration": 97,
    "start_time": "2022-01-28T20:44:04.992Z"
   },
   {
    "duration": 55,
    "start_time": "2022-01-28T20:44:05.091Z"
   },
   {
    "duration": 76,
    "start_time": "2022-01-28T20:44:05.147Z"
   },
   {
    "duration": 21,
    "start_time": "2022-01-28T20:44:05.225Z"
   },
   {
    "duration": 40642,
    "start_time": "2022-01-28T20:44:05.261Z"
   },
   {
    "duration": 399,
    "start_time": "2022-01-28T20:44:45.904Z"
   },
   {
    "duration": 1880,
    "start_time": "2022-01-28T20:44:46.305Z"
   },
   {
    "duration": 18,
    "start_time": "2022-01-28T20:44:48.187Z"
   },
   {
    "duration": 16,
    "start_time": "2022-01-28T20:44:48.207Z"
   },
   {
    "duration": 41,
    "start_time": "2022-01-28T20:44:48.224Z"
   },
   {
    "duration": 483,
    "start_time": "2022-01-28T20:44:48.267Z"
   },
   {
    "duration": 25,
    "start_time": "2022-01-28T20:44:48.752Z"
   },
   {
    "duration": 465,
    "start_time": "2022-01-28T20:45:44.897Z"
   },
   {
    "duration": 1046,
    "start_time": "2022-01-28T20:46:05.807Z"
   },
   {
    "duration": 584,
    "start_time": "2022-01-28T20:46:06.855Z"
   },
   {
    "duration": 210,
    "start_time": "2022-01-28T20:46:07.441Z"
   },
   {
    "duration": 352,
    "start_time": "2022-01-28T20:46:07.660Z"
   },
   {
    "duration": 152,
    "start_time": "2022-01-28T20:46:08.014Z"
   },
   {
    "duration": 221,
    "start_time": "2022-01-28T20:46:08.168Z"
   },
   {
    "duration": 95,
    "start_time": "2022-01-28T20:46:08.391Z"
   },
   {
    "duration": 74,
    "start_time": "2022-01-28T20:46:08.489Z"
   },
   {
    "duration": 66,
    "start_time": "2022-01-28T20:46:08.565Z"
   },
   {
    "duration": 31,
    "start_time": "2022-01-28T20:46:08.633Z"
   },
   {
    "duration": 40583,
    "start_time": "2022-01-28T20:46:08.665Z"
   },
   {
    "duration": 438,
    "start_time": "2022-01-28T20:46:49.249Z"
   },
   {
    "duration": 1991,
    "start_time": "2022-01-28T20:46:49.689Z"
   },
   {
    "duration": 31,
    "start_time": "2022-01-28T20:46:51.683Z"
   },
   {
    "duration": 194,
    "start_time": "2022-01-28T20:46:51.717Z"
   },
   {
    "duration": 109,
    "start_time": "2022-01-28T20:46:51.914Z"
   },
   {
    "duration": 476,
    "start_time": "2022-01-28T20:46:52.024Z"
   },
   {
    "duration": 17,
    "start_time": "2022-01-28T20:46:52.501Z"
   },
   {
    "duration": 1036,
    "start_time": "2022-02-06T13:42:58.553Z"
   },
   {
    "duration": 414,
    "start_time": "2022-02-06T13:42:59.591Z"
   },
   {
    "duration": 239,
    "start_time": "2022-02-06T13:43:00.007Z"
   },
   {
    "duration": 373,
    "start_time": "2022-02-06T13:43:00.248Z"
   },
   {
    "duration": 157,
    "start_time": "2022-02-06T13:43:00.623Z"
   },
   {
    "duration": 202,
    "start_time": "2022-02-06T13:43:00.782Z"
   },
   {
    "duration": 94,
    "start_time": "2022-02-06T13:43:00.985Z"
   },
   {
    "duration": 59,
    "start_time": "2022-02-06T13:43:01.081Z"
   },
   {
    "duration": 91,
    "start_time": "2022-02-06T13:43:01.143Z"
   },
   {
    "duration": 21,
    "start_time": "2022-02-06T13:43:01.236Z"
   },
   {
    "duration": 42308,
    "start_time": "2022-02-06T13:43:01.259Z"
   },
   {
    "duration": 385,
    "start_time": "2022-02-06T13:43:43.569Z"
   },
   {
    "duration": 2124,
    "start_time": "2022-02-06T13:43:43.956Z"
   },
   {
    "duration": 19,
    "start_time": "2022-02-06T13:43:46.082Z"
   },
   {
    "duration": 19,
    "start_time": "2022-02-06T13:43:46.112Z"
   },
   {
    "duration": 17,
    "start_time": "2022-02-06T13:43:46.133Z"
   },
   {
    "duration": 550,
    "start_time": "2022-02-06T13:43:46.151Z"
   },
   {
    "duration": 23,
    "start_time": "2022-02-06T13:43:46.702Z"
   }
  ],
  "kernelspec": {
   "display_name": "Python 3",
   "language": "python",
   "name": "python3"
  },
  "language_info": {
   "codemirror_mode": {
    "name": "ipython",
    "version": 3
   },
   "file_extension": ".py",
   "mimetype": "text/x-python",
   "name": "python",
   "nbconvert_exporter": "python",
   "pygments_lexer": "ipython3",
   "version": "3.8.10"
  },
  "toc": {
   "base_numbering": 1,
   "nav_menu": {},
   "number_sections": true,
   "sideBar": true,
   "skip_h1_title": true,
   "title_cell": "Table of Contents",
   "title_sidebar": "Contents",
   "toc_cell": false,
   "toc_position": {},
   "toc_section_display": true,
   "toc_window_display": false
  }
 },
 "nbformat": 4,
 "nbformat_minor": 2
}
