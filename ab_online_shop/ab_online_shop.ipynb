{
 "cells": [
  {
   "cell_type": "markdown",
   "metadata": {},
   "source": [
    "# Проект по проверке гипотез по увеличению выручки в интернет-магазине "
   ]
  },
  {
   "cell_type": "markdown",
   "metadata": {
    "toc": true
   },
   "source": [
    "<h1>Содержание<span class=\"tocSkip\"></span></h1>\n",
    "<dl></dl>\n",
    "\n",
    "<div class=\"toc\"><ul class=\"toc-item\"><li><span><a href=\"#Описание-проекта\" data-toc-modified-id=\"Описание-проекта-1\"><span class=\"toc-item-num\">1&nbsp;&nbsp;</span>Описание проекта</a></span></li><li><span><a href=\"#Изучение-данных-и-предобработка\" data-toc-modified-id=\"Изучение-данных-и-предобработка-2\"><span class=\"toc-item-num\">2&nbsp;&nbsp;</span>Изучение данных и предобработка</a></span><ul class=\"toc-item\"><li><span><a href=\"#Загрузка-данных-и-их-изучение\" data-toc-modified-id=\"Загрузка-данных-и-их-изучение-2.1\"><span class=\"toc-item-num\">2.1&nbsp;&nbsp;</span>Загрузка данных и их изучение</a></span></li><li><span><a href=\"#Предобработка\" data-toc-modified-id=\"Предобработка-2.2\"><span class=\"toc-item-num\">2.2&nbsp;&nbsp;</span>Предобработка</a></span></li><li><span><a href=\"#Вывод\" data-toc-modified-id=\"Вывод-2.3\"><span class=\"toc-item-num\">2.3&nbsp;&nbsp;</span>Вывод</a></span></li></ul></li><li><span><a href=\"#Приоритизация-гипотез\" data-toc-modified-id=\"Приоритизация-гипотез-3\"><span class=\"toc-item-num\">3&nbsp;&nbsp;</span>Приоритизация гипотез</a></span><ul class=\"toc-item\"><li><span><a href=\"#Вывод\" data-toc-modified-id=\"Вывод-3.1\"><span class=\"toc-item-num\">3.1&nbsp;&nbsp;</span>Вывод</a></span></li></ul></li><li><span><a href=\"#Анализ-A/B-теста\" data-toc-modified-id=\"Анализ-A/B-теста-4\"><span class=\"toc-item-num\">4&nbsp;&nbsp;</span>Анализ A/B-теста</a></span><ul class=\"toc-item\"><li><span><a href=\"#График-динамики-кумулятивной-выручки-по-группам\" data-toc-modified-id=\"График-динамики-кумулятивной-выручки-по-группам-4.1\"><span class=\"toc-item-num\">4.1&nbsp;&nbsp;</span>График динамики кумулятивной выручки по группам</a></span><ul class=\"toc-item\"><li><span><a href=\"#Вывод\" data-toc-modified-id=\"Вывод-4.1.1\"><span class=\"toc-item-num\">4.1.1&nbsp;&nbsp;</span>Вывод</a></span></li></ul></li><li><span><a href=\"#График-динамики-кумулятивного-среднего-чека-по-группам\" data-toc-modified-id=\"График-динамики-кумулятивного-среднего-чека-по-группам-4.2\"><span class=\"toc-item-num\">4.2&nbsp;&nbsp;</span>График динамики кумулятивного среднего чека по группам</a></span><ul class=\"toc-item\"><li><span><a href=\"#Вывод\" data-toc-modified-id=\"Вывод-4.2.1\"><span class=\"toc-item-num\">4.2.1&nbsp;&nbsp;</span>Вывод</a></span></li></ul></li><li><span><a href=\"#График-относительного-изменения-кумулятивного-среднего-чека\" data-toc-modified-id=\"График-относительного-изменения-кумулятивного-среднего-чека-4.3\"><span class=\"toc-item-num\">4.3&nbsp;&nbsp;</span>График относительного изменения кумулятивного среднего чека</a></span><ul class=\"toc-item\"><li><span><a href=\"#Вывод\" data-toc-modified-id=\"Вывод-4.3.1\"><span class=\"toc-item-num\">4.3.1&nbsp;&nbsp;</span>Вывод</a></span></li></ul></li><li><span><a href=\"#График-кумулятивной-конверсии-по-группам\" data-toc-modified-id=\"График-кумулятивной-конверсии-по-группам-4.4\"><span class=\"toc-item-num\">4.4&nbsp;&nbsp;</span>График кумулятивной конверсии по группам</a></span><ul class=\"toc-item\"><li><span><a href=\"#Вывод\" data-toc-modified-id=\"Вывод-4.4.1\"><span class=\"toc-item-num\">4.4.1&nbsp;&nbsp;</span>Вывод</a></span></li></ul></li><li><span><a href=\"#График-относительного-изменения-кумулятивной-конверсии-группы-B-к-группе-A\" data-toc-modified-id=\"График-относительного-изменения-кумулятивной-конверсии-группы-B-к-группе-A-4.5\"><span class=\"toc-item-num\">4.5&nbsp;&nbsp;</span>График относительного изменения кумулятивной конверсии группы B к группе A</a></span><ul class=\"toc-item\"><li><span><a href=\"#Вывод\" data-toc-modified-id=\"Вывод-4.5.1\"><span class=\"toc-item-num\">4.5.1&nbsp;&nbsp;</span>Вывод</a></span></li></ul></li><li><span><a href=\"#Точечный-график-количества-заказов-по-пользователям\" data-toc-modified-id=\"Точечный-график-количества-заказов-по-пользователям-4.6\"><span class=\"toc-item-num\">4.6&nbsp;&nbsp;</span>Точечный график количества заказов по пользователям</a></span></li><li><span><a href=\"#95-й-и-99-й-перцентили-количества-заказов-на-пользователя\" data-toc-modified-id=\"95-й-и-99-й-перцентили-количества-заказов-на-пользователя-4.7\"><span class=\"toc-item-num\">4.7&nbsp;&nbsp;</span>95-й и 99-й перцентили количества заказов на пользователя</a></span><ul class=\"toc-item\"><li><span><a href=\"#Вывод\" data-toc-modified-id=\"Вывод-4.7.1\"><span class=\"toc-item-num\">4.7.1&nbsp;&nbsp;</span>Вывод</a></span></li></ul></li><li><span><a href=\"#Точечный-график-стоимости-заказов\" data-toc-modified-id=\"Точечный-график-стоимости-заказов-4.8\"><span class=\"toc-item-num\">4.8&nbsp;&nbsp;</span>Точечный график стоимости заказов</a></span></li><li><span><a href=\"#95-й-и-99-й-перцентили-стоимости-заказов\" data-toc-modified-id=\"95-й-и-99-й-перцентили-стоимости-заказов-4.9\"><span class=\"toc-item-num\">4.9&nbsp;&nbsp;</span>95-й и 99-й перцентили стоимости заказов</a></span><ul class=\"toc-item\"><li><span><a href=\"#Вывод\" data-toc-modified-id=\"Вывод-4.9.1\"><span class=\"toc-item-num\">4.9.1&nbsp;&nbsp;</span>Вывод</a></span></li></ul></li><li><span><a href=\"#Статистическая-значимость-различий-в-конверсии-между-группами-по-«сырым»-данным\" data-toc-modified-id=\"Статистическая-значимость-различий-в-конверсии-между-группами-по-«сырым»-данным-4.10\"><span class=\"toc-item-num\">4.10&nbsp;&nbsp;</span>Статистическая значимость различий в конверсии между группами по «сырым» данным</a></span><ul class=\"toc-item\"><li><span><a href=\"#Вывод\" data-toc-modified-id=\"Вывод-4.10.1\"><span class=\"toc-item-num\">4.10.1&nbsp;&nbsp;</span>Вывод</a></span></li></ul></li><li><span><a href=\"#Статистическая-значимость-различий-в-среднем-чеке-заказа-между-группами-по-«сырым»-данным\" data-toc-modified-id=\"Статистическая-значимость-различий-в-среднем-чеке-заказа-между-группами-по-«сырым»-данным-4.11\"><span class=\"toc-item-num\">4.11&nbsp;&nbsp;</span>Статистическая значимость различий в среднем чеке заказа между группами по «сырым» данным</a></span><ul class=\"toc-item\"><li><span><a href=\"#Вывод\" data-toc-modified-id=\"Вывод-4.11.1\"><span class=\"toc-item-num\">4.11.1&nbsp;&nbsp;</span>Вывод</a></span></li></ul></li><li><span><a href=\"#Статистическую-значимость-различий-в-конверсии-между-группами-по-«очищенным»-данным\" data-toc-modified-id=\"Статистическую-значимость-различий-в-конверсии-между-группами-по-«очищенным»-данным-4.12\"><span class=\"toc-item-num\">4.12&nbsp;&nbsp;</span>Статистическую значимость различий в конверсии между группами по «очищенным» данным</a></span><ul class=\"toc-item\"><li><span><a href=\"#Вывод\" data-toc-modified-id=\"Вывод-4.12.1\"><span class=\"toc-item-num\">4.12.1&nbsp;&nbsp;</span>Вывод</a></span></li></ul></li><li><span><a href=\"#Статистическая-значимость-различий-в-среднем-чеке-заказа-между-группами-по-«очищенным»-данным\" data-toc-modified-id=\"Статистическая-значимость-различий-в-среднем-чеке-заказа-между-группами-по-«очищенным»-данным-4.13\"><span class=\"toc-item-num\">4.13&nbsp;&nbsp;</span>Статистическая значимость различий в среднем чеке заказа между группами по «очищенным» данным</a></span><ul class=\"toc-item\"><li><span><a href=\"#Вывод\" data-toc-modified-id=\"Вывод-4.13.1\"><span class=\"toc-item-num\">4.13.1&nbsp;&nbsp;</span>Вывод</a></span></li></ul></li></ul></li><li><span><a href=\"#Вывод\" data-toc-modified-id=\"Вывод-5\"><span class=\"toc-item-num\">5&nbsp;&nbsp;</span>Вывод</a></span></li></ul></div>"
   ]
  },
  {
   "cell_type": "markdown",
   "metadata": {},
   "source": [
    "## Описание проекта"
   ]
  },
  {
   "cell_type": "markdown",
   "metadata": {},
   "source": [
    "Отдел маркетинга крупного интернет-магазина предоставил список гипотез для увеличения выручки.\n",
    "   Наша задача приоритизировать гипотезы, запустить A/B-тест и проанализировать результаты.\n",
    "    \n"
   ]
  },
  {
   "cell_type": "markdown",
   "metadata": {},
   "source": [
    "## Изучение данных и предобработка"
   ]
  },
  {
   "cell_type": "markdown",
   "metadata": {},
   "source": [
    "### Загрузка данных и их изучение"
   ]
  },
  {
   "cell_type": "code",
   "execution_count": 16,
   "metadata": {},
   "outputs": [],
   "source": [
    "import pandas as pd\n",
    "import warnings\n",
    "warnings.filterwarnings('ignore')\n",
    "import seaborn as sns\n",
    "from datetime import datetime, timedelta\n",
    "from matplotlib import pyplot as plt\n",
    "import numpy as np\n",
    "import datetime as dt\n",
    "import scipy.stats as stats\n",
    "\n",
    "pd.set_option('display.float_format', '{:,.2f}'.format)\n",
    "pd.set_option('display.max_colwidth', None)\n",
    "\n",
    "\n"
   ]
  },
  {
   "cell_type": "code",
   "execution_count": 17,
   "metadata": {},
   "outputs": [],
   "source": [
    "try:\n",
    "    hypothesis = pd.read_csv('/datasets/hypothesis.csv')\n",
    "\n",
    "    orders = pd.read_csv('/datasets/orders.csv')\n",
    "\n",
    "    visitors = pd.read_csv('/datasets/visitors.csv')\n",
    "\n",
    "except FileNotFoundError:\n",
    "    hypothesis = pd.read_csv('hypothesis.csv')\n",
    "\n",
    "    orders = pd.read_csv('orders.csv')\n",
    "\n",
    "    visitors = pd.read_csv('visitors.csv')"
   ]
  },
  {
   "cell_type": "code",
   "execution_count": 18,
   "metadata": {},
   "outputs": [
    {
     "name": "stdout",
     "output_type": "stream",
     "text": [
      "<class 'pandas.core.frame.DataFrame'>\n",
      "RangeIndex: 9 entries, 0 to 8\n",
      "Data columns (total 5 columns):\n",
      " #   Column      Non-Null Count  Dtype \n",
      "---  ------      --------------  ----- \n",
      " 0   Hypothesis  9 non-null      object\n",
      " 1   Reach       9 non-null      int64 \n",
      " 2   Impact      9 non-null      int64 \n",
      " 3   Confidence  9 non-null      int64 \n",
      " 4   Efforts     9 non-null      int64 \n",
      "dtypes: int64(4), object(1)\n",
      "memory usage: 488.0+ bytes\n",
      "**************************************************\n"
     ]
    },
    {
     "data": {
      "text/html": [
       "<div>\n",
       "<style scoped>\n",
       "    .dataframe tbody tr th:only-of-type {\n",
       "        vertical-align: middle;\n",
       "    }\n",
       "\n",
       "    .dataframe tbody tr th {\n",
       "        vertical-align: top;\n",
       "    }\n",
       "\n",
       "    .dataframe thead th {\n",
       "        text-align: right;\n",
       "    }\n",
       "</style>\n",
       "<table border=\"1\" class=\"dataframe\">\n",
       "  <thead>\n",
       "    <tr style=\"text-align: right;\">\n",
       "      <th></th>\n",
       "      <th>Hypothesis</th>\n",
       "      <th>Reach</th>\n",
       "      <th>Impact</th>\n",
       "      <th>Confidence</th>\n",
       "      <th>Efforts</th>\n",
       "    </tr>\n",
       "  </thead>\n",
       "  <tbody>\n",
       "    <tr>\n",
       "      <th>0</th>\n",
       "      <td>Добавить два новых канала привлечения трафика, что позволит привлекать на 30% больше пользователей</td>\n",
       "      <td>3</td>\n",
       "      <td>10</td>\n",
       "      <td>8</td>\n",
       "      <td>6</td>\n",
       "    </tr>\n",
       "    <tr>\n",
       "      <th>1</th>\n",
       "      <td>Запустить собственную службу доставки, что сократит срок доставки заказов</td>\n",
       "      <td>2</td>\n",
       "      <td>5</td>\n",
       "      <td>4</td>\n",
       "      <td>10</td>\n",
       "    </tr>\n",
       "    <tr>\n",
       "      <th>2</th>\n",
       "      <td>Добавить блоки рекомендаций товаров на сайт интернет магазина, чтобы повысить конверсию и средний чек заказа</td>\n",
       "      <td>8</td>\n",
       "      <td>3</td>\n",
       "      <td>7</td>\n",
       "      <td>3</td>\n",
       "    </tr>\n",
       "    <tr>\n",
       "      <th>3</th>\n",
       "      <td>Изменить структура категорий, что увеличит конверсию, т.к. пользователи быстрее найдут нужный товар</td>\n",
       "      <td>8</td>\n",
       "      <td>3</td>\n",
       "      <td>3</td>\n",
       "      <td>8</td>\n",
       "    </tr>\n",
       "    <tr>\n",
       "      <th>4</th>\n",
       "      <td>Изменить цвет фона главной страницы, чтобы увеличить вовлеченность пользователей</td>\n",
       "      <td>3</td>\n",
       "      <td>1</td>\n",
       "      <td>1</td>\n",
       "      <td>1</td>\n",
       "    </tr>\n",
       "    <tr>\n",
       "      <th>5</th>\n",
       "      <td>Добавить страницу отзывов клиентов о магазине, что позволит увеличить количество заказов</td>\n",
       "      <td>3</td>\n",
       "      <td>2</td>\n",
       "      <td>2</td>\n",
       "      <td>3</td>\n",
       "    </tr>\n",
       "    <tr>\n",
       "      <th>6</th>\n",
       "      <td>Показать на главной странице баннеры с актуальными акциями и распродажами, чтобы увеличить конверсию</td>\n",
       "      <td>5</td>\n",
       "      <td>3</td>\n",
       "      <td>8</td>\n",
       "      <td>3</td>\n",
       "    </tr>\n",
       "    <tr>\n",
       "      <th>7</th>\n",
       "      <td>Добавить форму подписки на все основные страницы, чтобы собрать базу клиентов для email-рассылок</td>\n",
       "      <td>10</td>\n",
       "      <td>7</td>\n",
       "      <td>8</td>\n",
       "      <td>5</td>\n",
       "    </tr>\n",
       "    <tr>\n",
       "      <th>8</th>\n",
       "      <td>Запустить акцию, дающую скидку на товар в день рождения</td>\n",
       "      <td>1</td>\n",
       "      <td>9</td>\n",
       "      <td>9</td>\n",
       "      <td>5</td>\n",
       "    </tr>\n",
       "  </tbody>\n",
       "</table>\n",
       "</div>"
      ],
      "text/plain": [
       "                                                                                                     Hypothesis  \\\n",
       "0            Добавить два новых канала привлечения трафика, что позволит привлекать на 30% больше пользователей   \n",
       "1                                     Запустить собственную службу доставки, что сократит срок доставки заказов   \n",
       "2  Добавить блоки рекомендаций товаров на сайт интернет магазина, чтобы повысить конверсию и средний чек заказа   \n",
       "3           Изменить структура категорий, что увеличит конверсию, т.к. пользователи быстрее найдут нужный товар   \n",
       "4                              Изменить цвет фона главной страницы, чтобы увеличить вовлеченность пользователей   \n",
       "5                      Добавить страницу отзывов клиентов о магазине, что позволит увеличить количество заказов   \n",
       "6          Показать на главной странице баннеры с актуальными акциями и распродажами, чтобы увеличить конверсию   \n",
       "7              Добавить форму подписки на все основные страницы, чтобы собрать базу клиентов для email-рассылок   \n",
       "8                                                       Запустить акцию, дающую скидку на товар в день рождения   \n",
       "\n",
       "   Reach  Impact  Confidence  Efforts  \n",
       "0      3      10           8        6  \n",
       "1      2       5           4       10  \n",
       "2      8       3           7        3  \n",
       "3      8       3           3        8  \n",
       "4      3       1           1        1  \n",
       "5      3       2           2        3  \n",
       "6      5       3           8        3  \n",
       "7     10       7           8        5  \n",
       "8      1       9           9        5  "
      ]
     },
     "metadata": {},
     "output_type": "display_data"
    },
    {
     "name": "stdout",
     "output_type": "stream",
     "text": [
      "**************************************************\n",
      "Количество строк и стобцов:  (9, 5)\n",
      "**************************************************\n"
     ]
    },
    {
     "data": {
      "text/html": [
       "<div>\n",
       "<style scoped>\n",
       "    .dataframe tbody tr th:only-of-type {\n",
       "        vertical-align: middle;\n",
       "    }\n",
       "\n",
       "    .dataframe tbody tr th {\n",
       "        vertical-align: top;\n",
       "    }\n",
       "\n",
       "    .dataframe thead th {\n",
       "        text-align: right;\n",
       "    }\n",
       "</style>\n",
       "<table border=\"1\" class=\"dataframe\">\n",
       "  <thead>\n",
       "    <tr style=\"text-align: right;\">\n",
       "      <th></th>\n",
       "      <th>Reach</th>\n",
       "      <th>Impact</th>\n",
       "      <th>Confidence</th>\n",
       "      <th>Efforts</th>\n",
       "    </tr>\n",
       "  </thead>\n",
       "  <tbody>\n",
       "    <tr>\n",
       "      <th>count</th>\n",
       "      <td>9.00</td>\n",
       "      <td>9.00</td>\n",
       "      <td>9.00</td>\n",
       "      <td>9.00</td>\n",
       "    </tr>\n",
       "    <tr>\n",
       "      <th>mean</th>\n",
       "      <td>4.78</td>\n",
       "      <td>4.78</td>\n",
       "      <td>5.56</td>\n",
       "      <td>4.89</td>\n",
       "    </tr>\n",
       "    <tr>\n",
       "      <th>std</th>\n",
       "      <td>3.15</td>\n",
       "      <td>3.19</td>\n",
       "      <td>3.05</td>\n",
       "      <td>2.80</td>\n",
       "    </tr>\n",
       "    <tr>\n",
       "      <th>min</th>\n",
       "      <td>1.00</td>\n",
       "      <td>1.00</td>\n",
       "      <td>1.00</td>\n",
       "      <td>1.00</td>\n",
       "    </tr>\n",
       "    <tr>\n",
       "      <th>25%</th>\n",
       "      <td>3.00</td>\n",
       "      <td>3.00</td>\n",
       "      <td>3.00</td>\n",
       "      <td>3.00</td>\n",
       "    </tr>\n",
       "    <tr>\n",
       "      <th>50%</th>\n",
       "      <td>3.00</td>\n",
       "      <td>3.00</td>\n",
       "      <td>7.00</td>\n",
       "      <td>5.00</td>\n",
       "    </tr>\n",
       "    <tr>\n",
       "      <th>75%</th>\n",
       "      <td>8.00</td>\n",
       "      <td>7.00</td>\n",
       "      <td>8.00</td>\n",
       "      <td>6.00</td>\n",
       "    </tr>\n",
       "    <tr>\n",
       "      <th>max</th>\n",
       "      <td>10.00</td>\n",
       "      <td>10.00</td>\n",
       "      <td>9.00</td>\n",
       "      <td>10.00</td>\n",
       "    </tr>\n",
       "  </tbody>\n",
       "</table>\n",
       "</div>"
      ],
      "text/plain": [
       "       Reach  Impact  Confidence  Efforts\n",
       "count   9.00    9.00        9.00     9.00\n",
       "mean    4.78    4.78        5.56     4.89\n",
       "std     3.15    3.19        3.05     2.80\n",
       "min     1.00    1.00        1.00     1.00\n",
       "25%     3.00    3.00        3.00     3.00\n",
       "50%     3.00    3.00        7.00     5.00\n",
       "75%     8.00    7.00        8.00     6.00\n",
       "max    10.00   10.00        9.00    10.00"
      ]
     },
     "metadata": {},
     "output_type": "display_data"
    },
    {
     "name": "stdout",
     "output_type": "stream",
     "text": [
      "**************************************************\n",
      "Наименование столбцов:\n"
     ]
    },
    {
     "data": {
      "text/plain": [
       "Index(['Hypothesis', 'Reach', 'Impact', 'Confidence', 'Efforts'], dtype='object')"
      ]
     },
     "metadata": {},
     "output_type": "display_data"
    },
    {
     "name": "stdout",
     "output_type": "stream",
     "text": [
      "**************************************************\n",
      "Максимальные значения столбцов:\n"
     ]
    },
    {
     "data": {
      "text/plain": [
       "Hypothesis    Показать на главной странице баннеры с актуальными акциями и распродажами, чтобы увеличить конверсию\n",
       "Reach                                                                                                           10\n",
       "Impact                                                                                                          10\n",
       "Confidence                                                                                                       9\n",
       "Efforts                                                                                                         10\n",
       "dtype: object"
      ]
     },
     "metadata": {},
     "output_type": "display_data"
    },
    {
     "name": "stdout",
     "output_type": "stream",
     "text": [
      "**************************************************\n",
      "Минимальные значения столбцов:\n"
     ]
    },
    {
     "data": {
      "text/plain": [
       "Hypothesis    Добавить блоки рекомендаций товаров на сайт интернет магазина, чтобы повысить конверсию и средний чек заказа\n",
       "Reach                                                                                                                    1\n",
       "Impact                                                                                                                   1\n",
       "Confidence                                                                                                               1\n",
       "Efforts                                                                                                                  1\n",
       "dtype: object"
      ]
     },
     "metadata": {},
     "output_type": "display_data"
    },
    {
     "name": "stdout",
     "output_type": "stream",
     "text": [
      "**************************************************\n",
      "Значения столбцов по возрастанию встречаемости:\n",
      "Добавить два новых канала привлечения трафика, что позволит привлекать на 30% больше пользователей              1\n",
      "Запустить собственную службу доставки, что сократит срок доставки заказов                                       1\n",
      "Добавить блоки рекомендаций товаров на сайт интернет магазина, чтобы повысить конверсию и средний чек заказа    1\n",
      "Изменить структура категорий, что увеличит конверсию, т.к. пользователи быстрее найдут нужный товар             1\n",
      "Изменить цвет фона главной страницы, чтобы увеличить вовлеченность пользователей                                1\n",
      "Добавить страницу отзывов клиентов о магазине, что позволит увеличить количество заказов                        1\n",
      "Показать на главной странице баннеры с актуальными акциями и распродажами, чтобы увеличить конверсию            1\n",
      "Добавить форму подписки на все основные страницы, чтобы собрать базу клиентов для email-рассылок                1\n",
      "Запустить акцию, дающую скидку на товар в день рождения                                                         1\n",
      "Name: Hypothesis, dtype: int64\n",
      "*****\n",
      "2     1\n",
      "5     1\n",
      "10    1\n",
      "1     1\n",
      "8     2\n",
      "3     3\n",
      "Name: Reach, dtype: int64\n",
      "*****\n",
      "10    1\n",
      "5     1\n",
      "1     1\n",
      "2     1\n",
      "7     1\n",
      "9     1\n",
      "3     3\n",
      "Name: Impact, dtype: int64\n",
      "*****\n",
      "4    1\n",
      "7    1\n",
      "3    1\n",
      "1    1\n",
      "2    1\n",
      "9    1\n",
      "8    3\n",
      "Name: Confidence, dtype: int64\n",
      "*****\n",
      "6     1\n",
      "10    1\n",
      "8     1\n",
      "1     1\n",
      "5     2\n",
      "3     3\n",
      "Name: Efforts, dtype: int64\n",
      "*****\n",
      "\n",
      "**************************************************\n",
      "Количество повторов: 0\n"
     ]
    }
   ],
   "source": [
    "# универсальная функция для вывода информации о базе данных\n",
    "def primary_analysis(df):\n",
    "    # информация о датафрейме, количество столбцов и строк, типы данных, названия столбцов и первые 10 строк ДФ.\n",
    "    df.info()\n",
    "    print('*'*50)\n",
    "    display(df.head(10))\n",
    "    print('*'*50)\n",
    "    print(\"Количество строк и стобцов: \",df.shape)\n",
    "    print('*'*50)\n",
    "    display(df.describe())\n",
    "    print('*'*50)\n",
    "    print('Наименование столбцов:')\n",
    "    display(df.columns)\n",
    "    print('*'*50)\n",
    "    # максимальные и минимальные значения\n",
    "    print('Максимальные значения столбцов:')\n",
    "    display(df.max())\n",
    "    print('*'*50)\n",
    "    print('Минимальные значения столбцов:')\n",
    "    display(df.min())\n",
    "    print('*'*50)\n",
    "    # уникальные значения по возрастанию встречаемости\n",
    "    print('Значения столбцов по возрастанию встречаемости:')\n",
    "    for value in df:\n",
    "        print(df[value].value_counts().sort_values())\n",
    "        print('*'*5)\n",
    "    print()\n",
    "    # проверка на полные дубликаты\n",
    "    print('*'*50)\n",
    "    print('Количество повторов:', df.duplicated().sum())\n",
    "primary_analysis(hypothesis)"
   ]
  },
  {
   "cell_type": "code",
   "execution_count": 19,
   "metadata": {},
   "outputs": [
    {
     "name": "stdout",
     "output_type": "stream",
     "text": [
      "<class 'pandas.core.frame.DataFrame'>\n",
      "RangeIndex: 1197 entries, 0 to 1196\n",
      "Data columns (total 5 columns):\n",
      " #   Column         Non-Null Count  Dtype \n",
      "---  ------         --------------  ----- \n",
      " 0   transactionId  1197 non-null   int64 \n",
      " 1   visitorId      1197 non-null   int64 \n",
      " 2   date           1197 non-null   object\n",
      " 3   revenue        1197 non-null   int64 \n",
      " 4   group          1197 non-null   object\n",
      "dtypes: int64(3), object(2)\n",
      "memory usage: 46.9+ KB\n",
      "**************************************************\n"
     ]
    },
    {
     "data": {
      "text/html": [
       "<div>\n",
       "<style scoped>\n",
       "    .dataframe tbody tr th:only-of-type {\n",
       "        vertical-align: middle;\n",
       "    }\n",
       "\n",
       "    .dataframe tbody tr th {\n",
       "        vertical-align: top;\n",
       "    }\n",
       "\n",
       "    .dataframe thead th {\n",
       "        text-align: right;\n",
       "    }\n",
       "</style>\n",
       "<table border=\"1\" class=\"dataframe\">\n",
       "  <thead>\n",
       "    <tr style=\"text-align: right;\">\n",
       "      <th></th>\n",
       "      <th>transactionId</th>\n",
       "      <th>visitorId</th>\n",
       "      <th>date</th>\n",
       "      <th>revenue</th>\n",
       "      <th>group</th>\n",
       "    </tr>\n",
       "  </thead>\n",
       "  <tbody>\n",
       "    <tr>\n",
       "      <th>0</th>\n",
       "      <td>3667963787</td>\n",
       "      <td>3312258926</td>\n",
       "      <td>2019-08-15</td>\n",
       "      <td>1650</td>\n",
       "      <td>B</td>\n",
       "    </tr>\n",
       "    <tr>\n",
       "      <th>1</th>\n",
       "      <td>2804400009</td>\n",
       "      <td>3642806036</td>\n",
       "      <td>2019-08-15</td>\n",
       "      <td>730</td>\n",
       "      <td>B</td>\n",
       "    </tr>\n",
       "    <tr>\n",
       "      <th>2</th>\n",
       "      <td>2961555356</td>\n",
       "      <td>4069496402</td>\n",
       "      <td>2019-08-15</td>\n",
       "      <td>400</td>\n",
       "      <td>A</td>\n",
       "    </tr>\n",
       "    <tr>\n",
       "      <th>3</th>\n",
       "      <td>3797467345</td>\n",
       "      <td>1196621759</td>\n",
       "      <td>2019-08-15</td>\n",
       "      <td>9759</td>\n",
       "      <td>B</td>\n",
       "    </tr>\n",
       "    <tr>\n",
       "      <th>4</th>\n",
       "      <td>2282983706</td>\n",
       "      <td>2322279887</td>\n",
       "      <td>2019-08-15</td>\n",
       "      <td>2308</td>\n",
       "      <td>B</td>\n",
       "    </tr>\n",
       "    <tr>\n",
       "      <th>5</th>\n",
       "      <td>182168103</td>\n",
       "      <td>935554773</td>\n",
       "      <td>2019-08-15</td>\n",
       "      <td>2210</td>\n",
       "      <td>B</td>\n",
       "    </tr>\n",
       "    <tr>\n",
       "      <th>6</th>\n",
       "      <td>398296753</td>\n",
       "      <td>2900797465</td>\n",
       "      <td>2019-08-15</td>\n",
       "      <td>1860</td>\n",
       "      <td>B</td>\n",
       "    </tr>\n",
       "    <tr>\n",
       "      <th>7</th>\n",
       "      <td>2626614568</td>\n",
       "      <td>78758296</td>\n",
       "      <td>2019-08-15</td>\n",
       "      <td>1044</td>\n",
       "      <td>A</td>\n",
       "    </tr>\n",
       "    <tr>\n",
       "      <th>8</th>\n",
       "      <td>1576988021</td>\n",
       "      <td>295230930</td>\n",
       "      <td>2019-08-15</td>\n",
       "      <td>13710</td>\n",
       "      <td>A</td>\n",
       "    </tr>\n",
       "    <tr>\n",
       "      <th>9</th>\n",
       "      <td>1506739906</td>\n",
       "      <td>1882260405</td>\n",
       "      <td>2019-08-15</td>\n",
       "      <td>1855</td>\n",
       "      <td>B</td>\n",
       "    </tr>\n",
       "  </tbody>\n",
       "</table>\n",
       "</div>"
      ],
      "text/plain": [
       "   transactionId   visitorId        date  revenue group\n",
       "0     3667963787  3312258926  2019-08-15     1650     B\n",
       "1     2804400009  3642806036  2019-08-15      730     B\n",
       "2     2961555356  4069496402  2019-08-15      400     A\n",
       "3     3797467345  1196621759  2019-08-15     9759     B\n",
       "4     2282983706  2322279887  2019-08-15     2308     B\n",
       "5      182168103   935554773  2019-08-15     2210     B\n",
       "6      398296753  2900797465  2019-08-15     1860     B\n",
       "7     2626614568    78758296  2019-08-15     1044     A\n",
       "8     1576988021   295230930  2019-08-15    13710     A\n",
       "9     1506739906  1882260405  2019-08-15     1855     B"
      ]
     },
     "metadata": {},
     "output_type": "display_data"
    },
    {
     "name": "stdout",
     "output_type": "stream",
     "text": [
      "**************************************************\n",
      "Количество строк и стобцов:  (1197, 5)\n",
      "**************************************************\n"
     ]
    },
    {
     "data": {
      "text/html": [
       "<div>\n",
       "<style scoped>\n",
       "    .dataframe tbody tr th:only-of-type {\n",
       "        vertical-align: middle;\n",
       "    }\n",
       "\n",
       "    .dataframe tbody tr th {\n",
       "        vertical-align: top;\n",
       "    }\n",
       "\n",
       "    .dataframe thead th {\n",
       "        text-align: right;\n",
       "    }\n",
       "</style>\n",
       "<table border=\"1\" class=\"dataframe\">\n",
       "  <thead>\n",
       "    <tr style=\"text-align: right;\">\n",
       "      <th></th>\n",
       "      <th>transactionId</th>\n",
       "      <th>visitorId</th>\n",
       "      <th>revenue</th>\n",
       "    </tr>\n",
       "  </thead>\n",
       "  <tbody>\n",
       "    <tr>\n",
       "      <th>count</th>\n",
       "      <td>1,197.00</td>\n",
       "      <td>1,197.00</td>\n",
       "      <td>1,197.00</td>\n",
       "    </tr>\n",
       "    <tr>\n",
       "      <th>mean</th>\n",
       "      <td>2,155,621,385.53</td>\n",
       "      <td>2,165,960,143.10</td>\n",
       "      <td>8,348.01</td>\n",
       "    </tr>\n",
       "    <tr>\n",
       "      <th>std</th>\n",
       "      <td>1,229,084,904.76</td>\n",
       "      <td>1,236,014,192.15</td>\n",
       "      <td>39,191.13</td>\n",
       "    </tr>\n",
       "    <tr>\n",
       "      <th>min</th>\n",
       "      <td>1,062,393.00</td>\n",
       "      <td>5,114,589.00</td>\n",
       "      <td>50.00</td>\n",
       "    </tr>\n",
       "    <tr>\n",
       "      <th>25%</th>\n",
       "      <td>1,166,775,572.00</td>\n",
       "      <td>1,111,826,046.00</td>\n",
       "      <td>1,220.00</td>\n",
       "    </tr>\n",
       "    <tr>\n",
       "      <th>50%</th>\n",
       "      <td>2,145,193,898.00</td>\n",
       "      <td>2,217,984,702.00</td>\n",
       "      <td>2,978.00</td>\n",
       "    </tr>\n",
       "    <tr>\n",
       "      <th>75%</th>\n",
       "      <td>3,237,740,112.00</td>\n",
       "      <td>3,177,606,451.00</td>\n",
       "      <td>8,290.00</td>\n",
       "    </tr>\n",
       "    <tr>\n",
       "      <th>max</th>\n",
       "      <td>4,293,855,558.00</td>\n",
       "      <td>4,283,872,382.00</td>\n",
       "      <td>1,294,500.00</td>\n",
       "    </tr>\n",
       "  </tbody>\n",
       "</table>\n",
       "</div>"
      ],
      "text/plain": [
       "         transactionId        visitorId      revenue\n",
       "count         1,197.00         1,197.00     1,197.00\n",
       "mean  2,155,621,385.53 2,165,960,143.10     8,348.01\n",
       "std   1,229,084,904.76 1,236,014,192.15    39,191.13\n",
       "min       1,062,393.00     5,114,589.00        50.00\n",
       "25%   1,166,775,572.00 1,111,826,046.00     1,220.00\n",
       "50%   2,145,193,898.00 2,217,984,702.00     2,978.00\n",
       "75%   3,237,740,112.00 3,177,606,451.00     8,290.00\n",
       "max   4,293,855,558.00 4,283,872,382.00 1,294,500.00"
      ]
     },
     "metadata": {},
     "output_type": "display_data"
    },
    {
     "name": "stdout",
     "output_type": "stream",
     "text": [
      "**************************************************\n",
      "Наименование столбцов:\n"
     ]
    },
    {
     "data": {
      "text/plain": [
       "Index(['transactionId', 'visitorId', 'date', 'revenue', 'group'], dtype='object')"
      ]
     },
     "metadata": {},
     "output_type": "display_data"
    },
    {
     "name": "stdout",
     "output_type": "stream",
     "text": [
      "**************************************************\n",
      "Максимальные значения столбцов:\n"
     ]
    },
    {
     "data": {
      "text/plain": [
       "transactionId    4293855558\n",
       "visitorId        4283872382\n",
       "date             2019-08-31\n",
       "revenue             1294500\n",
       "group                     B\n",
       "dtype: object"
      ]
     },
     "metadata": {},
     "output_type": "display_data"
    },
    {
     "name": "stdout",
     "output_type": "stream",
     "text": [
      "**************************************************\n",
      "Минимальные значения столбцов:\n"
     ]
    },
    {
     "data": {
      "text/plain": [
       "transactionId       1062393\n",
       "visitorId           5114589\n",
       "date             2019-08-01\n",
       "revenue                  50\n",
       "group                     A\n",
       "dtype: object"
      ]
     },
     "metadata": {},
     "output_type": "display_data"
    },
    {
     "name": "stdout",
     "output_type": "stream",
     "text": [
      "**************************************************\n",
      "Значения столбцов по возрастанию встречаемости:\n",
      "3667963787    1\n",
      "182168103     1\n",
      "398296753     1\n",
      "2626614568    1\n",
      "1576988021    1\n",
      "             ..\n",
      "1947021204    1\n",
      "1476831880    1\n",
      "86504917      1\n",
      "3607552320    1\n",
      "3936777065    1\n",
      "Name: transactionId, Length: 1197, dtype: int64\n",
      "*****\n",
      "318152663      1\n",
      "930356060      1\n",
      "1215602524     1\n",
      "3251102545     1\n",
      "1690383497     1\n",
      "              ..\n",
      "3062433592     5\n",
      "2038680547     8\n",
      "2378935119     9\n",
      "2458001652    11\n",
      "4256040402    11\n",
      "Name: visitorId, Length: 1031, dtype: int64\n",
      "*****\n",
      "2019-08-25    24\n",
      "2019-08-17    24\n",
      "2019-08-18    26\n",
      "2019-08-11    26\n",
      "2019-08-24    31\n",
      "2019-08-31    32\n",
      "2019-08-20    32\n",
      "2019-08-04    33\n",
      "2019-08-13    35\n",
      "2019-08-30    35\n",
      "2019-08-21    37\n",
      "2019-08-16    38\n",
      "2019-08-10    39\n",
      "2019-08-23    40\n",
      "2019-08-03    40\n",
      "2019-08-26    41\n",
      "2019-08-22    41\n",
      "2019-08-09    41\n",
      "2019-08-07    42\n",
      "2019-08-29    42\n",
      "2019-08-19    43\n",
      "2019-08-08    43\n",
      "2019-08-27    44\n",
      "2019-08-02    44\n",
      "2019-08-28    45\n",
      "2019-08-01    45\n",
      "2019-08-15    46\n",
      "2019-08-06    46\n",
      "2019-08-12    47\n",
      "2019-08-14    47\n",
      "2019-08-05    48\n",
      "Name: date, dtype: int64\n",
      "*****\n",
      "1707      1\n",
      "2090      1\n",
      "310       1\n",
      "3210      1\n",
      "38160     1\n",
      "         ..\n",
      "1490     10\n",
      "400      10\n",
      "890      13\n",
      "390      13\n",
      "990      17\n",
      "Name: revenue, Length: 713, dtype: int64\n",
      "*****\n",
      "A    557\n",
      "B    640\n",
      "Name: group, dtype: int64\n",
      "*****\n",
      "\n",
      "**************************************************\n",
      "Количество повторов: 0\n"
     ]
    }
   ],
   "source": [
    "primary_analysis(orders)"
   ]
  },
  {
   "cell_type": "code",
   "execution_count": 20,
   "metadata": {},
   "outputs": [
    {
     "name": "stdout",
     "output_type": "stream",
     "text": [
      "<class 'pandas.core.frame.DataFrame'>\n",
      "RangeIndex: 62 entries, 0 to 61\n",
      "Data columns (total 3 columns):\n",
      " #   Column    Non-Null Count  Dtype \n",
      "---  ------    --------------  ----- \n",
      " 0   date      62 non-null     object\n",
      " 1   group     62 non-null     object\n",
      " 2   visitors  62 non-null     int64 \n",
      "dtypes: int64(1), object(2)\n",
      "memory usage: 1.6+ KB\n",
      "**************************************************\n"
     ]
    },
    {
     "data": {
      "text/html": [
       "<div>\n",
       "<style scoped>\n",
       "    .dataframe tbody tr th:only-of-type {\n",
       "        vertical-align: middle;\n",
       "    }\n",
       "\n",
       "    .dataframe tbody tr th {\n",
       "        vertical-align: top;\n",
       "    }\n",
       "\n",
       "    .dataframe thead th {\n",
       "        text-align: right;\n",
       "    }\n",
       "</style>\n",
       "<table border=\"1\" class=\"dataframe\">\n",
       "  <thead>\n",
       "    <tr style=\"text-align: right;\">\n",
       "      <th></th>\n",
       "      <th>date</th>\n",
       "      <th>group</th>\n",
       "      <th>visitors</th>\n",
       "    </tr>\n",
       "  </thead>\n",
       "  <tbody>\n",
       "    <tr>\n",
       "      <th>0</th>\n",
       "      <td>2019-08-01</td>\n",
       "      <td>A</td>\n",
       "      <td>719</td>\n",
       "    </tr>\n",
       "    <tr>\n",
       "      <th>1</th>\n",
       "      <td>2019-08-02</td>\n",
       "      <td>A</td>\n",
       "      <td>619</td>\n",
       "    </tr>\n",
       "    <tr>\n",
       "      <th>2</th>\n",
       "      <td>2019-08-03</td>\n",
       "      <td>A</td>\n",
       "      <td>507</td>\n",
       "    </tr>\n",
       "    <tr>\n",
       "      <th>3</th>\n",
       "      <td>2019-08-04</td>\n",
       "      <td>A</td>\n",
       "      <td>717</td>\n",
       "    </tr>\n",
       "    <tr>\n",
       "      <th>4</th>\n",
       "      <td>2019-08-05</td>\n",
       "      <td>A</td>\n",
       "      <td>756</td>\n",
       "    </tr>\n",
       "    <tr>\n",
       "      <th>5</th>\n",
       "      <td>2019-08-06</td>\n",
       "      <td>A</td>\n",
       "      <td>667</td>\n",
       "    </tr>\n",
       "    <tr>\n",
       "      <th>6</th>\n",
       "      <td>2019-08-07</td>\n",
       "      <td>A</td>\n",
       "      <td>644</td>\n",
       "    </tr>\n",
       "    <tr>\n",
       "      <th>7</th>\n",
       "      <td>2019-08-08</td>\n",
       "      <td>A</td>\n",
       "      <td>610</td>\n",
       "    </tr>\n",
       "    <tr>\n",
       "      <th>8</th>\n",
       "      <td>2019-08-09</td>\n",
       "      <td>A</td>\n",
       "      <td>617</td>\n",
       "    </tr>\n",
       "    <tr>\n",
       "      <th>9</th>\n",
       "      <td>2019-08-10</td>\n",
       "      <td>A</td>\n",
       "      <td>406</td>\n",
       "    </tr>\n",
       "  </tbody>\n",
       "</table>\n",
       "</div>"
      ],
      "text/plain": [
       "         date group  visitors\n",
       "0  2019-08-01     A       719\n",
       "1  2019-08-02     A       619\n",
       "2  2019-08-03     A       507\n",
       "3  2019-08-04     A       717\n",
       "4  2019-08-05     A       756\n",
       "5  2019-08-06     A       667\n",
       "6  2019-08-07     A       644\n",
       "7  2019-08-08     A       610\n",
       "8  2019-08-09     A       617\n",
       "9  2019-08-10     A       406"
      ]
     },
     "metadata": {},
     "output_type": "display_data"
    },
    {
     "name": "stdout",
     "output_type": "stream",
     "text": [
      "**************************************************\n",
      "Количество строк и стобцов:  (62, 3)\n",
      "**************************************************\n"
     ]
    },
    {
     "data": {
      "text/html": [
       "<div>\n",
       "<style scoped>\n",
       "    .dataframe tbody tr th:only-of-type {\n",
       "        vertical-align: middle;\n",
       "    }\n",
       "\n",
       "    .dataframe tbody tr th {\n",
       "        vertical-align: top;\n",
       "    }\n",
       "\n",
       "    .dataframe thead th {\n",
       "        text-align: right;\n",
       "    }\n",
       "</style>\n",
       "<table border=\"1\" class=\"dataframe\">\n",
       "  <thead>\n",
       "    <tr style=\"text-align: right;\">\n",
       "      <th></th>\n",
       "      <th>visitors</th>\n",
       "    </tr>\n",
       "  </thead>\n",
       "  <tbody>\n",
       "    <tr>\n",
       "      <th>count</th>\n",
       "      <td>62.00</td>\n",
       "    </tr>\n",
       "    <tr>\n",
       "      <th>mean</th>\n",
       "      <td>607.29</td>\n",
       "    </tr>\n",
       "    <tr>\n",
       "      <th>std</th>\n",
       "      <td>114.40</td>\n",
       "    </tr>\n",
       "    <tr>\n",
       "      <th>min</th>\n",
       "      <td>361.00</td>\n",
       "    </tr>\n",
       "    <tr>\n",
       "      <th>25%</th>\n",
       "      <td>534.00</td>\n",
       "    </tr>\n",
       "    <tr>\n",
       "      <th>50%</th>\n",
       "      <td>624.50</td>\n",
       "    </tr>\n",
       "    <tr>\n",
       "      <th>75%</th>\n",
       "      <td>710.50</td>\n",
       "    </tr>\n",
       "    <tr>\n",
       "      <th>max</th>\n",
       "      <td>770.00</td>\n",
       "    </tr>\n",
       "  </tbody>\n",
       "</table>\n",
       "</div>"
      ],
      "text/plain": [
       "       visitors\n",
       "count     62.00\n",
       "mean     607.29\n",
       "std      114.40\n",
       "min      361.00\n",
       "25%      534.00\n",
       "50%      624.50\n",
       "75%      710.50\n",
       "max      770.00"
      ]
     },
     "metadata": {},
     "output_type": "display_data"
    },
    {
     "name": "stdout",
     "output_type": "stream",
     "text": [
      "**************************************************\n",
      "Наименование столбцов:\n"
     ]
    },
    {
     "data": {
      "text/plain": [
       "Index(['date', 'group', 'visitors'], dtype='object')"
      ]
     },
     "metadata": {},
     "output_type": "display_data"
    },
    {
     "name": "stdout",
     "output_type": "stream",
     "text": [
      "**************************************************\n",
      "Максимальные значения столбцов:\n"
     ]
    },
    {
     "data": {
      "text/plain": [
       "date        2019-08-31\n",
       "group                B\n",
       "visitors           770\n",
       "dtype: object"
      ]
     },
     "metadata": {},
     "output_type": "display_data"
    },
    {
     "name": "stdout",
     "output_type": "stream",
     "text": [
      "**************************************************\n",
      "Минимальные значения столбцов:\n"
     ]
    },
    {
     "data": {
      "text/plain": [
       "date        2019-08-01\n",
       "group                A\n",
       "visitors           361\n",
       "dtype: object"
      ]
     },
     "metadata": {},
     "output_type": "display_data"
    },
    {
     "name": "stdout",
     "output_type": "stream",
     "text": [
      "**************************************************\n",
      "Значения столбцов по возрастанию встречаемости:\n",
      "2019-08-01    2\n",
      "2019-08-04    2\n",
      "2019-08-05    2\n",
      "2019-08-06    2\n",
      "2019-08-07    2\n",
      "2019-08-08    2\n",
      "2019-08-09    2\n",
      "2019-08-10    2\n",
      "2019-08-11    2\n",
      "2019-08-12    2\n",
      "2019-08-13    2\n",
      "2019-08-14    2\n",
      "2019-08-15    2\n",
      "2019-08-02    2\n",
      "2019-08-03    2\n",
      "2019-08-16    2\n",
      "2019-08-19    2\n",
      "2019-08-20    2\n",
      "2019-08-21    2\n",
      "2019-08-22    2\n",
      "2019-08-23    2\n",
      "2019-08-24    2\n",
      "2019-08-25    2\n",
      "2019-08-26    2\n",
      "2019-08-27    2\n",
      "2019-08-28    2\n",
      "2019-08-29    2\n",
      "2019-08-30    2\n",
      "2019-08-17    2\n",
      "2019-08-18    2\n",
      "2019-08-31    2\n",
      "Name: date, dtype: int64\n",
      "*****\n",
      "A    31\n",
      "B    31\n",
      "Name: group, dtype: int64\n",
      "*****\n",
      "720    1\n",
      "619    1\n",
      "361    1\n",
      "507    1\n",
      "717    1\n",
      "756    1\n",
      "667    1\n",
      "644    1\n",
      "617    1\n",
      "406    1\n",
      "595    1\n",
      "748    1\n",
      "735    1\n",
      "628    1\n",
      "412    1\n",
      "577    1\n",
      "668    1\n",
      "502    1\n",
      "575    1\n",
      "646    1\n",
      "609    1\n",
      "468    1\n",
      "395    1\n",
      "621    1\n",
      "722    1\n",
      "711    1\n",
      "719    1\n",
      "713    1\n",
      "531    1\n",
      "676    1\n",
      "544    1\n",
      "581    1\n",
      "509    1\n",
      "770    1\n",
      "707    1\n",
      "655    1\n",
      "709    1\n",
      "369    1\n",
      "721    1\n",
      "594    1\n",
      "769    1\n",
      "543    1\n",
      "413    1\n",
      "699    1\n",
      "421    1\n",
      "737    1\n",
      "487    1\n",
      "560    1\n",
      "656    1\n",
      "650    1\n",
      "546    1\n",
      "378    1\n",
      "679    1\n",
      "746    1\n",
      "718    2\n",
      "654    2\n",
      "610    2\n",
      "490    2\n",
      "Name: visitors, dtype: int64\n",
      "*****\n",
      "\n",
      "**************************************************\n",
      "Количество повторов: 0\n"
     ]
    }
   ],
   "source": [
    "primary_analysis(visitors)"
   ]
  },
  {
   "cell_type": "markdown",
   "metadata": {},
   "source": [
    "### Предобработка"
   ]
  },
  {
   "cell_type": "code",
   "execution_count": 21,
   "metadata": {
    "scrolled": true
   },
   "outputs": [
    {
     "data": {
      "text/plain": [
       "Index(['hypothesis', 'reach', 'impact', 'confidence', 'efforts'], dtype='object')"
      ]
     },
     "metadata": {},
     "output_type": "display_data"
    },
    {
     "data": {
      "text/plain": [
       "Index(['transaction_id', 'visitor_id', 'date', 'revenue', 'group'], dtype='object')"
      ]
     },
     "metadata": {},
     "output_type": "display_data"
    }
   ],
   "source": [
    "# предобработка\n",
    "\n",
    "# приведем названия столбцов к snakecase\n",
    "\n",
    "hypothesis.columns = hypothesis.columns.str.lower()\n",
    "orders.columns = ['transaction_id', 'visitor_id', 'date', 'revenue','group']\n",
    "\n",
    "#проверка\n",
    "display(hypothesis.columns)\n",
    "display(orders.columns) \n",
    "\n",
    "# смена типа данных\n",
    "orders['date'] = orders['date'].map(lambda x: dt.datetime.strptime(x, '%Y-%m-%d'))\n",
    "visitors['date'] = visitors['date'].map(lambda x: dt.datetime.strptime(x, '%Y-%m-%d'))\n"
   ]
  },
  {
   "cell_type": "markdown",
   "metadata": {},
   "source": [
    "<a id=\"id1\"></a>"
   ]
  },
  {
   "cell_type": "code",
   "execution_count": 22,
   "metadata": {},
   "outputs": [
    {
     "data": {
      "text/html": [
       "<div>\n",
       "<style scoped>\n",
       "    .dataframe tbody tr th:only-of-type {\n",
       "        vertical-align: middle;\n",
       "    }\n",
       "\n",
       "    .dataframe tbody tr th {\n",
       "        vertical-align: top;\n",
       "    }\n",
       "\n",
       "    .dataframe thead th {\n",
       "        text-align: right;\n",
       "    }\n",
       "</style>\n",
       "<table border=\"1\" class=\"dataframe\">\n",
       "  <thead>\n",
       "    <tr style=\"text-align: right;\">\n",
       "      <th></th>\n",
       "      <th>groups</th>\n",
       "      <th>group_names</th>\n",
       "    </tr>\n",
       "    <tr>\n",
       "      <th>visitor_id</th>\n",
       "      <th></th>\n",
       "      <th></th>\n",
       "    </tr>\n",
       "  </thead>\n",
       "  <tbody>\n",
       "    <tr>\n",
       "      <th>8300375</th>\n",
       "      <td>2</td>\n",
       "      <td>[B, A]</td>\n",
       "    </tr>\n",
       "    <tr>\n",
       "      <th>199603092</th>\n",
       "      <td>2</td>\n",
       "      <td>[A, B]</td>\n",
       "    </tr>\n",
       "    <tr>\n",
       "      <th>232979603</th>\n",
       "      <td>2</td>\n",
       "      <td>[B, A]</td>\n",
       "    </tr>\n",
       "    <tr>\n",
       "      <th>237748145</th>\n",
       "      <td>2</td>\n",
       "      <td>[B, A]</td>\n",
       "    </tr>\n",
       "    <tr>\n",
       "      <th>276558944</th>\n",
       "      <td>2</td>\n",
       "      <td>[B, A]</td>\n",
       "    </tr>\n",
       "  </tbody>\n",
       "</table>\n",
       "</div>"
      ],
      "text/plain": [
       "            groups group_names\n",
       "visitor_id                    \n",
       "8300375          2      [B, A]\n",
       "199603092        2      [A, B]\n",
       "232979603        2      [B, A]\n",
       "237748145        2      [B, A]\n",
       "276558944        2      [B, A]"
      ]
     },
     "metadata": {},
     "output_type": "display_data"
    },
    {
     "name": "stdout",
     "output_type": "stream",
     "text": [
      "Количество дублирующихся пользователей: 58\n"
     ]
    }
   ],
   "source": [
    "# проверка на повторных пользователей\n",
    "\n",
    "duplicated_users = orders.groupby('visitor_id').agg({'group':['nunique','unique']})\n",
    "duplicated_users.columns = ['groups','group_names']\n",
    "duplicated_users = duplicated_users.query('groups>1')\n",
    "display(duplicated_users.head(5))\n",
    "print(\"Количество дублирующихся пользователей:\",len(duplicated_users))\n",
    "\n",
    "# чистка данных от дубликатов\n",
    "\n",
    "#orders = orders.query('visitor_id not in @duplicated_users.index')\n"
   ]
  },
  {
   "cell_type": "markdown",
   "metadata": {},
   "source": [
    "### Вывод"
   ]
  },
  {
   "cell_type": "markdown",
   "metadata": {},
   "source": [
    "<ul>Изучив данные приятно отметить хорошую первичную подготовку данных: \n",
    "\n",
    "<li>Пропусков нет, значит дозаполнять или отбрасывать данные нам не придется и исследование будет максимально чистым. </li>\n",
    "    <li>Полных дубликатов также нет, что опять же говорит, что данные заполнялись не хаотично. </li>\n",
    "<li>Группы для А/Б теста распределены поровну, по 31 человеку – значит А/Б тест будет проведён корректно. \n",
    "<dd>Для удобства проведения анализа из предобработки нам осталось только привести названия столбцов к более принятому в python snakecase, а также поменять тип данных дат на datetime, что мы и сделали.</dd> </ul>"
   ]
  },
  {
   "cell_type": "markdown",
   "metadata": {},
   "source": [
    "## Приоритизация гипотез"
   ]
  },
  {
   "cell_type": "markdown",
   "metadata": {},
   "source": [
    "Полученных из таблицы hypothesis данных достаточно для проведения метода приоритизации задач ICE и его модификации RICE:\n",
    "</ul></div> <br>\n",
    "\n",
    "$$ICE = \\frac{Impact * Confidence}{Efforts}$$\n",
    "\n",
    "$$RICE = \\frac{Rearch * Impact * Confidence}{Efforts}$$\n",
    "\n"
   ]
  },
  {
   "cell_type": "code",
   "execution_count": 40,
   "metadata": {},
   "outputs": [
    {
     "name": "stdout",
     "output_type": "stream",
     "text": [
      "                                                                                                     hypothesis  \\\n",
      "8                                                       Запустить акцию, дающую скидку на товар в день рождения   \n",
      "0            Добавить два новых канала привлечения трафика, что позволит привлекать на 30% больше пользователей   \n",
      "7              Добавить форму подписки на все основные страницы, чтобы собрать базу клиентов для email-рассылок   \n",
      "6          Показать на главной странице баннеры с актуальными акциями и распродажами, чтобы увеличить конверсию   \n",
      "2  Добавить блоки рекомендаций товаров на сайт интернет магазина, чтобы повысить конверсию и средний чек заказа   \n",
      "1                                     Запустить собственную службу доставки, что сократит срок доставки заказов   \n",
      "5                      Добавить страницу отзывов клиентов о магазине, что позволит увеличить количество заказов   \n",
      "3           Изменить структура категорий, что увеличит конверсию, т.к. пользователи быстрее найдут нужный товар   \n",
      "4                              Изменить цвет фона главной страницы, чтобы увеличить вовлеченность пользователей   \n",
      "\n",
      "    ICE  \n",
      "8 16.20  \n",
      "0 13.33  \n",
      "7 11.20  \n",
      "6  8.00  \n",
      "2  7.00  \n",
      "1  2.00  \n",
      "5  1.33  \n",
      "3  1.12  \n",
      "4  1.00  \n"
     ]
    }
   ],
   "source": [
    "hypothesis['ICE'] = (hypothesis['impact'] * hypothesis['confidence']) / hypothesis['efforts'] \n",
    "\n",
    "print(hypothesis[['hypothesis','ICE']].sort_values(by='ICE',ascending = False))"
   ]
  },
  {
   "cell_type": "code",
   "execution_count": 24,
   "metadata": {},
   "outputs": [
    {
     "name": "stdout",
     "output_type": "stream",
     "text": [
      "                                                                                                     hypothesis  \\\n",
      "7              Добавить форму подписки на все основные страницы, чтобы собрать базу клиентов для email-рассылок   \n",
      "2  Добавить блоки рекомендаций товаров на сайт интернет магазина, чтобы повысить конверсию и средний чек заказа   \n",
      "0            Добавить два новых канала привлечения трафика, что позволит привлекать на 30% больше пользователей   \n",
      "6          Показать на главной странице баннеры с актуальными акциями и распродажами, чтобы увеличить конверсию   \n",
      "8                                                       Запустить акцию, дающую скидку на товар в день рождения   \n",
      "3           Изменить структура категорий, что увеличит конверсию, т.к. пользователи быстрее найдут нужный товар   \n",
      "1                                     Запустить собственную службу доставки, что сократит срок доставки заказов   \n",
      "5                      Добавить страницу отзывов клиентов о магазине, что позволит увеличить количество заказов   \n",
      "4                              Изменить цвет фона главной страницы, чтобы увеличить вовлеченность пользователей   \n",
      "\n",
      "    RICE  \n",
      "7 112.00  \n",
      "2  56.00  \n",
      "0  40.00  \n",
      "6  40.00  \n",
      "8  16.20  \n",
      "3   9.00  \n",
      "1   4.00  \n",
      "5   4.00  \n",
      "4   3.00  \n"
     ]
    }
   ],
   "source": [
    "hypothesis['RICE'] = (hypothesis['reach'] * hypothesis['impact'] * hypothesis['confidence'] )/ hypothesis['efforts']\n",
    "\n",
    "print(hypothesis[['hypothesis','RICE']].sort_values(by='RICE',ascending = False))\n",
    "\n",
    "\n"
   ]
  },
  {
   "cell_type": "markdown",
   "metadata": {},
   "source": [
    "### Вывод"
   ]
  },
  {
   "cell_type": "markdown",
   "metadata": {},
   "source": [
    "<ul>Метод ICE вывел 3 наиболее приоритетные для проверки гипотезы:<dl></dl> \n",
    "<li>№ 8 Запустить акцию, дающую скидку на товар в день рождения   </li>\n",
    "<li>№ 0 Добавить два новых канала привлечения трафика, что позволит привлекать на 30% больше пользователей</li>\n",
    "<li>№ 7 Добавить форму подписки на все основные страницы, чтобы собрать базу клиентов для email-рассылок</li> \n",
    "    <dl></dl>\n",
    "<dd>Как только мы добавли к методу ICE параметр Reach порядок значимости гипотез изменился:</dd> \n",
    "    <dl></dl>\n",
    "<li>Теперь на 1 месте красуется уже отмеченная ранее гипотеза под номером 7, а на 2 и 3 гипотеза № 2 (Добавить блоки рекомендаций товаров на сайт интернет магазина, чтобы повысить конверсию и средний чек заказа) и № 0 соответственно.</li>\n",
    "<dl></dl><dd>Массовость воздействия на пользователей, заключенную в параметре Reach 7 гипотезы легко понять, так так добавление любой информации на основную страницу затронет всех посетителей сайта. <dl></dl>\n",
    "<dd>Акция на день рождения коснется же всех пользователей только раз в год, да и пользователей для этого должен быть зарегистрирован, чтобы его день рождения был закреплен в базе данных компании.</dd></ul>"
   ]
  },
  {
   "cell_type": "markdown",
   "metadata": {},
   "source": [
    "## Анализ A/B-теста"
   ]
  },
  {
   "cell_type": "markdown",
   "metadata": {},
   "source": [
    "### График динамики кумулятивной выручки по группам"
   ]
  },
  {
   "cell_type": "code",
   "execution_count": 25,
   "metadata": {},
   "outputs": [
    {
     "name": "stdout",
     "output_type": "stream",
     "text": [
      "        date group  orders  buyers  revenue  visitors\n",
      "0 2019-08-01     A      24      20   148579       719\n",
      "1 2019-08-01     B      21      20   101217       713\n",
      "2 2019-08-02     A      44      38   242401      1338\n",
      "3 2019-08-02     B      45      43   266748      1294\n",
      "4 2019-08-03     A      68      62   354874      1845\n"
     ]
    },
    {
     "data": {
      "image/png": "[encoded data removed]",
      "text/plain": [
       "<Figure size 1080x360 with 1 Axes>"
      ]
     },
     "metadata": {
      "needs_background": "light"
     },
     "output_type": "display_data"
    },
    {
     "name": "stdout",
     "output_type": "stream",
     "text": [
      "     transaction_id  visitor_id       date  revenue group\n",
      "315      1939633950   157579733 2019-08-19     2330     B\n",
      "319      2414788465  2247745159 2019-08-19     1435     B\n",
      "320      1652782757  2763027084 2019-08-19     1460     B\n",
      "322      3154167297  2091902649 2019-08-19      250     B\n",
      "363      2096847394  4251115836 2019-08-19     2500     B\n",
      "367      1033377712  3860669668 2019-08-19     3990     B\n",
      "368      3268879337  2536252163 2019-08-19    20026     B\n",
      "423      4161654914   990904712 2019-08-19    11249     B\n",
      "424      2609443403  2406916810 2019-08-19      470     B\n",
      "425       590470918  1920142716 2019-08-19  1294500     B\n",
      "426        19467429  2397843657 2019-08-19     2630     B\n",
      "427      3019510679  2397843657 2019-08-19     1460     B\n",
      "429      2436528253  1060341621 2019-08-19     1100     B\n",
      "459       863448794  2738601405 2019-08-19       50     B\n",
      "461      2683113224   154576532 2019-08-19    26550     B\n",
      "463      4170537404   290022471 2019-08-19    16480     B\n",
      "486       752294429  2758621772 2019-08-19     1130     B\n",
      "523      1739748874   522292794 2019-08-19     4880     B\n",
      "526      1654949825  1335154194 2019-08-19      500     B\n",
      "527      1570513684  2837914161 2019-08-19    33405     B\n",
      "529        90109939  2075769885 2019-08-19     3525     B\n"
     ]
    }
   ],
   "source": [
    "# создаем массив уникальных пар значений дат и групп теста\n",
    "datesGroups  = orders[['date' ,'group']].drop_duplicates()\n",
    "\n",
    "# получаем агрегированные кумулятивные по дням данные о заказах \n",
    "ordersAggregated = datesGroups.apply(\n",
    "    lambda x: orders[np.logical_and(orders['date'] <= x['date'], orders['group'] == x['group'])].agg({\n",
    "'date' : 'max',\n",
    "'group' : 'max',\n",
    "'transaction_id' : pd.Series.nunique,\n",
    "'visitor_id' : pd.Series.nunique,\n",
    "'revenue' : 'sum'}), axis=1).sort_values(by=['date','group']) \n",
    "\n",
    "# получаем агрегированные кумулятивные по дням данные о посетителях интернет-магазина \n",
    "visitorsAggregated= datesGroups.apply(lambda x: visitors[np.logical_and(visitors['date'] <= x['date'], visitors['group'] == x['group'])].agg({'date' : 'max', 'group' : 'max', 'visitors' : 'sum'}), axis=1).sort_values(by=['date','group'])\n",
    "\n",
    "# объединяем кумулятивные данные в одной таблице и присваиваем ее столбцам понятные названия\n",
    "cumulativeData= ordersAggregated.merge(visitorsAggregated, left_on=['date', 'group'], right_on=['date', 'group']) \n",
    "\n",
    "# переименуем столбцы\n",
    "cumulativeData.columns = ['date', 'group', 'orders', 'buyers', 'revenue', 'visitors']\n",
    "\n",
    "print(cumulativeData.head(5))\n",
    "\n",
    "# датафрейм с кумулятивным количеством заказов и кумулятивной выручкой по дням в группе А\n",
    "cumulativeRevenueA = cumulativeData[cumulativeData['group']=='A'][['date','revenue', 'orders']]\n",
    "# датафрейм с кумулятивным количеством заказов и кумулятивной выручкой по дням в группе B\n",
    "cumulativeRevenueB =  cumulativeData[cumulativeData['group']=='B'][['date','revenue', 'orders']]\n",
    "\n",
    "plt.figure(figsize = (15,5))\n",
    "# Строим график выручки группы А\n",
    "plt.plot(cumulativeRevenueA['date'], cumulativeRevenueA['revenue'], label='A')\n",
    "# Строим график выручки группы B\n",
    "plt.plot(cumulativeRevenueB['date'], cumulativeRevenueB['revenue'], label='B')\n",
    "plt.grid()\n",
    "plt.xlabel('Дата'), plt.ylabel('Кумулятивная выручка')\n",
    "plt.legend() \n",
    "plt.title('График динамики кумулятивной выручки по группам')\n",
    "plt.show()\n",
    "\n",
    "# опеределение выброса\n",
    "print(orders[(orders['group'] =='B') & (orders['date'] == '2019-08-19')]) \n",
    "#print(orders[(orders['group'] =='B') & (orders['date'] == '2019-08-18')]) \n",
    "#print(orders[(orders['group'] =='B') & (orders['date'] == '2019-08-17')]) "
   ]
  },
  {
   "cell_type": "markdown",
   "metadata": {},
   "source": [
    "#### Вывод"
   ]
  },
  {
   "cell_type": "markdown",
   "metadata": {},
   "source": [
    "<dd>По графику накопленных данных видно, что «Б» группа стабильно хуже по накопленным показателям, чем «А». График растет на всем протяжении по обеим группам, однако между 2019-08-17 и 2019-08-21 в группе Б произошел скачок, который поднял выручку где-то на 30%.</dd><dl></dl>\n",
    "<dd>В действительности при более детальной выборке видно, что 2019-08-19 был оплачен особо крупный заказ на 1294500 рублей. </dd>"
   ]
  },
  {
   "cell_type": "markdown",
   "metadata": {},
   "source": [
    "### График динамики кумулятивного среднего чека по группам"
   ]
  },
  {
   "cell_type": "code",
   "execution_count": 26,
   "metadata": {},
   "outputs": [
    {
     "data": {
      "image/png": "[encoded data removed]",
      "text/plain": [
       "<Figure size 1080x360 with 1 Axes>"
      ]
     },
     "metadata": {
      "needs_background": "light"
     },
     "output_type": "display_data"
    }
   ],
   "source": [
    "# строим график динамики кумулятивного среднего чека по группам\n",
    "plt.figure(figsize = (15,5))\n",
    "plt.plot(cumulativeRevenueA['date'], cumulativeRevenueA['revenue']/cumulativeRevenueA['orders'], label='A')\n",
    "plt.plot(cumulativeRevenueB['date'], cumulativeRevenueB['revenue']/cumulativeRevenueB['orders'], label='B')\n",
    "plt.grid()\n",
    "plt.xlabel('Дата'), plt.ylabel('Кумулятивный средний чек')\n",
    "plt.legend() \n",
    "plt.title('График динамики кумулятивного среднего чека по группам')\n",
    "plt.show()"
   ]
  },
  {
   "cell_type": "markdown",
   "metadata": {},
   "source": [
    "#### Вывод\n"
   ]
  },
  {
   "cell_type": "markdown",
   "metadata": {},
   "source": [
    "<dd>Если в первой половине исследования между группами была борьба по среднему чеку, то подмеченный нами ранее заказ от 19-08-2019 г. с отрывом поднял вверх группу Б. Видно, что и до этого момента были колебания в обеих группах, связанные с большим количеством заказов в моменте или особо крупными оплатами. Однако из-за последнего скачка в группе Б до конца периода исследования сохраняется значительный разрыв между группами.</dd><dl></dl> \n",
    "<dd>Заметна некоторая медленная отрицательная динамика у группы Б и положительная у группы А. Возможно группе Б нужно немного больше времени для оценки среднего чека из-за произошедшего выброса.</dd>"
   ]
  },
  {
   "cell_type": "markdown",
   "metadata": {},
   "source": [
    "### График относительного изменения кумулятивного среднего чека "
   ]
  },
  {
   "cell_type": "code",
   "execution_count": 27,
   "metadata": {
    "scrolled": true
   },
   "outputs": [
    {
     "data": {
      "image/png": "[encoded data removed]",
      "text/plain": [
       "<Figure size 1080x360 with 1 Axes>"
      ]
     },
     "metadata": {
      "needs_background": "light"
     },
     "output_type": "display_data"
    }
   ],
   "source": [
    "mergedCumulativeRevenue = cumulativeRevenueA.merge(cumulativeRevenueB, left_on='date', right_on='date', how='left', suffixes=['A', 'B'])\n",
    "\n",
    "# cтроим отношение средних чеков\n",
    "plt.figure(figsize = (15,5))\n",
    "plt.plot(mergedCumulativeRevenue['date'], (mergedCumulativeRevenue['revenueB']/mergedCumulativeRevenue['ordersB'])/(mergedCumulativeRevenue['revenueA']/mergedCumulativeRevenue['ordersA'])-1)\n",
    "plt.grid()\n",
    "plt.xlabel('Дата'), plt.ylabel('Изменение кумулятивного среднего чека')\n",
    "plt.title('График относительного изменения кумулятивного среднего чека')\n",
    "# добавляем ось X\n",
    "plt.axhline(y=0, color='black', linestyle='--') \n",
    "plt.show()"
   ]
  },
  {
   "cell_type": "markdown",
   "metadata": {},
   "source": [
    "#### Вывод"
   ]
  },
  {
   "cell_type": "markdown",
   "metadata": {},
   "source": [
    "Средний чек группы Б в основном превышает чек группы А, однако не без колебаний. Опять же на графике заметен известный нам скачок от 19-08-2019г."
   ]
  },
  {
   "cell_type": "markdown",
   "metadata": {},
   "source": [
    "### График кумулятивной конверсии по группам"
   ]
  },
  {
   "cell_type": "code",
   "execution_count": 28,
   "metadata": {},
   "outputs": [
    {
     "data": {
      "image/png": "[encoded data removed]",
      "text/plain": [
       "<Figure size 1080x360 with 1 Axes>"
      ]
     },
     "metadata": {
      "needs_background": "light"
     },
     "output_type": "display_data"
    }
   ],
   "source": [
    "cumulativeData['conversion'] = cumulativeData['orders']/cumulativeData['visitors']\n",
    "\n",
    "# отделяем данные по группе A\n",
    "cumulativeDataA = cumulativeData[cumulativeData['group']=='A']\n",
    "\n",
    "# отделяем данные по группе B\n",
    "cumulativeDataB = cumulativeData[cumulativeData['group']=='B']\n",
    "\n",
    "# строим графики\n",
    "plt.figure(figsize = (15,5))\n",
    "plt.plot(cumulativeDataA['date'], cumulativeDataA['conversion'], label='A')\n",
    "plt.plot(cumulativeDataB['date'], cumulativeDataB['conversion'], label='B')\n",
    "plt.grid()\n",
    "plt.xlabel('Дата'), plt.ylabel('Кумулятивная конверсия')\n",
    "plt.title('График кумулятивной конверсии по группам')\n",
    "plt.legend()\n",
    "\n",
    "# задаем масштаб осей\n",
    "plt.axis([dt.datetime(2019, 8, 1), dt.datetime(2019, 8, 31), 0, 0.05])\n",
    "plt.show()"
   ]
  },
  {
   "cell_type": "markdown",
   "metadata": {},
   "source": [
    "#### Вывод"
   ]
  },
  {
   "cell_type": "markdown",
   "metadata": {},
   "source": [
    "Группа Б показывает лучшую кумулятивную конверсию, чем группа А. Колебания, которые были в начале периода выровнялись и с 2019-08-06 группа Б больше не уступала группе А по кумулятивной конверсии."
   ]
  },
  {
   "cell_type": "markdown",
   "metadata": {},
   "source": [
    "### График относительного изменения кумулятивной конверсии группы B к группе A"
   ]
  },
  {
   "cell_type": "code",
   "execution_count": 29,
   "metadata": {},
   "outputs": [
    {
     "data": {
      "image/png": "[encoded data removed]",
      "text/plain": [
       "<Figure size 1080x360 with 1 Axes>"
      ]
     },
     "metadata": {
      "needs_background": "light"
     },
     "output_type": "display_data"
    }
   ],
   "source": [
    "# объединяем таблицы\n",
    "mergedCumulativeConversions = cumulativeDataA[['date','conversion']].merge(cumulativeDataB[['date','conversion']], left_on='date', right_on='date', how='left', suffixes=['A', 'B'])\n",
    "\n",
    "plt.figure(figsize = (15,5))\n",
    "plt.plot(mergedCumulativeConversions['date'], mergedCumulativeConversions['conversionB']/mergedCumulativeConversions['conversionA']-1, label=\"Относительный прирост конверсии группы B относительно группы A\")\n",
    "plt.grid()\n",
    "plt.title('График относительного изменения кумулятивной конверсии группы B к группе A')\n",
    "plt.legend()\n",
    "plt.xlabel('Дата'), plt.ylabel('Изменение кумулятивной конверсии')\n",
    "plt.axhline(y=0, color='black', linestyle='--')\n",
    "plt.axhline(y=0.2, color='grey', linestyle='--')\n",
    "plt.axis([dt.datetime(2019, 8, 1), dt.datetime(2019, 8, 31), -0.5, 0.5])\n",
    "plt.show()"
   ]
  },
  {
   "cell_type": "markdown",
   "metadata": {},
   "source": [
    "#### Вывод"
   ]
  },
  {
   "cell_type": "markdown",
   "metadata": {},
   "source": [
    "Чтобы нагляднее увидеть разницу между группами, строим график относительного изменения кумулятивной конверсии. Группа Б практически сразу показывает лучший показатель конверсии, чем группа А и начавшийся с 2019-08-09 разрыв сохраняется до конца периода исследования."
   ]
  },
  {
   "cell_type": "markdown",
   "metadata": {},
   "source": [
    "### Точечный график количества заказов по пользователям "
   ]
  },
  {
   "cell_type": "markdown",
   "metadata": {},
   "source": [
    "<a id=\"id\"></a>"
   ]
  },
  {
   "cell_type": "code",
   "execution_count": 30,
   "metadata": {},
   "outputs": [
    {
     "name": "stdout",
     "output_type": "stream",
     "text": [
      "         user_id  orders\n",
      "1023  4256040402      11\n",
      "591   2458001652      11\n",
      "569   2378935119       9\n",
      "487   2038680547       8\n",
      "44     199603092       5\n",
      "744   3062433592       5\n",
      "55     237748145       5\n",
      "917   3803269165       5\n",
      "299   1230306981       5\n",
      "897   3717692402       5\n"
     ]
    },
    {
     "data": {
      "image/png": "[encoded data removed]",
      "text/plain": [
       "<Figure size 1080x360 with 1 Axes>"
      ]
     },
     "metadata": {
      "needs_background": "light"
     },
     "output_type": "display_data"
    }
   ],
   "source": [
    "ordersByUsers = orders.drop(['group', 'revenue', 'date'], axis=1).groupby('visitor_id', as_index=False).agg({'transaction_id' : pd.Series.nunique})\n",
    "ordersByUsers.columns = ['user_id','orders'] \n",
    "print(ordersByUsers.sort_values(by='orders',ascending=False).head(10))\n",
    "\n",
    "# серия из чисел от 0 до количества наблюдений в ordersByUsers\n",
    "\n",
    "x_values = pd.Series(range(0,len(ordersByUsers)))\n",
    "\n",
    "plt.figure(figsize = (15,5))\n",
    "plt.scatter(x_values, ordersByUsers['orders']) \n",
    "plt.grid()\n",
    "plt.xlabel('Количество пользователей'), plt.ylabel('Количество заказов')\n",
    "plt.title('Точечный график количества заказов по пользователям')\n",
    "x_values = pd.Series(range(0, len(ordersByUsers)))\n",
    "plt.show()"
   ]
  },
  {
   "cell_type": "markdown",
   "metadata": {},
   "source": [
    "### 95-й и 99-й перцентили количества заказов на пользователя"
   ]
  },
  {
   "cell_type": "code",
   "execution_count": 31,
   "metadata": {},
   "outputs": [
    {
     "name": "stdout",
     "output_type": "stream",
     "text": [
      "[2. 4.]\n"
     ]
    }
   ],
   "source": [
    "# Метод np.percentile('column', [percentile1, percentile2, percentile3]) находит перцентили.\n",
    "print(np.percentile(ordersByUsers['orders'], [95, 99])) "
   ]
  },
  {
   "cell_type": "markdown",
   "metadata": {},
   "source": [
    "#### Вывод"
   ]
  },
  {
   "cell_type": "markdown",
   "metadata": {},
   "source": [
    "<dd>Судя по точечному  графику имеется ряд выбросов среди клиентов по количеству заказов: достаточно малое количество клиентов повторяет  покупку второй раз и единицы совершают 3 и более покупок. Более точно по перцентилям видно, что 5 % пользователей сделали более 2 заказов и только 1 % заказали больше 4 раз.</dd>\n",
    "<dl></dl><dd>Возьмём за норму 95 % перцентиль и отсеем пользователей с количеством заказов выше 2.</dd>"
   ]
  },
  {
   "cell_type": "markdown",
   "metadata": {},
   "source": [
    "### Точечный график стоимости заказов"
   ]
  },
  {
   "cell_type": "code",
   "execution_count": 32,
   "metadata": {},
   "outputs": [
    {
     "name": "stdout",
     "output_type": "stream",
     "text": [
      "      transaction_id  visitor_id       date  revenue group\n",
      "425        590470918  1920142716 2019-08-19  1294500     B\n",
      "1196      3936777065  2108080724 2019-08-15   202740     B\n",
      "858        192721366  1316129916 2019-08-27    93940     A\n",
      "1136       666610489  1307669133 2019-08-13    92550     A\n",
      "744       3668308183   888512513 2019-08-27    86620     B\n",
      "682       1216533772  4266935830 2019-08-29    78990     B\n",
      "662       1811671147  4266935830 2019-08-29    78990     A\n",
      "743       3603576309  4133034833 2019-08-09    67990     A\n",
      "1103      1348774318  1164614297 2019-08-12    66350     A\n",
      "1099       316924019   148427295 2019-08-12    65710     A\n"
     ]
    },
    {
     "data": {
      "image/png": "[encoded data removed]",
      "text/plain": [
       "<Figure size 1080x360 with 1 Axes>"
      ]
     },
     "metadata": {
      "needs_background": "light"
     },
     "output_type": "display_data"
    }
   ],
   "source": [
    "print(orders.sort_values(by='revenue', ascending=False).head(10))\n",
    "\n",
    "\n",
    "x_values = pd.Series(range(0, len(orders['revenue'])))\n",
    "plt.figure(figsize = (15,5))\n",
    "plt.grid()\n",
    "plt.xlabel('Количество пользователей'), plt.ylabel('Стоимость заказа')\n",
    "plt.title('Точечный график стоимости заказов')\n",
    "plt.scatter(x_values, orders['revenue']) \n",
    "plt.show()"
   ]
  },
  {
   "cell_type": "markdown",
   "metadata": {},
   "source": [
    "### 95-й и 99-й перцентили стоимости заказов"
   ]
  },
  {
   "cell_type": "code",
   "execution_count": 33,
   "metadata": {},
   "outputs": [
    {
     "name": "stdout",
     "output_type": "stream",
     "text": [
      "[28000.  58233.2]\n"
     ]
    }
   ],
   "source": [
    "print(np.percentile(orders['revenue'], [95, 99])) "
   ]
  },
  {
   "cell_type": "markdown",
   "metadata": {},
   "source": [
    "#### Вывод"
   ]
  },
  {
   "cell_type": "markdown",
   "metadata": {},
   "source": [
    "Точечный график стоимости заказов более наглядный, чем [точечный график количества заказов по пользователям](#id). Мы сразу видим, что основное распределение находится ниже 50000 рублей. 95 % перцентиль находится же на уровне 28000 рублей, его мы и примем за максимальное значение."
   ]
  },
  {
   "cell_type": "markdown",
   "metadata": {},
   "source": [
    "### Статистическая значимость различий в конверсии между группами по «сырым» данным"
   ]
  },
  {
   "cell_type": "markdown",
   "metadata": {},
   "source": [
    "Сформулируем гипотезы. Нулевая: различий в конверсии между группами нет. Альтернативная: различия в конверсии между группами есть.\n",
    "<dd>За alpha примем 0.05.</dd>"
   ]
  },
  {
   "cell_type": "code",
   "execution_count": 34,
   "metadata": {},
   "outputs": [],
   "source": [
    "# выборка пользователей из группы А\n",
    "visitorsADaily = visitors[visitors['group'] == 'A'][['date', 'visitors']]\n",
    "visitorsADaily.columns = ['date', 'visitorsPerDateA']\n",
    "# выборка пользователей из группы Б\n",
    "visitorsBDaily = visitors[visitors['group'] == 'B'][['date', 'visitors']]\n",
    "visitorsBDaily.columns = ['date', 'visitorsPerDateB']\n",
    "# группировка заказов группы А\n",
    "ordersADaily = (\n",
    "    orders[orders['group'] == 'A'][['date', 'transaction_id', 'visitor_id', 'revenue']]\n",
    "    .groupby('date', as_index=False)\n",
    "    .agg({'visitor_id': pd.Series.nunique, 'revenue': 'sum'})\n",
    ")\n",
    "# переименование столбцов\n",
    "ordersADaily.columns = ['date', 'ordersPerDateA', 'revenuePerDateA']\n",
    "# группировка заказов группы Б\n",
    "ordersBDaily = (\n",
    "    orders[orders['group'] == 'B'][['date', 'transaction_id', 'visitor_id', 'revenue']]\n",
    "    .groupby('date', as_index=False)\n",
    "    .agg({'transaction_id': pd.Series.nunique, 'revenue': 'sum'})\n",
    ")\n",
    "# переименование столбцов\n",
    "ordersBDaily.columns = ['date', 'ordersPerDateB', 'revenuePerDateB']\n",
    "\n",
    "\n"
   ]
  },
  {
   "cell_type": "code",
   "execution_count": 35,
   "metadata": {},
   "outputs": [],
   "source": [
    "# создадим переменные с группировкой по пользователям и количеством заказов\n",
    "ordersByUsersA = (\n",
    "    orders[orders['group'] == 'A']\n",
    "    .groupby('visitor_id', as_index=False)\n",
    "    .agg({'transaction_id': pd.Series.nunique})\n",
    ")\n",
    "# переименование столбцов\n",
    "ordersByUsersA.columns = ['user_id', 'orders']\n",
    "\n",
    "# проверка\n",
    "# ordersByUsersA['orders'].value_counts()\n",
    "\n",
    "ordersByUsersB = (\n",
    "    orders[orders['group'] == 'B']\n",
    "    .groupby('visitor_id', as_index=False)\n",
    "    .agg({'transaction_id': pd.Series.nunique})\n",
    ")\n",
    "# переименование столбцов\n",
    "ordersByUsersB.columns = ['user_id', 'orders'] \n",
    "\n"
   ]
  },
  {
   "cell_type": "code",
   "execution_count": 36,
   "metadata": {},
   "outputs": [],
   "source": [
    "# Объявим переменные sampleA и sampleB, в которых пользователям из разных групп будет \n",
    "# соответствовать количество заказов. Тем, кто ничего не заказал, будут соответствовать нули. \n",
    "# Это нужно, чтобы подготовить выборки к \n",
    "sampleA = pd.concat([ordersByUsersA['orders'],pd.Series(0, index=np.arange(visitorsADaily['visitorsPerDateA'].sum() - len(ordersByUsersA['orders'])), name='orders')],axis=0)\n",
    "\n",
    "sampleB = pd.concat([ordersByUsersB['orders'],pd.Series(0, index=np.arange(visitorsBDaily['visitorsPerDateB'].sum() - len(ordersByUsersB['orders'])), name='orders')],axis=0)"
   ]
  },
  {
   "cell_type": "code",
   "execution_count": 37,
   "metadata": {},
   "outputs": [
    {
     "name": "stdout",
     "output_type": "stream",
     "text": [
      "Значение p-value: 0.01679\n",
      "Относительное изменение конверсии группы B к группе А: 0.138\n"
     ]
    }
   ],
   "source": [
    "# применим статистический критерий Манна-Уитни к полученным выборкам\n",
    "\n",
    "print('Значение p-value:',\"{0:.5f}\".format(stats.mannwhitneyu(sampleA, sampleB)[1]))\n",
    " \n",
    "print('Относительное изменение конверсии группы B к группе А:',\"{0:.3f}\".format(sampleB.mean() / sampleA .mean() - 1))\n",
    "\n",
    "\n",
    "\n"
   ]
  },
  {
   "cell_type": "markdown",
   "metadata": {},
   "source": [
    "#### Вывод"
   ]
  },
  {
   "cell_type": "markdown",
   "metadata": {},
   "source": [
    "Проверка критерием Манна-Уитни показала, что первое число — p-value = 0.01679 меньше 0.05. Значит, нулевую гипотезу о том, что статистически значимых различий в конверсии между группами нет, отвергаем. Однако относительный проигрыш группы A равен 13.8%, что говорит о лучшей конверсии у группы Б."
   ]
  },
  {
   "cell_type": "markdown",
   "metadata": {},
   "source": [
    "### Статистическая значимость различий в среднем чеке заказа между группами по «сырым» данным"
   ]
  },
  {
   "cell_type": "markdown",
   "metadata": {},
   "source": [
    "Теперь проверим статистическую значимость различий в среднем чеке между сегментами. Нулевая гипотеза: различий в среднем чеке между группами нет. Альтернативная гипотеза: различия в среднем чеке между группами есть. "
   ]
  },
  {
   "cell_type": "code",
   "execution_count": 23,
   "metadata": {
    "scrolled": true
   },
   "outputs": [
    {
     "name": "stdout",
     "output_type": "stream",
     "text": [
      "Значение p-value: 0.729\n",
      "Относительное изменение среднего чека группы B к группе А: 0.259\n"
     ]
    }
   ],
   "source": [
    "# применим статистический критерий Манна-Уитни к полученным выборкам\n",
    "\n",
    "print('Значение p-value:','{0:.3f}'.format(stats.mannwhitneyu(orders[orders['group']=='A']['revenue'], orders[orders['group']=='B']['revenue'])[1]))\n",
    "print('Относительное изменение среднего чека группы B к группе А:','{0:.3f}'.format(orders[orders['group']=='B']['revenue'].mean()/orders[orders['group']=='A']['revenue'].mean()-1)) "
   ]
  },
  {
   "cell_type": "markdown",
   "metadata": {},
   "source": [
    "#### Вывод  "
   ]
  },
  {
   "cell_type": "markdown",
   "metadata": {},
   "source": [
    "P-value значительно больше 0.05. Значит, причин отвергать нулевую гипотезу и считать, что в среднем чеке есть различия, нет. Впрочем, средний чек группы B выше среднего чека группы A на 25,9%."
   ]
  },
  {
   "cell_type": "markdown",
   "metadata": {},
   "source": [
    "### Статистическую значимость различий в конверсии между группами по «очищенным» данным"
   ]
  },
  {
   "cell_type": "code",
   "execution_count": 24,
   "metadata": {},
   "outputs": [
    {
     "name": "stdout",
     "output_type": "stream",
     "text": [
      "1099    148427295\n",
      "18      199603092\n",
      "928     204675465\n",
      "23      237748145\n",
      "37      249864742\n",
      "dtype: int64\n",
      "Отсеяных пользователей: 74\n"
     ]
    }
   ],
   "source": [
    "# сделаем срез пользователей с числом заказов больше 2  \n",
    "usersWithManyOrders = pd.concat(\n",
    "    [\n",
    "        ordersByUsersA[ordersByUsersA['orders'] > 2]['user_id'],\n",
    "        ordersByUsersB[ordersByUsersB['orders'] > 2]['user_id'],\n",
    "    ],\n",
    "    axis=0,\n",
    ")\n",
    "\n",
    "# и срез пользователей, совершивших заказы дороже 28 000\n",
    "usersWithExpensiveOrders = orders[orders['revenue'] > 28000]['visitor_id']\n",
    "\n",
    "# объединим срезы в таблице abnormalUsers\n",
    "abnormalUsers = (\n",
    "    pd.concat([usersWithManyOrders, usersWithExpensiveOrders], axis=0)\n",
    "    .drop_duplicates()\n",
    "    .sort_values()\n",
    ")\n",
    "print(abnormalUsers.head(5))\n",
    "print('Отсеяных пользователей:',len(abnormalUsers)) \n"
   ]
  },
  {
   "cell_type": "code",
   "execution_count": 25,
   "metadata": {
    "scrolled": true
   },
   "outputs": [
    {
     "name": "stdout",
     "output_type": "stream",
     "text": [
      "Значение p-value: 0.01304\n",
      "Относительное изменение конверсии группы B к группе А: 0.173\n"
     ]
    }
   ],
   "source": [
    "# выборки количества заказов по пользователям по группам теста\n",
    "sampleAFiltered = pd.concat(\n",
    "    [\n",
    "        ordersByUsersA[\n",
    "            np.logical_not(ordersByUsersA['user_id'].isin(abnormalUsers))\n",
    "        ]['orders'],\n",
    "        pd.Series(\n",
    "            0,\n",
    "            index=np.arange(\n",
    "                visitorsADaily['visitorsPerDateA'].sum() - len(ordersByUsersA['orders'])\n",
    "            ),\n",
    "            name='orders',\n",
    "        ),\n",
    "    ],\n",
    "    axis=0,\n",
    ")\n",
    "\n",
    "sampleBFiltered = pd.concat(\n",
    "    [\n",
    "        ordersByUsersB[\n",
    "            np.logical_not(ordersByUsersB['user_id'].isin(abnormalUsers))\n",
    "        ]['orders'],\n",
    "        pd.Series(\n",
    "            0,\n",
    "            index=np.arange(\n",
    "                visitorsBDaily['visitorsPerDateB'].sum() - len(ordersByUsersB['orders'])\n",
    "            ),\n",
    "            name='orders',\n",
    "        ),\n",
    "    ],\n",
    "    axis=0,\n",
    ") \n",
    "\n",
    "# применим статистический критерий Манна-Уитни к полученным выборкам\n",
    "print('Значение p-value:','{0:.5f}'.format(stats.mannwhitneyu(sampleAFiltered, sampleBFiltered, alternative = 'two-sided')[1]))\n",
    "print('Относительное изменение конверсии группы B к группе А:','{0:.3f}'.format(sampleBFiltered.mean()/sampleAFiltered.mean()-1)) "
   ]
  },
  {
   "cell_type": "markdown",
   "metadata": {},
   "source": [
    "####  Вывод"
   ]
  },
  {
   "cell_type": "markdown",
   "metadata": {},
   "source": [
    "Всего было отсеяно 74 пользователя по 95 % перцентилю по 2 показателям: цене заказа и количеству их у одного пользователя.\n",
    "<dd>P-value меньше, чем alpha. Такая разница в пропорциях при указанных размерах выборок достаточна, чтобы говорить о статистически значимом различии. Значит, нулевую гипотезу, также как и в неочищенных данных, мы отвергаем.</dd> \n",
    "Конверсия также у группы Б выше, чем у второй группы."
   ]
  },
  {
   "cell_type": "markdown",
   "metadata": {},
   "source": [
    "### Статистическая значимость различий в среднем чеке заказа между группами по «очищенным» данным"
   ]
  },
  {
   "cell_type": "code",
   "execution_count": 26,
   "metadata": {},
   "outputs": [
    {
     "name": "stdout",
     "output_type": "stream",
     "text": [
      "Значение p-value: 0.738\n",
      "Относительное изменение среднего чека группы B к группе А: -0.020\n"
     ]
    }
   ],
   "source": [
    "# применим статистический критерий Манна-Уитни к полученным выборкам\n",
    "\n",
    "print('Значение p-value:',\n",
    "    '{0:.3f}'.format(\n",
    "        stats.mannwhitneyu(\n",
    "            orders[\n",
    "                np.logical_and(\n",
    "                    orders['group'] == 'A',\n",
    "                    np.logical_not(orders['visitor_id'].isin(abnormalUsers)),\n",
    "                )\n",
    "            ]['revenue'],\n",
    "            orders[\n",
    "                np.logical_and(\n",
    "                    orders['group'] == 'B',\n",
    "                    np.logical_not(orders['visitor_id'].isin(abnormalUsers)),\n",
    "                )\n",
    "            ]['revenue'],alternative=\"two-sided\"\n",
    "        )[1]\n",
    "    )\n",
    ")\n",
    "\n",
    "print('Относительное изменение среднего чека группы B к группе А:',\n",
    "    \"{0:.3f}\".format(\n",
    "        orders[\n",
    "            np.logical_and(\n",
    "                orders['group'] == 'B',\n",
    "                np.logical_not(orders['visitor_id'].isin(abnormalUsers)),\n",
    "            )\n",
    "        ]['revenue'].mean()\n",
    "        / orders[\n",
    "            np.logical_and(\n",
    "                orders['group'] == 'A',\n",
    "                np.logical_not(orders['visitor_id'].isin(abnormalUsers)),\n",
    "            )\n",
    "        ]['revenue'].mean()\n",
    "        - 1\n",
    "    )\n",
    ") "
   ]
  },
  {
   "cell_type": "markdown",
   "metadata": {},
   "source": [
    "####  Вывод"
   ]
  },
  {
   "cell_type": "markdown",
   "metadata": {},
   "source": [
    "Опять же, как и в полных данных p-value значительно больше 0.05. Значит, причин отвергать нулевую гипотезу и считать, что в среднем чеке есть различия, нет. Однако, очищенный от выбросов средний чек группы Б уже не превышает средний чек группы А, а, наоборот, уступает ему на 2 %. "
   ]
  },
  {
   "cell_type": "markdown",
   "metadata": {},
   "source": [
    "## Вывод"
   ]
  },
  {
   "cell_type": "markdown",
   "metadata": {},
   "source": [
    "Хотя нами и не было обнаружено четкого превосходства показателей одной группы пользователей от второй, мы можем сделать несколько заключений:\n",
    "<ul><li>При проведении стат-теста нам удалось выявить статистически значимые различия между конверсиями двух групп. </li>\n",
    "<li>Напротив, статистически значимые различия между средними чеками двух групп пользователей А и Б выявить не удалось.</li>\n",
    "<li>Из этого следует определенный вывод: доходы фирмы не выросли. Пользователи группы Б, хоть и покупают чаще, но делают более мелкие  покупки, чем пользователи группы А, поэтому средний чек не увеличивается и нововведение  не приносит дополнительной прибыли.</li></ul>\n",
    "\n",
    "Тест следует остановить, можно признать его нейтральным, так как позитивного результата он нам не дал, но и к ухудшению не привел. Однако реализовывать протестированную гипотезу не целесообразно, если главная цель увеличить прибыль, а не сделать фоном главной страницы, к примеру, любимый цвет генерального директора."
   ]
  }
 ],
 "metadata": {
  "ExecuteTimeLog": [
   {
    "duration": 1758,
    "start_time": "2022-03-22T18:46:42.808Z"
   },
   {
    "duration": 89,
    "start_time": "2022-03-22T18:46:44.569Z"
   },
   {
    "duration": 80,
    "start_time": "2022-03-22T18:46:44.660Z"
   },
   {
    "duration": 72,
    "start_time": "2022-03-22T18:47:25.913Z"
   },
   {
    "duration": 107,
    "start_time": "2022-03-22T18:47:35.985Z"
   },
   {
    "duration": 103,
    "start_time": "2022-03-22T18:48:07.084Z"
   },
   {
    "duration": 56,
    "start_time": "2022-03-22T18:48:07.485Z"
   },
   {
    "duration": 16,
    "start_time": "2022-03-22T18:59:28.982Z"
   },
   {
    "duration": 754,
    "start_time": "2022-03-22T19:00:27.933Z"
   },
   {
    "duration": 494,
    "start_time": "2022-03-22T19:03:51.142Z"
   },
   {
    "duration": 42,
    "start_time": "2022-03-23T07:54:58.069Z"
   },
   {
    "duration": 1307,
    "start_time": "2022-03-23T07:55:04.634Z"
   },
   {
    "duration": 64,
    "start_time": "2022-03-23T07:55:05.943Z"
   },
   {
    "duration": 50,
    "start_time": "2022-03-23T07:55:06.009Z"
   },
   {
    "duration": 49,
    "start_time": "2022-03-23T07:55:06.061Z"
   },
   {
    "duration": 75,
    "start_time": "2022-03-23T07:55:06.111Z"
   },
   {
    "duration": 10,
    "start_time": "2022-03-23T07:55:08.275Z"
   },
   {
    "duration": 11,
    "start_time": "2022-03-23T07:56:07.193Z"
   },
   {
    "duration": 12,
    "start_time": "2022-03-23T07:56:19.561Z"
   },
   {
    "duration": 12,
    "start_time": "2022-03-23T07:56:55.576Z"
   },
   {
    "duration": 11,
    "start_time": "2022-03-23T07:58:15.573Z"
   },
   {
    "duration": 11,
    "start_time": "2022-03-23T07:58:20.140Z"
   },
   {
    "duration": 34,
    "start_time": "2022-03-23T07:58:54.820Z"
   },
   {
    "duration": 12,
    "start_time": "2022-03-23T07:58:58.986Z"
   },
   {
    "duration": 14,
    "start_time": "2022-03-23T08:27:45.657Z"
   },
   {
    "duration": 13,
    "start_time": "2022-03-23T08:29:32.835Z"
   },
   {
    "duration": 24,
    "start_time": "2022-03-23T08:29:56.810Z"
   },
   {
    "duration": 27,
    "start_time": "2022-03-23T08:30:14.282Z"
   },
   {
    "duration": 6,
    "start_time": "2022-03-23T08:31:48.007Z"
   },
   {
    "duration": 5,
    "start_time": "2022-03-23T08:32:15.033Z"
   },
   {
    "duration": 10,
    "start_time": "2022-03-23T08:32:17.797Z"
   },
   {
    "duration": 1224,
    "start_time": "2022-03-23T08:32:28.121Z"
   },
   {
    "duration": 75,
    "start_time": "2022-03-23T08:32:29.347Z"
   },
   {
    "duration": 62,
    "start_time": "2022-03-23T08:32:31.847Z"
   },
   {
    "duration": 77,
    "start_time": "2022-03-23T08:32:31.911Z"
   },
   {
    "duration": 49,
    "start_time": "2022-03-23T08:32:31.990Z"
   },
   {
    "duration": 47,
    "start_time": "2022-03-23T08:32:32.041Z"
   },
   {
    "duration": 91,
    "start_time": "2022-03-23T10:06:08.872Z"
   },
   {
    "duration": 7,
    "start_time": "2022-03-23T10:06:15.248Z"
   },
   {
    "duration": 8,
    "start_time": "2022-03-23T10:06:16.215Z"
   },
   {
    "duration": 30,
    "start_time": "2022-03-23T10:31:19.093Z"
   },
   {
    "duration": 606,
    "start_time": "2022-03-23T10:31:53.835Z"
   },
   {
    "duration": 536,
    "start_time": "2022-03-23T10:32:45.547Z"
   },
   {
    "duration": 506,
    "start_time": "2022-03-23T10:36:17.763Z"
   },
   {
    "duration": 424,
    "start_time": "2022-03-23T10:38:46.550Z"
   },
   {
    "duration": 391,
    "start_time": "2022-03-23T10:39:02.684Z"
   },
   {
    "duration": 3,
    "start_time": "2022-03-23T10:39:23.276Z"
   },
   {
    "duration": 71,
    "start_time": "2022-03-23T10:39:23.774Z"
   },
   {
    "duration": 42,
    "start_time": "2022-03-23T10:39:23.848Z"
   },
   {
    "duration": 40,
    "start_time": "2022-03-23T10:39:23.892Z"
   },
   {
    "duration": 33,
    "start_time": "2022-03-23T10:39:23.969Z"
   },
   {
    "duration": 9,
    "start_time": "2022-03-23T10:39:24.209Z"
   },
   {
    "duration": 7,
    "start_time": "2022-03-23T10:39:24.534Z"
   },
   {
    "duration": 7,
    "start_time": "2022-03-23T10:39:24.614Z"
   },
   {
    "duration": 383,
    "start_time": "2022-03-23T10:39:26.566Z"
   },
   {
    "duration": 2465,
    "start_time": "2022-03-23T10:40:29.841Z"
   },
   {
    "duration": 0,
    "start_time": "2022-03-23T10:40:32.308Z"
   },
   {
    "duration": 0,
    "start_time": "2022-03-23T10:40:32.310Z"
   },
   {
    "duration": 361,
    "start_time": "2022-03-23T10:40:34.945Z"
   },
   {
    "duration": 405,
    "start_time": "2022-03-23T10:44:21.346Z"
   },
   {
    "duration": 331,
    "start_time": "2022-03-23T10:45:36.031Z"
   },
   {
    "duration": 263,
    "start_time": "2022-03-23T10:46:10.356Z"
   },
   {
    "duration": 407,
    "start_time": "2022-03-23T10:46:23.494Z"
   },
   {
    "duration": 417,
    "start_time": "2022-03-23T10:46:44.437Z"
   },
   {
    "duration": 423,
    "start_time": "2022-03-23T10:48:20.866Z"
   },
   {
    "duration": 147,
    "start_time": "2022-03-23T10:49:11.783Z"
   },
   {
    "duration": 173,
    "start_time": "2022-03-23T10:49:52.063Z"
   },
   {
    "duration": 289,
    "start_time": "2022-03-23T10:51:07.653Z"
   },
   {
    "duration": 322,
    "start_time": "2022-03-23T10:51:34.061Z"
   },
   {
    "duration": 251,
    "start_time": "2022-03-23T10:51:58.011Z"
   },
   {
    "duration": 128,
    "start_time": "2022-03-23T10:53:05.866Z"
   },
   {
    "duration": 143,
    "start_time": "2022-03-23T10:54:00.278Z"
   },
   {
    "duration": 135,
    "start_time": "2022-03-23T10:54:18.792Z"
   },
   {
    "duration": 234,
    "start_time": "2022-03-23T10:54:35.141Z"
   },
   {
    "duration": 256,
    "start_time": "2022-03-23T10:56:53.425Z"
   },
   {
    "duration": 272,
    "start_time": "2022-03-23T10:57:27.513Z"
   },
   {
    "duration": 295,
    "start_time": "2022-03-23T10:58:07.472Z"
   },
   {
    "duration": 280,
    "start_time": "2022-03-23T10:58:27.134Z"
   },
   {
    "duration": 262,
    "start_time": "2022-03-23T10:58:50.221Z"
   },
   {
    "duration": 274,
    "start_time": "2022-03-23T10:59:55.524Z"
   },
   {
    "duration": 268,
    "start_time": "2022-03-23T11:08:12.915Z"
   },
   {
    "duration": 278,
    "start_time": "2022-03-23T11:08:47.947Z"
   },
   {
    "duration": 4,
    "start_time": "2022-03-23T11:09:46.263Z"
   },
   {
    "duration": 304,
    "start_time": "2022-03-23T11:09:52.670Z"
   },
   {
    "duration": 294,
    "start_time": "2022-03-23T11:10:35.670Z"
   },
   {
    "duration": 263,
    "start_time": "2022-03-23T11:10:45.501Z"
   },
   {
    "duration": 2,
    "start_time": "2022-03-23T11:11:04.588Z"
   },
   {
    "duration": 9,
    "start_time": "2022-03-23T11:12:10.362Z"
   },
   {
    "duration": 9,
    "start_time": "2022-03-23T11:14:11.360Z"
   },
   {
    "duration": 138,
    "start_time": "2022-03-23T11:14:27.277Z"
   },
   {
    "duration": 126,
    "start_time": "2022-03-23T11:16:01.228Z"
   },
   {
    "duration": 148,
    "start_time": "2022-03-23T11:16:10.498Z"
   },
   {
    "duration": 3385,
    "start_time": "2022-03-23T11:16:53.257Z"
   },
   {
    "duration": 318,
    "start_time": "2022-03-23T11:17:06.377Z"
   },
   {
    "duration": 221,
    "start_time": "2022-03-23T11:17:41.537Z"
   },
   {
    "duration": 235,
    "start_time": "2022-03-23T11:17:56.231Z"
   },
   {
    "duration": 4982,
    "start_time": "2022-03-23T11:20:22.905Z"
   },
   {
    "duration": 5,
    "start_time": "2022-03-23T11:20:30.861Z"
   },
   {
    "duration": 8,
    "start_time": "2022-03-23T11:21:41.919Z"
   },
   {
    "duration": 10,
    "start_time": "2022-03-23T11:21:57.719Z"
   },
   {
    "duration": 10,
    "start_time": "2022-03-23T11:22:26.334Z"
   },
   {
    "duration": 112,
    "start_time": "2022-03-23T11:22:38.719Z"
   },
   {
    "duration": 139,
    "start_time": "2022-03-23T11:23:07.549Z"
   },
   {
    "duration": 4,
    "start_time": "2022-03-23T11:24:04.570Z"
   },
   {
    "duration": 16,
    "start_time": "2022-03-23T12:04:02.295Z"
   },
   {
    "duration": 3193,
    "start_time": "2022-03-23T12:06:20.748Z"
   },
   {
    "duration": 129,
    "start_time": "2022-03-23T12:06:38.666Z"
   },
   {
    "duration": 3784,
    "start_time": "2022-03-23T12:06:59.865Z"
   },
   {
    "duration": 3635,
    "start_time": "2022-03-23T12:07:07.688Z"
   },
   {
    "duration": 211,
    "start_time": "2022-03-23T12:11:54.654Z"
   },
   {
    "duration": 4,
    "start_time": "2022-03-23T12:12:03.734Z"
   },
   {
    "duration": 142,
    "start_time": "2022-03-23T12:12:48.877Z"
   },
   {
    "duration": 5,
    "start_time": "2022-03-23T12:12:51.756Z"
   },
   {
    "duration": 3318,
    "start_time": "2022-03-23T12:13:00.197Z"
   },
   {
    "duration": 92,
    "start_time": "2022-03-23T12:39:50.175Z"
   },
   {
    "duration": 142,
    "start_time": "2022-03-23T12:42:36.497Z"
   },
   {
    "duration": 191,
    "start_time": "2022-03-23T12:43:01.864Z"
   },
   {
    "duration": 6,
    "start_time": "2022-03-23T12:44:35.787Z"
   },
   {
    "duration": 13,
    "start_time": "2022-03-23T12:44:36.379Z"
   },
   {
    "duration": 270,
    "start_time": "2022-03-23T13:08:43.098Z"
   },
   {
    "duration": 8,
    "start_time": "2022-03-23T13:08:49.682Z"
   },
   {
    "duration": 13,
    "start_time": "2022-03-23T13:08:52.403Z"
   },
   {
    "duration": 4,
    "start_time": "2022-03-23T13:09:13.744Z"
   },
   {
    "duration": 74,
    "start_time": "2022-03-23T13:09:14.256Z"
   },
   {
    "duration": 48,
    "start_time": "2022-03-23T13:09:14.332Z"
   },
   {
    "duration": 50,
    "start_time": "2022-03-23T13:09:14.429Z"
   },
   {
    "duration": 34,
    "start_time": "2022-03-23T13:09:14.522Z"
   },
   {
    "duration": 17,
    "start_time": "2022-03-23T13:09:14.745Z"
   },
   {
    "duration": 7,
    "start_time": "2022-03-23T13:09:15.041Z"
   },
   {
    "duration": 8,
    "start_time": "2022-03-23T13:09:15.117Z"
   },
   {
    "duration": 452,
    "start_time": "2022-03-23T13:09:15.340Z"
   },
   {
    "duration": 189,
    "start_time": "2022-03-23T13:09:15.794Z"
   },
   {
    "duration": 323,
    "start_time": "2022-03-23T13:09:15.985Z"
   },
   {
    "duration": 243,
    "start_time": "2022-03-23T13:09:16.311Z"
   },
   {
    "duration": 405,
    "start_time": "2022-03-23T13:09:16.556Z"
   },
   {
    "duration": 3,
    "start_time": "2022-03-23T13:09:16.963Z"
   },
   {
    "duration": 354,
    "start_time": "2022-03-23T13:09:16.968Z"
   },
   {
    "duration": 4,
    "start_time": "2022-03-23T13:09:17.324Z"
   },
   {
    "duration": 164,
    "start_time": "2022-03-23T13:09:17.330Z"
   },
   {
    "duration": 4,
    "start_time": "2022-03-23T13:09:17.497Z"
   },
   {
    "duration": 331,
    "start_time": "2022-03-23T13:09:17.502Z"
   },
   {
    "duration": 133,
    "start_time": "2022-03-23T13:09:17.835Z"
   },
   {
    "duration": 14,
    "start_time": "2022-03-23T13:09:17.970Z"
   },
   {
    "duration": 27,
    "start_time": "2022-03-23T13:09:17.985Z"
   },
   {
    "duration": 10,
    "start_time": "2022-03-23T13:12:05.602Z"
   },
   {
    "duration": 3404,
    "start_time": "2022-03-23T13:26:08.126Z"
   },
   {
    "duration": 140,
    "start_time": "2022-03-23T13:26:38.758Z"
   },
   {
    "duration": 9035,
    "start_time": "2022-03-23T13:40:22.785Z"
   },
   {
    "duration": 28,
    "start_time": "2022-03-23T13:40:38.729Z"
   },
   {
    "duration": 3161,
    "start_time": "2022-03-23T13:41:32.760Z"
   },
   {
    "duration": 3392,
    "start_time": "2022-03-23T13:41:46.518Z"
   },
   {
    "duration": 12,
    "start_time": "2022-03-23T13:42:14.758Z"
   },
   {
    "duration": 167,
    "start_time": "2022-03-23T13:42:48.068Z"
   },
   {
    "duration": 26,
    "start_time": "2022-03-23T13:42:49.523Z"
   },
   {
    "duration": 13,
    "start_time": "2022-03-23T13:42:49.747Z"
   },
   {
    "duration": 137,
    "start_time": "2022-03-23T13:51:08.411Z"
   },
   {
    "duration": 28,
    "start_time": "2022-03-23T13:51:09.259Z"
   },
   {
    "duration": 12,
    "start_time": "2022-03-23T13:51:09.980Z"
   },
   {
    "duration": 26,
    "start_time": "2022-03-23T13:54:03.293Z"
   },
   {
    "duration": 12,
    "start_time": "2022-03-23T13:54:03.901Z"
   },
   {
    "duration": 26,
    "start_time": "2022-03-23T13:56:23.890Z"
   },
   {
    "duration": 26,
    "start_time": "2022-03-23T13:56:26.929Z"
   },
   {
    "duration": 27,
    "start_time": "2022-03-23T13:56:35.216Z"
   },
   {
    "duration": 29,
    "start_time": "2022-03-23T13:56:40.104Z"
   },
   {
    "duration": 204,
    "start_time": "2022-03-23T13:56:43.952Z"
   },
   {
    "duration": 195,
    "start_time": "2022-03-23T13:57:14.007Z"
   },
   {
    "duration": 29,
    "start_time": "2022-03-23T13:57:36.846Z"
   },
   {
    "duration": 25,
    "start_time": "2022-03-23T13:58:15.197Z"
   },
   {
    "duration": 28,
    "start_time": "2022-03-23T13:59:54.865Z"
   },
   {
    "duration": 3,
    "start_time": "2022-03-23T14:00:33.937Z"
   },
   {
    "duration": 63,
    "start_time": "2022-03-23T14:00:34.679Z"
   },
   {
    "duration": 43,
    "start_time": "2022-03-23T14:00:35.242Z"
   },
   {
    "duration": 43,
    "start_time": "2022-03-23T14:00:36.267Z"
   },
   {
    "duration": 34,
    "start_time": "2022-03-23T14:00:36.874Z"
   },
   {
    "duration": 16,
    "start_time": "2022-03-23T14:00:38.087Z"
   },
   {
    "duration": 7,
    "start_time": "2022-03-23T14:00:42.346Z"
   },
   {
    "duration": 9,
    "start_time": "2022-03-23T14:00:42.800Z"
   },
   {
    "duration": 445,
    "start_time": "2022-03-23T14:00:49.426Z"
   },
   {
    "duration": 166,
    "start_time": "2022-03-23T14:00:50.496Z"
   },
   {
    "duration": 277,
    "start_time": "2022-03-23T14:00:52.280Z"
   },
   {
    "duration": 157,
    "start_time": "2022-03-23T14:00:54.487Z"
   },
   {
    "duration": 270,
    "start_time": "2022-03-23T14:00:56.185Z"
   },
   {
    "duration": 2,
    "start_time": "2022-03-23T14:00:57.503Z"
   },
   {
    "duration": 245,
    "start_time": "2022-03-23T14:00:59.536Z"
   },
   {
    "duration": 4,
    "start_time": "2022-03-23T14:01:00.447Z"
   },
   {
    "duration": 132,
    "start_time": "2022-03-23T14:01:01.226Z"
   },
   {
    "duration": 4,
    "start_time": "2022-03-23T14:01:02.047Z"
   },
   {
    "duration": 204,
    "start_time": "2022-03-23T14:01:02.992Z"
   },
   {
    "duration": 134,
    "start_time": "2022-03-23T14:01:03.815Z"
   },
   {
    "duration": 6,
    "start_time": "2022-03-23T14:01:05.039Z"
   },
   {
    "duration": 24,
    "start_time": "2022-03-23T14:01:06.679Z"
   },
   {
    "duration": 2,
    "start_time": "2022-03-23T14:01:08.886Z"
   },
   {
    "duration": 9,
    "start_time": "2022-03-23T14:01:12.409Z"
   },
   {
    "duration": 127,
    "start_time": "2022-03-23T14:01:13.511Z"
   },
   {
    "duration": 26,
    "start_time": "2022-03-23T14:01:14.655Z"
   },
   {
    "duration": 13,
    "start_time": "2022-03-23T14:01:16.332Z"
   },
   {
    "duration": 3952,
    "start_time": "2022-03-23T14:03:05.462Z"
   },
   {
    "duration": 0,
    "start_time": "2022-03-23T14:03:09.416Z"
   },
   {
    "duration": 0,
    "start_time": "2022-03-23T14:03:09.417Z"
   },
   {
    "duration": 157,
    "start_time": "2022-03-23T14:03:26.468Z"
   },
   {
    "duration": 28,
    "start_time": "2022-03-23T14:03:48.241Z"
   },
   {
    "duration": 13,
    "start_time": "2022-03-23T14:03:48.721Z"
   },
   {
    "duration": 5,
    "start_time": "2022-03-23T17:41:52.229Z"
   },
   {
    "duration": 1951,
    "start_time": "2022-03-23T17:41:59.151Z"
   },
   {
    "duration": 55,
    "start_time": "2022-03-23T17:42:01.105Z"
   },
   {
    "duration": 146,
    "start_time": "2022-03-23T17:42:01.165Z"
   },
   {
    "duration": 177,
    "start_time": "2022-03-23T17:42:01.316Z"
   },
   {
    "duration": 123,
    "start_time": "2022-03-23T17:42:01.496Z"
   },
   {
    "duration": 80,
    "start_time": "2022-03-23T17:42:01.624Z"
   },
   {
    "duration": 19,
    "start_time": "2022-03-23T17:42:01.707Z"
   },
   {
    "duration": 15,
    "start_time": "2022-03-23T17:42:01.739Z"
   },
   {
    "duration": 1229,
    "start_time": "2022-03-23T17:42:01.757Z"
   },
   {
    "duration": 511,
    "start_time": "2022-03-23T17:42:02.992Z"
   },
   {
    "duration": 515,
    "start_time": "2022-03-23T17:42:03.507Z"
   },
   {
    "duration": 340,
    "start_time": "2022-03-23T17:42:04.025Z"
   },
   {
    "duration": 521,
    "start_time": "2022-03-23T17:42:04.369Z"
   },
   {
    "duration": 4,
    "start_time": "2022-03-23T17:42:04.893Z"
   },
   {
    "duration": 820,
    "start_time": "2022-03-23T17:42:04.900Z"
   },
   {
    "duration": 7,
    "start_time": "2022-03-23T17:42:05.723Z"
   },
   {
    "duration": 310,
    "start_time": "2022-03-23T17:42:05.734Z"
   },
   {
    "duration": 8,
    "start_time": "2022-03-23T17:42:06.046Z"
   },
   {
    "duration": 396,
    "start_time": "2022-03-23T17:42:06.056Z"
   },
   {
    "duration": 322,
    "start_time": "2022-03-23T17:42:06.455Z"
   },
   {
    "duration": 0,
    "start_time": "2022-03-23T17:42:06.780Z"
   },
   {
    "duration": 0,
    "start_time": "2022-03-23T17:42:06.780Z"
   },
   {
    "duration": 0,
    "start_time": "2022-03-23T17:42:06.781Z"
   },
   {
    "duration": 0,
    "start_time": "2022-03-23T17:42:06.782Z"
   },
   {
    "duration": 0,
    "start_time": "2022-03-23T17:42:06.784Z"
   },
   {
    "duration": 0,
    "start_time": "2022-03-23T17:42:06.785Z"
   },
   {
    "duration": 0,
    "start_time": "2022-03-23T17:42:06.787Z"
   },
   {
    "duration": 109,
    "start_time": "2022-03-23T18:43:49.135Z"
   },
   {
    "duration": 273,
    "start_time": "2022-03-23T19:57:43.546Z"
   },
   {
    "duration": 1324,
    "start_time": "2022-03-24T09:36:57.110Z"
   },
   {
    "duration": 95,
    "start_time": "2022-03-24T09:37:14.514Z"
   },
   {
    "duration": 50,
    "start_time": "2022-03-24T09:37:15.017Z"
   },
   {
    "duration": 60,
    "start_time": "2022-03-24T09:37:15.107Z"
   },
   {
    "duration": 43,
    "start_time": "2022-03-24T09:37:15.204Z"
   },
   {
    "duration": 17,
    "start_time": "2022-03-24T09:37:15.400Z"
   },
   {
    "duration": 10,
    "start_time": "2022-03-24T09:37:15.685Z"
   },
   {
    "duration": 7,
    "start_time": "2022-03-24T09:37:15.745Z"
   },
   {
    "duration": 625,
    "start_time": "2022-03-24T09:37:15.978Z"
   },
   {
    "duration": 189,
    "start_time": "2022-03-24T09:37:16.605Z"
   },
   {
    "duration": 337,
    "start_time": "2022-03-24T09:37:16.795Z"
   },
   {
    "duration": 176,
    "start_time": "2022-03-24T09:37:17.134Z"
   },
   {
    "duration": 298,
    "start_time": "2022-03-24T09:37:17.311Z"
   },
   {
    "duration": 2,
    "start_time": "2022-03-24T09:37:17.611Z"
   },
   {
    "duration": 237,
    "start_time": "2022-03-24T09:37:17.614Z"
   },
   {
    "duration": 3,
    "start_time": "2022-03-24T09:37:17.853Z"
   },
   {
    "duration": 154,
    "start_time": "2022-03-24T09:37:17.857Z"
   },
   {
    "duration": 4,
    "start_time": "2022-03-24T09:37:18.014Z"
   },
   {
    "duration": 217,
    "start_time": "2022-03-24T09:37:18.020Z"
   },
   {
    "duration": 128,
    "start_time": "2022-03-24T09:37:18.239Z"
   },
   {
    "duration": 5,
    "start_time": "2022-03-24T09:37:18.369Z"
   },
   {
    "duration": 33,
    "start_time": "2022-03-24T09:37:18.375Z"
   },
   {
    "duration": 2,
    "start_time": "2022-03-24T09:37:18.410Z"
   },
   {
    "duration": 9,
    "start_time": "2022-03-24T09:37:18.414Z"
   },
   {
    "duration": 138,
    "start_time": "2022-03-24T09:37:18.425Z"
   },
   {
    "duration": 37,
    "start_time": "2022-03-24T09:37:18.565Z"
   },
   {
    "duration": 13,
    "start_time": "2022-03-24T09:37:19.537Z"
   },
   {
    "duration": 2,
    "start_time": "2022-03-24T09:50:55.873Z"
   },
   {
    "duration": 3,
    "start_time": "2022-03-24T09:58:12.193Z"
   },
   {
    "duration": 3,
    "start_time": "2022-03-24T09:58:27.751Z"
   },
   {
    "duration": 262,
    "start_time": "2022-03-24T10:22:54.133Z"
   },
   {
    "duration": 278,
    "start_time": "2022-03-24T10:23:17.027Z"
   },
   {
    "duration": 486,
    "start_time": "2022-03-24T10:28:01.451Z"
   },
   {
    "duration": 497,
    "start_time": "2022-03-24T10:30:17.021Z"
   },
   {
    "duration": 191,
    "start_time": "2022-03-24T10:30:41.923Z"
   },
   {
    "duration": 188,
    "start_time": "2022-03-24T10:42:53.961Z"
   },
   {
    "duration": 336,
    "start_time": "2022-03-24T10:43:02.210Z"
   },
   {
    "duration": 151,
    "start_time": "2022-03-24T10:45:18.430Z"
   },
   {
    "duration": 198,
    "start_time": "2022-03-24T12:34:07.360Z"
   },
   {
    "duration": 612,
    "start_time": "2022-03-24T12:34:10.864Z"
   },
   {
    "duration": 464,
    "start_time": "2022-03-24T12:34:55.229Z"
   },
   {
    "duration": 479,
    "start_time": "2022-03-24T12:35:38.754Z"
   },
   {
    "duration": 502,
    "start_time": "2022-03-24T12:36:20.075Z"
   },
   {
    "duration": 4,
    "start_time": "2022-03-24T14:05:05.925Z"
   },
   {
    "duration": 3,
    "start_time": "2022-03-24T14:05:14.629Z"
   },
   {
    "duration": 177,
    "start_time": "2022-03-24T14:19:54.540Z"
   },
   {
    "duration": 133,
    "start_time": "2022-03-24T15:01:26.221Z"
   },
   {
    "duration": 6,
    "start_time": "2022-03-24T15:01:34.092Z"
   },
   {
    "duration": 22,
    "start_time": "2022-03-24T15:01:34.349Z"
   },
   {
    "duration": 3066,
    "start_time": "2022-03-24T15:03:54.914Z"
   },
   {
    "duration": 4,
    "start_time": "2022-03-24T15:04:22.599Z"
   },
   {
    "duration": 183,
    "start_time": "2022-03-24T15:04:23.111Z"
   },
   {
    "duration": 139,
    "start_time": "2022-03-24T15:04:23.296Z"
   },
   {
    "duration": 79,
    "start_time": "2022-03-24T15:04:23.437Z"
   },
   {
    "duration": 34,
    "start_time": "2022-03-24T15:04:23.518Z"
   },
   {
    "duration": 17,
    "start_time": "2022-03-24T15:04:23.714Z"
   },
   {
    "duration": 8,
    "start_time": "2022-03-24T15:04:24.630Z"
   },
   {
    "duration": 8,
    "start_time": "2022-03-24T15:04:25.287Z"
   },
   {
    "duration": 479,
    "start_time": "2022-03-24T15:04:27.047Z"
   },
   {
    "duration": 183,
    "start_time": "2022-03-24T15:04:29.374Z"
   },
   {
    "duration": 302,
    "start_time": "2022-03-24T15:04:30.320Z"
   },
   {
    "duration": 181,
    "start_time": "2022-03-24T15:04:31.288Z"
   },
   {
    "duration": 279,
    "start_time": "2022-03-24T15:04:32.043Z"
   },
   {
    "duration": 256,
    "start_time": "2022-03-24T15:04:33.390Z"
   },
   {
    "duration": 4,
    "start_time": "2022-03-24T15:04:34.022Z"
   },
   {
    "duration": 185,
    "start_time": "2022-03-24T15:04:35.199Z"
   },
   {
    "duration": 5,
    "start_time": "2022-03-24T15:04:36.110Z"
   },
   {
    "duration": 219,
    "start_time": "2022-03-24T15:04:37.967Z"
   },
   {
    "duration": 149,
    "start_time": "2022-03-24T15:04:38.605Z"
   },
   {
    "duration": 7,
    "start_time": "2022-03-24T15:04:38.973Z"
   },
   {
    "duration": 21,
    "start_time": "2022-03-24T15:04:39.398Z"
   },
   {
    "duration": 2,
    "start_time": "2022-03-24T15:04:42.926Z"
   },
   {
    "duration": 11,
    "start_time": "2022-03-24T15:04:43.657Z"
   },
   {
    "duration": 9,
    "start_time": "2022-03-24T15:04:52.240Z"
   },
   {
    "duration": 27,
    "start_time": "2022-03-24T15:04:53.438Z"
   },
   {
    "duration": 13,
    "start_time": "2022-03-24T15:04:56.632Z"
   },
   {
    "duration": 140,
    "start_time": "2022-03-24T15:06:57.186Z"
   },
   {
    "duration": 6,
    "start_time": "2022-03-24T15:06:57.857Z"
   },
   {
    "duration": 21,
    "start_time": "2022-03-24T15:06:58.345Z"
   },
   {
    "duration": 9,
    "start_time": "2022-03-24T15:44:43.218Z"
   },
   {
    "duration": 152,
    "start_time": "2022-03-24T17:21:45.409Z"
   },
   {
    "duration": 142,
    "start_time": "2022-03-24T17:31:25.019Z"
   },
   {
    "duration": 151,
    "start_time": "2022-03-24T17:31:31.659Z"
   },
   {
    "duration": 138,
    "start_time": "2022-03-24T17:32:09.324Z"
   },
   {
    "duration": 151,
    "start_time": "2022-03-24T17:32:26.666Z"
   },
   {
    "duration": 154,
    "start_time": "2022-03-24T17:32:47.385Z"
   },
   {
    "duration": 144,
    "start_time": "2022-03-24T17:33:24.880Z"
   },
   {
    "duration": 122,
    "start_time": "2022-03-24T17:33:30.639Z"
   },
   {
    "duration": 132,
    "start_time": "2022-03-24T17:33:51.912Z"
   },
   {
    "duration": 29,
    "start_time": "2022-03-24T18:34:42.966Z"
   },
   {
    "duration": 4,
    "start_time": "2022-03-24T18:35:54.723Z"
   },
   {
    "duration": 26,
    "start_time": "2022-03-24T18:35:55.527Z"
   },
   {
    "duration": 127,
    "start_time": "2022-03-24T18:35:55.624Z"
   },
   {
    "duration": 7,
    "start_time": "2022-03-24T18:35:56.266Z"
   },
   {
    "duration": 22,
    "start_time": "2022-03-24T18:35:59.676Z"
   },
   {
    "duration": 11,
    "start_time": "2022-03-24T18:36:04.314Z"
   },
   {
    "duration": 10,
    "start_time": "2022-03-24T18:36:07.700Z"
   },
   {
    "duration": 28,
    "start_time": "2022-03-24T18:36:09.418Z"
   },
   {
    "duration": 13,
    "start_time": "2022-03-24T18:36:14.346Z"
   },
   {
    "duration": 1244,
    "start_time": "2022-03-24T18:36:28.085Z"
   },
   {
    "duration": 2067,
    "start_time": "2022-03-24T18:36:29.331Z"
   },
   {
    "duration": 50,
    "start_time": "2022-03-24T18:36:31.400Z"
   },
   {
    "duration": 71,
    "start_time": "2022-03-24T18:36:31.451Z"
   },
   {
    "duration": 32,
    "start_time": "2022-03-24T18:36:31.524Z"
   },
   {
    "duration": 57,
    "start_time": "2022-03-24T18:36:31.558Z"
   },
   {
    "duration": 11,
    "start_time": "2022-03-24T18:36:31.616Z"
   },
   {
    "duration": 20,
    "start_time": "2022-03-24T18:36:31.628Z"
   },
   {
    "duration": 602,
    "start_time": "2022-03-24T18:36:31.650Z"
   },
   {
    "duration": 212,
    "start_time": "2022-03-24T18:36:32.254Z"
   },
   {
    "duration": 326,
    "start_time": "2022-03-24T18:36:32.468Z"
   },
   {
    "duration": 187,
    "start_time": "2022-03-24T18:36:32.800Z"
   },
   {
    "duration": 340,
    "start_time": "2022-03-24T18:36:32.989Z"
   },
   {
    "duration": 277,
    "start_time": "2022-03-24T18:36:33.332Z"
   },
   {
    "duration": 4,
    "start_time": "2022-03-24T18:36:33.610Z"
   },
   {
    "duration": 178,
    "start_time": "2022-03-24T18:36:33.616Z"
   },
   {
    "duration": 4,
    "start_time": "2022-03-24T18:36:33.800Z"
   },
   {
    "duration": 25,
    "start_time": "2022-03-24T18:36:33.806Z"
   },
   {
    "duration": 144,
    "start_time": "2022-03-24T18:36:33.833Z"
   },
   {
    "duration": 7,
    "start_time": "2022-03-24T18:36:33.979Z"
   },
   {
    "duration": 33,
    "start_time": "2022-03-24T18:36:33.987Z"
   },
   {
    "duration": 10,
    "start_time": "2022-03-24T18:36:34.021Z"
   },
   {
    "duration": 9,
    "start_time": "2022-03-24T18:36:34.033Z"
   },
   {
    "duration": 28,
    "start_time": "2022-03-24T18:36:34.044Z"
   },
   {
    "duration": 13,
    "start_time": "2022-03-24T18:36:34.102Z"
   },
   {
    "duration": 1305,
    "start_time": "2022-03-24T20:11:26.158Z"
   },
   {
    "duration": 75,
    "start_time": "2022-03-24T20:11:27.465Z"
   },
   {
    "duration": 55,
    "start_time": "2022-03-24T20:11:27.541Z"
   },
   {
    "duration": 49,
    "start_time": "2022-03-24T20:11:27.598Z"
   },
   {
    "duration": 67,
    "start_time": "2022-03-24T20:11:27.649Z"
   },
   {
    "duration": 20,
    "start_time": "2022-03-24T20:11:27.717Z"
   },
   {
    "duration": 10,
    "start_time": "2022-03-24T20:11:28.031Z"
   },
   {
    "duration": 8,
    "start_time": "2022-03-24T20:11:28.137Z"
   },
   {
    "duration": 636,
    "start_time": "2022-03-24T20:11:30.271Z"
   },
   {
    "duration": 242,
    "start_time": "2022-03-24T20:11:30.914Z"
   },
   {
    "duration": 327,
    "start_time": "2022-03-24T20:11:31.599Z"
   },
   {
    "duration": 204,
    "start_time": "2022-03-24T20:11:32.222Z"
   },
   {
    "duration": 355,
    "start_time": "2022-03-24T20:11:32.883Z"
   },
   {
    "duration": 292,
    "start_time": "2022-03-24T20:11:33.676Z"
   },
   {
    "duration": 4,
    "start_time": "2022-03-24T20:11:33.970Z"
   },
   {
    "duration": 180,
    "start_time": "2022-03-24T20:11:34.157Z"
   },
   {
    "duration": 5,
    "start_time": "2022-03-24T20:11:34.339Z"
   },
   {
    "duration": 30,
    "start_time": "2022-03-24T20:11:35.034Z"
   },
   {
    "duration": 131,
    "start_time": "2022-03-24T20:11:35.170Z"
   },
   {
    "duration": 7,
    "start_time": "2022-03-24T20:11:35.303Z"
   },
   {
    "duration": 24,
    "start_time": "2022-03-24T20:11:35.379Z"
   },
   {
    "duration": 10,
    "start_time": "2022-03-24T20:11:36.108Z"
   },
   {
    "duration": 10,
    "start_time": "2022-03-24T20:11:36.776Z"
   },
   {
    "duration": 30,
    "start_time": "2022-03-24T20:11:36.916Z"
   },
   {
    "duration": 15,
    "start_time": "2022-03-24T20:11:37.642Z"
   },
   {
    "duration": 2042,
    "start_time": "2022-03-25T17:48:59.278Z"
   },
   {
    "duration": 91,
    "start_time": "2022-03-25T17:49:01.328Z"
   },
   {
    "duration": 156,
    "start_time": "2022-03-25T17:49:01.423Z"
   },
   {
    "duration": 105,
    "start_time": "2022-03-25T17:49:01.591Z"
   },
   {
    "duration": 111,
    "start_time": "2022-03-25T17:49:01.700Z"
   },
   {
    "duration": 73,
    "start_time": "2022-03-25T17:49:01.814Z"
   },
   {
    "duration": 19,
    "start_time": "2022-03-25T17:49:01.896Z"
   },
   {
    "duration": 33,
    "start_time": "2022-03-25T17:49:01.917Z"
   },
   {
    "duration": 1377,
    "start_time": "2022-03-25T17:49:01.953Z"
   },
   {
    "duration": 424,
    "start_time": "2022-03-25T17:49:03.333Z"
   },
   {
    "duration": 508,
    "start_time": "2022-03-25T17:49:03.760Z"
   },
   {
    "duration": 409,
    "start_time": "2022-03-25T17:49:04.271Z"
   },
   {
    "duration": 598,
    "start_time": "2022-03-25T17:49:04.685Z"
   },
   {
    "duration": 670,
    "start_time": "2022-03-25T17:49:05.289Z"
   },
   {
    "duration": 7,
    "start_time": "2022-03-25T17:49:05.962Z"
   },
   {
    "duration": 410,
    "start_time": "2022-03-25T17:49:05.971Z"
   },
   {
    "duration": 6,
    "start_time": "2022-03-25T17:49:06.383Z"
   },
   {
    "duration": 71,
    "start_time": "2022-03-25T17:49:06.392Z"
   },
   {
    "duration": 302,
    "start_time": "2022-03-25T17:49:06.465Z"
   },
   {
    "duration": 9,
    "start_time": "2022-03-25T17:49:06.770Z"
   },
   {
    "duration": 41,
    "start_time": "2022-03-25T17:49:06.781Z"
   },
   {
    "duration": 25,
    "start_time": "2022-03-25T17:49:06.843Z"
   },
   {
    "duration": 21,
    "start_time": "2022-03-25T17:49:06.870Z"
   },
   {
    "duration": 57,
    "start_time": "2022-03-25T17:49:06.894Z"
   },
   {
    "duration": 25,
    "start_time": "2022-03-25T17:49:06.953Z"
   },
   {
    "duration": 98,
    "start_time": "2022-03-25T18:26:08.878Z"
   },
   {
    "duration": 1742,
    "start_time": "2022-03-25T19:27:05.983Z"
   },
   {
    "duration": 60,
    "start_time": "2022-03-25T19:27:07.728Z"
   },
   {
    "duration": 82,
    "start_time": "2022-03-25T19:27:12.049Z"
   },
   {
    "duration": 6,
    "start_time": "2022-03-25T19:34:16.273Z"
   },
   {
    "duration": 42,
    "start_time": "2022-03-25T19:34:16.776Z"
   },
   {
    "duration": 80,
    "start_time": "2022-03-25T19:34:17.054Z"
   },
   {
    "duration": 108,
    "start_time": "2022-03-25T19:34:17.166Z"
   },
   {
    "duration": 58,
    "start_time": "2022-03-25T19:34:17.297Z"
   },
   {
    "duration": 29,
    "start_time": "2022-03-25T19:34:17.554Z"
   },
   {
    "duration": 21,
    "start_time": "2022-03-25T19:34:18.073Z"
   },
   {
    "duration": 12,
    "start_time": "2022-03-25T19:34:18.168Z"
   },
   {
    "duration": 1006,
    "start_time": "2022-03-25T19:34:18.729Z"
   },
   {
    "duration": 379,
    "start_time": "2022-03-25T19:34:19.738Z"
   },
   {
    "duration": 569,
    "start_time": "2022-03-25T19:34:20.119Z"
   },
   {
    "duration": 358,
    "start_time": "2022-03-25T19:34:20.691Z"
   },
   {
    "duration": 620,
    "start_time": "2022-03-25T19:34:21.051Z"
   },
   {
    "duration": 847,
    "start_time": "2022-03-25T19:34:21.681Z"
   },
   {
    "duration": 7,
    "start_time": "2022-03-25T19:34:22.531Z"
   },
   {
    "duration": 398,
    "start_time": "2022-03-25T19:34:22.541Z"
   },
   {
    "duration": 7,
    "start_time": "2022-03-25T19:34:22.941Z"
   },
   {
    "duration": 73,
    "start_time": "2022-03-25T19:34:22.951Z"
   },
   {
    "duration": 421,
    "start_time": "2022-03-25T19:34:23.026Z"
   },
   {
    "duration": 24,
    "start_time": "2022-03-25T19:34:23.449Z"
   },
   {
    "duration": 50,
    "start_time": "2022-03-25T19:34:23.476Z"
   },
   {
    "duration": 19,
    "start_time": "2022-03-25T19:34:23.529Z"
   },
   {
    "duration": 18,
    "start_time": "2022-03-25T19:34:23.575Z"
   },
   {
    "duration": 39,
    "start_time": "2022-03-25T19:34:23.596Z"
   },
   {
    "duration": 92,
    "start_time": "2022-03-25T19:34:25.969Z"
   },
   {
    "duration": 164,
    "start_time": "2022-03-25T19:35:09.930Z"
   },
   {
    "duration": 190,
    "start_time": "2022-03-25T19:35:38.047Z"
   },
   {
    "duration": 19,
    "start_time": "2022-03-25T19:35:41.648Z"
   },
   {
    "duration": 21,
    "start_time": "2022-03-25T19:36:17.103Z"
   },
   {
    "duration": 22,
    "start_time": "2022-03-25T19:36:20.438Z"
   },
   {
    "duration": 442,
    "start_time": "2022-03-25T19:36:56.310Z"
   },
   {
    "duration": 20,
    "start_time": "2022-03-25T19:39:02.457Z"
   },
   {
    "duration": 28,
    "start_time": "2022-03-25T19:39:22.449Z"
   },
   {
    "duration": 36,
    "start_time": "2022-03-25T19:39:43.184Z"
   },
   {
    "duration": 39,
    "start_time": "2022-03-25T19:40:35.758Z"
   },
   {
    "duration": 13,
    "start_time": "2022-03-25T19:41:06.693Z"
   },
   {
    "duration": 13,
    "start_time": "2022-03-25T19:41:33.899Z"
   },
   {
    "duration": 13,
    "start_time": "2022-03-25T19:41:38.043Z"
   },
   {
    "duration": 12,
    "start_time": "2022-03-25T19:41:42.571Z"
   },
   {
    "duration": 17,
    "start_time": "2022-03-25T19:42:17.787Z"
   },
   {
    "duration": 33,
    "start_time": "2022-03-25T19:42:49.785Z"
   },
   {
    "duration": 120,
    "start_time": "2022-03-25T19:52:34.149Z"
   },
   {
    "duration": 92,
    "start_time": "2022-03-25T19:52:40.598Z"
   },
   {
    "duration": 200,
    "start_time": "2022-03-25T19:52:47.693Z"
   },
   {
    "duration": 1501,
    "start_time": "2022-03-25T19:52:53.942Z"
   },
   {
    "duration": 1603,
    "start_time": "2022-03-25T19:53:09.806Z"
   },
   {
    "duration": 1717,
    "start_time": "2022-03-25T19:53:44.717Z"
   },
   {
    "duration": 1446,
    "start_time": "2022-03-25T19:54:20.339Z"
   },
   {
    "duration": 137,
    "start_time": "2022-03-25T19:54:28.683Z"
   },
   {
    "duration": 1652,
    "start_time": "2022-03-25T19:54:53.811Z"
   },
   {
    "duration": 1503,
    "start_time": "2022-03-25T19:55:03.018Z"
   },
   {
    "duration": 141,
    "start_time": "2022-03-25T19:55:27.402Z"
   },
   {
    "duration": 135,
    "start_time": "2022-03-25T19:55:33.480Z"
   },
   {
    "duration": 161,
    "start_time": "2022-03-25T19:56:12.743Z"
   },
   {
    "duration": 148,
    "start_time": "2022-03-25T19:58:07.206Z"
   },
   {
    "duration": 128,
    "start_time": "2022-03-25T19:58:15.317Z"
   },
   {
    "duration": 127,
    "start_time": "2022-03-25T19:58:36.059Z"
   },
   {
    "duration": 91,
    "start_time": "2022-03-25T19:58:54.834Z"
   },
   {
    "duration": 187,
    "start_time": "2022-03-25T19:59:02.181Z"
   },
   {
    "duration": 203,
    "start_time": "2022-03-25T19:59:06.811Z"
   },
   {
    "duration": 135,
    "start_time": "2022-03-25T20:02:01.762Z"
   },
   {
    "duration": 151,
    "start_time": "2022-03-25T20:02:09.666Z"
   },
   {
    "duration": 15,
    "start_time": "2022-03-25T20:02:14.605Z"
   },
   {
    "duration": 13,
    "start_time": "2022-03-25T20:02:14.699Z"
   },
   {
    "duration": 874,
    "start_time": "2022-03-25T20:02:15.167Z"
   },
   {
    "duration": 357,
    "start_time": "2022-03-25T20:02:16.044Z"
   },
   {
    "duration": 450,
    "start_time": "2022-03-25T20:02:16.403Z"
   },
   {
    "duration": 447,
    "start_time": "2022-03-25T20:02:16.856Z"
   },
   {
    "duration": 586,
    "start_time": "2022-03-25T20:02:17.306Z"
   },
   {
    "duration": 712,
    "start_time": "2022-03-25T20:02:17.895Z"
   },
   {
    "duration": 6,
    "start_time": "2022-03-25T20:02:18.610Z"
   },
   {
    "duration": 343,
    "start_time": "2022-03-25T20:02:18.619Z"
   },
   {
    "duration": 11,
    "start_time": "2022-03-25T20:02:18.965Z"
   },
   {
    "duration": 52,
    "start_time": "2022-03-25T20:02:18.979Z"
   },
   {
    "duration": 289,
    "start_time": "2022-03-25T20:02:19.033Z"
   },
   {
    "duration": 9,
    "start_time": "2022-03-25T20:02:19.324Z"
   },
   {
    "duration": 53,
    "start_time": "2022-03-25T20:02:19.337Z"
   },
   {
    "duration": 15,
    "start_time": "2022-03-25T20:02:21.103Z"
   },
   {
    "duration": 14,
    "start_time": "2022-03-25T20:02:23.440Z"
   },
   {
    "duration": 39,
    "start_time": "2022-03-25T20:02:23.735Z"
   },
   {
    "duration": 23,
    "start_time": "2022-03-25T20:02:24.887Z"
   },
   {
    "duration": 136,
    "start_time": "2022-03-25T20:03:07.600Z"
   },
   {
    "duration": 12,
    "start_time": "2022-03-25T20:03:09.632Z"
   },
   {
    "duration": 11,
    "start_time": "2022-03-25T20:03:09.731Z"
   },
   {
    "duration": 852,
    "start_time": "2022-03-25T20:03:10.360Z"
   },
   {
    "duration": 371,
    "start_time": "2022-03-25T20:03:11.214Z"
   },
   {
    "duration": 413,
    "start_time": "2022-03-25T20:03:11.588Z"
   },
   {
    "duration": 413,
    "start_time": "2022-03-25T20:03:12.003Z"
   },
   {
    "duration": 487,
    "start_time": "2022-03-25T20:03:12.420Z"
   },
   {
    "duration": 500,
    "start_time": "2022-03-25T20:03:12.926Z"
   },
   {
    "duration": 5,
    "start_time": "2022-03-25T20:03:13.429Z"
   },
   {
    "duration": 268,
    "start_time": "2022-03-25T20:03:13.501Z"
   },
   {
    "duration": 6,
    "start_time": "2022-03-25T20:03:13.774Z"
   },
   {
    "duration": 46,
    "start_time": "2022-03-25T20:03:16.486Z"
   },
   {
    "duration": 255,
    "start_time": "2022-03-25T20:03:16.854Z"
   },
   {
    "duration": 8,
    "start_time": "2022-03-25T20:03:17.807Z"
   },
   {
    "duration": 31,
    "start_time": "2022-03-25T20:03:18.014Z"
   },
   {
    "duration": 15,
    "start_time": "2022-03-25T20:03:19.038Z"
   },
   {
    "duration": 14,
    "start_time": "2022-03-25T20:03:21.366Z"
   },
   {
    "duration": 40,
    "start_time": "2022-03-25T20:03:21.804Z"
   },
   {
    "duration": 21,
    "start_time": "2022-03-25T20:03:26.453Z"
   },
   {
    "duration": 1472,
    "start_time": "2022-03-25T20:08:59.795Z"
   },
   {
    "duration": 38,
    "start_time": "2022-03-25T20:09:01.270Z"
   },
   {
    "duration": 79,
    "start_time": "2022-03-25T20:09:06.621Z"
   },
   {
    "duration": 100,
    "start_time": "2022-03-25T20:09:09.381Z"
   },
   {
    "duration": 58,
    "start_time": "2022-03-25T20:09:09.935Z"
   },
   {
    "duration": 27,
    "start_time": "2022-03-25T20:09:19.835Z"
   },
   {
    "duration": 130,
    "start_time": "2022-03-25T20:09:41.954Z"
   },
   {
    "duration": 12,
    "start_time": "2022-03-25T20:10:22.840Z"
   },
   {
    "duration": 12,
    "start_time": "2022-03-25T20:10:23.216Z"
   },
   {
    "duration": 1524,
    "start_time": "2022-03-25T20:10:25.633Z"
   },
   {
    "duration": 527,
    "start_time": "2022-03-25T20:10:27.777Z"
   },
   {
    "duration": 519,
    "start_time": "2022-03-25T20:10:29.337Z"
   },
   {
    "duration": 358,
    "start_time": "2022-03-25T20:10:31.184Z"
   },
   {
    "duration": 459,
    "start_time": "2022-03-25T20:10:34.905Z"
   },
   {
    "duration": 512,
    "start_time": "2022-03-25T20:10:38.399Z"
   },
   {
    "duration": 6,
    "start_time": "2022-03-25T20:10:39.011Z"
   },
   {
    "duration": 279,
    "start_time": "2022-03-25T20:10:40.528Z"
   },
   {
    "duration": 7,
    "start_time": "2022-03-25T20:10:41.409Z"
   },
   {
    "duration": 106,
    "start_time": "2022-03-25T20:15:43.725Z"
   },
   {
    "duration": 1538,
    "start_time": "2022-03-25T20:18:52.657Z"
   },
   {
    "duration": 38,
    "start_time": "2022-03-25T20:18:54.197Z"
   },
   {
    "duration": 114,
    "start_time": "2022-03-25T20:18:55.166Z"
   },
   {
    "duration": 72,
    "start_time": "2022-03-25T20:18:55.819Z"
   },
   {
    "duration": 55,
    "start_time": "2022-03-25T20:18:56.197Z"
   },
   {
    "duration": 29,
    "start_time": "2022-03-25T20:18:56.921Z"
   },
   {
    "duration": 130,
    "start_time": "2022-03-25T20:18:58.010Z"
   },
   {
    "duration": 11,
    "start_time": "2022-03-25T20:19:06.033Z"
   },
   {
    "duration": 11,
    "start_time": "2022-03-25T20:19:06.473Z"
   },
   {
    "duration": 1181,
    "start_time": "2022-03-25T20:19:09.265Z"
   },
   {
    "duration": 365,
    "start_time": "2022-03-25T20:19:11.627Z"
   },
   {
    "duration": 338,
    "start_time": "2022-03-25T20:19:25.497Z"
   },
   {
    "duration": 865,
    "start_time": "2022-03-25T20:20:00.809Z"
   },
   {
    "duration": 354,
    "start_time": "2022-03-25T20:20:29.094Z"
   },
   {
    "duration": 497,
    "start_time": "2022-03-25T20:20:31.135Z"
   },
   {
    "duration": 315,
    "start_time": "2022-03-25T20:20:33.374Z"
   },
   {
    "duration": 575,
    "start_time": "2022-03-25T20:20:38.742Z"
   },
   {
    "duration": 518,
    "start_time": "2022-03-25T20:20:43.255Z"
   },
   {
    "duration": 6,
    "start_time": "2022-03-25T20:20:48.293Z"
   },
   {
    "duration": 276,
    "start_time": "2022-03-25T20:20:51.327Z"
   },
   {
    "duration": 6,
    "start_time": "2022-03-25T20:20:53.838Z"
   },
   {
    "duration": 44,
    "start_time": "2022-03-25T20:21:11.391Z"
   },
   {
    "duration": 301,
    "start_time": "2022-03-25T20:21:12.032Z"
   },
   {
    "duration": 10,
    "start_time": "2022-03-25T20:21:12.620Z"
   },
   {
    "duration": 35,
    "start_time": "2022-03-25T20:21:13.199Z"
   },
   {
    "duration": 17,
    "start_time": "2022-03-25T20:21:15.061Z"
   },
   {
    "duration": 14,
    "start_time": "2022-03-25T20:21:16.077Z"
   },
   {
    "duration": 40,
    "start_time": "2022-03-25T20:21:16.470Z"
   },
   {
    "duration": 20,
    "start_time": "2022-03-25T20:21:17.653Z"
   },
   {
    "duration": 1448,
    "start_time": "2022-03-26T06:45:55.920Z"
   },
   {
    "duration": 75,
    "start_time": "2022-03-26T06:45:57.370Z"
   },
   {
    "duration": 59,
    "start_time": "2022-03-26T06:45:57.446Z"
   },
   {
    "duration": 75,
    "start_time": "2022-03-26T06:45:57.508Z"
   },
   {
    "duration": 71,
    "start_time": "2022-03-26T06:45:57.585Z"
   },
   {
    "duration": 18,
    "start_time": "2022-03-26T06:45:57.658Z"
   },
   {
    "duration": 115,
    "start_time": "2022-03-26T06:45:57.678Z"
   },
   {
    "duration": 8,
    "start_time": "2022-03-26T06:45:57.795Z"
   },
   {
    "duration": 29,
    "start_time": "2022-03-26T06:45:57.804Z"
   },
   {
    "duration": 680,
    "start_time": "2022-03-26T06:45:57.836Z"
   },
   {
    "duration": 253,
    "start_time": "2022-03-26T06:45:58.517Z"
   },
   {
    "duration": 425,
    "start_time": "2022-03-26T06:45:58.772Z"
   },
   {
    "duration": 224,
    "start_time": "2022-03-26T06:45:59.199Z"
   },
   {
    "duration": 351,
    "start_time": "2022-03-26T06:45:59.425Z"
   },
   {
    "duration": 303,
    "start_time": "2022-03-26T06:45:59.778Z"
   },
   {
    "duration": 4,
    "start_time": "2022-03-26T06:46:00.083Z"
   },
   {
    "duration": 203,
    "start_time": "2022-03-26T06:46:00.089Z"
   },
   {
    "duration": 5,
    "start_time": "2022-03-26T06:46:00.294Z"
   },
   {
    "duration": 46,
    "start_time": "2022-03-26T06:46:00.301Z"
   },
   {
    "duration": 151,
    "start_time": "2022-03-26T06:46:00.349Z"
   },
   {
    "duration": 8,
    "start_time": "2022-03-26T06:46:00.502Z"
   },
   {
    "duration": 44,
    "start_time": "2022-03-26T06:46:00.511Z"
   },
   {
    "duration": 12,
    "start_time": "2022-03-26T06:46:00.556Z"
   },
   {
    "duration": 33,
    "start_time": "2022-03-26T06:46:00.569Z"
   },
   {
    "duration": 65,
    "start_time": "2022-03-26T06:46:00.604Z"
   },
   {
    "duration": 16,
    "start_time": "2022-03-26T06:46:00.671Z"
   }
  ],
  "kernelspec": {
   "display_name": "Python 3",
   "language": "python",
   "name": "python3"
  },
  "language_info": {
   "codemirror_mode": {
    "name": "ipython",
    "version": 3
   },
   "file_extension": ".py",
   "mimetype": "text/x-python",
   "name": "python",
   "nbconvert_exporter": "python",
   "pygments_lexer": "ipython3",
   "version": "3.8.10"
  },
  "toc": {
   "base_numbering": 1,
   "nav_menu": {},
   "number_sections": true,
   "sideBar": true,
   "skip_h1_title": true,
   "title_cell": "Содержание",
   "title_sidebar": "Contents",
   "toc_cell": true,
   "toc_position": {},
   "toc_section_display": true,
   "toc_window_display": false
  }
 },
 "nbformat": 4,
 "nbformat_minor": 2
}
