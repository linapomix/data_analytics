{
 "cells": [
  {
   "cell_type": "markdown",
   "metadata": {},
   "source": [
    "# Исследование надёжности заёмщиков\n",
    "\n",
    "Заказчик — кредитный отдел банка. Нужно разобраться, влияет ли семейное положение и количество детей клиента на факт погашения кредита в срок. Входные данные от банка — статистика о платёжеспособности клиентов.\n",
    "\n",
    "Результаты исследования будут учтены при построении модели **кредитного скоринга** — специальной системы, которая оценивает способность потенциального заёмщика вернуть кредит банку."
   ]
  },
  {
   "cell_type": "markdown",
   "metadata": {},
   "source": [
    "## Шаг 1. Изучение данных"
   ]
  },
  {
   "cell_type": "code",
   "execution_count": 13,
   "metadata": {},
   "outputs": [
    {
     "name": "stdout",
     "output_type": "stream",
     "text": [
      "<class 'pandas.core.frame.DataFrame'>\n",
      "RangeIndex: 21525 entries, 0 to 21524\n",
      "Data columns (total 12 columns):\n",
      " #   Column            Non-Null Count  Dtype  \n",
      "---  ------            --------------  -----  \n",
      " 0   children          21525 non-null  int64  \n",
      " 1   days_employed     19351 non-null  float64\n",
      " 2   dob_years         21525 non-null  int64  \n",
      " 3   education         21525 non-null  object \n",
      " 4   education_id      21525 non-null  int64  \n",
      " 5   family_status     21525 non-null  object \n",
      " 6   family_status_id  21525 non-null  int64  \n",
      " 7   gender            21525 non-null  object \n",
      " 8   income_type       21525 non-null  object \n",
      " 9   debt              21525 non-null  int64  \n",
      " 10  total_income      19351 non-null  float64\n",
      " 11  purpose           21525 non-null  object \n",
      "dtypes: float64(2), int64(5), object(5)\n",
      "memory usage: 2.0+ MB\n"
     ]
    },
    {
     "data": {
      "text/html": [
       "<div>\n",
       "<style scoped>\n",
       "    .dataframe tbody tr th:only-of-type {\n",
       "        vertical-align: middle;\n",
       "    }\n",
       "\n",
       "    .dataframe tbody tr th {\n",
       "        vertical-align: top;\n",
       "    }\n",
       "\n",
       "    .dataframe thead th {\n",
       "        text-align: right;\n",
       "    }\n",
       "</style>\n",
       "<table border=\"1\" class=\"dataframe\">\n",
       "  <thead>\n",
       "    <tr style=\"text-align: right;\">\n",
       "      <th></th>\n",
       "      <th>children</th>\n",
       "      <th>days_employed</th>\n",
       "      <th>dob_years</th>\n",
       "      <th>education</th>\n",
       "      <th>education_id</th>\n",
       "      <th>family_status</th>\n",
       "      <th>family_status_id</th>\n",
       "      <th>gender</th>\n",
       "      <th>income_type</th>\n",
       "      <th>debt</th>\n",
       "      <th>total_income</th>\n",
       "      <th>purpose</th>\n",
       "    </tr>\n",
       "  </thead>\n",
       "  <tbody>\n",
       "    <tr>\n",
       "      <th>0</th>\n",
       "      <td>1</td>\n",
       "      <td>-8437.673028</td>\n",
       "      <td>42</td>\n",
       "      <td>высшее</td>\n",
       "      <td>0</td>\n",
       "      <td>женат / замужем</td>\n",
       "      <td>0</td>\n",
       "      <td>F</td>\n",
       "      <td>сотрудник</td>\n",
       "      <td>0</td>\n",
       "      <td>253875.639453</td>\n",
       "      <td>покупка жилья</td>\n",
       "    </tr>\n",
       "    <tr>\n",
       "      <th>1</th>\n",
       "      <td>1</td>\n",
       "      <td>-4024.803754</td>\n",
       "      <td>36</td>\n",
       "      <td>среднее</td>\n",
       "      <td>1</td>\n",
       "      <td>женат / замужем</td>\n",
       "      <td>0</td>\n",
       "      <td>F</td>\n",
       "      <td>сотрудник</td>\n",
       "      <td>0</td>\n",
       "      <td>112080.014102</td>\n",
       "      <td>приобретение автомобиля</td>\n",
       "    </tr>\n",
       "    <tr>\n",
       "      <th>2</th>\n",
       "      <td>0</td>\n",
       "      <td>-5623.422610</td>\n",
       "      <td>33</td>\n",
       "      <td>Среднее</td>\n",
       "      <td>1</td>\n",
       "      <td>женат / замужем</td>\n",
       "      <td>0</td>\n",
       "      <td>M</td>\n",
       "      <td>сотрудник</td>\n",
       "      <td>0</td>\n",
       "      <td>145885.952297</td>\n",
       "      <td>покупка жилья</td>\n",
       "    </tr>\n",
       "    <tr>\n",
       "      <th>3</th>\n",
       "      <td>3</td>\n",
       "      <td>-4124.747207</td>\n",
       "      <td>32</td>\n",
       "      <td>среднее</td>\n",
       "      <td>1</td>\n",
       "      <td>женат / замужем</td>\n",
       "      <td>0</td>\n",
       "      <td>M</td>\n",
       "      <td>сотрудник</td>\n",
       "      <td>0</td>\n",
       "      <td>267628.550329</td>\n",
       "      <td>дополнительное образование</td>\n",
       "    </tr>\n",
       "    <tr>\n",
       "      <th>4</th>\n",
       "      <td>0</td>\n",
       "      <td>340266.072047</td>\n",
       "      <td>53</td>\n",
       "      <td>среднее</td>\n",
       "      <td>1</td>\n",
       "      <td>гражданский брак</td>\n",
       "      <td>1</td>\n",
       "      <td>F</td>\n",
       "      <td>пенсионер</td>\n",
       "      <td>0</td>\n",
       "      <td>158616.077870</td>\n",
       "      <td>сыграть свадьбу</td>\n",
       "    </tr>\n",
       "  </tbody>\n",
       "</table>\n",
       "</div>"
      ],
      "text/plain": [
       "   children  days_employed  dob_years education  education_id  \\\n",
       "0         1   -8437.673028         42    высшее             0   \n",
       "1         1   -4024.803754         36   среднее             1   \n",
       "2         0   -5623.422610         33   Среднее             1   \n",
       "3         3   -4124.747207         32   среднее             1   \n",
       "4         0  340266.072047         53   среднее             1   \n",
       "\n",
       "      family_status  family_status_id gender income_type  debt   total_income  \\\n",
       "0   женат / замужем                 0      F   сотрудник     0  253875.639453   \n",
       "1   женат / замужем                 0      F   сотрудник     0  112080.014102   \n",
       "2   женат / замужем                 0      M   сотрудник     0  145885.952297   \n",
       "3   женат / замужем                 0      M   сотрудник     0  267628.550329   \n",
       "4  гражданский брак                 1      F   пенсионер     0  158616.077870   \n",
       "\n",
       "                      purpose  \n",
       "0               покупка жилья  \n",
       "1     приобретение автомобиля  \n",
       "2               покупка жилья  \n",
       "3  дополнительное образование  \n",
       "4             сыграть свадьбу  "
      ]
     },
     "execution_count": 13,
     "metadata": {},
     "output_type": "execute_result"
    }
   ],
   "source": [
    "import pandas as pd\n",
    "data = pd.read_csv('data.csv')\n",
    "data.info()\n",
    "data.head()\n"
   ]
  },
  {
   "cell_type": "markdown",
   "metadata": {},
   "source": [
    "**Вывод** "
   ]
  },
  {
   "cell_type": "markdown",
   "metadata": {},
   "source": [
    "<dl>После вызова info по датафрейму можно сказать, что типы данных соответствуют значениям в соответствующих колонках. Однако, для столбца days_employed больше бы подошли целочисленные значения. В том же столбце одновременно присутствуют неожиданно большие значения и отрицательные. В total_income слишком много знаков после запятой, что нехарактерно для записи финансовых значений. </dl>\n",
    "\n",
    "<dl></dl>\n",
    "\n",
    "Есть пропуски в столбцах `days_employed` и `total_income`, в равных значениях (2174), если пропуски взаимосвязаны, то так записаны безработные в датафрейме.\n",
    "\n",
    "<dl></dl>\n",
    "\n",
    "<dl>Для дальнейшей обработки дубликатов требуется привести регистр к одному виду и найти уникальные значения.</dl>"
   ]
  },
  {
   "cell_type": "markdown",
   "metadata": {},
   "source": [
    "## Шаг 2. Предобработка данных"
   ]
  },
  {
   "cell_type": "markdown",
   "metadata": {},
   "source": [
    "### Обработка пропусков"
   ]
  },
  {
   "cell_type": "code",
   "execution_count": 14,
   "metadata": {},
   "outputs": [
    {
     "data": {
      "text/html": [
       "<div>\n",
       "<style scoped>\n",
       "    .dataframe tbody tr th:only-of-type {\n",
       "        vertical-align: middle;\n",
       "    }\n",
       "\n",
       "    .dataframe tbody tr th {\n",
       "        vertical-align: top;\n",
       "    }\n",
       "\n",
       "    .dataframe thead th {\n",
       "        text-align: right;\n",
       "    }\n",
       "</style>\n",
       "<table border=\"1\" class=\"dataframe\">\n",
       "  <thead>\n",
       "    <tr style=\"text-align: right;\">\n",
       "      <th></th>\n",
       "      <th>children</th>\n",
       "      <th>days_employed</th>\n",
       "      <th>dob_years</th>\n",
       "      <th>education_id</th>\n",
       "      <th>family_status_id</th>\n",
       "      <th>debt</th>\n",
       "      <th>total_income</th>\n",
       "    </tr>\n",
       "  </thead>\n",
       "  <tbody>\n",
       "    <tr>\n",
       "      <th>count</th>\n",
       "      <td>21525.000000</td>\n",
       "      <td>19351.000000</td>\n",
       "      <td>21525.000000</td>\n",
       "      <td>21525.000000</td>\n",
       "      <td>21525.000000</td>\n",
       "      <td>21525.000000</td>\n",
       "      <td>1.935100e+04</td>\n",
       "    </tr>\n",
       "    <tr>\n",
       "      <th>mean</th>\n",
       "      <td>0.538908</td>\n",
       "      <td>63046.497661</td>\n",
       "      <td>43.293380</td>\n",
       "      <td>0.817236</td>\n",
       "      <td>0.972544</td>\n",
       "      <td>0.080883</td>\n",
       "      <td>1.674223e+05</td>\n",
       "    </tr>\n",
       "    <tr>\n",
       "      <th>std</th>\n",
       "      <td>1.381587</td>\n",
       "      <td>140827.311974</td>\n",
       "      <td>12.574584</td>\n",
       "      <td>0.548138</td>\n",
       "      <td>1.420324</td>\n",
       "      <td>0.272661</td>\n",
       "      <td>1.029716e+05</td>\n",
       "    </tr>\n",
       "    <tr>\n",
       "      <th>min</th>\n",
       "      <td>-1.000000</td>\n",
       "      <td>-18388.949901</td>\n",
       "      <td>0.000000</td>\n",
       "      <td>0.000000</td>\n",
       "      <td>0.000000</td>\n",
       "      <td>0.000000</td>\n",
       "      <td>2.066726e+04</td>\n",
       "    </tr>\n",
       "    <tr>\n",
       "      <th>25%</th>\n",
       "      <td>0.000000</td>\n",
       "      <td>-2747.423625</td>\n",
       "      <td>33.000000</td>\n",
       "      <td>1.000000</td>\n",
       "      <td>0.000000</td>\n",
       "      <td>0.000000</td>\n",
       "      <td>1.030532e+05</td>\n",
       "    </tr>\n",
       "    <tr>\n",
       "      <th>50%</th>\n",
       "      <td>0.000000</td>\n",
       "      <td>-1203.369529</td>\n",
       "      <td>42.000000</td>\n",
       "      <td>1.000000</td>\n",
       "      <td>0.000000</td>\n",
       "      <td>0.000000</td>\n",
       "      <td>1.450179e+05</td>\n",
       "    </tr>\n",
       "    <tr>\n",
       "      <th>75%</th>\n",
       "      <td>1.000000</td>\n",
       "      <td>-291.095954</td>\n",
       "      <td>53.000000</td>\n",
       "      <td>1.000000</td>\n",
       "      <td>1.000000</td>\n",
       "      <td>0.000000</td>\n",
       "      <td>2.034351e+05</td>\n",
       "    </tr>\n",
       "    <tr>\n",
       "      <th>max</th>\n",
       "      <td>20.000000</td>\n",
       "      <td>401755.400475</td>\n",
       "      <td>75.000000</td>\n",
       "      <td>4.000000</td>\n",
       "      <td>4.000000</td>\n",
       "      <td>1.000000</td>\n",
       "      <td>2.265604e+06</td>\n",
       "    </tr>\n",
       "  </tbody>\n",
       "</table>\n",
       "</div>"
      ],
      "text/plain": [
       "           children  days_employed     dob_years  education_id  \\\n",
       "count  21525.000000   19351.000000  21525.000000  21525.000000   \n",
       "mean       0.538908   63046.497661     43.293380      0.817236   \n",
       "std        1.381587  140827.311974     12.574584      0.548138   \n",
       "min       -1.000000  -18388.949901      0.000000      0.000000   \n",
       "25%        0.000000   -2747.423625     33.000000      1.000000   \n",
       "50%        0.000000   -1203.369529     42.000000      1.000000   \n",
       "75%        1.000000    -291.095954     53.000000      1.000000   \n",
       "max       20.000000  401755.400475     75.000000      4.000000   \n",
       "\n",
       "       family_status_id          debt  total_income  \n",
       "count      21525.000000  21525.000000  1.935100e+04  \n",
       "mean           0.972544      0.080883  1.674223e+05  \n",
       "std            1.420324      0.272661  1.029716e+05  \n",
       "min            0.000000      0.000000  2.066726e+04  \n",
       "25%            0.000000      0.000000  1.030532e+05  \n",
       "50%            0.000000      0.000000  1.450179e+05  \n",
       "75%            1.000000      0.000000  2.034351e+05  \n",
       "max            4.000000      1.000000  2.265604e+06  "
      ]
     },
     "execution_count": 14,
     "metadata": {},
     "output_type": "execute_result"
    }
   ],
   "source": [
    "# код ревьюера\n",
    "data.describe()"
   ]
  },
  {
   "cell_type": "code",
   "execution_count": 15,
   "metadata": {},
   "outputs": [
    {
     "data": {
      "text/plain": [
       "сотрудник          0.508280\n",
       "компаньон          0.233671\n",
       "пенсионер          0.189972\n",
       "госслужащий        0.067617\n",
       "предприниматель    0.000460\n",
       "Name: income_type, dtype: float64"
      ]
     },
     "execution_count": 15,
     "metadata": {},
     "output_type": "execute_result"
    }
   ],
   "source": [
    "# код ревьюера - доля пропусков в доходе по источнику дохода\n",
    "data_nan = data[data['total_income'].isna()]\n",
    "data_nan['income_type'].value_counts(normalize = True)"
   ]
  },
  {
   "cell_type": "code",
   "execution_count": 16,
   "metadata": {},
   "outputs": [
    {
     "data": {
      "text/plain": [
       "2174"
      ]
     },
     "metadata": {},
     "output_type": "display_data"
    },
    {
     "data": {
      "text/plain": [
       "0"
      ]
     },
     "execution_count": 16,
     "metadata": {},
     "output_type": "execute_result"
    }
   ],
   "source": [
    "# Проверка теории, что количество пропусков в столбцах days_employed и total_income взаимосвязано.\n",
    "display(len(data[data['total_income'].isna() & data['days_employed'].isna()])) \n",
    "\n",
    "# берем модуль от столбца days_employed, чтобы избавиться от отрицательных значений.\n",
    "data['days_employed'] = data['days_employed'].apply(abs) \n",
    "\n",
    "# приводим большие значения к общей записи\n",
    "data.loc[data['days_employed'] >20000, 'days_employed'] = data.loc[data['days_employed'] >20000, 'days_employed'] / 24 \n",
    "\n",
    "median_days =  data['days_employed'].median() # находим медианные значения для столбца days_employed.\n",
    "median_income = data['total_income'].median() # аходим медианные значения для столбца total_income.\n",
    "\n",
    "# заполняем пропуски медианой в столбце total_income.\n",
    "data['total_income'] = data['total_income'].fillna(median_income) \n",
    "# заполняем пропуски медианой в столбце days_employed.\n",
    "data['days_employed'] = data['days_employed'].fillna(median_days)  \n",
    "\n",
    "data.head(10) # проверка, что не осталось отрицательных значений в days_employed.\n",
    "len(data[data['total_income'].isna() & data['days_employed'].isna()]) # проверка, что все значения заполнены. \n"
   ]
  },
  {
   "cell_type": "markdown",
   "metadata": {},
   "source": [
    "**Вывод** \n"
   ]
  },
  {
   "cell_type": "markdown",
   "metadata": {},
   "source": [
    "Идея об отсутствии информации об офицальном месте работы у заемщиков с пропущенным значениями по столбцам `days_employed` и `total_income` – подтвердилась с помощью метода isna().<dl></dl>\n",
    "<dl>Нужно взять в расчет то, что доход у заемщиков так или иначе должен быть, иначе бы они не смогли бы взять кредит, соответственно есть и опыт работы. Такими заемщиками могут быть фрилансеры, студенты и пенсионеры.</dl>\n",
    "<dl>Заполним пропуски в указанных столбцах медианными значениями, методом fillna(), чтобы сохранить натуральность выборки.</dl>\n",
    "<dl>В столбце `days_employed` были выгружены значения из разных систем, в одной с отрицательным значением, в другой в часах. С помощью модуля и деления на 24 часа, все значения столбца приведены к общему виду.</dl>\n"
   ]
  },
  {
   "cell_type": "markdown",
   "metadata": {},
   "source": [
    "### Замена типа данных"
   ]
  },
  {
   "cell_type": "code",
   "execution_count": 17,
   "metadata": {},
   "outputs": [
    {
     "name": "stdout",
     "output_type": "stream",
     "text": [
      "<class 'pandas.core.frame.DataFrame'>\n",
      "RangeIndex: 21525 entries, 0 to 21524\n",
      "Data columns (total 12 columns):\n",
      " #   Column            Non-Null Count  Dtype  \n",
      "---  ------            --------------  -----  \n",
      " 0   children          21525 non-null  int64  \n",
      " 1   days_employed     21525 non-null  int64  \n",
      " 2   dob_years         21525 non-null  int64  \n",
      " 3   education         21525 non-null  object \n",
      " 4   education_id      21525 non-null  int64  \n",
      " 5   family_status     21525 non-null  object \n",
      " 6   family_status_id  21525 non-null  int64  \n",
      " 7   gender            21525 non-null  object \n",
      " 8   income_type       21525 non-null  object \n",
      " 9   debt              21525 non-null  int64  \n",
      " 10  total_income      21525 non-null  float64\n",
      " 11  purpose           21525 non-null  object \n",
      "dtypes: float64(1), int64(6), object(5)\n",
      "memory usage: 2.0+ MB\n"
     ]
    }
   ],
   "source": [
    "data['days_employed'] = data['days_employed'].astype('int')\n",
    "data['children'] = data['children'].astype('int')\n",
    "data['dob_years'] = data['dob_years'].astype('int')\n",
    "data['education_id'] = data['education_id'].astype('int')\n",
    "data['debt'] = data['debt'].astype('int')\n",
    "data['family_status_id'] = data['family_status_id'].astype('int')\n",
    "# округление до 2 знаков после запятой, по финансовой форме записи.\n",
    "data['total_income'] = round(data['total_income'],2) \n",
    "\n",
    "\n",
    "\n",
    "\n",
    "\n",
    "data.info() # проверка типов данных столбцов\n"
   ]
  },
  {
   "cell_type": "markdown",
   "metadata": {},
   "source": [
    "**Вывод**"
   ]
  },
  {
   "cell_type": "markdown",
   "metadata": {},
   "source": [
    "Привели все типы данных к корректному виду, используя метод astype, так как он подходит для изменений типа данных в целом столбце. Количество дней привели к целочисленному значению, так как точность до часа не нужна для проведения анализа. Оставили вещественное значение в столбце total_income, округлив до 2-х знаков после запятой, что больше подходит для записи дохода.        "
   ]
  },
  {
   "cell_type": "markdown",
   "metadata": {},
   "source": [
    "### Обработка дубликатов"
   ]
  },
  {
   "cell_type": "code",
   "execution_count": 18,
   "metadata": {
    "scrolled": true
   },
   "outputs": [
    {
     "name": "stdout",
     "output_type": "stream",
     "text": [
      " 5         9\n",
      " 4        41\n",
      "-1        47\n",
      " 20       76\n",
      " 3       330\n",
      " 2      2055\n",
      " 1      4818\n",
      " 0     14149\n",
      "Name: children, dtype: int64\n",
      "14330       1\n",
      "6634        1\n",
      "4588        1\n",
      "16581       1\n",
      "13946       1\n",
      "         ... \n",
      "204        14\n",
      "438        15\n",
      "327        16\n",
      "133        16\n",
      "2194     2180\n",
      "Name: days_employed, Length: 7787, dtype: int64\n",
      "75      1\n",
      "74      6\n",
      "73      8\n",
      "19     14\n",
      "72     33\n",
      "20     51\n",
      "71     58\n",
      "70     65\n",
      "69     85\n",
      "68     99\n",
      "0     101\n",
      "21    111\n",
      "67    167\n",
      "66    183\n",
      "22    183\n",
      "65    194\n",
      "23    254\n",
      "24    264\n",
      "64    265\n",
      "63    269\n",
      "62    352\n",
      "61    355\n",
      "25    357\n",
      "60    377\n",
      "26    408\n",
      "55    443\n",
      "59    444\n",
      "51    448\n",
      "53    459\n",
      "57    460\n",
      "58    461\n",
      "46    475\n",
      "54    479\n",
      "47    480\n",
      "52    484\n",
      "56    487\n",
      "27    493\n",
      "45    497\n",
      "28    503\n",
      "49    508\n",
      "32    510\n",
      "43    513\n",
      "50    514\n",
      "37    537\n",
      "48    538\n",
      "30    540\n",
      "29    545\n",
      "44    547\n",
      "36    555\n",
      "31    560\n",
      "39    573\n",
      "33    581\n",
      "42    597\n",
      "38    598\n",
      "34    603\n",
      "41    607\n",
      "40    609\n",
      "35    617\n",
      "Name: dob_years, dtype: int64\n",
      "Ученая степень             1\n",
      "УЧЕНАЯ СТЕПЕНЬ             1\n",
      "ученая степень             4\n",
      "Начальное                 15\n",
      "НАЧАЛЬНОЕ                 17\n",
      "НЕОКОНЧЕННОЕ ВЫСШЕЕ       29\n",
      "Неоконченное высшее       47\n",
      "начальное                250\n",
      "Высшее                   268\n",
      "ВЫСШЕЕ                   274\n",
      "неоконченное высшее      668\n",
      "Среднее                  711\n",
      "СРЕДНЕЕ                  772\n",
      "высшее                  4718\n",
      "среднее                13750\n",
      "Name: education, dtype: int64\n",
      "4        6\n",
      "3      282\n",
      "2      744\n",
      "0     5260\n",
      "1    15233\n",
      "Name: education_id, dtype: int64\n",
      "вдовец / вдова             960\n",
      "в разводе                 1195\n",
      "Не женат / не замужем     2813\n",
      "гражданский брак          4177\n",
      "женат / замужем          12380\n",
      "Name: family_status, dtype: int64\n",
      "2      960\n",
      "3     1195\n",
      "4     2813\n",
      "1     4177\n",
      "0    12380\n",
      "Name: family_status_id, dtype: int64\n",
      "XNA        1\n",
      "M       7288\n",
      "F      14236\n",
      "Name: gender, dtype: int64\n",
      "студент                1\n",
      "в декрете              1\n",
      "безработный            2\n",
      "предприниматель        2\n",
      "госслужащий         1459\n",
      "пенсионер           3856\n",
      "компаньон           5085\n",
      "сотрудник          11119\n",
      "Name: income_type, dtype: int64\n",
      "1     1741\n",
      "0    19784\n",
      "Name: debt, dtype: int64\n",
      "114581.03       1\n",
      "135823.93       1\n",
      "95856.83        1\n",
      "144425.94       1\n",
      "113943.49       1\n",
      "             ... \n",
      "265081.85       2\n",
      "131202.37       2\n",
      "108204.48       2\n",
      "150174.39       2\n",
      "145017.94    2175\n",
      "Name: total_income, Length: 19344, dtype: int64\n",
      "заняться образованием                     412\n",
      "получение высшего образования             426\n",
      "профильное образование                    436\n",
      "получение образования                     443\n",
      "получение дополнительного образования     447\n",
      "образование                               447\n",
      "высшее образование                        453\n",
      "сделка с автомобилем                      455\n",
      "приобретение автомобиля                   462\n",
      "дополнительное образование                462\n",
      "на покупку автомобиля                     472\n",
      "автомобили                                478\n",
      "на покупку подержанного автомобиля        479\n",
      "свой автомобиль                           480\n",
      "сделка с подержанным автомобилем          489\n",
      "автомобиль                                495\n",
      "заняться высшим образованием              496\n",
      "на покупку своего автомобиля              505\n",
      "покупка жилой недвижимости                607\n",
      "ремонт жилью                              612\n",
      "строительство недвижимости                620\n",
      "покупка своего жилья                      620\n",
      "покупка недвижимости                      624\n",
      "строительство жилой недвижимости          626\n",
      "операции со своей недвижимостью           630\n",
      "недвижимость                              634\n",
      "строительство собственной недвижимости    635\n",
      "покупка жилья для семьи                   641\n",
      "покупка жилья                             647\n",
      "жилье                                     647\n",
      "операции с коммерческой недвижимостью     651\n",
      "операции с жильем                         653\n",
      "покупка жилья для сдачи                   653\n",
      "покупка коммерческой недвижимости         664\n",
      "операции с недвижимостью                  676\n",
      "сыграть свадьбу                           774\n",
      "на проведение свадьбы                     777\n",
      "свадьба                                   797\n",
      "Name: purpose, dtype: int64\n"
     ]
    },
    {
     "data": {
      "text/plain": [
       "ученая степень             6\n",
       "начальное                282\n",
       "неоконченное высшее      744\n",
       "высшее                  5260\n",
       "среднее                15233\n",
       "Name: education, dtype: int64"
      ]
     },
     "metadata": {},
     "output_type": "display_data"
    },
    {
     "data": {
      "text/plain": [
       "вдовец / вдова             960\n",
       "в разводе                 1195\n",
       "не женат / не замужем     2813\n",
       "гражданский брак          4177\n",
       "женат / замужем          12380\n",
       "Name: family_status, dtype: int64"
      ]
     },
     "metadata": {},
     "output_type": "display_data"
    },
    {
     "data": {
      "text/html": [
       "<div>\n",
       "<style scoped>\n",
       "    .dataframe tbody tr th:only-of-type {\n",
       "        vertical-align: middle;\n",
       "    }\n",
       "\n",
       "    .dataframe tbody tr th {\n",
       "        vertical-align: top;\n",
       "    }\n",
       "\n",
       "    .dataframe thead th {\n",
       "        text-align: right;\n",
       "    }\n",
       "</style>\n",
       "<table border=\"1\" class=\"dataframe\">\n",
       "  <thead>\n",
       "    <tr style=\"text-align: right;\">\n",
       "      <th></th>\n",
       "      <th>children</th>\n",
       "      <th>days_employed</th>\n",
       "      <th>dob_years</th>\n",
       "      <th>education</th>\n",
       "      <th>education_id</th>\n",
       "      <th>family_status</th>\n",
       "      <th>family_status_id</th>\n",
       "      <th>gender</th>\n",
       "      <th>income_type</th>\n",
       "      <th>debt</th>\n",
       "      <th>total_income</th>\n",
       "      <th>purpose</th>\n",
       "    </tr>\n",
       "  </thead>\n",
       "  <tbody>\n",
       "    <tr>\n",
       "      <th>10701</th>\n",
       "      <td>0</td>\n",
       "      <td>2358</td>\n",
       "      <td>24</td>\n",
       "      <td>неоконченное высшее</td>\n",
       "      <td>2</td>\n",
       "      <td>гражданский брак</td>\n",
       "      <td>1</td>\n",
       "      <td>XNA</td>\n",
       "      <td>компаньон</td>\n",
       "      <td>0</td>\n",
       "      <td>203905.16</td>\n",
       "      <td>покупка недвижимости</td>\n",
       "    </tr>\n",
       "  </tbody>\n",
       "</table>\n",
       "</div>"
      ],
      "text/plain": [
       "       children  days_employed  dob_years            education  education_id  \\\n",
       "10701         0           2358         24  неоконченное высшее             2   \n",
       "\n",
       "          family_status  family_status_id gender income_type  debt  \\\n",
       "10701  гражданский брак                 1    XNA   компаньон     0   \n",
       "\n",
       "       total_income               purpose  \n",
       "10701     203905.16  покупка недвижимости  "
      ]
     },
     "metadata": {},
     "output_type": "display_data"
    },
    {
     "data": {
      "text/plain": [
       "72"
      ]
     },
     "metadata": {},
     "output_type": "display_data"
    }
   ],
   "source": [
    "for unique in data: # цикл для подсчета уникальных значений в каждом столбце\n",
    "    print(data[unique].value_counts().sort_values())\n",
    "    \n",
    "list_one=['education', 'family_status']\n",
    "\n",
    "for lower in data: # цикл для приведения к нижнему регистру столбцов из списка list_one\n",
    "    if lower in list_one:\n",
    "        data[lower] = data[lower].str.lower()\n",
    "display(data['education'].value_counts().sort_values()) # проверка \n",
    "display(data['family_status'].value_counts().sort_values()) # проверка \n",
    "\n",
    "display(data[data['gender']=='XNA']) # проверка необходимости строки с неизвестным полом.\n",
    "\n",
    "data['gender'] = data['gender'].replace('XNA','F')\n",
    "\n",
    "data['children'] = data['children'].replace(20,2)\n",
    "data['children'] = data['children'].replace(-1,0)\n",
    "data['dob_years'] = data['dob_years'].replace(0,data['dob_years'].median())\n",
    "\n",
    "display(data.duplicated().sum()) #проверка количества явных дубликатов\n",
    "data = data.drop_duplicates().reset_index(drop=True) # чистка от явных дубликатов\n",
    "\n"
   ]
  },
  {
   "cell_type": "code",
   "execution_count": 19,
   "metadata": {},
   "outputs": [
    {
     "data": {
      "text/plain": [
       "F    14174\n",
       "M     7279\n",
       "Name: gender, dtype: int64"
      ]
     },
     "execution_count": 19,
     "metadata": {},
     "output_type": "execute_result"
    }
   ],
   "source": [
    "data['gender'].value_counts()"
   ]
  },
  {
   "cell_type": "code",
   "execution_count": 20,
   "metadata": {},
   "outputs": [
    {
     "data": {
      "text/html": [
       "<div>\n",
       "<style scoped>\n",
       "    .dataframe tbody tr th:only-of-type {\n",
       "        vertical-align: middle;\n",
       "    }\n",
       "\n",
       "    .dataframe tbody tr th {\n",
       "        vertical-align: top;\n",
       "    }\n",
       "\n",
       "    .dataframe thead th {\n",
       "        text-align: right;\n",
       "    }\n",
       "</style>\n",
       "<table border=\"1\" class=\"dataframe\">\n",
       "  <thead>\n",
       "    <tr style=\"text-align: right;\">\n",
       "      <th></th>\n",
       "      <th>children</th>\n",
       "      <th>days_employed</th>\n",
       "      <th>dob_years</th>\n",
       "      <th>education</th>\n",
       "      <th>education_id</th>\n",
       "      <th>family_status</th>\n",
       "      <th>family_status_id</th>\n",
       "      <th>gender</th>\n",
       "      <th>income_type</th>\n",
       "      <th>debt</th>\n",
       "      <th>total_income</th>\n",
       "      <th>purpose</th>\n",
       "    </tr>\n",
       "  </thead>\n",
       "  <tbody>\n",
       "  </tbody>\n",
       "</table>\n",
       "</div>"
      ],
      "text/plain": [
       "Empty DataFrame\n",
       "Columns: [children, days_employed, dob_years, education, education_id, family_status, family_status_id, gender, income_type, debt, total_income, purpose]\n",
       "Index: []"
      ]
     },
     "execution_count": 20,
     "metadata": {},
     "output_type": "execute_result"
    }
   ],
   "source": [
    "data[data['dob_years'] == 0]"
   ]
  },
  {
   "cell_type": "code",
   "execution_count": 21,
   "metadata": {},
   "outputs": [
    {
     "data": {
      "text/plain": [
       "22    1\n",
       "24    1\n",
       "26    2\n",
       "27    3\n",
       "28    1\n",
       "31    1\n",
       "32    3\n",
       "33    2\n",
       "34    3\n",
       "35    1\n",
       "Name: dob_years, dtype: int64"
      ]
     },
     "execution_count": 21,
     "metadata": {},
     "output_type": "execute_result"
    }
   ],
   "source": [
    "data[data['income_type'] == 'пенсионер']['dob_years'].value_counts().sort_index().head(10)"
   ]
  },
  {
   "cell_type": "markdown",
   "metadata": {},
   "source": [
    "**Вывод** "
   ]
  },
  {
   "cell_type": "markdown",
   "metadata": {},
   "source": [
    "Для того, чтобы оценить явные и неявные дубликаты в датафрейме вернули уникальные значения каждого столбца путем создания цикла. Определен третий пол в столбце gender, так как строка значима для выборки, то заменяем XNA на женский пол, так как его в выборке существенно больше мужского.   <dl></dl>\n",
    "В столбцах `education` и `family_status` датафрейма присутствует смешанный регистр, приводим его к низкому путем создания еще одного цикла. <dl></dl>\n",
    "Обнаруженное значение 0 в возрасте, заменим на медианное, так как определить пропущенный возраст невозможно, но заемщик по определению не мб несовершеннолетним.  <dl></dl>\n",
    "Допущена опечатка в столбце `children`, навряд ли мб 20 детей, да и ещё и не как частный случай, скорее всего это значение 2. Значение -1 скорее всего пришло из другой записи, где -1 означает 0. Меняем 20 на 2 и -1 на 0.\n",
    " <dl></dl>Также в датафрейме были явные дубликаты, которые мы устранили методом drop_duplicates()."
   ]
  },
  {
   "cell_type": "markdown",
   "metadata": {},
   "source": [
    "### Лемматизация"
   ]
  },
  {
   "cell_type": "code",
   "execution_count": 22,
   "metadata": {},
   "outputs": [
    {
     "name": "stdout",
     "output_type": "stream",
     "text": [
      "Counter({' ': 96, 'покупка': 10, 'недвижимость': 10, 'автомобиль': 9, 'образование': 9, 'жилье': 7, 'с': 5, 'операция': 4, 'на': 4, 'свой': 4, 'свадьба': 3, 'строительство': 3, 'получение': 3, 'высокий': 3, 'дополнительный': 2, 'для': 2, 'коммерческий': 2, 'жилой': 2, 'подержать': 2, 'заниматься': 2, 'сделка': 2, 'приобретение': 1, 'сыграть': 1, 'проведение': 1, 'семья': 1, 'собственный': 1, 'со': 1, 'профильный': 1, 'сдача': 1, 'ремонт': 1, '\\n': 1})\n"
     ]
    },
    {
     "data": {
      "text/plain": [
       "0        недвижимость\n",
       "1          автомобиль\n",
       "2        недвижимость\n",
       "3         образование\n",
       "4             свадьба\n",
       "             ...     \n",
       "21448    недвижимость\n",
       "21449      автомобиль\n",
       "21450    недвижимость\n",
       "21451      автомобиль\n",
       "21452      автомобиль\n",
       "Name: purpose, Length: 21453, dtype: object"
      ]
     },
     "metadata": {},
     "output_type": "display_data"
    }
   ],
   "source": [
    "from pymystem3 import Mystem\n",
    "m = Mystem() \n",
    "from collections import Counter\n",
    "\n",
    "lemmas=[]\n",
    "lemma= \" \".join(data['purpose'].unique()) # объединим уникальные значения по столзаемщиковбцу purpose в строку\n",
    "lemma=m.lemmatize(lemma) # лемматизируем уникальные значения и получаемые их словарные формы.\n",
    "print(Counter(lemma)) # определим самые частые леммы из столбца purpose\n",
    "\n",
    "frequent= ['недвижимость','автомобиль','образование','свадьба','жилье'] # выделим в отдельный список ключевые леммы\n",
    "\n",
    "def lem(purpose): # собственная функция для замены лемм на общие по группам \n",
    "    \n",
    "    if frequent[0] in m.lemmatize(purpose) or frequent[4] in m.lemmatize(purpose):\n",
    "        return frequent[0] \n",
    "    if frequent[1] in m.lemmatize(purpose):\n",
    "        return frequent[1]\n",
    "    if frequent[2] in m.lemmatize(purpose):\n",
    "        return frequent[2]\n",
    "    if frequent[3] in m.lemmatize(purpose):\n",
    "        return frequent[3]\n",
    "data['purpose'] = data['purpose'].apply(lem) # применяем функицию lem к столбцу purpose.\n",
    "display(data['purpose']) #проверка\n"
   ]
  },
  {
   "cell_type": "markdown",
   "metadata": {},
   "source": [
    "**Вывод** "
   ]
  },
  {
   "cell_type": "markdown",
   "metadata": {},
   "source": [
    "Скорее всего операторы при записе отмечали причины кредита по собственным шаблонам, из-за чего образовались дубликаты целей для взятия кредита.  <dl></dl>\n",
    "Нужно почистить столбец `purpose` от неявных дубликатов, обнаруженных при возврате уникальных значений в прошлом пункте. Лемматизируем значения столбца и в ручную выбираем самые часто встречаемые. Заменяем в столбце значения на 4 ключевые группы целей: недвижимость, автомобиль, образование, свадьба."
   ]
  },
  {
   "cell_type": "markdown",
   "metadata": {},
   "source": [
    "### Категоризация данных"
   ]
  },
  {
   "cell_type": "code",
   "execution_count": 23,
   "metadata": {},
   "outputs": [
    {
     "data": {
      "text/html": [
       "<div>\n",
       "<style scoped>\n",
       "    .dataframe tbody tr th:only-of-type {\n",
       "        vertical-align: middle;\n",
       "    }\n",
       "\n",
       "    .dataframe tbody tr th {\n",
       "        vertical-align: top;\n",
       "    }\n",
       "\n",
       "    .dataframe thead th {\n",
       "        text-align: right;\n",
       "    }\n",
       "</style>\n",
       "<table border=\"1\" class=\"dataframe\">\n",
       "  <thead>\n",
       "    <tr style=\"text-align: right;\">\n",
       "      <th></th>\n",
       "      <th>education</th>\n",
       "    </tr>\n",
       "    <tr>\n",
       "      <th>education_id</th>\n",
       "      <th></th>\n",
       "    </tr>\n",
       "  </thead>\n",
       "  <tbody>\n",
       "    <tr>\n",
       "      <th>0</th>\n",
       "      <td>высшее</td>\n",
       "    </tr>\n",
       "    <tr>\n",
       "      <th>1</th>\n",
       "      <td>среднее</td>\n",
       "    </tr>\n",
       "    <tr>\n",
       "      <th>2</th>\n",
       "      <td>неоконченное высшее</td>\n",
       "    </tr>\n",
       "    <tr>\n",
       "      <th>3</th>\n",
       "      <td>начальное</td>\n",
       "    </tr>\n",
       "    <tr>\n",
       "      <th>4</th>\n",
       "      <td>ученая степень</td>\n",
       "    </tr>\n",
       "  </tbody>\n",
       "</table>\n",
       "</div>"
      ],
      "text/plain": [
       "                        education\n",
       "education_id                     \n",
       "0                          высшее\n",
       "1                         среднее\n",
       "2             неоконченное высшее\n",
       "3                       начальное\n",
       "4                  ученая степень"
      ]
     },
     "metadata": {},
     "output_type": "display_data"
    },
    {
     "data": {
      "text/html": [
       "<div>\n",
       "<style scoped>\n",
       "    .dataframe tbody tr th:only-of-type {\n",
       "        vertical-align: middle;\n",
       "    }\n",
       "\n",
       "    .dataframe tbody tr th {\n",
       "        vertical-align: top;\n",
       "    }\n",
       "\n",
       "    .dataframe thead th {\n",
       "        text-align: right;\n",
       "    }\n",
       "</style>\n",
       "<table border=\"1\" class=\"dataframe\">\n",
       "  <thead>\n",
       "    <tr style=\"text-align: right;\">\n",
       "      <th></th>\n",
       "      <th>family_status</th>\n",
       "    </tr>\n",
       "    <tr>\n",
       "      <th>family_status_id</th>\n",
       "      <th></th>\n",
       "    </tr>\n",
       "  </thead>\n",
       "  <tbody>\n",
       "    <tr>\n",
       "      <th>0</th>\n",
       "      <td>женат / замужем</td>\n",
       "    </tr>\n",
       "    <tr>\n",
       "      <th>1</th>\n",
       "      <td>гражданский брак</td>\n",
       "    </tr>\n",
       "    <tr>\n",
       "      <th>2</th>\n",
       "      <td>вдовец / вдова</td>\n",
       "    </tr>\n",
       "    <tr>\n",
       "      <th>3</th>\n",
       "      <td>в разводе</td>\n",
       "    </tr>\n",
       "    <tr>\n",
       "      <th>4</th>\n",
       "      <td>не женат / не замужем</td>\n",
       "    </tr>\n",
       "  </tbody>\n",
       "</table>\n",
       "</div>"
      ],
      "text/plain": [
       "                          family_status\n",
       "family_status_id                       \n",
       "0                       женат / замужем\n",
       "1                      гражданский брак\n",
       "2                        вдовец / вдова\n",
       "3                             в разводе\n",
       "4                 не женат / не замужем"
      ]
     },
     "metadata": {},
     "output_type": "display_data"
    },
    {
     "data": {
      "text/html": [
       "<div>\n",
       "<style scoped>\n",
       "    .dataframe tbody tr th:only-of-type {\n",
       "        vertical-align: middle;\n",
       "    }\n",
       "\n",
       "    .dataframe tbody tr th {\n",
       "        vertical-align: top;\n",
       "    }\n",
       "\n",
       "    .dataframe thead th {\n",
       "        text-align: right;\n",
       "    }\n",
       "</style>\n",
       "<table border=\"1\" class=\"dataframe\">\n",
       "  <thead>\n",
       "    <tr style=\"text-align: right;\">\n",
       "      <th></th>\n",
       "      <th>children</th>\n",
       "      <th>days_employed</th>\n",
       "      <th>dob_years</th>\n",
       "      <th>education</th>\n",
       "      <th>education_id</th>\n",
       "      <th>family_status</th>\n",
       "      <th>family_status_id</th>\n",
       "      <th>gender</th>\n",
       "      <th>income_type</th>\n",
       "      <th>debt</th>\n",
       "      <th>total_income</th>\n",
       "      <th>purpose</th>\n",
       "      <th>type_income</th>\n",
       "      <th>children_quantity</th>\n",
       "      <th>marriage</th>\n",
       "    </tr>\n",
       "  </thead>\n",
       "  <tbody>\n",
       "    <tr>\n",
       "      <th>0</th>\n",
       "      <td>1</td>\n",
       "      <td>8437</td>\n",
       "      <td>42</td>\n",
       "      <td>высшее</td>\n",
       "      <td>0</td>\n",
       "      <td>женат / замужем</td>\n",
       "      <td>0</td>\n",
       "      <td>F</td>\n",
       "      <td>сотрудник</td>\n",
       "      <td>0</td>\n",
       "      <td>253875.64</td>\n",
       "      <td>недвижимость</td>\n",
       "      <td>высокий</td>\n",
       "      <td>есть</td>\n",
       "      <td>да</td>\n",
       "    </tr>\n",
       "    <tr>\n",
       "      <th>1</th>\n",
       "      <td>1</td>\n",
       "      <td>4024</td>\n",
       "      <td>36</td>\n",
       "      <td>среднее</td>\n",
       "      <td>1</td>\n",
       "      <td>женат / замужем</td>\n",
       "      <td>0</td>\n",
       "      <td>F</td>\n",
       "      <td>сотрудник</td>\n",
       "      <td>0</td>\n",
       "      <td>112080.01</td>\n",
       "      <td>автомобиль</td>\n",
       "      <td>средний</td>\n",
       "      <td>есть</td>\n",
       "      <td>да</td>\n",
       "    </tr>\n",
       "    <tr>\n",
       "      <th>2</th>\n",
       "      <td>0</td>\n",
       "      <td>5623</td>\n",
       "      <td>33</td>\n",
       "      <td>среднее</td>\n",
       "      <td>1</td>\n",
       "      <td>женат / замужем</td>\n",
       "      <td>0</td>\n",
       "      <td>M</td>\n",
       "      <td>сотрудник</td>\n",
       "      <td>0</td>\n",
       "      <td>145885.95</td>\n",
       "      <td>недвижимость</td>\n",
       "      <td>средний</td>\n",
       "      <td>нет</td>\n",
       "      <td>да</td>\n",
       "    </tr>\n",
       "    <tr>\n",
       "      <th>3</th>\n",
       "      <td>3</td>\n",
       "      <td>4124</td>\n",
       "      <td>32</td>\n",
       "      <td>среднее</td>\n",
       "      <td>1</td>\n",
       "      <td>женат / замужем</td>\n",
       "      <td>0</td>\n",
       "      <td>M</td>\n",
       "      <td>сотрудник</td>\n",
       "      <td>0</td>\n",
       "      <td>267628.55</td>\n",
       "      <td>образование</td>\n",
       "      <td>высокий</td>\n",
       "      <td>есть</td>\n",
       "      <td>да</td>\n",
       "    </tr>\n",
       "    <tr>\n",
       "      <th>4</th>\n",
       "      <td>0</td>\n",
       "      <td>14177</td>\n",
       "      <td>53</td>\n",
       "      <td>среднее</td>\n",
       "      <td>1</td>\n",
       "      <td>гражданский брак</td>\n",
       "      <td>1</td>\n",
       "      <td>F</td>\n",
       "      <td>пенсионер</td>\n",
       "      <td>0</td>\n",
       "      <td>158616.08</td>\n",
       "      <td>свадьба</td>\n",
       "      <td>средний</td>\n",
       "      <td>нет</td>\n",
       "      <td>нет</td>\n",
       "    </tr>\n",
       "  </tbody>\n",
       "</table>\n",
       "</div>"
      ],
      "text/plain": [
       "   children  days_employed  dob_years education  education_id  \\\n",
       "0         1           8437         42    высшее             0   \n",
       "1         1           4024         36   среднее             1   \n",
       "2         0           5623         33   среднее             1   \n",
       "3         3           4124         32   среднее             1   \n",
       "4         0          14177         53   среднее             1   \n",
       "\n",
       "      family_status  family_status_id gender income_type  debt  total_income  \\\n",
       "0   женат / замужем                 0      F   сотрудник     0     253875.64   \n",
       "1   женат / замужем                 0      F   сотрудник     0     112080.01   \n",
       "2   женат / замужем                 0      M   сотрудник     0     145885.95   \n",
       "3   женат / замужем                 0      M   сотрудник     0     267628.55   \n",
       "4  гражданский брак                 1      F   пенсионер     0     158616.08   \n",
       "\n",
       "        purpose type_income children_quantity marriage  \n",
       "0  недвижимость     высокий              есть       да  \n",
       "1    автомобиль     средний              есть       да  \n",
       "2  недвижимость     средний               нет       да  \n",
       "3   образование     высокий              есть       да  \n",
       "4       свадьба     средний               нет      нет  "
      ]
     },
     "execution_count": 23,
     "metadata": {},
     "output_type": "execute_result"
    }
   ],
   "source": [
    "# выделяем значение столбца с ключами в отдельную таблицу\n",
    "ed_data=data[['education','education_id']].drop_duplicates().set_index('education_id') \n",
    "# выделяем значение столбца с ключами в отдельную таблицу\n",
    "family_data = data[['family_status','family_status_id']].drop_duplicates().set_index('family_status_id') \n",
    "display(ed_data)\n",
    "display(family_data)\n",
    "\n",
    "#создаем категории по столбцу total_income, для упрощения ориентирования по доходам заемщиков\n",
    "def group_income(income): \n",
    "    if income >=500000:\n",
    "        return 'очень высокий'\n",
    "    if 500000>income>=200000:\n",
    "        return 'высокий'\n",
    "    if 200000>income >=80000:\n",
    "        return 'средний'\n",
    "    if income < 80000:\n",
    "        return 'низкий'\n",
    "data['type_income'] = data['total_income'].apply(group_income)\n",
    "#display(data.head()) проверка\n",
    "\n",
    "def child_quantity(child): #создаем категории по столбцу children, для упрощения ориентирования по количеству детей заемщиков\n",
    "    if child >=1:\n",
    "        return 'есть'\n",
    "    return 'нет'\n",
    "data['children_quantity'] = data['children'].apply(child_quantity)\n",
    "# display(data.head()) проверка\n",
    "\n",
    "#создаем категории по столбцу family_status, для упрощения ориентирования по семейному статусу заемщиков\n",
    "def marriage(spouse): \n",
    "    if spouse == 'женат / замужем':\n",
    "        return 'да'\n",
    "    return 'нет'\n",
    "data['marriage'] = data['family_status'].apply(marriage)\n",
    "data.head()\n"
   ]
  },
  {
   "cell_type": "markdown",
   "metadata": {},
   "source": [
    "**Вывод**"
   ]
  },
  {
   "cell_type": "markdown",
   "metadata": {},
   "source": [
    "Выделели отдельно две таблицы с ключами и значениями по столбцам `family_status` и `education_id`, в дальнейшем чтобы не загромождать таблицу, эти значения можно будет удалить из исходного датафрейма, оставив ключи к ним. <dl></dl>\n",
    "Для ответа на целевой вопрос по зависимости уровня дохода и возврата кредита в срок, поделили заемщиков по группам в зависимости от их дохода с оглядкой на медианное значение (145017.94): очень высокий (>500000 руб.), высокий (200000 руб.<доход<500000 руб.), средний (80000 руб.<доход<200000 руб.), низкий (< 80000 руб.). Данные значения добавлены в столбец `type_income`. <dl></dl>\n",
    " <dl></dl>Отдельно выделим столбцы по количеству детей (children_quantity) и наличию официального семейного статуса (marriage), чтобы посмотреть возможен ли ответ на целевые вопросы по более широким категориям, чем заданные в датафрейме.         "
   ]
  },
  {
   "cell_type": "markdown",
   "metadata": {},
   "source": [
    "## Шаг 3. Ответы на вопросы"
   ]
  },
  {
   "cell_type": "markdown",
   "metadata": {},
   "source": [
    "- Есть ли зависимость между наличием детей и возвратом кредита в срок?"
   ]
  },
  {
   "cell_type": "code",
   "execution_count": 24,
   "metadata": {},
   "outputs": [
    {
     "data": {
      "text/html": [
       "<div>\n",
       "<style scoped>\n",
       "    .dataframe tbody tr th:only-of-type {\n",
       "        vertical-align: middle;\n",
       "    }\n",
       "\n",
       "    .dataframe tbody tr th {\n",
       "        vertical-align: top;\n",
       "    }\n",
       "\n",
       "    .dataframe thead th {\n",
       "        text-align: right;\n",
       "    }\n",
       "</style>\n",
       "<table border=\"1\" class=\"dataframe\">\n",
       "  <thead>\n",
       "    <tr style=\"text-align: right;\">\n",
       "      <th></th>\n",
       "      <th>debt</th>\n",
       "      <th>converse</th>\n",
       "    </tr>\n",
       "    <tr>\n",
       "      <th>children</th>\n",
       "      <th></th>\n",
       "      <th></th>\n",
       "    </tr>\n",
       "  </thead>\n",
       "  <tbody>\n",
       "    <tr>\n",
       "      <th>5</th>\n",
       "      <td>9</td>\n",
       "      <td>0.000000</td>\n",
       "    </tr>\n",
       "    <tr>\n",
       "      <th>0</th>\n",
       "      <td>14137</td>\n",
       "      <td>0.075263</td>\n",
       "    </tr>\n",
       "    <tr>\n",
       "      <th>3</th>\n",
       "      <td>330</td>\n",
       "      <td>0.081818</td>\n",
       "    </tr>\n",
       "    <tr>\n",
       "      <th>1</th>\n",
       "      <td>4808</td>\n",
       "      <td>0.092346</td>\n",
       "    </tr>\n",
       "    <tr>\n",
       "      <th>2</th>\n",
       "      <td>2128</td>\n",
       "      <td>0.094925</td>\n",
       "    </tr>\n",
       "    <tr>\n",
       "      <th>4</th>\n",
       "      <td>41</td>\n",
       "      <td>0.097561</td>\n",
       "    </tr>\n",
       "  </tbody>\n",
       "</table>\n",
       "</div>"
      ],
      "text/plain": [
       "           debt  converse\n",
       "children                 \n",
       "5             9  0.000000\n",
       "0         14137  0.075263\n",
       "3           330  0.081818\n",
       "1          4808  0.092346\n",
       "2          2128  0.094925\n",
       "4            41  0.097561"
      ]
     },
     "metadata": {},
     "output_type": "display_data"
    },
    {
     "data": {
      "text/html": [
       "<div>\n",
       "<style scoped>\n",
       "    .dataframe tbody tr th:only-of-type {\n",
       "        vertical-align: middle;\n",
       "    }\n",
       "\n",
       "    .dataframe tbody tr th {\n",
       "        vertical-align: top;\n",
       "    }\n",
       "\n",
       "    .dataframe thead th {\n",
       "        text-align: right;\n",
       "    }\n",
       "</style>\n",
       "<table border=\"1\" class=\"dataframe\">\n",
       "  <thead>\n",
       "    <tr style=\"text-align: right;\">\n",
       "      <th></th>\n",
       "      <th>debt</th>\n",
       "      <th>converse</th>\n",
       "    </tr>\n",
       "    <tr>\n",
       "      <th>children_quantity</th>\n",
       "      <th></th>\n",
       "      <th></th>\n",
       "    </tr>\n",
       "  </thead>\n",
       "  <tbody>\n",
       "    <tr>\n",
       "      <th>нет</th>\n",
       "      <td>14137</td>\n",
       "      <td>0.075263</td>\n",
       "    </tr>\n",
       "    <tr>\n",
       "      <th>есть</th>\n",
       "      <td>7316</td>\n",
       "      <td>0.092537</td>\n",
       "    </tr>\n",
       "  </tbody>\n",
       "</table>\n",
       "</div>"
      ],
      "text/plain": [
       "                    debt  converse\n",
       "children_quantity                 \n",
       "нет                14137  0.075263\n",
       "есть                7316  0.092537"
      ]
     },
     "execution_count": 24,
     "metadata": {},
     "output_type": "execute_result"
    }
   ],
   "source": [
    "children_grouped = data.groupby('children').agg({'debt':'count'}) # сделаем сводную таблицу по столбцу children и debt, выделим общее количество в столбце debt заемщиков по категориям \n",
    "children_grouped['converse'] = data.groupby('children').agg({'debt':'sum'})/data.groupby('children').agg({'debt':'count'})  # получили конверсию путем деления количества долгов на количество должников\n",
    "display(children_grouped.sort_values(by='converse')) # отсортируем по возрастанию просроченных кредитов\n",
    "\n",
    "children_grouped_total = data.groupby('children_quantity').agg({'debt':'count'}) # сделаем сводную таблицу по столбцу children_quantity и debt, выделим общее количество в столбце debt\n",
    "children_grouped_total['converse'] =  data.groupby('children_quantity').agg({'debt':'sum'})/data.groupby('children_quantity').agg({'debt':'count'}) # получили конверсию путем деления количества долгов на количество должников.\n",
    "children_grouped_total.sort_values(by='converse') # отсортируем по возрастанию просроченных кредитов"
   ]
  },
  {
   "cell_type": "markdown",
   "metadata": {},
   "source": [
    "**Вывод**"
   ]
  },
  {
   "cell_type": "markdown",
   "metadata": {},
   "source": [
    "<dl>Самый низкий показатель конверсии был у группы с 5 детьми, однако данная подгруппа слишком мала, чтобы повлиять на группу заемщиков с детьми. В общем, заемщики с детьми отдавали кредиты хуже, чем без детей. </dl>\n",
    "<dl>Предполагаю, что наличие детей довольно часто приводит к неожиданным финансовым тратам или понижению среднемесячного заработка (больничный по уходу за ребенком по сниженной ставке), которые могут сдвинуть срок возврата средств кредита. </dl>"
   ]
  },
  {
   "cell_type": "markdown",
   "metadata": {},
   "source": [
    "- Есть ли зависимость между семейным положением и возвратом кредита в срок?"
   ]
  },
  {
   "cell_type": "code",
   "execution_count": 25,
   "metadata": {},
   "outputs": [
    {
     "data": {
      "text/html": [
       "<div>\n",
       "<style scoped>\n",
       "    .dataframe tbody tr th:only-of-type {\n",
       "        vertical-align: middle;\n",
       "    }\n",
       "\n",
       "    .dataframe tbody tr th {\n",
       "        vertical-align: top;\n",
       "    }\n",
       "\n",
       "    .dataframe thead th {\n",
       "        text-align: right;\n",
       "    }\n",
       "</style>\n",
       "<table border=\"1\" class=\"dataframe\">\n",
       "  <thead>\n",
       "    <tr style=\"text-align: right;\">\n",
       "      <th></th>\n",
       "      <th>debt</th>\n",
       "      <th>converse</th>\n",
       "    </tr>\n",
       "    <tr>\n",
       "      <th>family_status</th>\n",
       "      <th></th>\n",
       "      <th></th>\n",
       "    </tr>\n",
       "  </thead>\n",
       "  <tbody>\n",
       "    <tr>\n",
       "      <th>вдовец / вдова</th>\n",
       "      <td>959</td>\n",
       "      <td>0.065693</td>\n",
       "    </tr>\n",
       "    <tr>\n",
       "      <th>в разводе</th>\n",
       "      <td>1195</td>\n",
       "      <td>0.071130</td>\n",
       "    </tr>\n",
       "    <tr>\n",
       "      <th>женат / замужем</th>\n",
       "      <td>12339</td>\n",
       "      <td>0.075452</td>\n",
       "    </tr>\n",
       "    <tr>\n",
       "      <th>гражданский брак</th>\n",
       "      <td>4150</td>\n",
       "      <td>0.093494</td>\n",
       "    </tr>\n",
       "    <tr>\n",
       "      <th>не женат / не замужем</th>\n",
       "      <td>2810</td>\n",
       "      <td>0.097509</td>\n",
       "    </tr>\n",
       "  </tbody>\n",
       "</table>\n",
       "</div>"
      ],
      "text/plain": [
       "                        debt  converse\n",
       "family_status                         \n",
       "вдовец / вдова           959  0.065693\n",
       "в разводе               1195  0.071130\n",
       "женат / замужем        12339  0.075452\n",
       "гражданский брак        4150  0.093494\n",
       "не женат / не замужем   2810  0.097509"
      ]
     },
     "metadata": {},
     "output_type": "display_data"
    },
    {
     "data": {
      "text/html": [
       "<div>\n",
       "<style scoped>\n",
       "    .dataframe tbody tr th:only-of-type {\n",
       "        vertical-align: middle;\n",
       "    }\n",
       "\n",
       "    .dataframe tbody tr th {\n",
       "        vertical-align: top;\n",
       "    }\n",
       "\n",
       "    .dataframe thead th {\n",
       "        text-align: right;\n",
       "    }\n",
       "</style>\n",
       "<table border=\"1\" class=\"dataframe\">\n",
       "  <thead>\n",
       "    <tr style=\"text-align: right;\">\n",
       "      <th></th>\n",
       "      <th>debt</th>\n",
       "      <th>converse</th>\n",
       "    </tr>\n",
       "    <tr>\n",
       "      <th>marriage</th>\n",
       "      <th></th>\n",
       "      <th></th>\n",
       "    </tr>\n",
       "  </thead>\n",
       "  <tbody>\n",
       "    <tr>\n",
       "      <th>да</th>\n",
       "      <td>12339</td>\n",
       "      <td>0.075452</td>\n",
       "    </tr>\n",
       "    <tr>\n",
       "      <th>нет</th>\n",
       "      <td>9114</td>\n",
       "      <td>0.088874</td>\n",
       "    </tr>\n",
       "  </tbody>\n",
       "</table>\n",
       "</div>"
      ],
      "text/plain": [
       "           debt  converse\n",
       "marriage                 \n",
       "да        12339  0.075452\n",
       "нет        9114  0.088874"
      ]
     },
     "execution_count": 25,
     "metadata": {},
     "output_type": "execute_result"
    }
   ],
   "source": [
    "family_grouped = data.groupby('family_status').agg({'debt':'count'}) # сделаем сводную таблицу по столбцу family_status и debt, выделим общее количество в столбце debt заемщиков по категориям \n",
    "family_grouped['converse'] = data.groupby('family_status').agg({'debt':'sum'})/data.groupby('family_status').agg({'debt':'count'})  # получили конверсию путем деления количества долгов на количество должников\n",
    "display(family_grouped.sort_values(by='converse')) # отсортируем по возрастанию просроченных кредитов\n",
    "\n",
    "family_grouped_total = data.groupby('marriage').agg({'debt':'count'}) # сделаем сводную таблицу по столбцу marriage и debt, выделим общее количество в столбце debt заемщиков по категориям \n",
    "family_grouped_total['converse'] =  data.groupby('marriage').agg({'debt':'sum'})/data.groupby('marriage').agg({'debt':'count'}) # получили конверсию путем деления количества долгов на количество должников\n",
    "family_grouped_total.sort_values(by='converse') # отсортируем по возрастанию просроченных кредитов"
   ]
  },
  {
   "cell_type": "markdown",
   "metadata": {},
   "source": [
    "**Вывод**"
   ]
  },
  {
   "cell_type": "markdown",
   "metadata": {},
   "source": [
    "Брак положительно отразился на отдачу кредита вовремя. Выражено это тем, что конверсия по тем заемщикам, которые состоят в официальных отношениях ниже, чем тех кто не имеет официального партнера. Возможно это связано с тем, что супруги достаточно часто выступают поручителями по кредиту и заинтересованы в отдаче кредита вовремя заемщиком."
   ]
  },
  {
   "cell_type": "markdown",
   "metadata": {},
   "source": [
    "- Есть ли зависимость между уровнем дохода и возвратом кредита в срок?"
   ]
  },
  {
   "cell_type": "code",
   "execution_count": 26,
   "metadata": {},
   "outputs": [
    {
     "data": {
      "text/html": [
       "<div>\n",
       "<style scoped>\n",
       "    .dataframe tbody tr th:only-of-type {\n",
       "        vertical-align: middle;\n",
       "    }\n",
       "\n",
       "    .dataframe tbody tr th {\n",
       "        vertical-align: top;\n",
       "    }\n",
       "\n",
       "    .dataframe thead th {\n",
       "        text-align: right;\n",
       "    }\n",
       "</style>\n",
       "<table border=\"1\" class=\"dataframe\">\n",
       "  <thead>\n",
       "    <tr style=\"text-align: right;\">\n",
       "      <th></th>\n",
       "      <th>debt</th>\n",
       "      <th>converse</th>\n",
       "    </tr>\n",
       "    <tr>\n",
       "      <th>type_income</th>\n",
       "      <th></th>\n",
       "      <th></th>\n",
       "    </tr>\n",
       "  </thead>\n",
       "  <tbody>\n",
       "    <tr>\n",
       "      <th>очень высокий</th>\n",
       "      <td>222</td>\n",
       "      <td>0.063063</td>\n",
       "    </tr>\n",
       "    <tr>\n",
       "      <th>высокий</th>\n",
       "      <td>4844</td>\n",
       "      <td>0.071016</td>\n",
       "    </tr>\n",
       "    <tr>\n",
       "      <th>низкий</th>\n",
       "      <td>2276</td>\n",
       "      <td>0.076450</td>\n",
       "    </tr>\n",
       "    <tr>\n",
       "      <th>средний</th>\n",
       "      <td>14111</td>\n",
       "      <td>0.085678</td>\n",
       "    </tr>\n",
       "  </tbody>\n",
       "</table>\n",
       "</div>"
      ],
      "text/plain": [
       "                debt  converse\n",
       "type_income                   \n",
       "очень высокий    222  0.063063\n",
       "высокий         4844  0.071016\n",
       "низкий          2276  0.076450\n",
       "средний        14111  0.085678"
      ]
     },
     "execution_count": 26,
     "metadata": {},
     "output_type": "execute_result"
    }
   ],
   "source": [
    "income_grouped_total = data.groupby('type_income').agg({'debt':'count'}) # сделаем сводную таблицу по столбцу type_income и debt, выделим общее количество в столбце debt заемщиков по категориям\n",
    "income_grouped_total['converse'] =  data.groupby('type_income').agg({'debt':'sum'})/data.groupby('type_income').agg({'debt':'count'}) # получили конверсию путем деления количества долгов на количество должников\n",
    "income_grouped_total.sort_values(by='converse') # отсортируем по возрастанию просроченных кредитов"
   ]
  },
  {
   "cell_type": "markdown",
   "metadata": {},
   "source": [
    "**Вывод**"
   ]
  },
  {
   "cell_type": "markdown",
   "metadata": {},
   "source": [
    "Заемщики с большим доходом кредиты отдают лучше. Большие доходы дают большую финансовую подушку, а также имущество, которым в случае чп мб погасить свои задолженности, с меньшим доходом, такие маневры тяжелее проделать. "
   ]
  },
  {
   "cell_type": "markdown",
   "metadata": {},
   "source": [
    "- Как разные цели кредита влияют на его возврат в срок?"
   ]
  },
  {
   "cell_type": "code",
   "execution_count": 27,
   "metadata": {},
   "outputs": [
    {
     "data": {
      "text/html": [
       "<div>\n",
       "<style scoped>\n",
       "    .dataframe tbody tr th:only-of-type {\n",
       "        vertical-align: middle;\n",
       "    }\n",
       "\n",
       "    .dataframe tbody tr th {\n",
       "        vertical-align: top;\n",
       "    }\n",
       "\n",
       "    .dataframe thead th {\n",
       "        text-align: right;\n",
       "    }\n",
       "</style>\n",
       "<table border=\"1\" class=\"dataframe\">\n",
       "  <thead>\n",
       "    <tr style=\"text-align: right;\">\n",
       "      <th></th>\n",
       "      <th>debt</th>\n",
       "      <th>converse</th>\n",
       "    </tr>\n",
       "    <tr>\n",
       "      <th>purpose</th>\n",
       "      <th></th>\n",
       "      <th></th>\n",
       "    </tr>\n",
       "  </thead>\n",
       "  <tbody>\n",
       "    <tr>\n",
       "      <th>недвижимость</th>\n",
       "      <td>10811</td>\n",
       "      <td>0.072334</td>\n",
       "    </tr>\n",
       "    <tr>\n",
       "      <th>свадьба</th>\n",
       "      <td>2323</td>\n",
       "      <td>0.080069</td>\n",
       "    </tr>\n",
       "    <tr>\n",
       "      <th>образование</th>\n",
       "      <td>4013</td>\n",
       "      <td>0.092200</td>\n",
       "    </tr>\n",
       "    <tr>\n",
       "      <th>автомобиль</th>\n",
       "      <td>4306</td>\n",
       "      <td>0.093590</td>\n",
       "    </tr>\n",
       "  </tbody>\n",
       "</table>\n",
       "</div>"
      ],
      "text/plain": [
       "               debt  converse\n",
       "purpose                      \n",
       "недвижимость  10811  0.072334\n",
       "свадьба        2323  0.080069\n",
       "образование    4013  0.092200\n",
       "автомобиль     4306  0.093590"
      ]
     },
     "execution_count": 27,
     "metadata": {},
     "output_type": "execute_result"
    }
   ],
   "source": [
    "purporse_grouped_total = data.groupby('purpose').agg({'debt':'count'}) # сделаем сводную таблицу по столбцу purpose и debt, выделим общее количество в столбце debt заемщиков по категориям.\n",
    "purporse_grouped_total['converse'] =  data.groupby('purpose').agg({'debt':'sum'})/data.groupby('purpose').agg({'debt':'count'}) # получили конверсию путем деления количества долгов на количество должников.\n",
    "purporse_grouped_total.sort_values(by='converse') # отсортируем по возрастанию просроченных кредитов"
   ]
  },
  {
   "cell_type": "markdown",
   "metadata": {},
   "source": [
    "**Вывод**"
   ]
  },
  {
   "cell_type": "markdown",
   "metadata": {},
   "source": [
    "Хуже всего отдают кредиты за машины (конверсия 0.093590), а лучший показатель у недвижимости (конверсия 0.072334). Сказывается стресс, так как при невозможности выплаты кредита за машину, место для сна никуда не пропадает, что не сказать про задолженности по ипотеке."
   ]
  },
  {
   "cell_type": "markdown",
   "metadata": {},
   "source": [
    "## Шаг 4. Общий вывод"
   ]
  },
  {
   "cell_type": "markdown",
   "metadata": {},
   "source": [
    "<dl>При изучении базы данных в ней были обнаружены ошибки и опечатки, которые бы значительно повлияли на конечный результат анализа. </dl>\n",
    "После устранения дубликатов и заполнения пропусков, в общем, приведении датафрейма к пригодном для исследования виду, стали известны следующие рекомендации для банка исследования: Лучше всего выдавать кредиты заемщикам, состоящим в официальных отношениях без детей, имеющих высокий доход и предполагающих покупку жилья для себя или для бизнеса. Данная рекомендация не означает отказ в кредитах другим группам потенциальных заемщиков, а лишь предполагает упрощение получения одобрения кредита для вышеназванной группы.  "
   ]
  }
 ],
 "metadata": {
  "ExecuteTimeLog": [
   {
    "duration": 901,
    "start_time": "2021-11-25T07:42:31.415Z"
   },
   {
    "duration": 68,
    "start_time": "2021-11-25T07:42:33.428Z"
   },
   {
    "duration": 81,
    "start_time": "2021-11-25T07:42:45.141Z"
   },
   {
    "duration": 100,
    "start_time": "2021-11-25T07:43:22.418Z"
   },
   {
    "duration": 618,
    "start_time": "2021-11-25T07:58:40.234Z"
   },
   {
    "duration": 85,
    "start_time": "2021-11-25T07:59:02.251Z"
   },
   {
    "duration": 35,
    "start_time": "2021-11-25T08:04:23.048Z"
   },
   {
    "duration": 479,
    "start_time": "2021-11-25T08:05:45.258Z"
   },
   {
    "duration": 380,
    "start_time": "2021-11-25T08:06:29.012Z"
   },
   {
    "duration": 34,
    "start_time": "2021-11-25T08:06:40.740Z"
   },
   {
    "duration": 9,
    "start_time": "2021-11-25T08:20:48.581Z"
   },
   {
    "duration": 13,
    "start_time": "2021-11-25T09:27:46.245Z"
   },
   {
    "duration": 12,
    "start_time": "2021-11-25T09:28:04.157Z"
   },
   {
    "duration": 15,
    "start_time": "2021-11-25T09:28:11.188Z"
   },
   {
    "duration": 14,
    "start_time": "2021-11-25T09:28:37.123Z"
   },
   {
    "duration": 14,
    "start_time": "2021-11-25T09:28:53.370Z"
   },
   {
    "duration": 18,
    "start_time": "2021-11-25T10:49:00.542Z"
   },
   {
    "duration": 30,
    "start_time": "2021-11-25T10:49:27.206Z"
   },
   {
    "duration": 136,
    "start_time": "2021-11-25T10:50:19.860Z"
   },
   {
    "duration": 234,
    "start_time": "2021-11-25T10:50:37.850Z"
   },
   {
    "duration": 29,
    "start_time": "2021-11-25T10:50:47.323Z"
   },
   {
    "duration": 16,
    "start_time": "2021-11-25T10:51:45.339Z"
   },
   {
    "duration": 14,
    "start_time": "2021-11-25T11:01:43.885Z"
   },
   {
    "duration": 9,
    "start_time": "2021-11-25T11:01:57.721Z"
   },
   {
    "duration": 32,
    "start_time": "2021-11-25T11:12:15.065Z"
   },
   {
    "duration": 38,
    "start_time": "2021-11-25T11:14:57.213Z"
   },
   {
    "duration": 15,
    "start_time": "2021-11-25T11:15:17.940Z"
   },
   {
    "duration": 3019,
    "start_time": "2021-11-25T11:15:40.970Z"
   },
   {
    "duration": 2635,
    "start_time": "2021-11-25T11:32:58.752Z"
   },
   {
    "duration": 44,
    "start_time": "2021-11-25T11:34:34.843Z"
   },
   {
    "duration": 25,
    "start_time": "2021-11-25T11:36:07.749Z"
   },
   {
    "duration": 1191,
    "start_time": "2021-11-25T11:38:23.689Z"
   },
   {
    "duration": 24,
    "start_time": "2021-11-25T11:38:35.530Z"
   },
   {
    "duration": 2556,
    "start_time": "2021-11-25T11:39:41.953Z"
   },
   {
    "duration": 2604,
    "start_time": "2021-11-25T11:41:30.005Z"
   },
   {
    "duration": 47,
    "start_time": "2021-11-25T11:45:35.460Z"
   },
   {
    "duration": 55,
    "start_time": "2021-11-25T11:47:06.449Z"
   },
   {
    "duration": 32,
    "start_time": "2021-11-25T11:49:42.252Z"
   },
   {
    "duration": 20,
    "start_time": "2021-11-25T11:49:57.828Z"
   },
   {
    "duration": 408,
    "start_time": "2021-11-25T11:51:12.591Z"
   },
   {
    "duration": 30,
    "start_time": "2021-11-25T11:51:42.511Z"
   },
   {
    "duration": 29,
    "start_time": "2021-11-25T11:52:54.604Z"
   },
   {
    "duration": 28,
    "start_time": "2021-11-25T12:36:29.396Z"
   },
   {
    "duration": 47,
    "start_time": "2021-11-25T12:42:40.987Z"
   },
   {
    "duration": 31,
    "start_time": "2021-11-25T12:44:25.243Z"
   },
   {
    "duration": 36,
    "start_time": "2021-11-25T12:45:09.981Z"
   },
   {
    "duration": 9,
    "start_time": "2021-11-25T12:45:31.501Z"
   },
   {
    "duration": 43,
    "start_time": "2021-11-25T12:46:17.034Z"
   },
   {
    "duration": 42,
    "start_time": "2021-11-25T12:46:53.291Z"
   },
   {
    "duration": 84,
    "start_time": "2021-11-25T12:47:18.722Z"
   },
   {
    "duration": 1208,
    "start_time": "2021-11-25T12:47:22.281Z"
   },
   {
    "duration": 121,
    "start_time": "2021-11-25T12:48:43.192Z"
   },
   {
    "duration": 425,
    "start_time": "2021-11-25T12:48:55.613Z"
   },
   {
    "duration": 29,
    "start_time": "2021-11-25T12:50:15.335Z"
   },
   {
    "duration": 25,
    "start_time": "2021-11-25T12:52:51.876Z"
   },
   {
    "duration": 136,
    "start_time": "2021-11-25T12:57:26.955Z"
   },
   {
    "duration": 427,
    "start_time": "2021-11-25T12:57:46.659Z"
   },
   {
    "duration": 440,
    "start_time": "2021-11-25T13:24:16.073Z"
   },
   {
    "duration": 23,
    "start_time": "2021-11-25T13:27:49.653Z"
   },
   {
    "duration": 21,
    "start_time": "2021-11-25T13:28:17.420Z"
   },
   {
    "duration": 28,
    "start_time": "2021-11-25T13:28:56.722Z"
   },
   {
    "duration": 37,
    "start_time": "2021-11-25T13:29:10.194Z"
   },
   {
    "duration": 28,
    "start_time": "2021-11-25T13:29:35.051Z"
   },
   {
    "duration": 7738,
    "start_time": "2021-11-25T13:36:47.408Z"
   },
   {
    "duration": 7783,
    "start_time": "2021-11-25T13:38:12.642Z"
   },
   {
    "duration": 49,
    "start_time": "2021-11-25T13:38:28.168Z"
   },
   {
    "duration": 63,
    "start_time": "2021-11-25T13:39:14.781Z"
   },
   {
    "duration": 62,
    "start_time": "2021-11-25T13:40:02.759Z"
   },
   {
    "duration": 508,
    "start_time": "2021-11-25T13:56:29.075Z"
   },
   {
    "duration": 97,
    "start_time": "2021-11-25T13:56:44.315Z"
   },
   {
    "duration": 475,
    "start_time": "2021-11-25T13:56:47.130Z"
   },
   {
    "duration": 419,
    "start_time": "2021-11-25T13:58:28.710Z"
   },
   {
    "duration": 398,
    "start_time": "2021-11-25T13:58:49.317Z"
   },
   {
    "duration": 429,
    "start_time": "2021-11-25T14:00:09.382Z"
   },
   {
    "duration": 35,
    "start_time": "2021-11-25T14:01:15.909Z"
   },
   {
    "duration": 51,
    "start_time": "2021-11-25T14:02:23.101Z"
   },
   {
    "duration": 45,
    "start_time": "2021-11-25T14:02:28.588Z"
   },
   {
    "duration": 43,
    "start_time": "2021-11-25T14:02:32.452Z"
   },
   {
    "duration": 18,
    "start_time": "2021-11-25T14:02:43.048Z"
   },
   {
    "duration": 42,
    "start_time": "2021-11-25T14:03:02.250Z"
   },
   {
    "duration": 20,
    "start_time": "2021-11-25T14:03:05.394Z"
   },
   {
    "duration": 49,
    "start_time": "2021-11-25T14:03:19.012Z"
   },
   {
    "duration": 42,
    "start_time": "2021-11-25T14:03:47.931Z"
   },
   {
    "duration": 38,
    "start_time": "2021-11-25T14:03:53.203Z"
   },
   {
    "duration": 55,
    "start_time": "2021-11-25T14:04:12.111Z"
   },
   {
    "duration": 62,
    "start_time": "2021-11-25T14:04:30.314Z"
   },
   {
    "duration": 60,
    "start_time": "2021-11-25T14:04:35.427Z"
   },
   {
    "duration": 56,
    "start_time": "2021-11-25T14:04:49.081Z"
   },
   {
    "duration": 56,
    "start_time": "2021-11-25T14:04:52.250Z"
   },
   {
    "duration": 57,
    "start_time": "2021-11-25T14:05:02.081Z"
   },
   {
    "duration": 46,
    "start_time": "2021-11-25T14:05:17.312Z"
   },
   {
    "duration": 19,
    "start_time": "2021-11-25T14:05:20.564Z"
   },
   {
    "duration": 51,
    "start_time": "2021-11-25T14:31:51.561Z"
   },
   {
    "duration": 83,
    "start_time": "2021-11-25T14:32:01.543Z"
   },
   {
    "duration": 60,
    "start_time": "2021-11-25T14:32:25.721Z"
   },
   {
    "duration": 43,
    "start_time": "2021-11-25T14:32:43.353Z"
   },
   {
    "duration": 92,
    "start_time": "2021-11-25T14:32:47.865Z"
   },
   {
    "duration": 417,
    "start_time": "2021-11-25T14:46:16.928Z"
   },
   {
    "duration": 372,
    "start_time": "2021-11-25T14:47:26.282Z"
   },
   {
    "duration": 382,
    "start_time": "2021-11-25T14:47:38.157Z"
   },
   {
    "duration": 432,
    "start_time": "2021-11-25T14:47:48.192Z"
   },
   {
    "duration": 452,
    "start_time": "2021-11-25T14:48:22.069Z"
   },
   {
    "duration": 88,
    "start_time": "2021-11-25T14:48:48.887Z"
   },
   {
    "duration": 456,
    "start_time": "2021-11-25T14:48:56.864Z"
   },
   {
    "duration": 384,
    "start_time": "2021-11-25T14:49:04.495Z"
   },
   {
    "duration": 431,
    "start_time": "2021-11-25T15:25:38.797Z"
   },
   {
    "duration": 385,
    "start_time": "2021-11-25T15:25:53.297Z"
   },
   {
    "duration": 627,
    "start_time": "2021-11-27T13:44:37.374Z"
   },
   {
    "duration": 314,
    "start_time": "2021-11-27T13:44:40.810Z"
   },
   {
    "duration": 234,
    "start_time": "2021-11-27T13:44:59.042Z"
   },
   {
    "duration": 18,
    "start_time": "2021-11-27T13:56:41.201Z"
   },
   {
    "duration": 17,
    "start_time": "2021-11-27T13:56:44.135Z"
   },
   {
    "duration": 15,
    "start_time": "2021-11-27T13:56:47.464Z"
   },
   {
    "duration": 13,
    "start_time": "2021-11-27T13:59:43.280Z"
   },
   {
    "duration": 26,
    "start_time": "2021-11-27T13:59:51.383Z"
   },
   {
    "duration": 13,
    "start_time": "2021-11-27T14:01:03.681Z"
   },
   {
    "duration": 224,
    "start_time": "2021-11-27T14:13:48.229Z"
   },
   {
    "duration": 6485,
    "start_time": "2021-11-27T14:14:51.660Z"
   },
   {
    "duration": 225,
    "start_time": "2021-11-27T14:16:11.210Z"
   },
   {
    "duration": 29,
    "start_time": "2021-11-27T14:25:27.364Z"
   },
   {
    "duration": 34,
    "start_time": "2021-11-27T14:27:34.545Z"
   },
   {
    "duration": 235,
    "start_time": "2021-11-27T14:31:12.337Z"
   },
   {
    "duration": 245,
    "start_time": "2021-11-27T14:32:06.301Z"
   },
   {
    "duration": 234,
    "start_time": "2021-11-27T14:32:27.078Z"
   },
   {
    "duration": 245,
    "start_time": "2021-11-27T14:32:53.618Z"
   },
   {
    "duration": 243,
    "start_time": "2021-11-27T14:33:01.031Z"
   },
   {
    "duration": 225,
    "start_time": "2021-11-27T14:35:39.179Z"
   },
   {
    "duration": 33,
    "start_time": "2021-11-27T14:36:14.802Z"
   },
   {
    "duration": 227,
    "start_time": "2021-11-27T14:36:35.268Z"
   },
   {
    "duration": 231,
    "start_time": "2021-11-27T14:38:12.625Z"
   },
   {
    "duration": 1778,
    "start_time": "2021-11-27T14:38:23.033Z"
   },
   {
    "duration": 32,
    "start_time": "2021-11-27T14:38:55.811Z"
   },
   {
    "duration": 300,
    "start_time": "2021-11-27T14:41:19.619Z"
   },
   {
    "duration": 278,
    "start_time": "2021-11-27T14:41:43.065Z"
   },
   {
    "duration": 273,
    "start_time": "2021-11-27T14:41:48.114Z"
   },
   {
    "duration": 79,
    "start_time": "2021-11-27T14:42:12.690Z"
   },
   {
    "duration": 253,
    "start_time": "2021-11-27T14:42:18.223Z"
   },
   {
    "duration": 272,
    "start_time": "2021-11-27T14:43:37.942Z"
   },
   {
    "duration": 343,
    "start_time": "2021-11-27T14:44:00.911Z"
   },
   {
    "duration": 342,
    "start_time": "2021-11-27T14:45:36.746Z"
   },
   {
    "duration": 266,
    "start_time": "2021-11-27T14:45:56.714Z"
   },
   {
    "duration": 316,
    "start_time": "2021-11-27T14:46:51.080Z"
   },
   {
    "duration": 5577,
    "start_time": "2021-11-27T14:47:40.832Z"
   },
   {
    "duration": 257,
    "start_time": "2021-11-27T14:49:54.084Z"
   },
   {
    "duration": 309,
    "start_time": "2021-11-27T14:55:50.468Z"
   },
   {
    "duration": 311,
    "start_time": "2021-11-29T12:29:28.214Z"
   },
   {
    "duration": 675,
    "start_time": "2021-11-29T12:29:41.252Z"
   },
   {
    "duration": 27,
    "start_time": "2021-11-29T12:29:45.431Z"
   },
   {
    "duration": 16,
    "start_time": "2021-11-29T12:29:48.108Z"
   },
   {
    "duration": 69,
    "start_time": "2021-11-29T12:29:50.741Z"
   },
   {
    "duration": 65,
    "start_time": "2021-11-29T12:31:18.936Z"
   },
   {
    "duration": 72,
    "start_time": "2021-11-29T12:32:20.820Z"
   },
   {
    "duration": 81,
    "start_time": "2021-11-29T12:35:31.390Z"
   },
   {
    "duration": 115,
    "start_time": "2021-11-29T12:39:29.937Z"
   },
   {
    "duration": 105,
    "start_time": "2021-11-29T12:47:12.065Z"
   },
   {
    "duration": 92,
    "start_time": "2021-11-29T13:01:48.768Z"
   },
   {
    "duration": 87,
    "start_time": "2021-11-29T13:02:27.670Z"
   },
   {
    "duration": 75,
    "start_time": "2021-11-29T13:14:06.146Z"
   },
   {
    "duration": 899,
    "start_time": "2021-11-30T19:16:00.764Z"
   },
   {
    "duration": 44,
    "start_time": "2021-11-30T19:17:08.668Z"
   },
   {
    "duration": 36,
    "start_time": "2021-11-30T19:17:18.011Z"
   },
   {
    "duration": 46,
    "start_time": "2021-11-30T19:17:48.106Z"
   },
   {
    "duration": 32,
    "start_time": "2021-11-30T19:18:22.360Z"
   },
   {
    "duration": 39,
    "start_time": "2021-11-30T19:18:29.296Z"
   },
   {
    "duration": 42,
    "start_time": "2021-11-30T19:18:31.400Z"
   },
   {
    "duration": 52,
    "start_time": "2021-11-30T19:18:33.196Z"
   },
   {
    "duration": 42,
    "start_time": "2021-11-30T19:18:35.737Z"
   },
   {
    "duration": 33,
    "start_time": "2021-11-30T19:18:38.496Z"
   },
   {
    "duration": 40,
    "start_time": "2021-11-30T19:18:41.727Z"
   },
   {
    "duration": 132,
    "start_time": "2021-11-30T19:19:01.022Z"
   },
   {
    "duration": 32,
    "start_time": "2021-11-30T19:21:03.945Z"
   },
   {
    "duration": 24,
    "start_time": "2021-11-30T19:21:20.633Z"
   },
   {
    "duration": 527,
    "start_time": "2021-11-30T19:33:12.394Z"
   },
   {
    "duration": 181,
    "start_time": "2021-11-30T19:33:30.068Z"
   },
   {
    "duration": 188,
    "start_time": "2021-11-30T19:34:43.092Z"
   },
   {
    "duration": 201,
    "start_time": "2021-11-30T19:35:16.991Z"
   },
   {
    "duration": 174,
    "start_time": "2021-11-30T19:35:27.530Z"
   },
   {
    "duration": 7806,
    "start_time": "2021-11-30T19:43:24.280Z"
   },
   {
    "duration": 299,
    "start_time": "2021-11-30T19:43:39.136Z"
   },
   {
    "duration": 95,
    "start_time": "2021-11-30T19:45:40.438Z"
   },
   {
    "duration": 99,
    "start_time": "2021-11-30T19:46:22.042Z"
   },
   {
    "duration": 145,
    "start_time": "2021-11-30T19:46:27.780Z"
   },
   {
    "duration": 4148,
    "start_time": "2021-11-30T19:46:33.012Z"
   },
   {
    "duration": 3723,
    "start_time": "2021-11-30T19:47:03.634Z"
   },
   {
    "duration": 3867,
    "start_time": "2021-11-30T19:47:48.170Z"
   },
   {
    "duration": 86,
    "start_time": "2021-11-30T19:48:45.895Z"
   },
   {
    "duration": 4213,
    "start_time": "2021-11-30T19:48:52.022Z"
   },
   {
    "duration": 3914,
    "start_time": "2021-11-30T20:05:22.798Z"
   },
   {
    "duration": 4447,
    "start_time": "2021-11-30T20:06:28.627Z"
   },
   {
    "duration": 4807,
    "start_time": "2021-11-30T20:06:38.873Z"
   },
   {
    "duration": 3801,
    "start_time": "2021-11-30T20:06:52.024Z"
   },
   {
    "duration": 4051,
    "start_time": "2021-11-30T20:09:50.052Z"
   },
   {
    "duration": 3814,
    "start_time": "2021-11-30T20:10:36.945Z"
   },
   {
    "duration": 3813,
    "start_time": "2021-11-30T20:11:19.225Z"
   },
   {
    "duration": 4185,
    "start_time": "2021-11-30T20:12:28.479Z"
   },
   {
    "duration": 3747,
    "start_time": "2021-11-30T20:12:41.914Z"
   },
   {
    "duration": 3975,
    "start_time": "2021-11-30T20:17:28.381Z"
   },
   {
    "duration": 1210,
    "start_time": "2021-11-30T20:21:13.485Z"
   },
   {
    "duration": 293,
    "start_time": "2021-11-30T20:21:50.859Z"
   },
   {
    "duration": 330,
    "start_time": "2021-11-30T20:22:23.834Z"
   },
   {
    "duration": 14,
    "start_time": "2021-11-30T20:23:10.931Z"
   },
   {
    "duration": 12,
    "start_time": "2021-11-30T20:23:32.734Z"
   },
   {
    "duration": 15,
    "start_time": "2021-11-30T20:23:53.389Z"
   },
   {
    "duration": 12,
    "start_time": "2021-11-30T20:24:17.903Z"
   },
   {
    "duration": 12,
    "start_time": "2021-11-30T20:24:37.645Z"
   },
   {
    "duration": 8000,
    "start_time": "2021-11-30T20:24:56.318Z"
   },
   {
    "duration": 9,
    "start_time": "2021-11-30T20:25:34.469Z"
   },
   {
    "duration": 923,
    "start_time": "2021-11-30T20:27:54.584Z"
   },
   {
    "duration": 958,
    "start_time": "2021-11-30T20:28:05.598Z"
   },
   {
    "duration": 90,
    "start_time": "2021-11-30T20:28:58.717Z"
   },
   {
    "duration": 1077,
    "start_time": "2021-11-30T20:31:22.153Z"
   },
   {
    "duration": 44,
    "start_time": "2021-11-30T20:31:30.081Z"
   },
   {
    "duration": 11,
    "start_time": "2021-11-30T20:32:06.665Z"
   },
   {
    "duration": 97,
    "start_time": "2021-11-30T20:32:38.899Z"
   },
   {
    "duration": 17,
    "start_time": "2021-11-30T20:32:42.632Z"
   },
   {
    "duration": 4148,
    "start_time": "2021-11-30T20:32:59.062Z"
   },
   {
    "duration": 4209,
    "start_time": "2021-11-30T20:34:52.005Z"
   },
   {
    "duration": 3796,
    "start_time": "2021-11-30T20:36:12.337Z"
   },
   {
    "duration": 4153,
    "start_time": "2021-11-30T20:37:31.022Z"
   },
   {
    "duration": 6159,
    "start_time": "2021-11-30T20:38:01.180Z"
   },
   {
    "duration": 4127,
    "start_time": "2021-11-30T20:39:57.786Z"
   },
   {
    "duration": 294,
    "start_time": "2021-11-30T20:43:06.608Z"
   },
   {
    "duration": 834,
    "start_time": "2021-12-04T12:09:08.895Z"
   },
   {
    "duration": 358,
    "start_time": "2021-12-04T12:10:59.855Z"
   },
   {
    "duration": 265,
    "start_time": "2021-12-04T12:17:47.117Z"
   },
   {
    "duration": 1055,
    "start_time": "2021-12-04T12:18:00.320Z"
   },
   {
    "duration": 36,
    "start_time": "2021-12-04T12:18:03.597Z"
   },
   {
    "duration": 25,
    "start_time": "2021-12-04T12:18:04.878Z"
   },
   {
    "duration": 196,
    "start_time": "2021-12-04T12:18:06.495Z"
   },
   {
    "duration": 3681,
    "start_time": "2021-12-04T12:18:08.416Z"
   },
   {
    "duration": 3409,
    "start_time": "2021-12-04T12:18:59.206Z"
   },
   {
    "duration": 4031,
    "start_time": "2021-12-04T12:26:04.542Z"
   },
   {
    "duration": 6,
    "start_time": "2021-12-04T12:34:44.867Z"
   },
   {
    "duration": 4801,
    "start_time": "2021-12-04T12:34:55.530Z"
   },
   {
    "duration": 3699,
    "start_time": "2021-12-04T12:36:23.560Z"
   },
   {
    "duration": 3801,
    "start_time": "2021-12-04T12:39:54.232Z"
   },
   {
    "duration": 8,
    "start_time": "2021-12-04T12:44:02.032Z"
   },
   {
    "duration": 286,
    "start_time": "2021-12-04T12:44:40.093Z"
   },
   {
    "duration": 286,
    "start_time": "2021-12-04T12:45:04.509Z"
   },
   {
    "duration": 292,
    "start_time": "2021-12-04T12:45:27.397Z"
   },
   {
    "duration": 8,
    "start_time": "2021-12-04T12:46:19.023Z"
   },
   {
    "duration": 282,
    "start_time": "2021-12-04T12:46:40.410Z"
   },
   {
    "duration": 282,
    "start_time": "2021-12-04T12:49:02.774Z"
   },
   {
    "duration": 282,
    "start_time": "2021-12-04T12:51:09.481Z"
   },
   {
    "duration": 11,
    "start_time": "2021-12-04T12:54:55.273Z"
   },
   {
    "duration": 10,
    "start_time": "2021-12-04T12:55:18.368Z"
   },
   {
    "duration": 946,
    "start_time": "2021-12-04T12:56:02.022Z"
   },
   {
    "duration": 992,
    "start_time": "2021-12-04T12:56:14.094Z"
   },
   {
    "duration": 93,
    "start_time": "2021-12-04T12:59:12.728Z"
   },
   {
    "duration": 3645,
    "start_time": "2021-12-04T12:59:26.577Z"
   },
   {
    "duration": 303,
    "start_time": "2021-12-04T13:00:20.734Z"
   },
   {
    "duration": 263,
    "start_time": "2021-12-04T13:00:47.081Z"
   },
   {
    "duration": 253,
    "start_time": "2021-12-04T13:01:36.382Z"
   },
   {
    "duration": 952,
    "start_time": "2021-12-04T13:02:28.232Z"
   },
   {
    "duration": 987,
    "start_time": "2021-12-04T13:02:34.033Z"
   },
   {
    "duration": 1035,
    "start_time": "2021-12-04T13:02:53.062Z"
   },
   {
    "duration": 3835,
    "start_time": "2021-12-04T13:04:46.961Z"
   },
   {
    "duration": 3713,
    "start_time": "2021-12-04T13:05:04.195Z"
   },
   {
    "duration": 1039,
    "start_time": "2021-12-04T13:07:22.600Z"
   },
   {
    "duration": 91,
    "start_time": "2021-12-04T13:56:21.955Z"
   },
   {
    "duration": 4860,
    "start_time": "2021-12-04T13:56:41.002Z"
   },
   {
    "duration": 5367,
    "start_time": "2021-12-04T13:58:08.809Z"
   },
   {
    "duration": 2027,
    "start_time": "2021-12-04T14:23:24.159Z"
   },
   {
    "duration": 2284,
    "start_time": "2021-12-04T14:23:53.602Z"
   },
   {
    "duration": 9165,
    "start_time": "2021-12-04T14:24:07.224Z"
   },
   {
    "duration": 8803,
    "start_time": "2021-12-04T14:24:24.216Z"
   },
   {
    "duration": 2394,
    "start_time": "2021-12-04T14:28:04.690Z"
   },
   {
    "duration": 9122,
    "start_time": "2021-12-04T14:31:27.272Z"
   },
   {
    "duration": 11660,
    "start_time": "2021-12-04T14:33:06.736Z"
   },
   {
    "duration": 305,
    "start_time": "2021-12-04T17:23:29.142Z"
   },
   {
    "duration": 5405,
    "start_time": "2021-12-04T17:23:35.937Z"
   },
   {
    "duration": 315,
    "start_time": "2021-12-04T17:24:27.808Z"
   },
   {
    "duration": 820,
    "start_time": "2021-12-04T17:24:52.920Z"
   },
   {
    "duration": 36,
    "start_time": "2021-12-04T17:24:56.519Z"
   },
   {
    "duration": 23,
    "start_time": "2021-12-04T17:25:00.390Z"
   },
   {
    "duration": 205,
    "start_time": "2021-12-04T17:25:04.184Z"
   },
   {
    "duration": 9951,
    "start_time": "2021-12-04T17:25:06.799Z"
   },
   {
    "duration": 20,
    "start_time": "2021-12-04T17:25:16.753Z"
   },
   {
    "duration": 7,
    "start_time": "2021-12-04T17:25:24.205Z"
   },
   {
    "duration": 8,
    "start_time": "2021-12-04T17:25:45.173Z"
   },
   {
    "duration": 6,
    "start_time": "2021-12-04T17:25:59.556Z"
   },
   {
    "duration": 87,
    "start_time": "2021-12-04T17:26:31.885Z"
   },
   {
    "duration": 7,
    "start_time": "2021-12-04T17:26:59.805Z"
   },
   {
    "duration": 29,
    "start_time": "2021-12-04T17:27:33.432Z"
   },
   {
    "duration": 6,
    "start_time": "2021-12-04T17:28:19.449Z"
   },
   {
    "duration": 4,
    "start_time": "2021-12-04T17:29:56.500Z"
   },
   {
    "duration": 8,
    "start_time": "2021-12-04T17:30:03.995Z"
   },
   {
    "duration": 7,
    "start_time": "2021-12-04T17:30:14.316Z"
   },
   {
    "duration": 6,
    "start_time": "2021-12-04T17:35:53.498Z"
   },
   {
    "duration": 322,
    "start_time": "2021-12-04T17:38:40.989Z"
   },
   {
    "duration": 35,
    "start_time": "2021-12-04T17:39:41.337Z"
   },
   {
    "duration": 298,
    "start_time": "2021-12-04T17:40:31.353Z"
   },
   {
    "duration": 66,
    "start_time": "2021-12-04T17:40:36.992Z"
   },
   {
    "duration": 291,
    "start_time": "2021-12-04T17:41:03.408Z"
   },
   {
    "duration": 6417,
    "start_time": "2021-12-04T17:42:13.007Z"
   },
   {
    "duration": 14,
    "start_time": "2021-12-04T17:42:39.302Z"
   },
   {
    "duration": 16,
    "start_time": "2021-12-04T17:44:05.346Z"
   },
   {
    "duration": 92,
    "start_time": "2021-12-04T17:44:18.321Z"
   },
   {
    "duration": 95,
    "start_time": "2021-12-04T17:44:23.799Z"
   },
   {
    "duration": 16,
    "start_time": "2021-12-04T17:44:27.312Z"
   },
   {
    "duration": 43,
    "start_time": "2021-12-04T17:44:41.672Z"
   },
   {
    "duration": 16,
    "start_time": "2021-12-04T17:46:28.736Z"
   },
   {
    "duration": 286,
    "start_time": "2021-12-04T17:47:52.051Z"
   },
   {
    "duration": 16,
    "start_time": "2021-12-04T17:48:01.843Z"
   },
   {
    "duration": 23,
    "start_time": "2021-12-04T17:48:36.786Z"
   },
   {
    "duration": 23,
    "start_time": "2021-12-04T17:48:43.032Z"
   },
   {
    "duration": 28,
    "start_time": "2021-12-04T17:49:02.496Z"
   },
   {
    "duration": 102,
    "start_time": "2021-12-04T18:09:58.061Z"
   },
   {
    "duration": 47,
    "start_time": "2021-12-04T18:10:14.272Z"
   },
   {
    "duration": 61,
    "start_time": "2021-12-04T18:10:32.224Z"
   },
   {
    "duration": 28,
    "start_time": "2021-12-04T18:38:14.335Z"
   },
   {
    "duration": 44,
    "start_time": "2021-12-04T18:38:23.347Z"
   },
   {
    "duration": 198,
    "start_time": "2021-12-04T18:40:50.935Z"
   },
   {
    "duration": 222,
    "start_time": "2021-12-04T18:44:12.363Z"
   },
   {
    "duration": 180,
    "start_time": "2021-12-04T18:44:39.250Z"
   },
   {
    "duration": 5284,
    "start_time": "2021-12-04T18:45:35.232Z"
   },
   {
    "duration": 71,
    "start_time": "2021-12-04T18:45:40.519Z"
   },
   {
    "duration": 50,
    "start_time": "2021-12-04T18:45:41.352Z"
   },
   {
    "duration": 48,
    "start_time": "2021-12-04T18:45:45.903Z"
   },
   {
    "duration": 6,
    "start_time": "2021-12-04T18:47:39.174Z"
   },
   {
    "duration": 261,
    "start_time": "2021-12-04T18:49:56.455Z"
   },
   {
    "duration": 12,
    "start_time": "2021-12-04T18:50:15.709Z"
   },
   {
    "duration": 22,
    "start_time": "2021-12-04T18:53:52.695Z"
   },
   {
    "duration": 40,
    "start_time": "2021-12-04T18:55:14.948Z"
   },
   {
    "duration": 25,
    "start_time": "2021-12-04T18:55:30.015Z"
   },
   {
    "duration": 49,
    "start_time": "2021-12-04T18:55:35.461Z"
   },
   {
    "duration": 22,
    "start_time": "2021-12-04T18:56:52.263Z"
   },
   {
    "duration": 6382,
    "start_time": "2021-12-04T19:12:14.541Z"
   },
   {
    "duration": 82,
    "start_time": "2021-12-04T19:13:07.117Z"
   },
   {
    "duration": 6379,
    "start_time": "2021-12-04T19:13:24.922Z"
   },
   {
    "duration": 7054,
    "start_time": "2021-12-04T19:13:49.148Z"
   },
   {
    "duration": 7138,
    "start_time": "2021-12-04T19:14:34.571Z"
   },
   {
    "duration": 271,
    "start_time": "2021-12-04T19:15:28.984Z"
   },
   {
    "duration": 27,
    "start_time": "2021-12-04T19:15:39.485Z"
   },
   {
    "duration": 29,
    "start_time": "2021-12-04T19:15:53.190Z"
   },
   {
    "duration": 26,
    "start_time": "2021-12-04T19:16:09.140Z"
   },
   {
    "duration": 98,
    "start_time": "2021-12-04T19:16:34.684Z"
   },
   {
    "duration": 368,
    "start_time": "2021-12-04T19:16:44.869Z"
   },
   {
    "duration": 26,
    "start_time": "2021-12-04T19:17:20.150Z"
   },
   {
    "duration": 26,
    "start_time": "2021-12-04T19:17:35.321Z"
   },
   {
    "duration": 33,
    "start_time": "2021-12-04T19:17:48.294Z"
   },
   {
    "duration": 33,
    "start_time": "2021-12-04T19:25:06.596Z"
   },
   {
    "duration": 7815,
    "start_time": "2021-12-04T19:25:21.730Z"
   },
   {
    "duration": 6508,
    "start_time": "2021-12-04T19:25:32.660Z"
   },
   {
    "duration": 310,
    "start_time": "2021-12-04T19:30:16.643Z"
   },
   {
    "duration": 68,
    "start_time": "2021-12-04T19:30:38.769Z"
   },
   {
    "duration": 281,
    "start_time": "2021-12-04T19:31:43.777Z"
   },
   {
    "duration": 300,
    "start_time": "2021-12-04T19:32:14.566Z"
   },
   {
    "duration": 280,
    "start_time": "2021-12-04T19:32:43.307Z"
   },
   {
    "duration": 64,
    "start_time": "2021-12-04T19:32:54.699Z"
   },
   {
    "duration": 33,
    "start_time": "2021-12-04T19:33:12.943Z"
   },
   {
    "duration": 33,
    "start_time": "2021-12-04T19:33:28.066Z"
   },
   {
    "duration": 39,
    "start_time": "2021-12-04T19:34:09.570Z"
   },
   {
    "duration": 40,
    "start_time": "2021-12-04T19:34:27.616Z"
   },
   {
    "duration": 79,
    "start_time": "2021-12-04T19:44:22.121Z"
   },
   {
    "duration": 126,
    "start_time": "2021-12-04T19:44:42.594Z"
   },
   {
    "duration": 47,
    "start_time": "2021-12-04T19:46:34.272Z"
   },
   {
    "duration": 39,
    "start_time": "2021-12-04T19:51:04.169Z"
   },
   {
    "duration": 267,
    "start_time": "2021-12-04T19:52:33.125Z"
   },
   {
    "duration": 27,
    "start_time": "2021-12-04T19:52:41.747Z"
   },
   {
    "duration": 52,
    "start_time": "2021-12-04T19:53:00.636Z"
   },
   {
    "duration": 43,
    "start_time": "2021-12-04T19:53:11.179Z"
   },
   {
    "duration": 289,
    "start_time": "2021-12-04T19:54:44.871Z"
   },
   {
    "duration": 696,
    "start_time": "2021-12-04T19:55:39.570Z"
   },
   {
    "duration": 27,
    "start_time": "2021-12-04T19:55:45.835Z"
   },
   {
    "duration": 486,
    "start_time": "2021-12-05T08:50:56.146Z"
   },
   {
    "duration": 471,
    "start_time": "2021-12-05T08:51:19.571Z"
   },
   {
    "duration": 485,
    "start_time": "2021-12-05T08:51:30.326Z"
   },
   {
    "duration": 844,
    "start_time": "2021-12-05T08:52:02.969Z"
   },
   {
    "duration": 34,
    "start_time": "2021-12-05T08:52:07.984Z"
   },
   {
    "duration": 22,
    "start_time": "2021-12-05T08:52:09.478Z"
   },
   {
    "duration": 177,
    "start_time": "2021-12-05T08:52:10.849Z"
   },
   {
    "duration": 10179,
    "start_time": "2021-12-05T08:52:13.159Z"
   },
   {
    "duration": 84,
    "start_time": "2021-12-05T08:52:23.340Z"
   },
   {
    "duration": 73,
    "start_time": "2021-12-05T08:52:23.427Z"
   },
   {
    "duration": 62,
    "start_time": "2021-12-05T08:52:23.503Z"
   },
   {
    "duration": 23,
    "start_time": "2021-12-05T08:52:23.568Z"
   },
   {
    "duration": 24,
    "start_time": "2021-12-05T08:52:23.593Z"
   },
   {
    "duration": 47,
    "start_time": "2021-12-05T08:52:44.864Z"
   },
   {
    "duration": 48,
    "start_time": "2021-12-05T08:52:54.057Z"
   },
   {
    "duration": 205,
    "start_time": "2021-12-05T09:25:37.356Z"
   },
   {
    "duration": 204,
    "start_time": "2021-12-05T09:26:18.177Z"
   },
   {
    "duration": 437,
    "start_time": "2021-12-05T09:27:00.129Z"
   },
   {
    "duration": 211,
    "start_time": "2021-12-05T09:27:04.563Z"
   },
   {
    "duration": 87,
    "start_time": "2021-12-05T12:09:45.105Z"
   },
   {
    "duration": 28,
    "start_time": "2021-12-05T12:09:50.015Z"
   },
   {
    "duration": 23,
    "start_time": "2021-12-05T12:09:52.887Z"
   },
   {
    "duration": 171,
    "start_time": "2021-12-05T12:09:56.232Z"
   },
   {
    "duration": 10480,
    "start_time": "2021-12-05T12:09:58.806Z"
   },
   {
    "duration": 89,
    "start_time": "2021-12-05T12:10:09.289Z"
   },
   {
    "duration": 76,
    "start_time": "2021-12-05T12:10:11.249Z"
   },
   {
    "duration": 45,
    "start_time": "2021-12-05T12:10:14.541Z"
   },
   {
    "duration": 49,
    "start_time": "2021-12-05T12:10:16.351Z"
   },
   {
    "duration": 25,
    "start_time": "2021-12-05T12:10:29.972Z"
   },
   {
    "duration": 26,
    "start_time": "2021-12-05T12:10:33.724Z"
   },
   {
    "duration": 28,
    "start_time": "2021-12-05T12:12:25.296Z"
   },
   {
    "duration": 304,
    "start_time": "2021-12-05T20:15:57.047Z"
   },
   {
    "duration": 716,
    "start_time": "2021-12-05T20:16:06.836Z"
   },
   {
    "duration": 23,
    "start_time": "2021-12-05T20:16:07.554Z"
   },
   {
    "duration": 51,
    "start_time": "2021-12-05T20:16:07.579Z"
   },
   {
    "duration": 50,
    "start_time": "2021-12-05T20:16:07.632Z"
   },
   {
    "duration": 136,
    "start_time": "2021-12-05T20:16:07.684Z"
   },
   {
    "duration": 7896,
    "start_time": "2021-12-05T20:16:07.822Z"
   },
   {
    "duration": 71,
    "start_time": "2021-12-05T20:16:15.720Z"
   },
   {
    "duration": 34,
    "start_time": "2021-12-05T20:16:15.793Z"
   },
   {
    "duration": 52,
    "start_time": "2021-12-05T20:16:15.829Z"
   },
   {
    "duration": 15,
    "start_time": "2021-12-05T20:16:15.883Z"
   },
   {
    "duration": 29,
    "start_time": "2021-12-05T20:16:15.899Z"
   },
   {
    "duration": 33,
    "start_time": "2021-12-05T20:27:44.876Z"
   },
   {
    "duration": 29,
    "start_time": "2021-12-05T20:30:48.713Z"
   },
   {
    "duration": 700,
    "start_time": "2021-12-05T20:31:07.993Z"
   },
   {
    "duration": 32,
    "start_time": "2021-12-05T20:31:11.009Z"
   },
   {
    "duration": 28,
    "start_time": "2021-12-05T20:31:11.649Z"
   },
   {
    "duration": 10,
    "start_time": "2021-12-05T20:31:39.345Z"
   },
   {
    "duration": 10,
    "start_time": "2021-12-05T20:32:08.539Z"
   },
   {
    "duration": 33,
    "start_time": "2021-12-05T20:32:46.541Z"
   },
   {
    "duration": 10,
    "start_time": "2021-12-05T20:33:29.128Z"
   },
   {
    "duration": 420,
    "start_time": "2021-12-05T20:37:10.361Z"
   },
   {
    "duration": 26,
    "start_time": "2021-12-05T20:37:20.723Z"
   },
   {
    "duration": 17,
    "start_time": "2021-12-05T20:37:25.206Z"
   },
   {
    "duration": 69,
    "start_time": "2021-12-05T20:41:17.573Z"
   },
   {
    "duration": 54,
    "start_time": "2021-12-05T20:41:50.300Z"
   },
   {
    "duration": 299,
    "start_time": "2021-12-05T20:42:29.098Z"
   },
   {
    "duration": 54,
    "start_time": "2021-12-05T20:42:34.751Z"
   },
   {
    "duration": 6,
    "start_time": "2021-12-05T20:43:48.763Z"
   },
   {
    "duration": 7,
    "start_time": "2021-12-05T20:44:08.366Z"
   },
   {
    "duration": 56,
    "start_time": "2021-12-05T20:47:00.901Z"
   },
   {
    "duration": 54,
    "start_time": "2021-12-05T20:47:36.645Z"
   },
   {
    "duration": 293,
    "start_time": "2021-12-05T20:47:56.722Z"
   },
   {
    "duration": 67,
    "start_time": "2021-12-05T20:48:01.938Z"
   },
   {
    "duration": 68,
    "start_time": "2021-12-05T20:48:55.723Z"
   },
   {
    "duration": 63,
    "start_time": "2021-12-05T20:49:00.439Z"
   },
   {
    "duration": 8,
    "start_time": "2021-12-05T20:50:27.768Z"
   },
   {
    "duration": 7,
    "start_time": "2021-12-05T20:50:31.081Z"
   },
   {
    "duration": 7,
    "start_time": "2021-12-05T20:50:34.258Z"
   },
   {
    "duration": 6,
    "start_time": "2021-12-05T20:50:40.122Z"
   },
   {
    "duration": 6,
    "start_time": "2021-12-05T20:50:42.143Z"
   },
   {
    "duration": 6,
    "start_time": "2021-12-05T20:50:43.835Z"
   },
   {
    "duration": 6,
    "start_time": "2021-12-05T20:50:45.412Z"
   },
   {
    "duration": 6,
    "start_time": "2021-12-05T20:50:47.535Z"
   },
   {
    "duration": 7,
    "start_time": "2021-12-05T20:50:49.485Z"
   },
   {
    "duration": 7,
    "start_time": "2021-12-05T20:50:51.370Z"
   },
   {
    "duration": 6,
    "start_time": "2021-12-05T20:50:53.018Z"
   },
   {
    "duration": 8,
    "start_time": "2021-12-05T20:50:54.324Z"
   },
   {
    "duration": 8,
    "start_time": "2021-12-05T20:51:09.761Z"
   },
   {
    "duration": 8,
    "start_time": "2021-12-05T20:51:22.602Z"
   },
   {
    "duration": 7,
    "start_time": "2021-12-05T20:52:10.076Z"
   },
   {
    "duration": 6,
    "start_time": "2021-12-05T20:52:15.123Z"
   },
   {
    "duration": 59,
    "start_time": "2021-12-05T20:52:39.050Z"
   },
   {
    "duration": 6,
    "start_time": "2021-12-05T20:52:40.378Z"
   },
   {
    "duration": 7,
    "start_time": "2021-12-05T20:52:41.592Z"
   },
   {
    "duration": 61,
    "start_time": "2021-12-05T20:53:42.914Z"
   },
   {
    "duration": 6,
    "start_time": "2021-12-05T20:53:43.981Z"
   },
   {
    "duration": 68,
    "start_time": "2021-12-05T20:55:46.316Z"
   },
   {
    "duration": 7,
    "start_time": "2021-12-05T20:55:48.274Z"
   },
   {
    "duration": 78,
    "start_time": "2021-12-05T20:56:01.585Z"
   },
   {
    "duration": 64,
    "start_time": "2021-12-05T20:56:15.445Z"
   },
   {
    "duration": 64,
    "start_time": "2021-12-05T20:56:44.385Z"
   },
   {
    "duration": 70,
    "start_time": "2021-12-05T20:56:58.092Z"
   },
   {
    "duration": 60,
    "start_time": "2021-12-05T20:57:07.177Z"
   },
   {
    "duration": 118,
    "start_time": "2021-12-05T20:58:06.605Z"
   },
   {
    "duration": 18,
    "start_time": "2021-12-05T21:00:13.786Z"
   },
   {
    "duration": 9,
    "start_time": "2021-12-05T21:02:39.396Z"
   },
   {
    "duration": 8,
    "start_time": "2021-12-05T21:03:01.608Z"
   },
   {
    "duration": 6,
    "start_time": "2021-12-05T21:05:11.834Z"
   },
   {
    "duration": 90,
    "start_time": "2021-12-05T21:05:53.041Z"
   },
   {
    "duration": 9,
    "start_time": "2021-12-05T21:05:57.500Z"
   },
   {
    "duration": 8,
    "start_time": "2021-12-05T21:06:48.021Z"
   },
   {
    "duration": 13,
    "start_time": "2021-12-05T21:07:41.758Z"
   },
   {
    "duration": 8627,
    "start_time": "2021-12-05T21:11:25.997Z"
   },
   {
    "duration": 8,
    "start_time": "2021-12-05T21:15:16.861Z"
   },
   {
    "duration": 8,
    "start_time": "2021-12-05T21:16:33.820Z"
   },
   {
    "duration": 63,
    "start_time": "2021-12-05T21:20:22.134Z"
   },
   {
    "duration": 36,
    "start_time": "2021-12-05T21:25:57.141Z"
   },
   {
    "duration": 6,
    "start_time": "2021-12-05T21:27:57.260Z"
   },
   {
    "duration": 367,
    "start_time": "2021-12-05T21:28:26.633Z"
   },
   {
    "duration": 9,
    "start_time": "2021-12-05T21:28:32.866Z"
   },
   {
    "duration": 239,
    "start_time": "2021-12-05T21:28:52.148Z"
   },
   {
    "duration": 240,
    "start_time": "2021-12-05T21:28:56.237Z"
   },
   {
    "duration": 244,
    "start_time": "2021-12-05T21:28:59.820Z"
   },
   {
    "duration": 10,
    "start_time": "2021-12-05T21:29:02.057Z"
   },
   {
    "duration": 321,
    "start_time": "2021-12-05T21:29:46.643Z"
   },
   {
    "duration": 6,
    "start_time": "2021-12-05T21:29:50.080Z"
   },
   {
    "duration": 6,
    "start_time": "2021-12-05T21:29:58.794Z"
   },
   {
    "duration": 82,
    "start_time": "2021-12-05T21:35:00.788Z"
   },
   {
    "duration": 253,
    "start_time": "2021-12-05T21:35:27.727Z"
   },
   {
    "duration": 262,
    "start_time": "2021-12-05T21:36:39.231Z"
   },
   {
    "duration": 85,
    "start_time": "2021-12-05T21:37:01.280Z"
   },
   {
    "duration": 78,
    "start_time": "2021-12-05T21:37:25.773Z"
   },
   {
    "duration": 15,
    "start_time": "2021-12-05T21:38:21.509Z"
   },
   {
    "duration": 17,
    "start_time": "2021-12-05T21:38:35.313Z"
   },
   {
    "duration": 17,
    "start_time": "2021-12-05T21:39:36.490Z"
   },
   {
    "duration": 23,
    "start_time": "2021-12-05T21:39:49.423Z"
   },
   {
    "duration": 21,
    "start_time": "2021-12-05T21:39:53.428Z"
   },
   {
    "duration": 20,
    "start_time": "2021-12-05T21:40:30.295Z"
   },
   {
    "duration": 22,
    "start_time": "2021-12-05T21:40:37.764Z"
   },
   {
    "duration": 19,
    "start_time": "2021-12-05T21:40:41.866Z"
   },
   {
    "duration": 20,
    "start_time": "2021-12-05T21:40:57.670Z"
   },
   {
    "duration": 19,
    "start_time": "2021-12-05T21:41:01.342Z"
   },
   {
    "duration": 21,
    "start_time": "2021-12-05T21:41:10.861Z"
   },
   {
    "duration": 33,
    "start_time": "2021-12-05T21:41:53.261Z"
   },
   {
    "duration": 33,
    "start_time": "2021-12-05T21:42:07.835Z"
   },
   {
    "duration": 36,
    "start_time": "2021-12-05T21:42:35.613Z"
   },
   {
    "duration": 38,
    "start_time": "2021-12-05T21:44:23.813Z"
   },
   {
    "duration": 41,
    "start_time": "2021-12-05T21:44:47.379Z"
   },
   {
    "duration": 39,
    "start_time": "2021-12-05T21:45:27.725Z"
   },
   {
    "duration": 36,
    "start_time": "2021-12-05T21:47:57.174Z"
   },
   {
    "duration": 19,
    "start_time": "2021-12-05T21:48:39.858Z"
   },
   {
    "duration": 20,
    "start_time": "2021-12-05T21:50:39.822Z"
   },
   {
    "duration": 679,
    "start_time": "2021-12-05T21:53:41.967Z"
   },
   {
    "duration": 30,
    "start_time": "2021-12-05T21:53:42.648Z"
   },
   {
    "duration": 9,
    "start_time": "2021-12-05T21:53:42.680Z"
   },
   {
    "duration": 21,
    "start_time": "2021-12-05T21:53:42.691Z"
   },
   {
    "duration": 73,
    "start_time": "2021-12-05T21:53:42.714Z"
   },
   {
    "duration": 16,
    "start_time": "2021-12-05T21:53:42.789Z"
   },
   {
    "duration": 134,
    "start_time": "2021-12-05T21:53:42.807Z"
   },
   {
    "duration": 23,
    "start_time": "2021-12-05T21:53:42.944Z"
   },
   {
    "duration": 8,
    "start_time": "2021-12-05T21:53:42.969Z"
   },
   {
    "duration": 7,
    "start_time": "2021-12-05T21:53:42.979Z"
   },
   {
    "duration": 11,
    "start_time": "2021-12-05T21:53:42.988Z"
   },
   {
    "duration": 12,
    "start_time": "2021-12-05T21:53:43.001Z"
   },
   {
    "duration": 8111,
    "start_time": "2021-12-05T21:53:43.015Z"
   },
   {
    "duration": 8,
    "start_time": "2021-12-05T21:53:51.127Z"
   },
   {
    "duration": 79,
    "start_time": "2021-12-05T21:53:51.136Z"
   },
   {
    "duration": 59,
    "start_time": "2021-12-05T21:53:51.217Z"
   },
   {
    "duration": 37,
    "start_time": "2021-12-05T21:53:51.279Z"
   },
   {
    "duration": 17,
    "start_time": "2021-12-05T21:53:51.318Z"
   },
   {
    "duration": 50,
    "start_time": "2021-12-05T21:53:51.337Z"
   }
  ],
  "kernelspec": {
   "display_name": "Python 3",
   "language": "python",
   "name": "python3"
  },
  "language_info": {
   "codemirror_mode": {
    "name": "ipython",
    "version": 3
   },
   "file_extension": ".py",
   "mimetype": "text/x-python",
   "name": "python",
   "nbconvert_exporter": "python",
   "pygments_lexer": "ipython3",
   "version": "3.8.10"
  },
  "toc": {
   "base_numbering": 1,
   "nav_menu": {},
   "number_sections": true,
   "sideBar": true,
   "skip_h1_title": true,
   "title_cell": "Table of Contents",
   "title_sidebar": "Contents",
   "toc_cell": false,
   "toc_position": {},
   "toc_section_display": true,
   "toc_window_display": false
  }
 },
 "nbformat": 4,
 "nbformat_minor": 2
}
