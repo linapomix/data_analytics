{
 "cells": [
  {
   "cell_type": "markdown",
   "metadata": {
    "id": "E0vqbgi9ay0H"
   },
   "source": [
    "# Анализ пользователей сервиса Яндекс.Музыка"
   ]
  },
  {
   "cell_type": "markdown",
   "metadata": {
    "id": "VUC88oWjTJw2"
   },
   "source": [
    "Нам предоставлены данные Яндекс.Музыки для сравнения пользователей двух столиц.\n",
    "\n",
    "**Цель исследования** — проверить три гипотезы:\n",
    "1. Активность пользователей зависит от дня недели. Причём в Москве и Петербурге это проявляется по-разному.\n",
    "2. В понедельник утром в Москве преобладают одни жанры, а в Петербурге — другие. Так же и вечером пятницы преобладают разные жанры — в зависимости от города. \n",
    "3. Москва и Петербург предпочитают разные жанры музыки. В Москве чаще слушают поп-музыку, в Петербурге — русский рэп.\n",
    "\n",
    "**Ход исследования**\n",
    "\n",
    "Пройдёт в три этапа:\n",
    " 1. Обзор данных.\n",
    " 2. Предобработка данных.\n",
    " 3. Проверка гипотез.\n",
    "\n"
   ]
  },
  {
   "cell_type": "markdown",
   "metadata": {
    "id": "Ml1hmfXC_Zcs"
   },
   "source": [
    "## Обзор данных\n",
    "\n",
    "Составьте первое представление о данных Яндекс.Музыки.\n",
    "\n",
    "\n"
   ]
  },
  {
   "cell_type": "markdown",
   "metadata": {
    "id": "57eAOGIz_Zcs"
   },
   "source": [
    "Основной инструмент аналитика — `pandas`. Импортируйте эту библиотеку."
   ]
  },
  {
   "cell_type": "code",
   "execution_count": 1,
   "metadata": {
    "id": "AXN7PHPN_Zcs"
   },
   "outputs": [],
   "source": [
    "import pandas as pd"
   ]
  },
  {
   "cell_type": "markdown",
   "metadata": {
    "id": "SG23P8tt_Zcs"
   },
   "source": [
    "Прочитайте файл `yandex_music_project.csv` из папки `/datasets` и сохраните его в переменной `df`:"
   ]
  },
  {
   "cell_type": "code",
   "execution_count": 2,
   "metadata": {
    "id": "fFVu7vqh_Zct"
   },
   "outputs": [],
   "source": [
    "# подгружаем датасет\n",
    "\n",
    "try:\n",
    "    df = pd.read_csv('yandex_music_project.csv')\n",
    "except FileNotFoundError:\n",
    "    rest = pd.read_csv('/datasets/yandex_music_project.csv')"
   ]
  },
  {
   "cell_type": "markdown",
   "metadata": {
    "id": "rDoOMd3uTqnZ"
   },
   "source": [
    "Выведите на экран первые десять строк таблицы:"
   ]
  },
  {
   "cell_type": "code",
   "execution_count": 3,
   "metadata": {
    "id": "oWTVX3gW_Zct"
   },
   "outputs": [
    {
     "data": {
      "text/html": [
       "<div>\n",
       "<style scoped>\n",
       "    .dataframe tbody tr th:only-of-type {\n",
       "        vertical-align: middle;\n",
       "    }\n",
       "\n",
       "    .dataframe tbody tr th {\n",
       "        vertical-align: top;\n",
       "    }\n",
       "\n",
       "    .dataframe thead th {\n",
       "        text-align: right;\n",
       "    }\n",
       "</style>\n",
       "<table border=\"1\" class=\"dataframe\">\n",
       "  <thead>\n",
       "    <tr style=\"text-align: right;\">\n",
       "      <th></th>\n",
       "      <th>userID</th>\n",
       "      <th>Track</th>\n",
       "      <th>artist</th>\n",
       "      <th>genre</th>\n",
       "      <th>City</th>\n",
       "      <th>time</th>\n",
       "      <th>Day</th>\n",
       "    </tr>\n",
       "  </thead>\n",
       "  <tbody>\n",
       "    <tr>\n",
       "      <th>0</th>\n",
       "      <td>FFB692EC</td>\n",
       "      <td>Kamigata To Boots</td>\n",
       "      <td>The Mass Missile</td>\n",
       "      <td>rock</td>\n",
       "      <td>Saint-Petersburg</td>\n",
       "      <td>20:28:33</td>\n",
       "      <td>Wednesday</td>\n",
       "    </tr>\n",
       "    <tr>\n",
       "      <th>1</th>\n",
       "      <td>55204538</td>\n",
       "      <td>Delayed Because of Accident</td>\n",
       "      <td>Andreas Rönnberg</td>\n",
       "      <td>rock</td>\n",
       "      <td>Moscow</td>\n",
       "      <td>14:07:09</td>\n",
       "      <td>Friday</td>\n",
       "    </tr>\n",
       "    <tr>\n",
       "      <th>2</th>\n",
       "      <td>20EC38</td>\n",
       "      <td>Funiculì funiculà</td>\n",
       "      <td>Mario Lanza</td>\n",
       "      <td>pop</td>\n",
       "      <td>Saint-Petersburg</td>\n",
       "      <td>20:58:07</td>\n",
       "      <td>Wednesday</td>\n",
       "    </tr>\n",
       "    <tr>\n",
       "      <th>3</th>\n",
       "      <td>A3DD03C9</td>\n",
       "      <td>Dragons in the Sunset</td>\n",
       "      <td>Fire + Ice</td>\n",
       "      <td>folk</td>\n",
       "      <td>Saint-Petersburg</td>\n",
       "      <td>08:37:09</td>\n",
       "      <td>Monday</td>\n",
       "    </tr>\n",
       "    <tr>\n",
       "      <th>4</th>\n",
       "      <td>E2DC1FAE</td>\n",
       "      <td>Soul People</td>\n",
       "      <td>Space Echo</td>\n",
       "      <td>dance</td>\n",
       "      <td>Moscow</td>\n",
       "      <td>08:34:34</td>\n",
       "      <td>Monday</td>\n",
       "    </tr>\n",
       "    <tr>\n",
       "      <th>5</th>\n",
       "      <td>842029A1</td>\n",
       "      <td>Преданная</td>\n",
       "      <td>IMPERVTOR</td>\n",
       "      <td>rusrap</td>\n",
       "      <td>Saint-Petersburg</td>\n",
       "      <td>13:09:41</td>\n",
       "      <td>Friday</td>\n",
       "    </tr>\n",
       "    <tr>\n",
       "      <th>6</th>\n",
       "      <td>4CB90AA5</td>\n",
       "      <td>True</td>\n",
       "      <td>Roman Messer</td>\n",
       "      <td>dance</td>\n",
       "      <td>Moscow</td>\n",
       "      <td>13:00:07</td>\n",
       "      <td>Wednesday</td>\n",
       "    </tr>\n",
       "    <tr>\n",
       "      <th>7</th>\n",
       "      <td>F03E1C1F</td>\n",
       "      <td>Feeling This Way</td>\n",
       "      <td>Polina Griffith</td>\n",
       "      <td>dance</td>\n",
       "      <td>Moscow</td>\n",
       "      <td>20:47:49</td>\n",
       "      <td>Wednesday</td>\n",
       "    </tr>\n",
       "    <tr>\n",
       "      <th>8</th>\n",
       "      <td>8FA1D3BE</td>\n",
       "      <td>И вновь продолжается бой</td>\n",
       "      <td>NaN</td>\n",
       "      <td>ruspop</td>\n",
       "      <td>Moscow</td>\n",
       "      <td>09:17:40</td>\n",
       "      <td>Friday</td>\n",
       "    </tr>\n",
       "    <tr>\n",
       "      <th>9</th>\n",
       "      <td>E772D5C0</td>\n",
       "      <td>Pessimist</td>\n",
       "      <td>NaN</td>\n",
       "      <td>dance</td>\n",
       "      <td>Saint-Petersburg</td>\n",
       "      <td>21:20:49</td>\n",
       "      <td>Wednesday</td>\n",
       "    </tr>\n",
       "  </tbody>\n",
       "</table>\n",
       "</div>"
      ],
      "text/plain": [
       "     userID                        Track            artist   genre  \\\n",
       "0  FFB692EC            Kamigata To Boots  The Mass Missile    rock   \n",
       "1  55204538  Delayed Because of Accident  Andreas Rönnberg    rock   \n",
       "2    20EC38            Funiculì funiculà       Mario Lanza     pop   \n",
       "3  A3DD03C9        Dragons in the Sunset        Fire + Ice    folk   \n",
       "4  E2DC1FAE                  Soul People        Space Echo   dance   \n",
       "5  842029A1                    Преданная         IMPERVTOR  rusrap   \n",
       "6  4CB90AA5                         True      Roman Messer   dance   \n",
       "7  F03E1C1F             Feeling This Way   Polina Griffith   dance   \n",
       "8  8FA1D3BE     И вновь продолжается бой               NaN  ruspop   \n",
       "9  E772D5C0                    Pessimist               NaN   dance   \n",
       "\n",
       "             City        time        Day  \n",
       "0  Saint-Petersburg  20:28:33  Wednesday  \n",
       "1            Moscow  14:07:09     Friday  \n",
       "2  Saint-Petersburg  20:58:07  Wednesday  \n",
       "3  Saint-Petersburg  08:37:09     Monday  \n",
       "4            Moscow  08:34:34     Monday  \n",
       "5  Saint-Petersburg  13:09:41     Friday  \n",
       "6            Moscow  13:00:07  Wednesday  \n",
       "7            Moscow  20:47:49  Wednesday  \n",
       "8            Moscow  09:17:40     Friday  \n",
       "9  Saint-Petersburg  21:20:49  Wednesday  "
      ]
     },
     "execution_count": 3,
     "metadata": {},
     "output_type": "execute_result"
    }
   ],
   "source": [
    "df.head(10)"
   ]
  },
  {
   "cell_type": "markdown",
   "metadata": {
    "id": "EO73Kwic_Zct"
   },
   "source": [
    "Одной командой получить общую информацию о таблице:"
   ]
  },
  {
   "cell_type": "code",
   "execution_count": 4,
   "metadata": {
    "id": "DSf2kIb-_Zct"
   },
   "outputs": [
    {
     "name": "stdout",
     "output_type": "stream",
     "text": [
      "<class 'pandas.core.frame.DataFrame'>\n",
      "RangeIndex: 65079 entries, 0 to 65078\n",
      "Data columns (total 7 columns):\n",
      " #   Column    Non-Null Count  Dtype \n",
      "---  ------    --------------  ----- \n",
      " 0     userID  65079 non-null  object\n",
      " 1   Track     63848 non-null  object\n",
      " 2   artist    57876 non-null  object\n",
      " 3   genre     63881 non-null  object\n",
      " 4     City    65079 non-null  object\n",
      " 5   time      65079 non-null  object\n",
      " 6   Day       65079 non-null  object\n",
      "dtypes: object(7)\n",
      "memory usage: 3.5+ MB\n"
     ]
    }
   ],
   "source": [
    "df.info()"
   ]
  },
  {
   "cell_type": "markdown",
   "metadata": {
    "id": "TaQ2Iwbr_Zct"
   },
   "source": [
    "Итак, в таблице семь столбцов. Тип данных во всех столбцах — `object`.\n",
    "\n",
    "Согласно документации к данным:\n",
    "* `userID` — идентификатор пользователя;\n",
    "* `Track` — название трека;  \n",
    "* `artist` — имя исполнителя;\n",
    "* `genre` — название жанра;\n",
    "* `City` — город пользователя;\n",
    "* `time` — время начала прослушивания;\n",
    "* `Day` — день недели.\n",
    "\n",
    "В названиях колонок видны три нарушения стиля:\n",
    "1. Строчные буквы сочетаются с прописными.\n",
    "2. Встречаются пробелы.\n",
    "3. Использование camelCase вместо snake_case \n",
    "\n",
    "\n",
    "\n",
    "Количество значений в столбцах различается. Значит, в данных есть пропущенные значения.\n"
   ]
  },
  {
   "cell_type": "markdown",
   "metadata": {
    "id": "MCB6-dXG_Zct"
   },
   "source": [
    "**Выводы**\n",
    "\n",
    "В каждой строке таблицы — данные о прослушанном треке. Часть колонок описывает саму композицию: название, исполнителя и жанр. Остальные данные рассказывают о пользователе: из какого он города, когда он слушал музыку. \n",
    "\n",
    "Предварительно можно утверждать, что, данных достаточно для проверки гипотез. Но встречаются пропуски в данных, а в названиях колонок — расхождения с хорошим стилем.\n",
    "\n",
    "Чтобы двигаться дальше, нужно устранить проблемы в данных."
   ]
  },
  {
   "cell_type": "markdown",
   "metadata": {
    "id": "SjYF6Ub9_Zct"
   },
   "source": [
    "## Предобработка данных\n"
   ]
  },
  {
   "cell_type": "markdown",
   "metadata": {
    "id": "dIaKXr29_Zct"
   },
   "source": [
    "### Стиль заголовков\n"
   ]
  },
  {
   "cell_type": "code",
   "execution_count": 5,
   "metadata": {
    "id": "oKOTdF_Q_Zct"
   },
   "outputs": [
    {
     "data": {
      "text/plain": [
       "Index(['  userID', 'Track', 'artist', 'genre', '  City  ', 'time', 'Day'], dtype='object')"
      ]
     },
     "execution_count": 5,
     "metadata": {},
     "output_type": "execute_result"
    }
   ],
   "source": [
    "df.columns # перечень названий столбцов таблицы df"
   ]
  },
  {
   "cell_type": "markdown",
   "metadata": {
    "id": "zj5534cv_Zct"
   },
   "source": [
    "Приведем названия в соответствие с хорошим стилем:\n"
   ]
  },
  {
   "cell_type": "code",
   "execution_count": 6,
   "metadata": {
    "id": "ISlFqs5y_Zct"
   },
   "outputs": [],
   "source": [
    "df = df.rename(columns={'  userID': 'user_id','Track': 'track','  City  ': 'city','Day': 'day'})"
   ]
  },
  {
   "cell_type": "code",
   "execution_count": 7,
   "metadata": {
    "id": "d4NOAmTW_Zct"
   },
   "outputs": [
    {
     "data": {
      "text/plain": [
       "Index(['user_id', 'track', 'artist', 'genre', 'city', 'time', 'day'], dtype='object')"
      ]
     },
     "execution_count": 7,
     "metadata": {},
     "output_type": "execute_result"
    }
   ],
   "source": [
    "df.columns # проверка результатов - перечень названий столбцов"
   ]
  },
  {
   "cell_type": "markdown",
   "metadata": {
    "id": "5ISfbcfY_Zct"
   },
   "source": [
    "### Пропуски значений\n",
    "Сначала посчитаем, сколько в таблице пропущенных значений. Для этого достаточно двух методов `pandas`:"
   ]
  },
  {
   "cell_type": "code",
   "execution_count": 8,
   "metadata": {
    "id": "RskX29qr_Zct"
   },
   "outputs": [
    {
     "data": {
      "text/plain": [
       "user_id       0\n",
       "track      1231\n",
       "artist     7203\n",
       "genre      1198\n",
       "city          0\n",
       "time          0\n",
       "day           0\n",
       "dtype: int64"
      ]
     },
     "execution_count": 8,
     "metadata": {},
     "output_type": "execute_result"
    }
   ],
   "source": [
    "df.isna().sum() # подсчёт пропусков"
   ]
  },
  {
   "cell_type": "markdown",
   "metadata": {
    "id": "qubhgnlO_Zct"
   },
   "source": [
    "Не все пропущенные значения влияют на исследование. Так в `track` и `artist` пропуски не важны для вашей работы. Достаточно заменить их явными обозначениями.\n",
    "\n",
    "Но пропуски в `genre` могут помешать сравнению музыкальных вкусов в Москве и Санкт-Петербурге. На практике было бы правильно установить причину пропусков и восстановить данные. Такой возможности нет в учебном проекте. Придётся:\n",
    "* заполнить и эти пропуски явными обозначениями,\n",
    "* оценить, насколько они повредят расчётам. "
   ]
  },
  {
   "cell_type": "markdown",
   "metadata": {
    "id": "fSv2laPA_Zct"
   },
   "source": [
    "Заменим пропущенные значения в столбцах `track`, `artist` и `genre` на строку `'unknown'`. Для этого создадим список `columns_to_replace`, переберем его элементы циклом `for` и для каждого столбца выполним замену пропущенных значений:"
   ]
  },
  {
   "cell_type": "code",
   "execution_count": 9,
   "metadata": {
    "id": "KplB5qWs_Zct"
   },
   "outputs": [],
   "source": [
    "columns_to_replace = ['track', 'artist', 'genre']\n",
    "for missed_item in columns_to_replace:\n",
    "    df[missed_item]=df[missed_item].fillna('unknown')\n",
    "# перебор названий столбцов в цикле и замена пропущенных значений на 'unknown'"
   ]
  },
  {
   "cell_type": "markdown",
   "metadata": {
    "id": "Ilsm-MZo_Zct"
   },
   "source": [
    "Убедимся, что в таблице не осталось пропусков. Для этого ещё раз посчитаем пропущенные значения."
   ]
  },
  {
   "cell_type": "code",
   "execution_count": 10,
   "metadata": {
    "id": "Tq4nYRX4_Zct"
   },
   "outputs": [
    {
     "data": {
      "text/plain": [
       "user_id    0\n",
       "track      0\n",
       "artist     0\n",
       "genre      0\n",
       "city       0\n",
       "time       0\n",
       "day        0\n",
       "dtype: int64"
      ]
     },
     "execution_count": 10,
     "metadata": {},
     "output_type": "execute_result"
    }
   ],
   "source": [
    "df.isna().sum() # подсчёт пропусков"
   ]
  },
  {
   "cell_type": "markdown",
   "metadata": {
    "id": "BWKRtBJ3_Zct"
   },
   "source": [
    "### Дубликаты\n",
    "Посчитаем явные дубликаты в таблице:"
   ]
  },
  {
   "cell_type": "code",
   "execution_count": 11,
   "metadata": {
    "id": "36eES_S0_Zct"
   },
   "outputs": [
    {
     "data": {
      "text/plain": [
       "3826"
      ]
     },
     "execution_count": 11,
     "metadata": {},
     "output_type": "execute_result"
    }
   ],
   "source": [
    "df.duplicated().sum() # подсчёт явных дубликатов"
   ]
  },
  {
   "cell_type": "markdown",
   "metadata": {
    "id": "Ot25h6XR_Zct"
   },
   "source": [
    "Вызовем специальный метод `pandas`, чтобы удалить явные дубликаты:"
   ]
  },
  {
   "cell_type": "code",
   "execution_count": 12,
   "metadata": {
    "id": "exFHq6tt_Zct"
   },
   "outputs": [],
   "source": [
    "df = df.drop_duplicates().reset_index(drop=True) # удаление явных дубликатов (с удалением старых индексов и формированием новых)"
   ]
  },
  {
   "cell_type": "markdown",
   "metadata": {
    "id": "Im2YwBEG_Zct"
   },
   "source": [
    "Убедимся, что полностью избавились от дубликатов:"
   ]
  },
  {
   "cell_type": "code",
   "execution_count": 13,
   "metadata": {
    "id": "-8PuNWQ0_Zct"
   },
   "outputs": [
    {
     "data": {
      "text/plain": [
       "0"
      ]
     },
     "execution_count": 13,
     "metadata": {},
     "output_type": "execute_result"
    }
   ],
   "source": [
    "df.duplicated().sum() # проверка на отсутствие дубликатов"
   ]
  },
  {
   "cell_type": "markdown",
   "metadata": {
    "id": "QlFBsxAr_Zct"
   },
   "source": [
    "Теперь избавимся от неявных дубликатов в колонке `genre`. Например, название одного и того же жанра может быть записано немного по-разному. Такие ошибки тоже повлияют на результат исследования."
   ]
  },
  {
   "cell_type": "markdown",
   "metadata": {
    "id": "eSjWwsOh_Zct"
   },
   "source": [
    "Выведем на экран список уникальных названий жанров, отсортированный в алфавитном порядке. Для этого:\n",
    "* извлечем нужный столбец датафрейма, \n",
    "* применим к нему метод сортировки,\n",
    "* для отсортированного столбца вызовем метод, который вернёт уникальные значения из столбца."
   ]
  },
  {
   "cell_type": "code",
   "execution_count": 14,
   "metadata": {
    "id": "JIUcqzZN_Zct"
   },
   "outputs": [
    {
     "name": "stdout",
     "output_type": "stream",
     "text": [
      "['acid' 'acoustic' 'action' 'adult' 'africa' 'afrikaans' 'alternative'\n",
      " 'alternativepunk' 'ambient' 'americana' 'animated' 'anime' 'arabesk'\n",
      " 'arabic' 'arena' 'argentinetango' 'art' 'audiobook' 'author' 'avantgarde'\n",
      " 'axé' 'baile' 'balkan' 'beats' 'bigroom' 'black' 'bluegrass' 'blues'\n",
      " 'bollywood' 'bossa' 'brazilian' 'breakbeat' 'breaks' 'broadway'\n",
      " 'cantautori' 'cantopop' 'canzone' 'caribbean' 'caucasian' 'celtic'\n",
      " 'chamber' 'chanson' 'children' 'chill' 'chinese' 'choral' 'christian'\n",
      " 'christmas' 'classical' 'classicmetal' 'club' 'colombian' 'comedy'\n",
      " 'conjazz' 'contemporary' 'country' 'cuban' 'dance' 'dancehall' 'dancepop'\n",
      " 'dark' 'death' 'deep' 'deutschrock' 'deutschspr' 'dirty' 'disco' 'dnb'\n",
      " 'documentary' 'downbeat' 'downtempo' 'drum' 'dub' 'dubstep' 'eastern'\n",
      " 'easy' 'electronic' 'electropop' 'emo' 'entehno' 'epicmetal' 'estrada'\n",
      " 'ethnic' 'eurofolk' 'european' 'experimental' 'extrememetal' 'fado'\n",
      " 'fairytail' 'film' 'fitness' 'flamenco' 'folk' 'folklore' 'folkmetal'\n",
      " 'folkrock' 'folktronica' 'forró' 'frankreich' 'französisch' 'french'\n",
      " 'funk' 'future' 'gangsta' 'garage' 'german' 'ghazal' 'gitarre' 'glitch'\n",
      " 'gospel' 'gothic' 'grime' 'grunge' 'gypsy' 'handsup' \"hard'n'heavy\"\n",
      " 'hardcore' 'hardstyle' 'hardtechno' 'hip' 'hip-hop' 'hiphop' 'historisch'\n",
      " 'holiday' 'hop' 'horror' 'house' 'hymn' 'idm' 'independent' 'indian'\n",
      " 'indie' 'indipop' 'industrial' 'inspirational' 'instrumental'\n",
      " 'international' 'irish' 'jam' 'japanese' 'jazz' 'jewish' 'jpop' 'jungle'\n",
      " 'k-pop' 'karadeniz' 'karaoke' 'kayokyoku' 'korean' 'laiko' 'latin'\n",
      " 'latino' 'leftfield' 'local' 'lounge' 'loungeelectronic' 'lovers'\n",
      " 'malaysian' 'mandopop' 'marschmusik' 'meditative' 'mediterranean'\n",
      " 'melodic' 'metal' 'metalcore' 'mexican' 'middle' 'minimal'\n",
      " 'miscellaneous' 'modern' 'mood' 'mpb' 'muslim' 'native' 'neoklassik'\n",
      " 'neue' 'new' 'newage' 'newwave' 'nu' 'nujazz' 'numetal' 'oceania' 'old'\n",
      " 'opera' 'orchestral' 'other' 'piano' 'podcasts' 'pop' 'popdance'\n",
      " 'popelectronic' 'popeurodance' 'poprussian' 'post' 'posthardcore'\n",
      " 'postrock' 'power' 'progmetal' 'progressive' 'psychedelic' 'punjabi'\n",
      " 'punk' 'quebecois' 'ragga' 'ram' 'rancheras' 'rap' 'rave' 'reggae'\n",
      " 'reggaeton' 'regional' 'relax' 'religious' 'retro' 'rhythm' 'rnb' 'rnr'\n",
      " 'rock' 'rockabilly' 'rockalternative' 'rockindie' 'rockother' 'romance'\n",
      " 'roots' 'ruspop' 'rusrap' 'rusrock' 'russian' 'salsa' 'samba' 'scenic'\n",
      " 'schlager' 'self' 'sertanejo' 'shanson' 'shoegazing' 'showtunes' 'singer'\n",
      " 'ska' 'skarock' 'slow' 'smooth' 'soft' 'soul' 'soulful' 'sound'\n",
      " 'soundtrack' 'southern' 'specialty' 'speech' 'spiritual' 'sport'\n",
      " 'stonerrock' 'surf' 'swing' 'synthpop' 'synthrock' 'sängerportrait'\n",
      " 'tango' 'tanzorchester' 'taraftar' 'tatar' 'tech' 'techno' 'teen'\n",
      " 'thrash' 'top' 'traditional' 'tradjazz' 'trance' 'tribal' 'trip'\n",
      " 'triphop' 'tropical' 'türk' 'türkçe' 'ukrrock' 'unknown' 'urban' 'uzbek'\n",
      " 'variété' 'vi' 'videogame' 'vocal' 'western' 'world' 'worldbeat' 'ïîï'\n",
      " 'электроника']\n"
     ]
    }
   ],
   "source": [
    "print(df['genre'].sort_values().unique()) # Просмотр уникальных названий жанров"
   ]
  },
  {
   "cell_type": "markdown",
   "metadata": {
    "id": "qej-Qmuo_Zct"
   },
   "source": [
    "Просмотрим на список и найдём неявные дубликаты названия `hiphop`. Это могут быть названия с ошибками или альтернативные названия того же жанра.\n",
    "\n",
    "Мы увидели следующие неявные дубликаты:\n",
    "* *hip*,\n",
    "* *hop*,\n",
    "* *hip-hop*.\n",
    "\n",
    "Чтобы очистить от них таблицу, напишем функцию `replace_wrong_genres()` с двумя параметрами: \n",
    "* `wrong_genres` — список дубликатов,\n",
    "* `correct_genre` — строка с правильным значением.\n",
    "\n",
    "Функция должна исправить колонку `genre` в таблице `df`: заменить каждое значение из списка `wrong_genres` на значение из `correct_genre`."
   ]
  },
  {
   "cell_type": "code",
   "execution_count": 15,
   "metadata": {
    "id": "ErNDkmns_Zct"
   },
   "outputs": [],
   "source": [
    "def replace_wrong_genres(wrong_list, correct_name):\n",
    "    for wrong_name in wrong_list:\n",
    "        df['genre'] = df['genre'].replace(wrong_name, correct_name)\n",
    "       \n",
    "# Функция для замены неявных дубликатов"
   ]
  },
  {
   "cell_type": "markdown",
   "metadata": {
    "id": "aDoBJxbA_Zct"
   },
   "source": [
    "Вызовем `replace_wrong_genres()` и передадим ей такие аргументы, чтобы она устранила неявные дубликаты: вместо `hip`, `hop` и `hip-hop` в таблице должно быть значение `hiphop`:"
   ]
  },
  {
   "cell_type": "code",
   "execution_count": 16,
   "metadata": {
    "id": "YN5i2hpmSo09"
   },
   "outputs": [],
   "source": [
    "wrong_genres = ['hip','hop','hip-hop']\n",
    "correct_genre = 'hiphop'\n",
    "replace_wrong_genres(wrong_genres, correct_genre) # Устранение неявных дубликатов"
   ]
  },
  {
   "cell_type": "markdown",
   "metadata": {
    "id": "zQKF16_RG15m"
   },
   "source": [
    "Проверем, что заменили неправильные названия:\n",
    "\n",
    "*   hip\n",
    "*   hop\n",
    "*   hip-hop\n",
    "\n",
    "Выведем отсортированный список уникальных значений столбца `genre`:"
   ]
  },
  {
   "cell_type": "code",
   "execution_count": 17,
   "metadata": {
    "id": "wvixALnFG15m"
   },
   "outputs": [
    {
     "name": "stdout",
     "output_type": "stream",
     "text": [
      "['acid' 'acoustic' 'action' 'adult' 'africa' 'afrikaans' 'alternative'\n",
      " 'alternativepunk' 'ambient' 'americana' 'animated' 'anime' 'arabesk'\n",
      " 'arabic' 'arena' 'argentinetango' 'art' 'audiobook' 'author' 'avantgarde'\n",
      " 'axé' 'baile' 'balkan' 'beats' 'bigroom' 'black' 'bluegrass' 'blues'\n",
      " 'bollywood' 'bossa' 'brazilian' 'breakbeat' 'breaks' 'broadway'\n",
      " 'cantautori' 'cantopop' 'canzone' 'caribbean' 'caucasian' 'celtic'\n",
      " 'chamber' 'chanson' 'children' 'chill' 'chinese' 'choral' 'christian'\n",
      " 'christmas' 'classical' 'classicmetal' 'club' 'colombian' 'comedy'\n",
      " 'conjazz' 'contemporary' 'country' 'cuban' 'dance' 'dancehall' 'dancepop'\n",
      " 'dark' 'death' 'deep' 'deutschrock' 'deutschspr' 'dirty' 'disco' 'dnb'\n",
      " 'documentary' 'downbeat' 'downtempo' 'drum' 'dub' 'dubstep' 'eastern'\n",
      " 'easy' 'electronic' 'electropop' 'emo' 'entehno' 'epicmetal' 'estrada'\n",
      " 'ethnic' 'eurofolk' 'european' 'experimental' 'extrememetal' 'fado'\n",
      " 'fairytail' 'film' 'fitness' 'flamenco' 'folk' 'folklore' 'folkmetal'\n",
      " 'folkrock' 'folktronica' 'forró' 'frankreich' 'französisch' 'french'\n",
      " 'funk' 'future' 'gangsta' 'garage' 'german' 'ghazal' 'gitarre' 'glitch'\n",
      " 'gospel' 'gothic' 'grime' 'grunge' 'gypsy' 'handsup' \"hard'n'heavy\"\n",
      " 'hardcore' 'hardstyle' 'hardtechno' 'hiphop' 'historisch' 'holiday'\n",
      " 'horror' 'house' 'hymn' 'idm' 'independent' 'indian' 'indie' 'indipop'\n",
      " 'industrial' 'inspirational' 'instrumental' 'international' 'irish' 'jam'\n",
      " 'japanese' 'jazz' 'jewish' 'jpop' 'jungle' 'k-pop' 'karadeniz' 'karaoke'\n",
      " 'kayokyoku' 'korean' 'laiko' 'latin' 'latino' 'leftfield' 'local'\n",
      " 'lounge' 'loungeelectronic' 'lovers' 'malaysian' 'mandopop' 'marschmusik'\n",
      " 'meditative' 'mediterranean' 'melodic' 'metal' 'metalcore' 'mexican'\n",
      " 'middle' 'minimal' 'miscellaneous' 'modern' 'mood' 'mpb' 'muslim'\n",
      " 'native' 'neoklassik' 'neue' 'new' 'newage' 'newwave' 'nu' 'nujazz'\n",
      " 'numetal' 'oceania' 'old' 'opera' 'orchestral' 'other' 'piano' 'podcasts'\n",
      " 'pop' 'popdance' 'popelectronic' 'popeurodance' 'poprussian' 'post'\n",
      " 'posthardcore' 'postrock' 'power' 'progmetal' 'progressive' 'psychedelic'\n",
      " 'punjabi' 'punk' 'quebecois' 'ragga' 'ram' 'rancheras' 'rap' 'rave'\n",
      " 'reggae' 'reggaeton' 'regional' 'relax' 'religious' 'retro' 'rhythm'\n",
      " 'rnb' 'rnr' 'rock' 'rockabilly' 'rockalternative' 'rockindie' 'rockother'\n",
      " 'romance' 'roots' 'ruspop' 'rusrap' 'rusrock' 'russian' 'salsa' 'samba'\n",
      " 'scenic' 'schlager' 'self' 'sertanejo' 'shanson' 'shoegazing' 'showtunes'\n",
      " 'singer' 'ska' 'skarock' 'slow' 'smooth' 'soft' 'soul' 'soulful' 'sound'\n",
      " 'soundtrack' 'southern' 'specialty' 'speech' 'spiritual' 'sport'\n",
      " 'stonerrock' 'surf' 'swing' 'synthpop' 'synthrock' 'sängerportrait'\n",
      " 'tango' 'tanzorchester' 'taraftar' 'tatar' 'tech' 'techno' 'teen'\n",
      " 'thrash' 'top' 'traditional' 'tradjazz' 'trance' 'tribal' 'trip'\n",
      " 'triphop' 'tropical' 'türk' 'türkçe' 'ukrrock' 'unknown' 'urban' 'uzbek'\n",
      " 'variété' 'vi' 'videogame' 'vocal' 'western' 'world' 'worldbeat' 'ïîï'\n",
      " 'электроника']\n"
     ]
    }
   ],
   "source": [
    "print(df['genre'].sort_values().unique()) # Проверка на неявные дубликаты"
   ]
  },
  {
   "cell_type": "markdown",
   "metadata": {
    "id": "jz6a9-7HQUDd"
   },
   "source": [
    "**Выводы**\n",
    "\n",
    "Предобработка обнаружила три проблемы в данных:\n",
    "\n",
    "- нарушения в стиле заголовков,\n",
    "- пропущенные значения,\n",
    "- дубликаты — явные и неявные.\n",
    "\n",
    "Мы исправили заголовки, чтобы упростить работу с таблицей. Без дубликатов исследование станет более точным.\n",
    "\n",
    "Пропущенные значения мы заменили на `'unknown'`. Ещё предстоит увидеть, не повредят ли исследованию пропуски в колонке `genre`.\n",
    "\n",
    "Теперь можно перейти к проверке гипотез. "
   ]
  },
  {
   "cell_type": "markdown",
   "metadata": {
    "id": "WttZHXH0SqKk"
   },
   "source": [
    "## Проверка гипотез"
   ]
  },
  {
   "cell_type": "markdown",
   "metadata": {
    "id": "Im936VVi_Zcu"
   },
   "source": [
    "### Сравнение поведения пользователей двух столиц"
   ]
  },
  {
   "cell_type": "markdown",
   "metadata": {
    "id": "nwt_MuaL_Zcu"
   },
   "source": [
    "Первая гипотеза утверждает, что пользователи по-разному слушают музыку в Москве и Санкт-Петербурге. Проверем это предположение по данным о трёх днях недели — понедельнике, среде и пятнице. Для этого:\n",
    "\n",
    "* Разделим пользователей Москвы и Санкт-Петербурга\n",
    "* Сравним сколько треков послушала каждая группа пользователей в понедельник, среду и пятницу."
   ]
  },
  {
   "cell_type": "markdown",
   "metadata": {
    "id": "8Dw_YMmT_Zcu"
   },
   "source": [
    "Для тренировки сначала выполним каждый из расчётов по отдельности. \n",
    "\n",
    "Оценим активность пользователей в каждом городе. Сгруппируем данные по городу и посчитаем прослушивания в каждой группе.\n",
    "\n"
   ]
  },
  {
   "cell_type": "code",
   "execution_count": 18,
   "metadata": {
    "id": "0_Qs96oh_Zcu"
   },
   "outputs": [
    {
     "name": "stdout",
     "output_type": "stream",
     "text": [
      "Слушателей из Санкт-Петербурга:18512\n",
      "Слушателей из Москвы:42741\n"
     ]
    }
   ],
   "source": [
    "spb_listner_counter = df[df['city']=='Saint-Petersburg']['city'].count()\n",
    "msk_listner_counter = df[df['city']=='Moscow']['city'].count()\n",
    "\n",
    "print(f'Слушателей из Санкт-Петербурга:{spb_listner_counter}')\n",
    "print(f'Слушателей из Москвы:{ msk_listner_counter}')\n",
    "\n",
    "# Подсчёт прослушиваний в каждом город"
   ]
  },
  {
   "cell_type": "markdown",
   "metadata": {
    "id": "dzli3w8o_Zcu"
   },
   "source": [
    "В Москве прослушиваний больше, чем в Петербурге. Из этого не следует, что московские пользователи чаще слушают музыку. Просто самих пользователей в Москве больше.\n",
    "\n",
    "Теперь сгруппируем данные по дню недели и подсчитаем прослушивания в понедельник, среду и пятницу. Учтем, что в данных есть информация только о прослушиваниях только за эти дни.\n"
   ]
  },
  {
   "cell_type": "code",
   "execution_count": 19,
   "metadata": {
    "id": "uZMKjiJz_Zcu"
   },
   "outputs": [
    {
     "name": "stdout",
     "output_type": "stream",
     "text": [
      "Прослушиваний в понедельник: 21354\n",
      "Прослушиваний в среду: 18059\n",
      "Прослушиваний в пятницу: 21840\n"
     ]
    }
   ],
   "source": [
    "monday_count = df[df['day']=='Monday']['day'].count()\n",
    "wednesday_count = df[df['day']=='Wednesday']['day'].count()\n",
    "friday_count = df[df['day']=='Friday']['day'].count()\n",
    "\n",
    "print(f'Прослушиваний в понедельник: {monday_count}')\n",
    "print(f'Прослушиваний в среду: {wednesday_count}')\n",
    "print(f'Прослушиваний в пятницу: {friday_count}')\n",
    "\n",
    "\n",
    "# Подсчёт прослушиваний в каждый из трёх дней"
   ]
  },
  {
   "cell_type": "markdown",
   "metadata": {
    "id": "cC2tNrlL_Zcu"
   },
   "source": [
    "В среднем пользователи из двух городов менее активны по средам. Но картина может измениться, если рассмотреть каждый город в отдельности."
   ]
  },
  {
   "cell_type": "markdown",
   "metadata": {
    "id": "POzs8bGa_Zcu"
   },
   "source": [
    "Создадим функцию `number_tracks()`, которая посчитает прослушивания для заданного дня и города. Ей понадобятся два параметра:\n",
    "* день недели,\n",
    "* название города.\n",
    "\n",
    "В функции сохраним в переменную строки исходной таблицы, у которых значение:\n",
    "  * в колонке `day` равно параметру `day`,\n",
    "  * в колонке `city` равно параметру `city`.\n",
    "\n",
    "Для этого применим последовательную фильтрацию с логической индексацией.\n",
    "\n",
    "Затем посчитаем значения в столбце `user_id` получившейся таблицы. Результат сохраним в новую переменную. Вернем эту переменную из функции."
   ]
  },
  {
   "cell_type": "code",
   "execution_count": 20,
   "metadata": {
    "id": "Nz3GdQB1_Zcu"
   },
   "outputs": [],
   "source": [
    "\n",
    "def number_tracks(day, city):\n",
    "    track_list = df[df['day']==day]\n",
    "    track_list = track_list[track_list['city']==city] \n",
    "    track_list_count = track_list['user_id'].count()\n",
    "    return track_list_count\n",
    "# <создание функции number_tracks()>\n",
    "# Объявляется функция с двумя параметрами: day, city.\n",
    "# В переменной track_list сохраняются те строки таблицы df, для которых \n",
    "# значение в столбце 'day' равно параметру day и одновременно значение\n",
    "# в столбце 'city' равно параметру city (используйте последовательную фильтрацию\n",
    "# с помощью логической индексации).\n",
    "# В переменной track_list_count сохраняется число значений столбца 'user_id',\n",
    "# рассчитанное методом count() для таблицы track_list.\n",
    "# Функция возвращает число - значение track_list_count.\n",
    "\n",
    "# Функция для подсчёта прослушиваний для конкретного города и дня.\n",
    "# С помощью последовательной фильтрации с логической индексацией она \n",
    "# сначала получит из исходной таблицы строки с нужным днём,\n",
    "# затем из результата отфильтрует строки с нужным городом,\n",
    "# методом count() посчитает количество значений в колонке user_id. \n",
    "# Это количество функция вернёт в качестве результата"
   ]
  },
  {
   "cell_type": "markdown",
   "metadata": {
    "id": "ytf7xFrFJQ2r"
   },
   "source": [
    "Вызовем `number_tracks()` шесть раз, меняя значение параметров — так, чтобы получить данные для каждого города в каждый из трёх дней."
   ]
  },
  {
   "cell_type": "code",
   "execution_count": 21,
   "metadata": {
    "id": "rJcRATNQ_Zcu"
   },
   "outputs": [
    {
     "data": {
      "text/plain": [
       "15740"
      ]
     },
     "execution_count": 21,
     "metadata": {},
     "output_type": "execute_result"
    }
   ],
   "source": [
    "number_tracks('Monday','Moscow') # количество прослушиваний в Москве по понедельникам"
   ]
  },
  {
   "cell_type": "code",
   "execution_count": 22,
   "metadata": {
    "id": "hq_ncZ5T_Zcu"
   },
   "outputs": [
    {
     "data": {
      "text/plain": [
       "5614"
      ]
     },
     "execution_count": 22,
     "metadata": {},
     "output_type": "execute_result"
    }
   ],
   "source": [
    "number_tracks('Monday','Saint-Petersburg') # количество прослушиваний в Санкт-Петербурге по понедельникам"
   ]
  },
  {
   "cell_type": "code",
   "execution_count": 23,
   "metadata": {
    "id": "_NTy2VPU_Zcu"
   },
   "outputs": [
    {
     "data": {
      "text/plain": [
       "11056"
      ]
     },
     "execution_count": 23,
     "metadata": {},
     "output_type": "execute_result"
    }
   ],
   "source": [
    "number_tracks('Wednesday','Moscow') # количество прослушиваний в Москве по средам"
   ]
  },
  {
   "cell_type": "code",
   "execution_count": 24,
   "metadata": {
    "id": "j2y3TAwo_Zcu"
   },
   "outputs": [
    {
     "data": {
      "text/plain": [
       "7003"
      ]
     },
     "execution_count": 24,
     "metadata": {},
     "output_type": "execute_result"
    }
   ],
   "source": [
    "number_tracks('Wednesday','Saint-Petersburg') # количество прослушиваний в Санкт-Петербурге по средам"
   ]
  },
  {
   "cell_type": "code",
   "execution_count": 25,
   "metadata": {
    "id": "vYDw5u_K_Zcu"
   },
   "outputs": [
    {
     "data": {
      "text/plain": [
       "15945"
      ]
     },
     "execution_count": 25,
     "metadata": {},
     "output_type": "execute_result"
    }
   ],
   "source": [
    "number_tracks('Friday','Moscow') # количество прослушиваний в Москве по пятницам"
   ]
  },
  {
   "cell_type": "code",
   "execution_count": 26,
   "metadata": {
    "id": "8_yzFtW3_Zcu"
   },
   "outputs": [
    {
     "data": {
      "text/plain": [
       "5895"
      ]
     },
     "execution_count": 26,
     "metadata": {},
     "output_type": "execute_result"
    }
   ],
   "source": [
    "number_tracks('Friday','Saint-Petersburg') # количество прослушиваний в Санкт-Петербурге по пятницам"
   ]
  },
  {
   "cell_type": "markdown",
   "metadata": {
    "id": "7QXffbO-_Zcu"
   },
   "source": [
    "Создадим c помощью конструктора `pd.DataFrame` таблицу, где\n",
    "* названия колонок — `['city', 'monday', 'wednesday', 'friday']`;\n",
    "* данные — результаты, которые вы получили с помощью `number_tracks`."
   ]
  },
  {
   "cell_type": "code",
   "execution_count": 27,
   "metadata": {
    "id": "APAcLpOr_Zcu"
   },
   "outputs": [
    {
     "data": {
      "text/html": [
       "<div>\n",
       "<style scoped>\n",
       "    .dataframe tbody tr th:only-of-type {\n",
       "        vertical-align: middle;\n",
       "    }\n",
       "\n",
       "    .dataframe tbody tr th {\n",
       "        vertical-align: top;\n",
       "    }\n",
       "\n",
       "    .dataframe thead th {\n",
       "        text-align: right;\n",
       "    }\n",
       "</style>\n",
       "<table border=\"1\" class=\"dataframe\">\n",
       "  <thead>\n",
       "    <tr style=\"text-align: right;\">\n",
       "      <th></th>\n",
       "      <th>city</th>\n",
       "      <th>monday</th>\n",
       "      <th>wednesday</th>\n",
       "      <th>friday</th>\n",
       "    </tr>\n",
       "  </thead>\n",
       "  <tbody>\n",
       "    <tr>\n",
       "      <th>0</th>\n",
       "      <td>Moscow</td>\n",
       "      <td>15740</td>\n",
       "      <td>11056</td>\n",
       "      <td>15945</td>\n",
       "    </tr>\n",
       "    <tr>\n",
       "      <th>1</th>\n",
       "      <td>Saint-Petersburg</td>\n",
       "      <td>5614</td>\n",
       "      <td>7003</td>\n",
       "      <td>5895</td>\n",
       "    </tr>\n",
       "  </tbody>\n",
       "</table>\n",
       "</div>"
      ],
      "text/plain": [
       "               city  monday  wednesday  friday\n",
       "0            Moscow   15740      11056   15945\n",
       "1  Saint-Petersburg    5614       7003    5895"
      ]
     },
     "execution_count": 27,
     "metadata": {},
     "output_type": "execute_result"
    }
   ],
   "source": [
    "columns = ['city', 'monday', 'wednesday', 'friday']\n",
    "data = [['Moscow',15740,11056,15945],['Saint-Petersburg',5614,7003,5895]]\n",
    "pd.DataFrame(columns=columns, data=data)\n",
    "# Таблица с результатами"
   ]
  },
  {
   "cell_type": "markdown",
   "metadata": {
    "id": "-EgPIHYu_Zcu"
   },
   "source": [
    "**Выводы**\n",
    "\n",
    "Данные показывают разницу поведения пользователей:\n",
    "\n",
    "- В Москве пик прослушиваний приходится на понедельник и пятницу, а в среду заметен спад.\n",
    "- В Петербурге, наоборот, больше слушают музыку по средам. Активность в понедельник и пятницу здесь почти в равной мере уступает среде.\n",
    "\n",
    "Значит, данные говорят в пользу первой гипотезы."
   ]
  },
  {
   "cell_type": "markdown",
   "metadata": {
    "id": "atZAxtq4_Zcu"
   },
   "source": [
    "### Музыка в начале и в конце недели"
   ]
  },
  {
   "cell_type": "markdown",
   "metadata": {
    "id": "eXrQqXFH_Zcu"
   },
   "source": [
    "Согласно второй гипотезе, утром в понедельник в Москве преобладают одни жанры, а в Петербурге — другие. Так же и вечером пятницы преобладают разные жанры — в зависимости от города."
   ]
  },
  {
   "cell_type": "markdown",
   "metadata": {
    "id": "S8UcW6Hw_Zcu"
   },
   "source": [
    "Сохраним таблицы с данными в две переменные:\n",
    "* по Москве — в `moscow_general`;\n",
    "* по Санкт-Петербургу — в `spb_general`."
   ]
  },
  {
   "cell_type": "code",
   "execution_count": 28,
   "metadata": {
    "id": "qeaFfM_P_Zcu"
   },
   "outputs": [],
   "source": [
    "moscow_general = df[df['city']=='Moscow'] \n",
    "# получение таблицы moscow_general из тех строк таблицы df, \n",
    "# для которых значение в столбце 'city' равно 'Moscow'\n"
   ]
  },
  {
   "cell_type": "code",
   "execution_count": 29,
   "metadata": {
    "id": "ORaVRKto_Zcu"
   },
   "outputs": [],
   "source": [
    "spb_general = df[df['city']=='Saint-Petersburg']\n",
    "# получение таблицы spb_general из тех строк таблицы df,\n",
    "# для которых значение в столбце 'city' равно 'Saint-Petersburg'\n"
   ]
  },
  {
   "cell_type": "markdown",
   "metadata": {
    "id": "MEJV-CX2_Zcu"
   },
   "source": [
    "Создадим функцию `genre_weekday()` с четырьмя параметрами:\n",
    "* таблица (датафрейм) с данными,\n",
    "* день недели,\n",
    "* начальная временная метка в формате 'hh:mm', \n",
    "* последняя временная метка в формате 'hh:mm'.\n",
    "\n",
    "Функция должна вернуть информацию о топ-10 жанров тех треков, которые прослушивали в указанный день, в промежутке между двумя отметками времени."
   ]
  },
  {
   "cell_type": "code",
   "execution_count": 30,
   "metadata": {
    "id": "laJT9BYl_Zcu"
   },
   "outputs": [],
   "source": [
    "def genre_weekday(table, day, time1, time2):\n",
    "    genre_df = table[table['day'] == day]\n",
    "    genre_df = genre_df[genre_df['time'] > time1]\n",
    "    genre_df = genre_df[genre_df['time'] < time2]\n",
    "    genre_df_count = genre_df.groupby('genre')['user_id'].count()\n",
    "    genre_df_sorted = genre_df_count.sort_values(ascending=False)\n",
    "    return genre_df_sorted.head(10) \n",
    "\n"
   ]
  },
  {
   "cell_type": "markdown",
   "metadata": {
    "id": "la2s2_PF_Zcu"
   },
   "source": [
    "Cравним результаты функции `genre_weekday()` для Москвы и Санкт-Петербурга в понедельник утром (с 7:00 до 11:00) и в пятницу вечером (с 17:00 до 23:00):"
   ]
  },
  {
   "cell_type": "code",
   "execution_count": 31,
   "metadata": {
    "id": "yz7itPUQ_Zcu"
   },
   "outputs": [
    {
     "data": {
      "text/plain": [
       "genre\n",
       "pop            781\n",
       "dance          549\n",
       "electronic     480\n",
       "rock           474\n",
       "hiphop         286\n",
       "ruspop         186\n",
       "world          181\n",
       "rusrap         175\n",
       "alternative    164\n",
       "unknown        161\n",
       "Name: user_id, dtype: int64"
      ]
     },
     "execution_count": 31,
     "metadata": {},
     "output_type": "execute_result"
    }
   ],
   "source": [
    "genre_weekday(moscow_general, 'Monday', '07:00','11:00') \n",
    "# вызов функции для утра понедельника в Москве (вместо df — таблица moscow_general)\n",
    "# объекты, хранящие время, являются строками и сравниваются как строки\n",
    "# пример вызова: genre_weekday(moscow_general, 'Monday', '07:00', '11:00')"
   ]
  },
  {
   "cell_type": "code",
   "execution_count": 32,
   "metadata": {
    "id": "kwUcHPdy_Zcu"
   },
   "outputs": [
    {
     "data": {
      "text/plain": [
       "genre\n",
       "pop            218\n",
       "dance          182\n",
       "rock           162\n",
       "electronic     147\n",
       "hiphop          80\n",
       "ruspop          64\n",
       "alternative     58\n",
       "rusrap          55\n",
       "jazz            44\n",
       "classical       40\n",
       "Name: user_id, dtype: int64"
      ]
     },
     "execution_count": 32,
     "metadata": {},
     "output_type": "execute_result"
    }
   ],
   "source": [
    "genre_weekday(spb_general, 'Monday', '07:00','11:00') # вызов функции для утра понедельника в Петербурге (вместо df — таблица spb_general)"
   ]
  },
  {
   "cell_type": "code",
   "execution_count": 33,
   "metadata": {
    "id": "EzXVRE1o_Zcu"
   },
   "outputs": [
    {
     "data": {
      "text/plain": [
       "genre\n",
       "pop            713\n",
       "rock           517\n",
       "dance          495\n",
       "electronic     482\n",
       "hiphop         273\n",
       "world          208\n",
       "ruspop         170\n",
       "alternative    163\n",
       "classical      163\n",
       "rusrap         142\n",
       "Name: user_id, dtype: int64"
      ]
     },
     "execution_count": 33,
     "metadata": {},
     "output_type": "execute_result"
    }
   ],
   "source": [
    "genre_weekday(moscow_general, 'Friday', '17:00','23:00') \n",
    "# вызов функции для вечера пятницы в Москве"
   ]
  },
  {
   "cell_type": "code",
   "execution_count": 34,
   "metadata": {
    "id": "JZaEKu5v_Zcu"
   },
   "outputs": [
    {
     "data": {
      "text/plain": [
       "genre\n",
       "pop            256\n",
       "electronic     216\n",
       "rock           216\n",
       "dance          210\n",
       "hiphop          97\n",
       "alternative     63\n",
       "jazz            61\n",
       "classical       60\n",
       "rusrap          59\n",
       "world           54\n",
       "Name: user_id, dtype: int64"
      ]
     },
     "execution_count": 34,
     "metadata": {},
     "output_type": "execute_result"
    }
   ],
   "source": [
    "genre_weekday(spb_general, 'Friday', '17:00','23:00') # вызов функции для вечера пятницы в Петербурге"
   ]
  },
  {
   "cell_type": "markdown",
   "metadata": {
    "id": "wrCe4MNX_Zcu"
   },
   "source": [
    "**Выводы**\n",
    "\n",
    "Если сравнить топ-10 жанров в понедельник утром, можно сделать такие выводы:\n",
    "\n",
    "1. В Москве и Петербурге слушают похожую музыку. Единственное отличие — в московский рейтинг вошёл жанр “world”, а в петербургский — джаз и классика.\n",
    "\n",
    "2. В Москве пропущенных значений оказалось так много, что значение `'unknown'` заняло десятое место среди самых популярных жанров. Значит, пропущенные значения занимают существенную долю в данных и угрожают достоверности исследования.\n",
    "\n",
    "Вечер пятницы не меняет эту картину. Некоторые жанры поднимаются немного выше, другие спускаются, но в целом топ-10 остаётся тем же самым.\n",
    "\n",
    "Таким образом, вторая гипотеза подтвердилась лишь частично:\n",
    "* Пользователи слушают похожую музыку в начале недели и в конце.\n",
    "* Разница между Москвой и Петербургом не слишком выражена. В Москве чаще слушают русскую популярную музыку, в Петербурге — джаз.\n",
    "\n",
    "Однако пропуски в данных ставят под сомнение этот результат. В Москве их так много, что рейтинг топ-10 мог бы выглядеть иначе, если бы не утерянные  данные о жанрах."
   ]
  },
  {
   "cell_type": "markdown",
   "metadata": {
    "id": "JolODAqr_Zcu"
   },
   "source": [
    "### Жанровые предпочтения в Москве и Петербурге\n",
    "\n",
    "Гипотеза: Петербург — столица рэпа, музыку этого жанра там слушают чаще, чем в Москве.  А Москва — город контрастов, в котором, тем не менее, преобладает поп-музыка."
   ]
  },
  {
   "cell_type": "markdown",
   "metadata": {
    "id": "DlegSvaT_Zcu"
   },
   "source": [
    "Сгруппируем таблицу `moscow_general` по жанру и посчитаем прослушивания треков каждого жанра методом `count()`. Затем отсортируем результат в порядке убывания и сохраните его в таблице `moscow_genres`."
   ]
  },
  {
   "cell_type": "code",
   "execution_count": 35,
   "metadata": {
    "id": "r19lIPke_Zcu"
   },
   "outputs": [],
   "source": [
    "moscow_genres = moscow_general.groupby('genre')['user_id'].count()\n",
    "moscow_genres = moscow_genres.sort_values(ascending = False)\n",
    "# одной строкой: группировка таблицы moscow_general по столбцу 'genre', \n",
    "# подсчёт числа значений 'genre' в этой группировке методом count(), \n",
    "# сортировка получившегося Series в порядке убывания и сохранение в moscow_genres"
   ]
  },
  {
   "cell_type": "markdown",
   "metadata": {
    "id": "6kMuomxTiIr8"
   },
   "source": [
    "Выведите на экран первые десять строк `moscow_genres`:"
   ]
  },
  {
   "cell_type": "code",
   "execution_count": 36,
   "metadata": {
    "id": "WhCSooF8_Zcv"
   },
   "outputs": [
    {
     "data": {
      "text/plain": [
       "genre\n",
       "pop            5892\n",
       "dance          4435\n",
       "rock           3965\n",
       "electronic     3786\n",
       "hiphop         2096\n",
       "classical      1616\n",
       "world          1432\n",
       "alternative    1379\n",
       "ruspop         1372\n",
       "rusrap         1161\n",
       "Name: user_id, dtype: int64"
      ]
     },
     "execution_count": 36,
     "metadata": {},
     "output_type": "execute_result"
    }
   ],
   "source": [
    "moscow_genres.head(10) # просмотр первых 10 строк moscow_genres"
   ]
  },
  {
   "cell_type": "markdown",
   "metadata": {
    "id": "cnPG2vnN_Zcv"
   },
   "source": [
    "Теперь повторим то же и для Петербурга.\n",
    "Сгруппируем таблицу `spb_general` по жанру. Посчитаем прослушивания треков каждого жанра. Результат отсортируем в порядке убывания и сохраним в таблице `spb_genres`:\n"
   ]
  },
  {
   "cell_type": "code",
   "execution_count": 37,
   "metadata": {
    "id": "gluLIpE7_Zcv"
   },
   "outputs": [],
   "source": [
    "spb_genres = spb_general.groupby('genre')['user_id'].count()\n",
    "spb_genres = spb_genres.sort_values(ascending = False)\n",
    "# одной строкой: группировка таблицы spb_general по столбцу 'genre', \n",
    "# подсчёт числа значений 'genre' в этой группировке методом count(), \n",
    "# сортировка получившегося Series в порядке убывания и сохранение в spb_genres"
   ]
  },
  {
   "cell_type": "markdown",
   "metadata": {
    "id": "5Doha_ODgyQ8"
   },
   "source": [
    "Выведим на экран первые десять строк `spb_genres`:"
   ]
  },
  {
   "cell_type": "code",
   "execution_count": 38,
   "metadata": {
    "id": "uaGJHjVU_Zcv"
   },
   "outputs": [
    {
     "data": {
      "text/plain": [
       "genre\n",
       "pop            2431\n",
       "dance          1932\n",
       "rock           1879\n",
       "electronic     1736\n",
       "hiphop          960\n",
       "alternative     649\n",
       "classical       646\n",
       "rusrap          564\n",
       "ruspop          538\n",
       "world           515\n",
       "Name: user_id, dtype: int64"
      ]
     },
     "execution_count": 38,
     "metadata": {},
     "output_type": "execute_result"
    }
   ],
   "source": [
    "spb_genres.head(10) # просмотр первых 10 строк spb_genres"
   ]
  },
  {
   "cell_type": "markdown",
   "metadata": {
    "id": "RY51YJYu_Zcv"
   },
   "source": [
    "**Выводы**"
   ]
  },
  {
   "cell_type": "markdown",
   "metadata": {
    "id": "nVhnJEm__Zcv"
   },
   "source": [
    "Гипотеза частично подтвердилась:\n",
    "* Поп-музыка — самый популярный жанр в Москве, как и предполагала гипотеза. Более того, в топ-10 жанров встречается близкий жанр — русская популярная музыка.\n",
    "* Вопреки ожиданиям, рэп одинаково популярен в Москве и Петербурге. \n"
   ]
  },
  {
   "cell_type": "markdown",
   "metadata": {
    "id": "ykKQ0N65_Zcv"
   },
   "source": [
    "## Итоги исследования"
   ]
  },
  {
   "cell_type": "markdown",
   "metadata": {
    "id": "tjUwbHb3_Zcv"
   },
   "source": [
    "Мы проверили три гипотезы и установили:\n",
    "\n",
    "1. День недели по-разному влияет на активность пользователей в Москве и Петербурге. \n",
    "\n",
    "Первая гипотеза полностью подтвердилась.\n",
    "\n",
    "2. Музыкальные предпочтения не сильно меняются в течение недели — будь то Москва или Петербург. Небольшие различия заметны в начале недели, по понедельникам:\n",
    "* в Москве слушают музыку жанра “world”,\n",
    "* в Петербурге — джаз и классику.\n",
    "\n",
    "Таким образом, вторая гипотеза подтвердилась лишь отчасти. Этот результат мог оказаться иным, если бы не пропуски в данных.\n",
    "\n",
    "3. Во вкусах пользователей Москвы и Петербурга больше общего чем различий. Вопреки ожиданиям, предпочтения жанров в Петербурге напоминают московские.\n",
    "\n",
    "Третья гипотеза не подтвердилась. Если различия в предпочтениях и существуют, на основной массе пользователей они незаметны.\n",
    "\n",
    "**На практике исследования содержат проверки статистических гипотез.**\n",
    "Из данных одного сервиса не всегда можно сделать вывод о всех жителях города.\n",
    "Проверки статистических гипотез покажут, насколько они достоверны, исходя из имеющихся данных. \n",
    "Методаы проверок гипотез ещё встрется в следующих проектах."
   ]
  }
 ],
 "metadata": {
  "ExecuteTimeLog": [
   {
    "duration": 776,
    "start_time": "2021-11-12T07:48:26.660Z"
   },
   {
    "duration": 124,
    "start_time": "2021-11-12T07:51:13.601Z"
   },
   {
    "duration": 418,
    "start_time": "2021-11-12T07:51:28.404Z"
   },
   {
    "duration": 109,
    "start_time": "2021-11-12T07:51:49.436Z"
   },
   {
    "duration": 190,
    "start_time": "2021-11-12T07:54:09.510Z"
   },
   {
    "duration": 111,
    "start_time": "2021-11-12T07:54:47.124Z"
   },
   {
    "duration": 29,
    "start_time": "2021-11-12T07:54:51.059Z"
   },
   {
    "duration": 33,
    "start_time": "2021-11-12T07:55:31.889Z"
   },
   {
    "duration": 32,
    "start_time": "2021-11-12T07:55:41.970Z"
   },
   {
    "duration": 34,
    "start_time": "2021-11-12T07:55:43.636Z"
   },
   {
    "duration": 36,
    "start_time": "2021-11-12T07:55:44.793Z"
   },
   {
    "duration": 35,
    "start_time": "2021-11-12T07:55:55.435Z"
   },
   {
    "duration": 323,
    "start_time": "2021-11-12T08:04:20.233Z"
   },
   {
    "duration": 314,
    "start_time": "2021-11-12T08:04:36.653Z"
   },
   {
    "duration": 6,
    "start_time": "2021-11-12T08:04:44.461Z"
   },
   {
    "duration": 4,
    "start_time": "2021-11-12T08:04:53.542Z"
   },
   {
    "duration": 302,
    "start_time": "2021-11-12T08:21:44.627Z"
   },
   {
    "duration": 5,
    "start_time": "2021-11-12T08:22:07.863Z"
   },
   {
    "duration": 6,
    "start_time": "2021-11-12T08:23:10.047Z"
   },
   {
    "duration": 6,
    "start_time": "2021-11-12T08:24:11.198Z"
   },
   {
    "duration": 6,
    "start_time": "2021-11-12T08:24:13.453Z"
   },
   {
    "duration": 6,
    "start_time": "2021-11-12T08:24:38.514Z"
   },
   {
    "duration": 5,
    "start_time": "2021-11-12T08:24:40.305Z"
   },
   {
    "duration": 6,
    "start_time": "2021-11-12T08:26:36.804Z"
   },
   {
    "duration": 5,
    "start_time": "2021-11-12T08:26:53.539Z"
   },
   {
    "duration": 4,
    "start_time": "2021-11-12T08:28:14.148Z"
   },
   {
    "duration": 27,
    "start_time": "2021-11-12T08:29:28.420Z"
   },
   {
    "duration": 28,
    "start_time": "2021-11-12T08:29:34.182Z"
   },
   {
    "duration": 5,
    "start_time": "2021-11-12T08:29:37.351Z"
   },
   {
    "duration": 48,
    "start_time": "2021-11-12T08:32:16.565Z"
   },
   {
    "duration": 20,
    "start_time": "2021-11-12T08:37:15.695Z"
   },
   {
    "duration": 4,
    "start_time": "2021-11-12T08:39:14.397Z"
   },
   {
    "duration": 30,
    "start_time": "2021-11-12T08:39:41.617Z"
   },
   {
    "duration": 4,
    "start_time": "2021-11-12T08:39:59.795Z"
   },
   {
    "duration": 31,
    "start_time": "2021-11-12T08:40:03.284Z"
   },
   {
    "duration": 21,
    "start_time": "2021-11-12T08:40:22.992Z"
   },
   {
    "duration": 44,
    "start_time": "2021-11-12T08:40:26.559Z"
   },
   {
    "duration": 27,
    "start_time": "2021-11-12T08:42:03.539Z"
   },
   {
    "duration": 29,
    "start_time": "2021-11-12T08:42:05.532Z"
   },
   {
    "duration": 22,
    "start_time": "2021-11-12T08:43:37.712Z"
   },
   {
    "duration": 48,
    "start_time": "2021-11-12T08:43:39.880Z"
   },
   {
    "duration": 84,
    "start_time": "2021-11-12T08:43:53.898Z"
   },
   {
    "duration": 79,
    "start_time": "2021-11-12T08:44:14.588Z"
   },
   {
    "duration": 82,
    "start_time": "2021-11-12T08:44:27.661Z"
   },
   {
    "duration": 81,
    "start_time": "2021-11-12T08:44:36.237Z"
   },
   {
    "duration": 100,
    "start_time": "2021-11-12T08:45:55.434Z"
   },
   {
    "duration": 96,
    "start_time": "2021-11-12T08:46:56.809Z"
   },
   {
    "duration": 102,
    "start_time": "2021-11-12T08:47:33.901Z"
   },
   {
    "duration": 82,
    "start_time": "2021-11-12T08:47:37.949Z"
   },
   {
    "duration": 94,
    "start_time": "2021-11-12T08:48:25.094Z"
   },
   {
    "duration": 77,
    "start_time": "2021-11-12T08:48:29.996Z"
   },
   {
    "duration": 330,
    "start_time": "2021-11-12T08:49:42.725Z"
   },
   {
    "duration": 10,
    "start_time": "2021-11-12T08:50:02.961Z"
   },
   {
    "duration": 66,
    "start_time": "2021-11-12T08:55:15.746Z"
   },
   {
    "duration": 112,
    "start_time": "2021-11-12T09:02:44.205Z"
   },
   {
    "duration": 5,
    "start_time": "2021-11-12T09:03:28.451Z"
   },
   {
    "duration": 660,
    "start_time": "2021-11-12T09:05:21.022Z"
   },
   {
    "duration": 5,
    "start_time": "2021-11-12T09:09:40.057Z"
   },
   {
    "duration": 11245,
    "start_time": "2021-11-12T09:09:41.916Z"
   },
   {
    "duration": 5,
    "start_time": "2021-11-12T09:10:29.651Z"
   },
   {
    "duration": 10251,
    "start_time": "2021-11-12T09:10:32.761Z"
   },
   {
    "duration": 112,
    "start_time": "2021-11-12T09:12:33.190Z"
   },
   {
    "duration": 5,
    "start_time": "2021-11-12T09:12:36.768Z"
   },
   {
    "duration": 10032,
    "start_time": "2021-11-12T09:12:39.443Z"
   },
   {
    "duration": 5,
    "start_time": "2021-11-12T09:13:59.978Z"
   },
   {
    "duration": 673,
    "start_time": "2021-11-12T09:14:02.902Z"
   },
   {
    "duration": 3,
    "start_time": "2021-11-12T09:14:27.624Z"
   },
   {
    "duration": 8289,
    "start_time": "2021-11-12T09:14:30.502Z"
   },
   {
    "duration": 5,
    "start_time": "2021-11-12T09:16:25.557Z"
   },
   {
    "duration": 12957,
    "start_time": "2021-11-12T09:16:27.616Z"
   },
   {
    "duration": 4,
    "start_time": "2021-11-12T09:17:25.548Z"
   },
   {
    "duration": 8438,
    "start_time": "2021-11-12T09:17:28.797Z"
   },
   {
    "duration": 5,
    "start_time": "2021-11-12T09:19:36.403Z"
   },
   {
    "duration": 8065,
    "start_time": "2021-11-12T09:19:39.021Z"
   },
   {
    "duration": 4,
    "start_time": "2021-11-12T09:43:08.666Z"
   },
   {
    "duration": 615,
    "start_time": "2021-11-12T09:43:11.955Z"
   },
   {
    "duration": 5,
    "start_time": "2021-11-12T09:48:47.989Z"
   },
   {
    "duration": 660,
    "start_time": "2021-11-12T09:49:18.611Z"
   },
   {
    "duration": 4,
    "start_time": "2021-11-12T09:52:17.912Z"
   },
   {
    "duration": 4403,
    "start_time": "2021-11-12T09:52:21.888Z"
   },
   {
    "duration": 4330,
    "start_time": "2021-11-12T09:53:17.009Z"
   },
   {
    "duration": 365,
    "start_time": "2021-11-12T09:54:01.380Z"
   },
   {
    "duration": 4384,
    "start_time": "2021-11-12T09:54:09.932Z"
   },
   {
    "duration": 4893,
    "start_time": "2021-11-12T09:55:10.774Z"
   },
   {
    "duration": 6322,
    "start_time": "2021-11-12T10:00:20.550Z"
   },
   {
    "duration": 5044,
    "start_time": "2021-11-12T10:03:35.788Z"
   },
   {
    "duration": 8484,
    "start_time": "2021-11-12T10:04:53.335Z"
   },
   {
    "duration": 4508,
    "start_time": "2021-11-12T10:05:19.818Z"
   },
   {
    "duration": 5,
    "start_time": "2021-11-12T10:18:14.226Z"
   },
   {
    "duration": 11,
    "start_time": "2021-11-12T10:18:17.851Z"
   },
   {
    "duration": 57,
    "start_time": "2021-11-12T10:18:34.157Z"
   },
   {
    "duration": 4,
    "start_time": "2021-11-12T10:21:30.077Z"
   },
   {
    "duration": 15,
    "start_time": "2021-11-12T10:21:33.275Z"
   },
   {
    "duration": 55,
    "start_time": "2021-11-12T10:22:05.231Z"
   },
   {
    "duration": 429,
    "start_time": "2021-11-12T10:36:49.007Z"
   },
   {
    "duration": 7638,
    "start_time": "2021-11-12T10:37:03.730Z"
   },
   {
    "duration": 9061,
    "start_time": "2021-11-12T10:39:23.851Z"
   },
   {
    "duration": 8355,
    "start_time": "2021-11-12T10:45:03.605Z"
   },
   {
    "duration": 4085,
    "start_time": "2021-11-12T10:45:53.211Z"
   },
   {
    "duration": 199,
    "start_time": "2021-11-12T10:46:25.576Z"
   },
   {
    "duration": 1315,
    "start_time": "2021-11-12T10:46:54.820Z"
   },
   {
    "duration": 16,
    "start_time": "2021-11-12T11:06:37.285Z"
   },
   {
    "duration": 3924,
    "start_time": "2021-11-12T11:09:22.397Z"
   },
   {
    "duration": 102,
    "start_time": "2021-11-12T11:10:08.829Z"
   },
   {
    "duration": 100,
    "start_time": "2021-11-12T11:12:38.682Z"
   },
   {
    "duration": 115,
    "start_time": "2021-11-12T11:13:12.547Z"
   },
   {
    "duration": 3959,
    "start_time": "2021-11-12T11:13:20.819Z"
   },
   {
    "duration": 50,
    "start_time": "2021-11-12T11:14:14.034Z"
   },
   {
    "duration": 52,
    "start_time": "2021-11-12T11:14:44.318Z"
   },
   {
    "duration": 57,
    "start_time": "2021-11-12T11:15:00.079Z"
   },
   {
    "duration": 56,
    "start_time": "2021-11-12T11:15:51.208Z"
   },
   {
    "duration": 45,
    "start_time": "2021-11-12T11:16:05.134Z"
   },
   {
    "duration": 36,
    "start_time": "2021-11-12T11:16:14.580Z"
   },
   {
    "duration": 30,
    "start_time": "2021-11-12T11:29:20.389Z"
   },
   {
    "duration": 105,
    "start_time": "2021-11-12T11:33:59.543Z"
   },
   {
    "duration": 104,
    "start_time": "2021-11-12T11:34:16.896Z"
   },
   {
    "duration": 349,
    "start_time": "2021-11-12T11:35:23.506Z"
   },
   {
    "duration": 331,
    "start_time": "2021-11-12T11:36:32.020Z"
   },
   {
    "duration": 321,
    "start_time": "2021-11-12T11:37:36.298Z"
   },
   {
    "duration": 326,
    "start_time": "2021-11-12T11:38:29.569Z"
   },
   {
    "duration": 7629,
    "start_time": "2021-11-12T11:39:18.626Z"
   },
   {
    "duration": 440,
    "start_time": "2021-11-12T11:40:09.062Z"
   },
   {
    "duration": 38,
    "start_time": "2021-11-12T13:06:24.745Z"
   },
   {
    "duration": 37,
    "start_time": "2021-11-12T13:06:48.495Z"
   },
   {
    "duration": 49,
    "start_time": "2021-11-12T13:16:56.386Z"
   },
   {
    "duration": 109,
    "start_time": "2021-11-12T13:18:08.351Z"
   },
   {
    "duration": 115,
    "start_time": "2021-11-12T13:18:20.230Z"
   },
   {
    "duration": 114,
    "start_time": "2021-11-12T13:18:59.060Z"
   },
   {
    "duration": 114,
    "start_time": "2021-11-12T13:19:18.587Z"
   },
   {
    "duration": 31,
    "start_time": "2021-11-12T13:20:45.583Z"
   },
   {
    "duration": 104,
    "start_time": "2021-11-12T13:21:18.077Z"
   },
   {
    "duration": 30,
    "start_time": "2021-11-12T13:21:24.724Z"
   },
   {
    "duration": 39,
    "start_time": "2021-11-12T13:22:58.619Z"
   },
   {
    "duration": 3,
    "start_time": "2021-11-12T13:23:05.929Z"
   },
   {
    "duration": 5,
    "start_time": "2021-11-12T13:40:14.740Z"
   },
   {
    "duration": 28,
    "start_time": "2021-11-12T13:48:54.085Z"
   },
   {
    "duration": 5,
    "start_time": "2021-11-12T13:49:07.815Z"
   },
   {
    "duration": 33,
    "start_time": "2021-11-12T13:49:10.631Z"
   },
   {
    "duration": 27,
    "start_time": "2021-11-12T13:50:25.123Z"
   },
   {
    "duration": 31,
    "start_time": "2021-11-12T13:50:27.986Z"
   },
   {
    "duration": 26,
    "start_time": "2021-11-12T13:50:30.031Z"
   },
   {
    "duration": 31,
    "start_time": "2021-11-12T13:50:32.217Z"
   },
   {
    "duration": 25,
    "start_time": "2021-11-12T13:50:33.647Z"
   },
   {
    "duration": 5,
    "start_time": "2021-11-12T13:57:22.183Z"
   },
   {
    "duration": 22,
    "start_time": "2021-11-12T13:57:24.840Z"
   },
   {
    "duration": 20,
    "start_time": "2021-11-12T13:57:26.190Z"
   },
   {
    "duration": 20,
    "start_time": "2021-11-12T13:57:27.055Z"
   },
   {
    "duration": 20,
    "start_time": "2021-11-12T13:57:27.663Z"
   },
   {
    "duration": 24,
    "start_time": "2021-11-12T13:57:28.263Z"
   },
   {
    "duration": 19,
    "start_time": "2021-11-12T13:57:28.718Z"
   },
   {
    "duration": 326,
    "start_time": "2021-11-12T14:11:32.491Z"
   },
   {
    "duration": 407,
    "start_time": "2021-11-12T14:11:45.365Z"
   },
   {
    "duration": 394,
    "start_time": "2021-11-12T14:12:54.775Z"
   },
   {
    "duration": 13,
    "start_time": "2021-11-12T14:13:00.488Z"
   },
   {
    "duration": 12,
    "start_time": "2021-11-12T14:13:17.687Z"
   },
   {
    "duration": 12,
    "start_time": "2021-11-12T14:13:30.061Z"
   },
   {
    "duration": 4,
    "start_time": "2021-11-13T08:34:22.430Z"
   },
   {
    "duration": 220,
    "start_time": "2021-11-13T08:35:44.676Z"
   },
   {
    "duration": 96,
    "start_time": "2021-11-13T08:35:56.341Z"
   },
   {
    "duration": 56,
    "start_time": "2021-11-13T08:36:01.793Z"
   },
   {
    "duration": 4,
    "start_time": "2021-11-13T08:36:03.701Z"
   },
   {
    "duration": 4,
    "start_time": "2021-11-13T08:36:46.972Z"
   },
   {
    "duration": 208,
    "start_time": "2021-11-13T08:36:49.133Z"
   },
   {
    "duration": 515,
    "start_time": "2021-11-13T08:37:08.632Z"
   },
   {
    "duration": 126,
    "start_time": "2021-11-13T08:37:10.119Z"
   },
   {
    "duration": 15,
    "start_time": "2021-11-13T08:37:10.754Z"
   },
   {
    "duration": 24,
    "start_time": "2021-11-13T08:37:11.156Z"
   },
   {
    "duration": 3,
    "start_time": "2021-11-13T08:37:11.977Z"
   },
   {
    "duration": 21,
    "start_time": "2021-11-13T08:37:12.325Z"
   },
   {
    "duration": 4,
    "start_time": "2021-11-13T08:37:12.634Z"
   },
   {
    "duration": 22,
    "start_time": "2021-11-13T08:37:12.977Z"
   },
   {
    "duration": 17,
    "start_time": "2021-11-13T08:37:13.463Z"
   },
   {
    "duration": 33,
    "start_time": "2021-11-13T08:37:13.761Z"
   },
   {
    "duration": 57,
    "start_time": "2021-11-13T08:37:14.079Z"
   },
   {
    "duration": 65,
    "start_time": "2021-11-13T08:37:14.501Z"
   },
   {
    "duration": 50,
    "start_time": "2021-11-13T08:37:14.832Z"
   },
   {
    "duration": 41,
    "start_time": "2021-11-13T08:37:15.318Z"
   },
   {
    "duration": 3,
    "start_time": "2021-11-13T08:37:15.654Z"
   },
   {
    "duration": 11,
    "start_time": "2021-11-13T08:37:16.016Z"
   },
   {
    "duration": 37,
    "start_time": "2021-11-13T08:37:16.349Z"
   },
   {
    "duration": 22,
    "start_time": "2021-11-13T08:37:17.781Z"
   },
   {
    "duration": 3,
    "start_time": "2021-11-13T08:37:18.140Z"
   },
   {
    "duration": 28,
    "start_time": "2021-11-13T08:37:18.543Z"
   },
   {
    "duration": 5,
    "start_time": "2021-11-13T08:37:19.120Z"
   },
   {
    "duration": 17,
    "start_time": "2021-11-13T08:37:19.524Z"
   },
   {
    "duration": 15,
    "start_time": "2021-11-13T08:37:19.724Z"
   },
   {
    "duration": 16,
    "start_time": "2021-11-13T08:37:19.907Z"
   },
   {
    "duration": 15,
    "start_time": "2021-11-13T08:37:20.077Z"
   },
   {
    "duration": 17,
    "start_time": "2021-11-13T08:37:20.267Z"
   },
   {
    "duration": 14,
    "start_time": "2021-11-13T08:37:20.436Z"
   },
   {
    "duration": 9,
    "start_time": "2021-11-13T08:37:22.581Z"
   },
   {
    "duration": 63,
    "start_time": "2021-11-13T08:37:27.869Z"
   },
   {
    "duration": 67,
    "start_time": "2021-11-13T08:37:28.572Z"
   },
   {
    "duration": 4,
    "start_time": "2021-11-13T08:37:30.058Z"
   },
   {
    "duration": 191,
    "start_time": "2021-11-13T08:37:31.260Z"
   },
   {
    "duration": 3,
    "start_time": "2021-11-13T08:37:31.818Z"
   },
   {
    "duration": 10,
    "start_time": "2021-11-13T08:37:44.407Z"
   },
   {
    "duration": 63,
    "start_time": "2021-11-13T08:37:48.188Z"
   },
   {
    "duration": 9,
    "start_time": "2021-11-13T08:37:52.391Z"
   },
   {
    "duration": 4,
    "start_time": "2021-11-13T08:37:54.050Z"
   },
   {
    "duration": 343,
    "start_time": "2021-11-13T08:37:57.266Z"
   },
   {
    "duration": 4,
    "start_time": "2021-11-13T08:39:14.505Z"
   },
   {
    "duration": 10,
    "start_time": "2021-11-13T08:39:17.673Z"
   },
   {
    "duration": 9,
    "start_time": "2021-11-13T08:40:46.976Z"
   },
   {
    "duration": 9,
    "start_time": "2021-11-13T08:44:19.164Z"
   },
   {
    "duration": 9,
    "start_time": "2021-11-13T08:45:15.062Z"
   },
   {
    "duration": 11,
    "start_time": "2021-11-13T08:45:25.842Z"
   },
   {
    "duration": 16,
    "start_time": "2021-11-13T08:45:44.848Z"
   },
   {
    "duration": 14,
    "start_time": "2021-11-13T08:46:10.022Z"
   },
   {
    "duration": 3,
    "start_time": "2021-11-13T08:50:44.462Z"
   },
   {
    "duration": 382,
    "start_time": "2021-11-13T08:50:46.634Z"
   },
   {
    "duration": 4,
    "start_time": "2021-11-13T08:51:31.036Z"
   },
   {
    "duration": 364,
    "start_time": "2021-11-13T08:51:32.468Z"
   },
   {
    "duration": 6,
    "start_time": "2021-11-13T08:55:41.914Z"
   },
   {
    "duration": 5744,
    "start_time": "2021-11-13T08:55:45.209Z"
   },
   {
    "duration": 3,
    "start_time": "2021-11-13T08:56:53.996Z"
   },
   {
    "duration": 5069,
    "start_time": "2021-11-13T08:56:56.975Z"
   },
   {
    "duration": 4,
    "start_time": "2021-11-13T08:58:01.931Z"
   },
   {
    "duration": 9,
    "start_time": "2021-11-13T08:58:03.863Z"
   },
   {
    "duration": 10,
    "start_time": "2021-11-13T08:58:15.676Z"
   },
   {
    "duration": 4,
    "start_time": "2021-11-13T09:10:45.860Z"
   },
   {
    "duration": 337,
    "start_time": "2021-11-13T09:10:48.840Z"
   },
   {
    "duration": 5,
    "start_time": "2021-11-13T09:14:14.739Z"
   },
   {
    "duration": 4,
    "start_time": "2021-11-13T09:14:17.201Z"
   },
   {
    "duration": 4,
    "start_time": "2021-11-13T09:14:24.211Z"
   },
   {
    "duration": 3,
    "start_time": "2021-11-13T09:14:27.315Z"
   },
   {
    "duration": 5,
    "start_time": "2021-11-13T09:14:32.345Z"
   },
   {
    "duration": 4,
    "start_time": "2021-11-13T09:14:38.864Z"
   },
   {
    "duration": 4,
    "start_time": "2021-11-13T09:14:51.713Z"
   },
   {
    "duration": 60,
    "start_time": "2021-11-13T09:14:54.302Z"
   },
   {
    "duration": 197,
    "start_time": "2021-11-13T09:15:06.723Z"
   },
   {
    "duration": 176,
    "start_time": "2021-11-13T09:15:28.089Z"
   },
   {
    "duration": 4,
    "start_time": "2021-11-13T09:15:32.337Z"
   },
   {
    "duration": 373,
    "start_time": "2021-11-13T09:15:42.616Z"
   },
   {
    "duration": 6,
    "start_time": "2021-11-13T09:15:57.512Z"
   },
   {
    "duration": 9,
    "start_time": "2021-11-13T09:15:59.685Z"
   },
   {
    "duration": 4,
    "start_time": "2021-11-13T09:16:48.460Z"
   },
   {
    "duration": 340,
    "start_time": "2021-11-13T09:16:49.589Z"
   },
   {
    "duration": 4,
    "start_time": "2021-11-13T09:16:59.698Z"
   },
   {
    "duration": 10,
    "start_time": "2021-11-13T09:17:01.364Z"
   },
   {
    "duration": 9,
    "start_time": "2021-11-13T09:17:02.892Z"
   },
   {
    "duration": 4,
    "start_time": "2021-11-13T09:17:28.109Z"
   },
   {
    "duration": 19,
    "start_time": "2021-11-13T09:17:29.053Z"
   },
   {
    "duration": 14,
    "start_time": "2021-11-13T09:17:58.673Z"
   },
   {
    "duration": 18,
    "start_time": "2021-11-13T09:17:59.154Z"
   },
   {
    "duration": 13,
    "start_time": "2021-11-13T09:17:59.664Z"
   },
   {
    "duration": 189,
    "start_time": "2021-11-13T09:24:58.261Z"
   },
   {
    "duration": 4246,
    "start_time": "2021-11-13T09:25:53.405Z"
   },
   {
    "duration": 25,
    "start_time": "2021-11-13T09:26:22.406Z"
   },
   {
    "duration": 9,
    "start_time": "2021-11-13T09:26:42.661Z"
   },
   {
    "duration": 22,
    "start_time": "2021-11-13T09:29:08.368Z"
   },
   {
    "duration": 8,
    "start_time": "2021-11-13T09:29:37.287Z"
   },
   {
    "duration": 5,
    "start_time": "2021-11-13T09:29:38.628Z"
   },
   {
    "duration": 3,
    "start_time": "2021-11-13T09:30:17.129Z"
   },
   {
    "duration": 183,
    "start_time": "2021-11-13T09:32:23.425Z"
   },
   {
    "duration": 7,
    "start_time": "2021-11-13T09:32:41.767Z"
   },
   {
    "duration": 4,
    "start_time": "2021-11-13T09:33:11.852Z"
   },
   {
    "duration": 657,
    "start_time": "2021-11-13T14:06:33.380Z"
   },
   {
    "duration": 792,
    "start_time": "2021-11-13T14:06:39.538Z"
   },
   {
    "duration": 413,
    "start_time": "2021-11-13T14:06:41.790Z"
   },
   {
    "duration": 4,
    "start_time": "2021-11-13T14:06:46.190Z"
   },
   {
    "duration": 187,
    "start_time": "2021-11-13T14:06:47.599Z"
   },
   {
    "duration": 129,
    "start_time": "2021-11-13T15:16:20.229Z"
   },
   {
    "duration": 5,
    "start_time": "2021-11-13T15:17:47.329Z"
   },
   {
    "duration": 17,
    "start_time": "2021-11-13T15:17:50.129Z"
   },
   {
    "duration": 69,
    "start_time": "2021-11-13T15:17:52.868Z"
   },
   {
    "duration": 152,
    "start_time": "2021-11-13T15:18:23.629Z"
   },
   {
    "duration": 123,
    "start_time": "2021-11-13T17:02:17.187Z"
   },
   {
    "duration": 403,
    "start_time": "2021-11-13T17:06:22.137Z"
   }
  ],
  "celltoolbar": "Edit Metadata",
  "colab": {
   "collapsed_sections": [
    "E0vqbgi9ay0H",
    "VUC88oWjTJw2"
   ],
   "name": "yandex_music_project_2021.2.ipynb",
   "provenance": []
  },
  "kernelspec": {
   "display_name": "Python 3",
   "language": "python",
   "name": "python3"
  },
  "language_info": {
   "codemirror_mode": {
    "name": "ipython",
    "version": 3
   },
   "file_extension": ".py",
   "mimetype": "text/x-python",
   "name": "python",
   "nbconvert_exporter": "python",
   "pygments_lexer": "ipython3",
   "version": "3.8.10"
  },
  "toc": {
   "base_numbering": 1,
   "nav_menu": {},
   "number_sections": true,
   "sideBar": true,
   "skip_h1_title": true,
   "title_cell": "Table of Contents",
   "title_sidebar": "Contents",
   "toc_cell": false,
   "toc_position": {},
   "toc_section_display": true,
   "toc_window_display": true
  }
 },
 "nbformat": 4,
 "nbformat_minor": 1
}
